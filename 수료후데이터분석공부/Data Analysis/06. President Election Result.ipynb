{
 "cells": [
  {
   "cell_type": "code",
   "execution_count": 1,
   "metadata": {},
   "outputs": [],
   "source": [
    "import numpy as np\n",
    "import pandas as pd\n",
    "\n",
    "import warnings\n",
    "warnings.filterwarnings(\"ignore\")\n",
    "\n",
    "import platform\n",
    "import matplotlib.pyplot as plt\n",
    "%matplotlib inline"
   ]
  },
  {
   "cell_type": "code",
   "execution_count": 2,
   "metadata": {},
   "outputs": [],
   "source": [
    "# 한글 폰트 해결\n",
    "path = \"c:/Windows/Fonts/malgun.ttf\"\n",
    "import platform\n",
    "from matplotlib import font_manager, rc\n",
    "if platform.system() == 'Darwin':\n",
    "    rc('font', family='AppleGothic')\n",
    "elif platform.system() == 'Windows':\n",
    "    font_name = font_manager.FontProperties(fname=path).get_name()\n",
    "    rc('font', family=font_name)\n",
    "else:\n",
    "    print('Unknown system... sorry~~~~')    \n",
    "\n",
    "plt.rcParams['axes.unicode_minus'] = False"
   ]
  },
  {
   "cell_type": "code",
   "execution_count": 3,
   "metadata": {},
   "outputs": [],
   "source": [
    "from selenium import webdriver\n",
    "import time"
   ]
  },
  {
   "cell_type": "code",
   "execution_count": 4,
   "metadata": {},
   "outputs": [],
   "source": [
    "driver = webdriver.Chrome('C:/Users/A/TIL/서비스산업데이터분석실무과정/07_웹크롤링/driver/chromedriver')\n",
    "driver.get('http://info.nec.go.kr/')"
   ]
  },
  {
   "cell_type": "code",
   "execution_count": 5,
   "metadata": {},
   "outputs": [],
   "source": [
    "driver.switch_to_default_content()\n",
    "driver.switch_to_frame('main')"
   ]
  },
  {
   "cell_type": "code",
   "execution_count": 12,
   "metadata": {},
   "outputs": [],
   "source": [
    "driver.find_element_by_xpath('//*[@id=\"menu\"]/ul/li[2]/a').click()"
   ]
  },
  {
   "cell_type": "code",
   "execution_count": 13,
   "metadata": {},
   "outputs": [],
   "source": [
    "driver.find_element_by_xpath('//*[@id=\"VC\"]').click()"
   ]
  },
  {
   "cell_type": "code",
   "execution_count": 15,
   "metadata": {},
   "outputs": [],
   "source": [
    "driver.find_elements_by_xpath(\"//*[contains(text(), '개표단위별 개표결과')]\")[1].click()"
   ]
  },
  {
   "cell_type": "code",
   "execution_count": 36,
   "metadata": {},
   "outputs": [],
   "source": [
    "driver.find_element_by_xpath(\"//*[@id='electionId2']\").click()"
   ]
  },
  {
   "cell_type": "code",
   "execution_count": 37,
   "metadata": {},
   "outputs": [
    {
     "data": {
      "text/plain": [
       "['서울특별시',\n",
       " '부산광역시',\n",
       " '대구광역시',\n",
       " '인천광역시',\n",
       " '광주광역시',\n",
       " '대전광역시',\n",
       " '울산광역시',\n",
       " '세종특별자치시',\n",
       " '경기도',\n",
       " '강원도',\n",
       " '충청북도',\n",
       " '충청남도',\n",
       " '전라북도',\n",
       " '전라남도',\n",
       " '경상북도',\n",
       " '경상남도',\n",
       " '제주특별자치도']"
      ]
     },
     "execution_count": 37,
     "metadata": {},
     "output_type": "execute_result"
    }
   ],
   "source": [
    "sido_list_raw = driver.find_element_by_xpath('//*[@id=\"cityCode\"]')\n",
    "sido_list = sido_list_raw.find_elements_by_tag_name('option')\n",
    "sido_names_values = [option.text for option in sido_list]\n",
    "sido_names_values = sido_names_values[1:]\n",
    "sido_names_values"
   ]
  },
  {
   "cell_type": "code",
   "execution_count": 38,
   "metadata": {},
   "outputs": [],
   "source": [
    "element = driver.find_element_by_id('cityCode')\n",
    "element.send_keys(sido_names_values[0])"
   ]
  },
  {
   "cell_type": "code",
   "execution_count": 40,
   "metadata": {},
   "outputs": [
    {
     "data": {
      "text/plain": [
       "['종로구',\n",
       " '중구성동구갑',\n",
       " '중구성동구을',\n",
       " '용산구',\n",
       " '광진구갑',\n",
       " '광진구을',\n",
       " '동대문구갑',\n",
       " '동대문구을',\n",
       " '중랑구갑',\n",
       " '중랑구을',\n",
       " '성북구갑',\n",
       " '성북구을',\n",
       " '강북구갑',\n",
       " '강북구을',\n",
       " '도봉구갑',\n",
       " '도봉구을',\n",
       " '노원구갑',\n",
       " '노원구을',\n",
       " '노원구병',\n",
       " '은평구갑',\n",
       " '은평구을',\n",
       " '서대문구갑',\n",
       " '서대문구을',\n",
       " '마포구갑',\n",
       " '마포구을',\n",
       " '양천구갑',\n",
       " '양천구을',\n",
       " '강서구갑',\n",
       " '강서구을',\n",
       " '강서구병',\n",
       " '구로구갑',\n",
       " '구로구을',\n",
       " '금천구',\n",
       " '영등포구갑',\n",
       " '영등포구을',\n",
       " '동작구갑',\n",
       " '동작구을',\n",
       " '관악구갑',\n",
       " '관악구을',\n",
       " '서초구갑',\n",
       " '서초구을',\n",
       " '강남구갑',\n",
       " '강남구을',\n",
       " '강남구병',\n",
       " '송파구갑',\n",
       " '송파구을',\n",
       " '송파구병',\n",
       " '강동구갑',\n",
       " '강동구을']"
      ]
     },
     "execution_count": 40,
     "metadata": {},
     "output_type": "execute_result"
    }
   ],
   "source": [
    "sigun_list_raw = driver.find_element_by_xpath('//*[@id=\"sggCityCode\"]')\n",
    "sigun_list = sigun_list_raw.find_elements_by_tag_name('option')\n",
    "sigun_names_values = [option.text for option in sigun_list]\n",
    "sigun_names_values = sigun_names_values[1:]\n",
    "sigun_names_values"
   ]
  },
  {
   "cell_type": "code",
   "execution_count": 41,
   "metadata": {},
   "outputs": [],
   "source": [
    "element = driver.find_element_by_id('sggCityCode')\n",
    "element.send_keys(sigun_names_values[0])"
   ]
  },
  {
   "cell_type": "code",
   "execution_count": 42,
   "metadata": {},
   "outputs": [
    {
     "data": {
      "text/plain": [
       "['종로구']"
      ]
     },
     "execution_count": 42,
     "metadata": {},
     "output_type": "execute_result"
    }
   ],
   "source": [
    "town_list_raw = driver.find_element_by_xpath('//*[@id=\"townCodeFromSgg\"]')\n",
    "town_list = town_list_raw.find_elements_by_tag_name('option')\n",
    "town_names_values = [option.text for option in town_list]\n",
    "town_names_values = town_names_values[1:]\n",
    "town_names_values"
   ]
  },
  {
   "cell_type": "code",
   "execution_count": 43,
   "metadata": {},
   "outputs": [],
   "source": [
    "element = driver.find_element_by_id('townCodeFromSgg')\n",
    "element.send_keys(town_names_values[0])"
   ]
  },
  {
   "cell_type": "code",
   "execution_count": 44,
   "metadata": {},
   "outputs": [],
   "source": [
    "driver.find_element_by_xpath('//*[@id=\"spanSubmit\"]/input').click()"
   ]
  },
  {
   "cell_type": "code",
   "execution_count": 45,
   "metadata": {},
   "outputs": [],
   "source": [
    "from bs4 import BeautifulSoup\n",
    "\n",
    "html = driver.page_source\n",
    "soup = BeautifulSoup(html, 'html.parser')"
   ]
  },
  {
   "cell_type": "code",
   "execution_count": 46,
   "metadata": {},
   "outputs": [
    {
     "data": {
      "text/plain": [
       "[<td class=\"alignR\">95,239</td>,\n",
       " <td class=\"alignR\">54,902</td>,\n",
       " <td class=\"alignR\">37,594</td>,\n",
       " <td class=\"alignR\">417</td>]"
      ]
     },
     "execution_count": 46,
     "metadata": {},
     "output_type": "execute_result"
    }
   ],
   "source": [
    "tmp = soup.find_all('td','alignR')\n",
    "tmp[1:5]"
   ]
  },
  {
   "cell_type": "code",
   "execution_count": 49,
   "metadata": {},
   "outputs": [
    {
     "data": {
      "application/vnd.jupyter.widget-view+json": {
       "model_id": "be2caf39b2f440fdb53b044ec3784924",
       "version_major": 2,
       "version_minor": 0
      },
      "text/plain": [
       "HBox(children=(FloatProgress(value=0.0, max=17.0), HTML(value='')))"
      ]
     },
     "metadata": {},
     "output_type": "display_data"
    },
    {
     "data": {
      "application/vnd.jupyter.widget-view+json": {
       "model_id": "f48e285ba89b40a8a75f1c40fbc3660c",
       "version_major": 2,
       "version_minor": 0
      },
      "text/plain": [
       "HBox(children=(FloatProgress(value=0.0, max=49.0), HTML(value='')))"
      ]
     },
     "metadata": {},
     "output_type": "display_data"
    },
    {
     "name": "stdout",
     "output_type": "stream",
     "text": [
      "\n"
     ]
    },
    {
     "data": {
      "application/vnd.jupyter.widget-view+json": {
       "model_id": "b4cd59d700ba4bc4b6b68428238d1e34",
       "version_major": 2,
       "version_minor": 0
      },
      "text/plain": [
       "HBox(children=(FloatProgress(value=0.0, max=18.0), HTML(value='')))"
      ]
     },
     "metadata": {},
     "output_type": "display_data"
    },
    {
     "name": "stdout",
     "output_type": "stream",
     "text": [
      "\n"
     ]
    },
    {
     "data": {
      "application/vnd.jupyter.widget-view+json": {
       "model_id": "cf6928687bbe4b46a739d74748027f49",
       "version_major": 2,
       "version_minor": 0
      },
      "text/plain": [
       "HBox(children=(FloatProgress(value=0.0, max=12.0), HTML(value='')))"
      ]
     },
     "metadata": {},
     "output_type": "display_data"
    },
    {
     "name": "stdout",
     "output_type": "stream",
     "text": [
      "\n"
     ]
    },
    {
     "data": {
      "application/vnd.jupyter.widget-view+json": {
       "model_id": "7c9c615e7d08495f8a5b4a553daa98fd",
       "version_major": 2,
       "version_minor": 0
      },
      "text/plain": [
       "HBox(children=(FloatProgress(value=0.0, max=13.0), HTML(value='')))"
      ]
     },
     "metadata": {},
     "output_type": "display_data"
    },
    {
     "name": "stdout",
     "output_type": "stream",
     "text": [
      "\n"
     ]
    },
    {
     "data": {
      "application/vnd.jupyter.widget-view+json": {
       "model_id": "0323d7e627874694b30fc91018d68017",
       "version_major": 2,
       "version_minor": 0
      },
      "text/plain": [
       "HBox(children=(FloatProgress(value=0.0, max=8.0), HTML(value='')))"
      ]
     },
     "metadata": {},
     "output_type": "display_data"
    },
    {
     "name": "stdout",
     "output_type": "stream",
     "text": [
      "\n"
     ]
    },
    {
     "data": {
      "application/vnd.jupyter.widget-view+json": {
       "model_id": "c0df11fd50c4499292e8c0f24d080abb",
       "version_major": 2,
       "version_minor": 0
      },
      "text/plain": [
       "HBox(children=(FloatProgress(value=0.0, max=7.0), HTML(value='')))"
      ]
     },
     "metadata": {},
     "output_type": "display_data"
    },
    {
     "name": "stdout",
     "output_type": "stream",
     "text": [
      "\n"
     ]
    },
    {
     "data": {
      "application/vnd.jupyter.widget-view+json": {
       "model_id": "47a637dc53554e67b7d3b0852230d3f3",
       "version_major": 2,
       "version_minor": 0
      },
      "text/plain": [
       "HBox(children=(FloatProgress(value=0.0, max=6.0), HTML(value='')))"
      ]
     },
     "metadata": {},
     "output_type": "display_data"
    },
    {
     "name": "stdout",
     "output_type": "stream",
     "text": [
      "\n"
     ]
    },
    {
     "data": {
      "application/vnd.jupyter.widget-view+json": {
       "model_id": "69aabbd3b5354948a1c6de62a765ab03",
       "version_major": 2,
       "version_minor": 0
      },
      "text/plain": [
       "HBox(children=(FloatProgress(value=0.0, max=2.0), HTML(value='')))"
      ]
     },
     "metadata": {},
     "output_type": "display_data"
    },
    {
     "name": "stdout",
     "output_type": "stream",
     "text": [
      "\n"
     ]
    },
    {
     "data": {
      "application/vnd.jupyter.widget-view+json": {
       "model_id": "2da2377e0c8a49dfbf130dfdf5247f88",
       "version_major": 2,
       "version_minor": 0
      },
      "text/plain": [
       "HBox(children=(FloatProgress(value=0.0, max=59.0), HTML(value='')))"
      ]
     },
     "metadata": {},
     "output_type": "display_data"
    },
    {
     "name": "stdout",
     "output_type": "stream",
     "text": [
      "\n"
     ]
    },
    {
     "data": {
      "application/vnd.jupyter.widget-view+json": {
       "model_id": "c2d5b4b9aaa447cc8790e030694d7209",
       "version_major": 2,
       "version_minor": 0
      },
      "text/plain": [
       "HBox(children=(FloatProgress(value=0.0, max=8.0), HTML(value='')))"
      ]
     },
     "metadata": {},
     "output_type": "display_data"
    },
    {
     "name": "stdout",
     "output_type": "stream",
     "text": [
      "\n"
     ]
    },
    {
     "data": {
      "application/vnd.jupyter.widget-view+json": {
       "model_id": "82a298d7522b4c699a83b2bd24e7e51b",
       "version_major": 2,
       "version_minor": 0
      },
      "text/plain": [
       "HBox(children=(FloatProgress(value=0.0, max=8.0), HTML(value='')))"
      ]
     },
     "metadata": {},
     "output_type": "display_data"
    },
    {
     "name": "stdout",
     "output_type": "stream",
     "text": [
      "\n"
     ]
    },
    {
     "data": {
      "application/vnd.jupyter.widget-view+json": {
       "model_id": "cd6ee8849cef4ea79f561483827d1e69",
       "version_major": 2,
       "version_minor": 0
      },
      "text/plain": [
       "HBox(children=(FloatProgress(value=0.0, max=11.0), HTML(value='')))"
      ]
     },
     "metadata": {},
     "output_type": "display_data"
    },
    {
     "name": "stdout",
     "output_type": "stream",
     "text": [
      "\n"
     ]
    },
    {
     "data": {
      "application/vnd.jupyter.widget-view+json": {
       "model_id": "8e00e01826c748e282986d03ae8fc39e",
       "version_major": 2,
       "version_minor": 0
      },
      "text/plain": [
       "HBox(children=(FloatProgress(value=0.0, max=10.0), HTML(value='')))"
      ]
     },
     "metadata": {},
     "output_type": "display_data"
    },
    {
     "name": "stdout",
     "output_type": "stream",
     "text": [
      "\n"
     ]
    },
    {
     "data": {
      "application/vnd.jupyter.widget-view+json": {
       "model_id": "b6071aeb4eef48ae9af62f8b7e565f70",
       "version_major": 2,
       "version_minor": 0
      },
      "text/plain": [
       "HBox(children=(FloatProgress(value=0.0, max=10.0), HTML(value='')))"
      ]
     },
     "metadata": {},
     "output_type": "display_data"
    },
    {
     "name": "stdout",
     "output_type": "stream",
     "text": [
      "\n"
     ]
    },
    {
     "data": {
      "application/vnd.jupyter.widget-view+json": {
       "model_id": "f2c13352a6444f97a6717905b252c528",
       "version_major": 2,
       "version_minor": 0
      },
      "text/plain": [
       "HBox(children=(FloatProgress(value=0.0, max=13.0), HTML(value='')))"
      ]
     },
     "metadata": {},
     "output_type": "display_data"
    },
    {
     "name": "stdout",
     "output_type": "stream",
     "text": [
      "\n"
     ]
    },
    {
     "data": {
      "application/vnd.jupyter.widget-view+json": {
       "model_id": "869a09c23a2d4c3f99d86d5c78b7df10",
       "version_major": 2,
       "version_minor": 0
      },
      "text/plain": [
       "HBox(children=(FloatProgress(value=0.0, max=16.0), HTML(value='')))"
      ]
     },
     "metadata": {},
     "output_type": "display_data"
    },
    {
     "name": "stdout",
     "output_type": "stream",
     "text": [
      "\n"
     ]
    },
    {
     "data": {
      "application/vnd.jupyter.widget-view+json": {
       "model_id": "cb57a2ecc7204fdfb185d5cc25172ddd",
       "version_major": 2,
       "version_minor": 0
      },
      "text/plain": [
       "HBox(children=(FloatProgress(value=0.0, max=3.0), HTML(value='')))"
      ]
     },
     "metadata": {},
     "output_type": "display_data"
    },
    {
     "name": "stdout",
     "output_type": "stream",
     "text": [
      "\n",
      "\n"
     ]
    }
   ],
   "source": [
    "from tqdm import tqdm_notebook\n",
    "\n",
    "sido_name_list = []\n",
    "sigun_name_list = []\n",
    "town_name_list = []\n",
    "\n",
    "for sido_value in tqdm_notebook(sido_names_values):\n",
    "    element = driver.find_element_by_id('cityCode')\n",
    "    element.send_keys(sido_value)\n",
    "    \n",
    "    time.sleep(1)\n",
    "\n",
    "    sigun_list_raw = driver.find_element_by_xpath('//*[@id=\"sggCityCode\"]')\n",
    "    sigun_list = sigun_list_raw.find_elements_by_tag_name('option')\n",
    "    sigun_names_values = [option.text for option in sigun_list]\n",
    "    sigun_names_values = sigun_names_values[1:]\n",
    "    \n",
    "    time.sleep(1)\n",
    "    \n",
    "    for sigun_value in tqdm_notebook(sigun_names_values):\n",
    "        element = driver.find_element_by_id('sggCityCode')\n",
    "        element.send_keys(sigun_value)\n",
    "        \n",
    "        time.sleep(1)\n",
    "    \n",
    "        town_list_raw = driver.find_element_by_xpath('//*[@id=\"townCodeFromSgg\"]')\n",
    "        town_list = town_list_raw.find_elements_by_tag_name('option')\n",
    "        town_names_values = [option.text for option in town_list]\n",
    "        town_names_values = town_names_values[1:]\n",
    "        \n",
    "        for town_value in town_names_values:\n",
    "            sido_name_list.append(sido_value)\n",
    "            sigun_name_list.append(sigun_value)\n",
    "            town_name_list.append(town_value)"
   ]
  },
  {
   "cell_type": "code",
   "execution_count": 50,
   "metadata": {},
   "outputs": [
    {
     "data": {
      "text/html": [
       "<div>\n",
       "<style scoped>\n",
       "    .dataframe tbody tr th:only-of-type {\n",
       "        vertical-align: middle;\n",
       "    }\n",
       "\n",
       "    .dataframe tbody tr th {\n",
       "        vertical-align: top;\n",
       "    }\n",
       "\n",
       "    .dataframe thead th {\n",
       "        text-align: right;\n",
       "    }\n",
       "</style>\n",
       "<table border=\"1\" class=\"dataframe\">\n",
       "  <thead>\n",
       "    <tr style=\"text-align: right;\">\n",
       "      <th></th>\n",
       "      <th>광역시도</th>\n",
       "      <th>시군</th>\n",
       "      <th>구</th>\n",
       "    </tr>\n",
       "  </thead>\n",
       "  <tbody>\n",
       "    <tr>\n",
       "      <th>0</th>\n",
       "      <td>서울특별시</td>\n",
       "      <td>종로구</td>\n",
       "      <td>종로구</td>\n",
       "    </tr>\n",
       "    <tr>\n",
       "      <th>1</th>\n",
       "      <td>서울특별시</td>\n",
       "      <td>중구성동구갑</td>\n",
       "      <td>성동구</td>\n",
       "    </tr>\n",
       "    <tr>\n",
       "      <th>2</th>\n",
       "      <td>서울특별시</td>\n",
       "      <td>중구성동구을</td>\n",
       "      <td>중구</td>\n",
       "    </tr>\n",
       "    <tr>\n",
       "      <th>3</th>\n",
       "      <td>서울특별시</td>\n",
       "      <td>용산구</td>\n",
       "      <td>용산구</td>\n",
       "    </tr>\n",
       "    <tr>\n",
       "      <th>4</th>\n",
       "      <td>서울특별시</td>\n",
       "      <td>광진구갑</td>\n",
       "      <td>광진구</td>\n",
       "    </tr>\n",
       "  </tbody>\n",
       "</table>\n",
       "</div>"
      ],
      "text/plain": [
       "    광역시도      시군    구\n",
       "0  서울특별시     종로구  종로구\n",
       "1  서울특별시  중구성동구갑  성동구\n",
       "2  서울특별시  중구성동구을   중구\n",
       "3  서울특별시     용산구  용산구\n",
       "4  서울특별시    광진구갑  광진구"
      ]
     },
     "execution_count": 50,
     "metadata": {},
     "output_type": "execute_result"
    }
   ],
   "source": [
    "election_result = pd.DataFrame({'광역시도': sido_name_list, '시군': sigun_name_list, '구': town_name_list})\n",
    "election_result.head()"
   ]
  },
  {
   "cell_type": "code",
   "execution_count": 51,
   "metadata": {},
   "outputs": [],
   "source": [
    "def get_vote_info(n):\n",
    "    html = driver.page_source\n",
    "    soup = BeautifulSoup(html, 'lxml')\n",
    "    \n",
    "    tmp = soup.find_all('td','alignR')\n",
    "    tmp_values = [float(tmp_val.get_text().replace(',','')) for tmp_val in tmp[1:5]]\n",
    "    \n",
    "    pop[n] = tmp_values[0]\n",
    "    moon[n] = tmp_values[1]\n",
    "    hong[n] = tmp_values[2]\n",
    "    ahn[n] = tmp_values[3]"
   ]
  },
  {
   "cell_type": "code",
   "execution_count": 52,
   "metadata": {},
   "outputs": [],
   "source": [
    "def fail_procedure(n):\n",
    "    pop[n] = np.nan\n",
    "    moon[n] = np.nan\n",
    "    hong[n] = np.nan\n",
    "    ahn[n] = np.nan"
   ]
  },
  {
   "cell_type": "code",
   "execution_count": 53,
   "metadata": {},
   "outputs": [
    {
     "data": {
      "text/plain": [
       "(329, 329, 329, 329)"
      ]
     },
     "execution_count": 53,
     "metadata": {},
     "output_type": "execute_result"
    }
   ],
   "source": [
    "pop = [np.nan] *len(election_result)\n",
    "moon = [np.nan] *len(election_result)\n",
    "hong = [np.nan] *len(election_result)\n",
    "ahn = [np.nan] *len(election_result)\n",
    "\n",
    "len(pop), len(moon), len(hong), len(ahn)"
   ]
  },
  {
   "cell_type": "code",
   "execution_count": 55,
   "metadata": {},
   "outputs": [
    {
     "data": {
      "text/html": [
       "<div>\n",
       "<style scoped>\n",
       "    .dataframe tbody tr th:only-of-type {\n",
       "        vertical-align: middle;\n",
       "    }\n",
       "\n",
       "    .dataframe tbody tr th {\n",
       "        vertical-align: top;\n",
       "    }\n",
       "\n",
       "    .dataframe thead th {\n",
       "        text-align: right;\n",
       "    }\n",
       "</style>\n",
       "<table border=\"1\" class=\"dataframe\">\n",
       "  <thead>\n",
       "    <tr style=\"text-align: right;\">\n",
       "      <th></th>\n",
       "      <th>광역시도</th>\n",
       "      <th>시군</th>\n",
       "      <th>pop</th>\n",
       "      <th>moon</th>\n",
       "      <th>hong</th>\n",
       "      <th>ahn</th>\n",
       "    </tr>\n",
       "  </thead>\n",
       "  <tbody>\n",
       "    <tr>\n",
       "      <th>0</th>\n",
       "      <td>서울특별시</td>\n",
       "      <td>종로구</td>\n",
       "      <td>102566.0</td>\n",
       "      <td>42512.0</td>\n",
       "      <td>22325.0</td>\n",
       "      <td>22313.0</td>\n",
       "    </tr>\n",
       "    <tr>\n",
       "      <th>1</th>\n",
       "      <td>서울특별시</td>\n",
       "      <td>중구</td>\n",
       "      <td>82852.0</td>\n",
       "      <td>34062.0</td>\n",
       "      <td>17901.0</td>\n",
       "      <td>19372.0</td>\n",
       "    </tr>\n",
       "    <tr>\n",
       "      <th>2</th>\n",
       "      <td>서울특별시</td>\n",
       "      <td>용산구</td>\n",
       "      <td>148157.0</td>\n",
       "      <td>58081.0</td>\n",
       "      <td>35230.0</td>\n",
       "      <td>32109.0</td>\n",
       "    </tr>\n",
       "    <tr>\n",
       "      <th>3</th>\n",
       "      <td>서울특별시</td>\n",
       "      <td>성동구</td>\n",
       "      <td>203175.0</td>\n",
       "      <td>86686.0</td>\n",
       "      <td>40566.0</td>\n",
       "      <td>45674.0</td>\n",
       "    </tr>\n",
       "    <tr>\n",
       "      <th>4</th>\n",
       "      <td>서울특별시</td>\n",
       "      <td>광진구</td>\n",
       "      <td>240030.0</td>\n",
       "      <td>105512.0</td>\n",
       "      <td>46368.0</td>\n",
       "      <td>52824.0</td>\n",
       "    </tr>\n",
       "  </tbody>\n",
       "</table>\n",
       "</div>"
      ],
      "text/plain": [
       "    광역시도   시군       pop      moon     hong      ahn\n",
       "0  서울특별시  종로구  102566.0   42512.0  22325.0  22313.0\n",
       "1  서울특별시   중구   82852.0   34062.0  17901.0  19372.0\n",
       "2  서울특별시  용산구  148157.0   58081.0  35230.0  32109.0\n",
       "3  서울특별시  성동구  203175.0   86686.0  40566.0  45674.0\n",
       "4  서울특별시  광진구  240030.0  105512.0  46368.0  52824.0"
      ]
     },
     "execution_count": 55,
     "metadata": {},
     "output_type": "execute_result"
    }
   ],
   "source": [
    "election_result = pd.read_csv(\"C:/Users/A/Downloads/DataScience-master/data/05. election_result.csv\", encoding='utf-8', index_col=0)\n",
    "\n",
    "election_result.head()"
   ]
  },
  {
   "cell_type": "code",
   "execution_count": 57,
   "metadata": {},
   "outputs": [],
   "source": [
    "sido_candi = election_result['광역시도']\n",
    "sido_candi = [name[:2] if name[:2] in ['서울','부산','대구','광주','인천','대전','울산'] else '' for name in sido_candi]"
   ]
  },
  {
   "cell_type": "code",
   "execution_count": 58,
   "metadata": {},
   "outputs": [],
   "source": [
    "def cut_char_sigu(name):\n",
    "    return name if len(name)==2 else name[:-1]"
   ]
  },
  {
   "cell_type": "code",
   "execution_count": 60,
   "metadata": {},
   "outputs": [
    {
     "data": {
      "text/plain": [
       "['종로',\n",
       " '중구',\n",
       " '용산',\n",
       " '성동',\n",
       " '광진',\n",
       " '동대문',\n",
       " '중랑',\n",
       " '성북',\n",
       " '강북',\n",
       " '도봉',\n",
       " '노원',\n",
       " '은평',\n",
       " '서대문',\n",
       " '마포',\n",
       " '양천',\n",
       " '강서',\n",
       " '구로',\n",
       " '금천',\n",
       " '영등포',\n",
       " '동작',\n",
       " '관악',\n",
       " '서초',\n",
       " '강남',\n",
       " '송파',\n",
       " '강동',\n",
       " '중구',\n",
       " '서구',\n",
       " '동구',\n",
       " '영도',\n",
       " '부산진',\n",
       " '동래',\n",
       " '남구',\n",
       " '북구',\n",
       " '해운대',\n",
       " '기장',\n",
       " '사하',\n",
       " '금정',\n",
       " '강서',\n",
       " '연제',\n",
       " '수영',\n",
       " '사상',\n",
       " '중구',\n",
       " '동구',\n",
       " '서구',\n",
       " '남구',\n",
       " '북구',\n",
       " '수성',\n",
       " '달서',\n",
       " '달성',\n",
       " '중구',\n",
       " '동구',\n",
       " '남구',\n",
       " '연수',\n",
       " '남동',\n",
       " '부평',\n",
       " '계양',\n",
       " '서구',\n",
       " '강화',\n",
       " '옹진',\n",
       " '동구',\n",
       " '서구',\n",
       " '남구',\n",
       " '북구',\n",
       " '광산',\n",
       " '동구',\n",
       " '중구',\n",
       " '서구',\n",
       " '유성',\n",
       " '대덕',\n",
       " '중구',\n",
       " '남구',\n",
       " '동구',\n",
       " '북구',\n",
       " '울주',\n",
       " '세종특별자치',\n",
       " '수원 장안',\n",
       " '수원 권선',\n",
       " '수원 팔달',\n",
       " '수원 영통',\n",
       " '성남 수정',\n",
       " '성남 중원',\n",
       " '성남 분당',\n",
       " '의정부',\n",
       " '안양 만안',\n",
       " '안양 동안',\n",
       " '부천',\n",
       " '광명',\n",
       " '평택',\n",
       " '양주',\n",
       " '동두천',\n",
       " '안산 상록',\n",
       " '안산 단원',\n",
       " '고양 덕양',\n",
       " '고양 일산동',\n",
       " '고양 일산서',\n",
       " '과천',\n",
       " '의왕',\n",
       " '구리',\n",
       " '남양주',\n",
       " '오산',\n",
       " '화성',\n",
       " '시흥',\n",
       " '군포',\n",
       " '하남',\n",
       " '파주',\n",
       " '여주',\n",
       " '이천',\n",
       " '용인 처인',\n",
       " '용인 수지',\n",
       " '용인 기흥',\n",
       " '안성',\n",
       " '김포',\n",
       " '광주',\n",
       " '포천',\n",
       " '연천',\n",
       " '양평',\n",
       " '가평',\n",
       " '춘천',\n",
       " '원주',\n",
       " '강릉',\n",
       " '동해',\n",
       " '삼척',\n",
       " '태백',\n",
       " '정선',\n",
       " '속초',\n",
       " '고성',\n",
       " '양양',\n",
       " '인제',\n",
       " '홍천',\n",
       " '횡성',\n",
       " '영월',\n",
       " '평창',\n",
       " '화천',\n",
       " '양구',\n",
       " '철원',\n",
       " '청주 상당',\n",
       " '청주 서원',\n",
       " '청주 흥덕',\n",
       " '청주 청원',\n",
       " '충주',\n",
       " '제천',\n",
       " '단양',\n",
       " '영동',\n",
       " '보은',\n",
       " '옥천',\n",
       " '음성',\n",
       " '진천',\n",
       " '괴산',\n",
       " '증평',\n",
       " '천안 서북',\n",
       " '천안 동남',\n",
       " '공주',\n",
       " '보령',\n",
       " '아산',\n",
       " '서산',\n",
       " '태안',\n",
       " '금산',\n",
       " '논산',\n",
       " '계룡',\n",
       " '당진',\n",
       " '부여',\n",
       " '서천',\n",
       " '홍성',\n",
       " '청양',\n",
       " '예산',\n",
       " '전주 완산',\n",
       " '전주 덕진',\n",
       " '군산',\n",
       " '익산',\n",
       " '정읍',\n",
       " '남원',\n",
       " '김제',\n",
       " '완주',\n",
       " '진안',\n",
       " '무주',\n",
       " '장수',\n",
       " '임실',\n",
       " '순창',\n",
       " '고창',\n",
       " '부안',\n",
       " '목포',\n",
       " '여수',\n",
       " '순천',\n",
       " '나주',\n",
       " '광양',\n",
       " '담양',\n",
       " '장성',\n",
       " '곡성',\n",
       " '구례',\n",
       " '고흥',\n",
       " '보성',\n",
       " '화순',\n",
       " '장흥',\n",
       " '강진',\n",
       " '완도',\n",
       " '해남',\n",
       " '진도',\n",
       " '영암',\n",
       " '무안',\n",
       " '영광',\n",
       " '함평',\n",
       " '신안',\n",
       " '포항 북구',\n",
       " '포항 남구',\n",
       " '울릉',\n",
       " '경주',\n",
       " '김천',\n",
       " '안동',\n",
       " '구미',\n",
       " '영주',\n",
       " '영천',\n",
       " '상주',\n",
       " '문경',\n",
       " '예천',\n",
       " '경산',\n",
       " '청도',\n",
       " '고령',\n",
       " '성주',\n",
       " '칠곡',\n",
       " '군위',\n",
       " '의성',\n",
       " '청송',\n",
       " '영양',\n",
       " '영덕',\n",
       " '봉화',\n",
       " '울진',\n",
       " '창원 의창',\n",
       " '창원 성산',\n",
       " '창원 마산합포',\n",
       " '창원 마산회원',\n",
       " '창원 진해',\n",
       " '진주',\n",
       " '통영',\n",
       " '고성',\n",
       " '사천',\n",
       " '김해',\n",
       " '밀양',\n",
       " '거제',\n",
       " '의령',\n",
       " '함안',\n",
       " '창녕',\n",
       " '양산',\n",
       " '하동',\n",
       " '남해',\n",
       " '함양',\n",
       " '산청',\n",
       " '거창',\n",
       " '합천',\n",
       " '제주',\n",
       " '서귀포']"
      ]
     },
     "execution_count": 60,
     "metadata": {},
     "output_type": "execute_result"
    }
   ],
   "source": [
    "import re\n",
    "\n",
    "sigun_candi = [''] * len(election_result)\n",
    "\n",
    "for n in election_result.index:\n",
    "    each = election_result['시군'][n]\n",
    "    if each[:2] in ['수원','성남','안양','안산','고양','용인','청주','천안','전주','포항','창원']:\n",
    "        sigun_candi[n] = re.split('시',each)[0] + ' '+ cut_char_sigu(re.split('시',each)[1])\n",
    "    else:\n",
    "        sigun_candi[n] = cut_char_sigu(each)\n",
    "        \n",
    "sigun_candi"
   ]
  }
 ],
 "metadata": {
  "kernelspec": {
   "display_name": "Python 3",
   "language": "python",
   "name": "python3"
  },
  "language_info": {
   "codemirror_mode": {
    "name": "ipython",
    "version": 3
   },
   "file_extension": ".py",
   "mimetype": "text/x-python",
   "name": "python",
   "nbconvert_exporter": "python",
   "pygments_lexer": "ipython3",
   "version": "3.7.6"
  }
 },
 "nbformat": 4,
 "nbformat_minor": 4
}
