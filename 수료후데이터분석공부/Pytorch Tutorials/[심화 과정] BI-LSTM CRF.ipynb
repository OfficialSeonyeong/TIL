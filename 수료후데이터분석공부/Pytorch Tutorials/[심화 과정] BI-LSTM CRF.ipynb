{
 "cells": [
  {
   "cell_type": "code",
   "execution_count": 1,
   "metadata": {},
   "outputs": [
    {
     "data": {
      "text/plain": [
       "<torch._C.Generator at 0x1f937e49370>"
      ]
     },
     "execution_count": 1,
     "metadata": {},
     "output_type": "execute_result"
    }
   ],
   "source": [
    "import torch\n",
    "import torch.autograd as autograd\n",
    "import torch.nn as nn\n",
    "import torch.optim as optim\n",
    "\n",
    "torch.manual_seed(1)"
   ]
  },
  {
   "cell_type": "code",
   "execution_count": 2,
   "metadata": {},
   "outputs": [],
   "source": [
    "# 코드 가독성을 높여주는 보조 함수\n",
    "\n",
    "def argmax(vec):\n",
    "    # argmax를 파이썬 정수현으로 반환\n",
    "    _, idx = torch.max(vec, 1)\n",
    "    return idx.item()\n",
    "\n",
    "def prepare_sequence(seq, to_ix):\n",
    "    idxs = [to_ix[w] for w in seq]\n",
    "    return torch.tensor(idxs, dtype=torch.long)\n",
    "\n",
    "# 순방향 알고리즘을 위해 수치적으로 안정적인 방법으로 로그 합 지수승을 계산\n",
    "def log_sum_exp(vec):\n",
    "    max_score = vec[0, argmax(vec)]\n",
    "    max_score_broadcast = max_score.view(1,-1).expand(1, vec.size()[1])\n",
    "    return max_score + torch.log(torch.sum(torch.exp(vec - max_score_broadcast)))"
   ]
  },
  {
   "cell_type": "code",
   "execution_count": null,
   "metadata": {},
   "outputs": [],
   "source": [
    "# 모델 생성\n",
    "class BiLSTM_CRF(nn.Module):\n",
    "    def __init__(self, vocab_size, tag_to_ix, embedding_dim, hidden_dim):\n",
    "        super(BiLSTM_CRF, self).__init__()\n",
    "        self.embedding_dim = embedding_dim\n",
    "        self.hidden_dim = hidden_dim\n",
    "        self.vocab_size = vocab_size\n",
    "        self.tag_to_ix = tag_to_ix\n",
    "        self.tagset_size = len(tag_to_ix)\n",
    "        \n",
    "        self.word_embeds = nn.Embedding(vocab_size, embedding_dim)\n",
    "        self.lstm = nn.LSTM(embedding_dim, hidden_dim // 2, num_layers=1, bidirectional=True)\n",
    "        \n",
    "        # LSTM의 출력을 태그 공간으로 대응\n",
    "        self.hidden2tag = nn.Linear(hidden_dim, self.tagset_sizse)\n",
    "        \n",
    "        # 전이 매개변수 행렬\n",
    "        # i,j 성분은 i에서 j로 변할 때의 점수\n",
    "        self.transitions = nn.Parameter(torch.rand(self.tagset_size, self.tagset_size))\n",
    "        \n",
    "        # 이 두 코드는 시작 태그로 전이하지 않고, 정지 태그에서부터 전이하지 않도록 강제한다.\n",
    "        self.transitions.data[tag_to_ix[START_TAG], :] = -10000\n",
    "        self.transitions.data[:, tag_to_ix[STOP_TAG]] = -10000\n",
    "        \n",
    "        self.hidden = self.init_hidden()\n",
    "        \n",
    "    def init_hidden(self):\n",
    "        return (torch.randn(2, 1, self.hidden_dim // 2)\n",
    "               torch.randn(2, 1, self.hidden_dim // 2))\n",
    "    \n",
    "    def _forward_alg(self, feats):\n",
    "        # 분배 함수를 계산하기 위해 순방향 알고리즘 수행\n",
    "        init_alphas = torch.full((1, self.tagset_size), -10000.)\n",
    "        # START_TAG는 모든 점수를 갖고 있다.\n",
    "        init_alphas[0][self.tag_to_ix[START_TAG]] = 0.\n",
    "        \n",
    "        # 자동으로 역전파 되도록 변수로 감싼다.\n",
    "        forward_var = init_alphas\n",
    "        \n",
    "        # 문장의 각 성분을 반복 처리\n",
    "        for feat in feats:\n",
    "            alphas_t = [] # 현재 시점의 순방향 텐서\n",
    "            for next_tag in range(self.tagset_size):\n",
    "                # 이전의 태그와 상관없이 배출 점수 전파\n",
    "                emit_score = feat[next_tag].view(1,-1).expand(1, self.tagset_size)\n",
    "                # trans_score의 i번째 성분은 i로부터 next_tag로 전이할 점수\n",
    "                trans_score = self.transitions[next_tag].view(1,-1)\n",
    "                # next_tag_var의 i번째 성분은 로그-합-지수승을 계산하기 전\n",
    "                # i에서 next_tag로 가는 간선의 값\n",
    "                next_tag_var = forward_var + trans_score + emit_score\n",
    "                # 이 태그의 순방향 변수는 모든 점수들의 로그-합-지수승 계산 결과\n",
    "                alphas_t.append(log_sum_exp(next_tag_var),view(1))\n",
    "            forward_var = torch.cat(alphas_t).view(1, -1)\n",
    "        terminal_var = forward_var + self.transmitions[self.tag_to_ix[STOP_TAG]]\n",
    "        alpha = log_sum_exp(terminal_var)\n",
    "        return alpha\n",
    "    \n",
    "    def _get_lstm_features(self, sentence):\n",
    "        self.hidden = self.init_hidden()\n",
    "        embeds = self.word_embeds(sentence).view(len(sentence), 1, -1)\n",
    "        lstm_out, self.hidden = self.lstm(embeds, self.hidden)\n",
    "        lstm_out = lstm_out.view(len(sentence), self.hidden_dim)\n",
    "        lstm_feats = self.hidden2tag(lstm_out)\n",
    "        return lstm_feats\n",
    "    \n",
    "    def _score_sentence(self, feats, tags):\n",
    "        # 주어진 태그 순열에 점수를 매긴다.\n",
    "        score = torch.zeros(1)\n",
    "        tags = torch.cat([torch.tensor([self.tag_to_ix[START_TAG]], dtype=torch.long), tags])\n",
    "        for i, feat in enumerate(feats):\n",
    "            score = score + self.transitions[tag[i+1], tags[i]] + feat[tags[i+1]]\n",
    "        score = score + self.transitaions[self.tag_to_ix[STOP_TAG], tags[-1]]\n",
    "        return score\n",
    "      \n",
    "    def _viterbi_decode(self, feats):\n",
    "        backpointers = []\n",
    "        \n",
    "        # 비터비 변수를 로그 공간 상에 초기화\n",
    "        init_vvars = torch.full((1, self.tagset_size), -10000.)\n",
    "        init_vvars[0][self.tag_to_ix[START_TAG]] = 0\n",
    "        \n",
    "        # i단계의 forwar_var는 i-1 단계의 비터비 변수를 갖고 있다.\n",
    "        forward_var = init_vvars\n",
    "        for feat in feats:\n",
    "            bptrs_t = []\n",
    "            viterbivars_t = []\n",
    "            \n",
    "            for next_tag in range()"
   ]
  },
  {
   "cell_type": "code",
   "execution_count": null,
   "metadata": {},
   "outputs": [],
   "source": []
  }
 ],
 "metadata": {
  "kernelspec": {
   "display_name": "Python 3",
   "language": "python",
   "name": "python3"
  },
  "language_info": {
   "codemirror_mode": {
    "name": "ipython",
    "version": 3
   },
   "file_extension": ".py",
   "mimetype": "text/x-python",
   "name": "python",
   "nbconvert_exporter": "python",
   "pygments_lexer": "ipython3",
   "version": "3.8.5"
  }
 },
 "nbformat": 4,
 "nbformat_minor": 4
}
