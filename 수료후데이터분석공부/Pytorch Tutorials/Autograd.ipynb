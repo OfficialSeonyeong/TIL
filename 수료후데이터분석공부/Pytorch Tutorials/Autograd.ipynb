{
 "cells": [
  {
   "cell_type": "markdown",
   "metadata": {},
   "source": [
    "## ```TORCH.AUTOGRAD```를 통한 자동 미분\n",
    "신경망을 학습할 때 가장 자주 사용되는 알고리즘은 **역전파**이다. 매개변수(모델 가중치)는 주어진 매개변수에 대한 손실 함수의 **변화도(gradient)**에 따라 조정된다.\n",
    "\n",
    "이러한 변화도를 계산하기 위해 Pytorch에는 ```torch.autograd```라는 자동 미분 엔진이 내장되어 있다.\n",
    "\n"
   ]
  }
 ],
 "metadata": {
  "kernelspec": {
   "display_name": "Python 3",
   "language": "python",
   "name": "python3"
  },
  "language_info": {
   "codemirror_mode": {
    "name": "ipython",
    "version": 3
   },
   "file_extension": ".py",
   "mimetype": "text/x-python",
   "name": "python",
   "nbconvert_exporter": "python",
   "pygments_lexer": "ipython3",
   "version": "3.8.5"
  }
 },
 "nbformat": 4,
 "nbformat_minor": 4
}
