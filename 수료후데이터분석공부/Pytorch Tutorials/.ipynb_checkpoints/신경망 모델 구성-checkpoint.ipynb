{
 "cells": [
  {
   "cell_type": "markdown",
   "metadata": {},
   "source": [
    "* 신경망은 데이터에 대한 연산을 수행하는 계층(layer)/모듈(module)로 구성\n",
    "* ```torch.nn``` 네임스페이스는 신경망을 구성하는데 필요한 모든 구성 요소를 제공\n",
    "* PyTorch의 모든 모듈은 ```nn.Module``` 의 하위 클래스(subclass) \n",
    "* 신경망은 다른 모듈(계층; layer)로 구성된 모듈\n",
    "* 이러한 중첩된 구조는 복잡한 아키텍처를 쉽게 구축하고 관리할 수 있다."
   ]
  },
  {
   "cell_type": "code",
   "execution_count": 1,
   "metadata": {},
   "outputs": [],
   "source": [
    "import os\n",
    "import torch\n",
    "from torch import nn\n",
    "from torch.utils.data import DataLoader\n",
    "from torchvision import datasets, transforms"
   ]
  },
  {
   "cell_type": "markdown",
   "metadata": {},
   "source": [
    "## 1. 학습을 위한 장치 얻기"
   ]
  },
  {
   "cell_type": "code",
   "execution_count": 2,
   "metadata": {},
   "outputs": [
    {
     "name": "stdout",
     "output_type": "stream",
     "text": [
      "Using cpu device\n"
     ]
    }
   ],
   "source": [
    "device = 'cuda' if torch.cuda.is_available() else 'cpu'\n",
    "print('Using {} device'.format(device))"
   ]
  },
  {
   "cell_type": "markdown",
   "metadata": {},
   "source": [
    "## 2. 클래스 정의\n",
    "신경망 모델을 ```nn.Module```의 하위 클래스로 정의하고, ```__init__```에서 신경망 계층들을 초기화\n",
    "\n",
    "```nn.Module```을 상속받은 모든 클래스는 ```forward```메소드에 입력 데이터에 대한 연산들을 구현"
   ]
  },
  {
   "cell_type": "code",
   "execution_count": 3,
   "metadata": {},
   "outputs": [],
   "source": [
    "class NeuralNetwork(nn.Module):\n",
    "    def __init__(self):\n",
    "        super(NeuralNetwork, self).__init__()\n",
    "        self.flatten = nn.Flatten()\n",
    "        self.linear_relu_stack = nn.Sequential(\n",
    "            nn.Linear(28*28, 512),\n",
    "            nn.ReLU(),\n",
    "            nn.Linear(512, 512),\n",
    "            nn.ReLU(),\n",
    "            nn.Linear(512, 10),\n",
    "            nn.ReLU()\n",
    "        )\n",
    "        \n",
    "    def forward(self, x):\n",
    "        x = self.flatten(x)\n",
    "        logits = self.linear_relu_stack(x)\n",
    "        return logits"
   ]
  },
  {
   "cell_type": "code",
   "execution_count": 4,
   "metadata": {},
   "outputs": [
    {
     "name": "stdout",
     "output_type": "stream",
     "text": [
      "NeuralNetwork(\n",
      "  (flatten): Flatten(start_dim=1, end_dim=-1)\n",
      "  (linear_relu_stack): Sequential(\n",
      "    (0): Linear(in_features=784, out_features=512, bias=True)\n",
      "    (1): ReLU()\n",
      "    (2): Linear(in_features=512, out_features=512, bias=True)\n",
      "    (3): ReLU()\n",
      "    (4): Linear(in_features=512, out_features=10, bias=True)\n",
      "    (5): ReLU()\n",
      "  )\n",
      ")\n"
     ]
    }
   ],
   "source": [
    "# NeuralNetwork 의 인스턴스(instance)를 생성하고 이를 device 로 이동한 뒤, 구조(structure)를 출력\n",
    "model = NeuralNetwork().to(device)\n",
    "print(model)"
   ]
  },
  {
   "cell_type": "code",
   "execution_count": 5,
   "metadata": {},
   "outputs": [
    {
     "name": "stdout",
     "output_type": "stream",
     "text": [
      "Predicted class: tensor([1])\n"
     ]
    }
   ],
   "source": [
    "X = torch.rand(1, 28, 28, device=device) # 모델을 사용하기 위해 입력 데이터 전달\n",
    "logits = model(X) # 일부 백그라운드 연산들과 함께 모델 forward 실행(직접 호출 X)\n",
    "# 입력을 호출하면 각 분류(class)에 대한 원시(raw) 예측값이 있는 10차원 텐서 반환\n",
    "pred_probab = nn.Softmax(dim=1)(logits) # 원시 예측값을 nn.Softmax 모듈의 인스턴스에 통과시켜 예측 확률 얻기\n",
    "y_pred = pred_probab.argmax(1)\n",
    "print(f\"Predicted class: {y_pred}\")"
   ]
  },
  {
   "cell_type": "markdown",
   "metadata": {},
   "source": [
    "## 3. 모델 계층(Layer)\n",
    "* FashionMNIST 모델의 계층들을 살펴보자.\n",
    "* 28x28 크기의 이미지 3개로 구성된 미니배치를 가져와, 신경망을 통과할 때 어떤 일이 발생하는지 알아보자."
   ]
  },
  {
   "cell_type": "code",
   "execution_count": 6,
   "metadata": {},
   "outputs": [
    {
     "name": "stdout",
     "output_type": "stream",
     "text": [
      "torch.Size([3, 28, 28])\n"
     ]
    }
   ],
   "source": [
    "input_image = torch.rand(3,28,28)\n",
    "print(input_image.size())"
   ]
  },
  {
   "cell_type": "markdown",
   "metadata": {},
   "source": [
    "### nn.Flatten\n",
    "nn.Flatten 계층을 초기화하여 각 28x28의 2D 이미지를 784 픽셀 값을 갖는 연속된 배열로 변환 (dim=0의 미니배치 차원은 유지)"
   ]
  },
  {
   "cell_type": "code",
   "execution_count": 7,
   "metadata": {},
   "outputs": [
    {
     "name": "stdout",
     "output_type": "stream",
     "text": [
      "torch.Size([3, 784])\n"
     ]
    }
   ],
   "source": [
    "flatten = nn.Flatten()\n",
    "flat_image = flatten(input_image)\n",
    "print(flat_image.size())"
   ]
  },
  {
   "cell_type": "markdown",
   "metadata": {},
   "source": [
    "### nn.Linear\n",
    "선형 계층은 저장된 가중치(weight)와 편향(bias)을 사용하여 입력에 선형 변환(linear transformation)을 적용하는 모듈"
   ]
  },
  {
   "cell_type": "code",
   "execution_count": 8,
   "metadata": {},
   "outputs": [
    {
     "name": "stdout",
     "output_type": "stream",
     "text": [
      "torch.Size([3, 20])\n"
     ]
    }
   ],
   "source": [
    "layer1 = nn.Linear(in_features=28*28, out_features=20)\n",
    "hidden1 = layer1(flat_image)\n",
    "print(hidden1.size())"
   ]
  },
  {
   "cell_type": "markdown",
   "metadata": {},
   "source": [
    "### nn.ReLU\n",
    "비선형 활성화(activation)는 모델의 입력과 출력 사이에 복잡한 관계(mapping)을 만든다. 비선형 활성화는 선형 변환 후에 적용되어 *비선형성(nonlinearity)*을 도입하고, 신경망이 다양한 현상을 학습할 수 있도록 돕는다."
   ]
  },
  {
   "cell_type": "code",
   "execution_count": 9,
   "metadata": {},
   "outputs": [
    {
     "name": "stdout",
     "output_type": "stream",
     "text": [
      "Before ReLU: tensor([[ 0.1742,  0.1386, -0.2316, -0.0953,  0.4639,  0.3334, -0.0016,  0.0311,\n",
      "          0.5542,  0.4364,  0.0637,  0.2673, -0.4958, -0.2602, -0.2874, -0.2900,\n",
      "         -0.2701,  0.3370, -0.0175,  0.5367],\n",
      "        [-0.0568,  0.1676, -0.3247,  0.0097,  0.1129, -0.0419,  0.3356,  0.0125,\n",
      "          0.8699,  0.2167,  0.4204,  0.0671, -0.3244, -0.3547, -0.5057, -0.3696,\n",
      "         -0.1356,  0.5221,  0.2567,  0.1343],\n",
      "        [-0.0085,  0.2806, -0.0018, -0.0078, -0.0056, -0.0142,  0.3130, -0.2285,\n",
      "          0.5470,  0.3347, -0.0087,  0.2989, -0.3251,  0.0090, -0.4412, -0.2020,\n",
      "         -0.0846,  0.2791, -0.2149,  0.2963]], grad_fn=<AddmmBackward>)\n",
      "\n",
      "\n",
      "After ReLU: tensor([[0.1742, 0.1386, 0.0000, 0.0000, 0.4639, 0.3334, 0.0000, 0.0311, 0.5542,\n",
      "         0.4364, 0.0637, 0.2673, 0.0000, 0.0000, 0.0000, 0.0000, 0.0000, 0.3370,\n",
      "         0.0000, 0.5367],\n",
      "        [0.0000, 0.1676, 0.0000, 0.0097, 0.1129, 0.0000, 0.3356, 0.0125, 0.8699,\n",
      "         0.2167, 0.4204, 0.0671, 0.0000, 0.0000, 0.0000, 0.0000, 0.0000, 0.5221,\n",
      "         0.2567, 0.1343],\n",
      "        [0.0000, 0.2806, 0.0000, 0.0000, 0.0000, 0.0000, 0.3130, 0.0000, 0.5470,\n",
      "         0.3347, 0.0000, 0.2989, 0.0000, 0.0090, 0.0000, 0.0000, 0.0000, 0.2791,\n",
      "         0.0000, 0.2963]], grad_fn=<ReluBackward0>)\n"
     ]
    }
   ],
   "source": [
    "print(f\"Before ReLU: {hidden1}\\n\\n\")\n",
    "hidden1 = nn.ReLU()(hidden1)\n",
    "print(f\"After ReLU: {hidden1}\")"
   ]
  },
  {
   "cell_type": "markdown",
   "metadata": {},
   "source": [
    "### nn.Sequential\n",
    "* nn.Sequential 은 순서를 갖는 모듈의 컨테이너\n",
    "* 데이터는 정의된 것과 같은 순서로 모든 모듈을 통해 전달\n",
    "* 순차 컨테이너(sequential container)를 사용해 아래의 ```seq_modules```와 같은 신경망을 만들 수 있다."
   ]
  },
  {
   "cell_type": "code",
   "execution_count": 10,
   "metadata": {},
   "outputs": [],
   "source": [
    "seq_modules = nn.Sequential(\n",
    "    flatten,\n",
    "    layer1,\n",
    "    nn.ReLU(),\n",
    "    nn.Linear(20,10)\n",
    ")\n",
    "input_image = torch.rand(3,28,28)\n",
    "logits = seq_modules(input_image)"
   ]
  },
  {
   "cell_type": "markdown",
   "metadata": {},
   "source": [
    "### nn.Softmax\n",
    "* 신경망의 마지막 선형 계층은 nn.Softmax 모듈에 전달될 ([-infty, infty] 범위의 원시 값(raw value)인) logits 를 반환\n",
    "* logits는 모델의 각 분류(class)에 대한 예측 확률을 나타내도록 [0, 1] 범위로 비례하여 조정(scale)\n",
    "* ```dim``` 매개변수는 값의 합이 1이 되는 차원"
   ]
  },
  {
   "cell_type": "code",
   "execution_count": 13,
   "metadata": {},
   "outputs": [],
   "source": [
    "softmax = nn.Softmax(dim=1)\n",
    "pred_probab = softmax(logits)"
   ]
  },
  {
   "cell_type": "markdown",
   "metadata": {},
   "source": [
    "## 4. 모델 매개변수\n",
    "* 신경망 내부의 많은 계층들은 *매개변수화(parameterize)*된다. 즉, 학습 중에 최적화되는 가중치와 편향과 연관지어진다.\n",
    "* ```nn.Module```을 상속하면 모델 객체 내부의 모든 필드들이 자동으로 추적(track)되며, 모델의 ```parameters()``` 및 ```named_parameters()``` 메소드로 모든 매개변수에 접근할 수 있다."
   ]
  },
  {
   "cell_type": "code",
   "execution_count": 14,
   "metadata": {},
   "outputs": [
    {
     "name": "stdout",
     "output_type": "stream",
     "text": [
      "Model structure:  NeuralNetwork(\n",
      "  (flatten): Flatten(start_dim=1, end_dim=-1)\n",
      "  (linear_relu_stack): Sequential(\n",
      "    (0): Linear(in_features=784, out_features=512, bias=True)\n",
      "    (1): ReLU()\n",
      "    (2): Linear(in_features=512, out_features=512, bias=True)\n",
      "    (3): ReLU()\n",
      "    (4): Linear(in_features=512, out_features=10, bias=True)\n",
      "    (5): ReLU()\n",
      "  )\n",
      ") \n",
      "\n",
      "\n",
      "Layer: linear_relu_stack.0.weight | Size: torch.Size([512, 784]) | Values : tensor([[-0.0231, -0.0318, -0.0150,  ..., -0.0013,  0.0172, -0.0236],\n",
      "        [ 0.0002,  0.0316,  0.0155,  ..., -0.0180, -0.0247,  0.0126]],\n",
      "       grad_fn=<SliceBackward>) \n",
      "\n",
      "Layer: linear_relu_stack.0.bias | Size: torch.Size([512]) | Values : tensor([0.0265, 0.0039], grad_fn=<SliceBackward>) \n",
      "\n",
      "Layer: linear_relu_stack.2.weight | Size: torch.Size([512, 512]) | Values : tensor([[ 0.0411, -0.0395, -0.0343,  ...,  0.0252, -0.0358, -0.0313],\n",
      "        [ 0.0174, -0.0411, -0.0064,  ...,  0.0338, -0.0030, -0.0394]],\n",
      "       grad_fn=<SliceBackward>) \n",
      "\n",
      "Layer: linear_relu_stack.2.bias | Size: torch.Size([512]) | Values : tensor([0.0126, 0.0094], grad_fn=<SliceBackward>) \n",
      "\n",
      "Layer: linear_relu_stack.4.weight | Size: torch.Size([10, 512]) | Values : tensor([[-0.0019,  0.0149,  0.0393,  ...,  0.0252,  0.0175, -0.0029],\n",
      "        [ 0.0352, -0.0236, -0.0063,  ..., -0.0175,  0.0222,  0.0124]],\n",
      "       grad_fn=<SliceBackward>) \n",
      "\n",
      "Layer: linear_relu_stack.4.bias | Size: torch.Size([10]) | Values : tensor([-0.0264, -0.0191], grad_fn=<SliceBackward>) \n",
      "\n"
     ]
    }
   ],
   "source": [
    "# 각 매개변수들을 순회하며(iterate), 매개변수의 크기와 값을 출력\n",
    "print(\"Model structure: \", model, \"\\n\\n\")\n",
    "\n",
    "for name, param in model.named_parameters():\n",
    "    print(f\"Layer: {name} | Size: {param.size()} | Values : {param[:2]} \\n\")"
   ]
  }
 ],
 "metadata": {
  "kernelspec": {
   "display_name": "Python 3",
   "language": "python",
   "name": "python3"
  },
  "language_info": {
   "codemirror_mode": {
    "name": "ipython",
    "version": 3
   },
   "file_extension": ".py",
   "mimetype": "text/x-python",
   "name": "python",
   "nbconvert_exporter": "python",
   "pygments_lexer": "ipython3",
   "version": "3.8.5"
  }
 },
 "nbformat": 4,
 "nbformat_minor": 4
}
