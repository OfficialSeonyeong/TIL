{
 "cells": [
  {
   "cell_type": "markdown",
   "metadata": {},
   "source": [
    "## nn.Transformer 모듈을 이용해 Sequence-to-Sequence 모델 학습\n",
    "* 트랜스포머 모델은 더 높은 수준의 병렬화(parallelization)가 가능하면서도 많은 시퀀스-투-시퀀스 문제들에서 품질이 우수하다.\n",
    "* ```nn.Transformer``` 모듈은 입력(input)과 출력(output) 사이의 전역적인 의존성(global dependencies)을 나타내기 위해 전적으로 어텐션(attention) 매커니즘에 의존한다."
   ]
  },
  {
   "cell_type": "markdown",
   "metadata": {},
   "source": [
    "### 1. 모델 정의\n",
    "**```nn.TransformerEncoder``` 모델을 언어 모델링(language modeling) 과제에 대해서 학습**\n",
    "* 언어 모델링 과제는 주어진 단어 (또는 단어의 시퀀스) 가 다음에 이어지는 단어 시퀀스를 따를 가능성(likelihood)에 대한 확률을 할당하는 것\n",
    "* 토큰(token) 들의 시퀀스가 임베딩(embedding) 레이어로 전달되며, 이어서 포지셔널 인코딩(positional encoding) 레이어가 각 단어의 순서를 설명\n",
    "* ```nn.TransformerEncoder``` 는 여러 개의 nn.TransformerEncoderLayer 레이어로 구성\n",
    "* ```nn.TransformerEncoder``` 내부의 셀프-어텐션(self-attention) 레이어들은 시퀀스 안에서의 이전 포지션에만 집중하도록 허용되기 때문에, 입력(input) 순서와 함께, 정사각 형태의 어텐션 마스크(attention mask) 가 필요\n",
    "* 언어 모델링 과제를 위해서, 미래의 포지션에 있는 모든 토큰들은 마스킹 되어야(가려져야) 한다.\n",
    "* ```nn.TransformerEncoder``` 의 출력은 로그-소프트맥스(log-Softmax) 로 이어지는 최종 선형(Linear) 레이어로 전달"
   ]
  },
  {
   "cell_type": "code",
   "execution_count": 12,
   "metadata": {},
   "outputs": [],
   "source": [
    "import math\n",
    "import torch\n",
    "import torch.nn as nn\n",
    "import torch.nn.functional as F\n",
    "\n",
    "class TransformerModel(nn.Module):\n",
    "\n",
    "    def __init__(self, ntoken, ninp, nhead, nhid, nlayers, dropout=0.5):\n",
    "        super(TransformerModel, self).__init__()\n",
    "        from torch.nn import TransformerEncoder, TransformerEncoderLayer\n",
    "        self.model_type = 'Transformer'\n",
    "        self.pos_encoder = PositionalEncoding(ninp, dropout)\n",
    "        encoder_layers = TransformerEncoderLayer(ninp, nhead, nhid, dropout)\n",
    "        self.transformer_encoder = TransformerEncoder(encoder_layers, nlayers)\n",
    "        self.encoder = nn.Embedding(ntoken, ninp)\n",
    "        self.ninp = ninp\n",
    "        self.decoder = nn.Linear(ninp, ntoken)\n",
    "\n",
    "        self.init_weights()\n",
    "\n",
    "    def generate_square_subsequent_mask(self, sz):\n",
    "        mask = (torch.triu(torch.ones(sz, sz)) == 1).transpose(0, 1)\n",
    "        mask = mask.float().masked_fill(mask == 0, float('-inf')).masked_fill(mask == 1, float(0.0))\n",
    "        return mask\n",
    "\n",
    "    def init_weights(self):\n",
    "        initrange = 0.1\n",
    "        self.encoder.weight.data.uniform_(-initrange, initrange)\n",
    "        self.decoder.bias.data.zero_()\n",
    "        self.decoder.weight.data.uniform_(-initrange, initrange)\n",
    "\n",
    "    def forward(self, src, src_mask):\n",
    "        src = self.encoder(src) * math.sqrt(self.ninp)\n",
    "        src = self.pos_encoder(src)\n",
    "        output = self.transformer_encoder(src, src_mask)\n",
    "        output = self.decoder(output)\n",
    "        return output\n",
    "                                                                          "
   ]
  },
  {
   "cell_type": "code",
   "execution_count": 3,
   "metadata": {},
   "outputs": [],
   "source": [
    "# 시퀀스 안에서 토큰의 상대적인 또는 절대적인 포지션에 대한 어떤 정보를 주입\n",
    "#  다른 주파수(frequency) 의 sine 과 cosine 함수를 사용\n",
    "\n",
    "class PositionalEncoding(nn.Module):\n",
    "    def __init__(self, d_model, dropout=0.1, max_len=5000):\n",
    "        super(PositionalEncoding, self).__init__()\n",
    "        self.dropout = nn.Dropout(p=dropout)\n",
    "        \n",
    "        pe = torch.zeros(max_len, d_model)\n",
    "        position = torch.arange(0, max_len, dtype=torch.float).unsqueeze(1)\n",
    "        div_term = torch.exp(torch.arange(0, d_model, 2).float() * (-math.log(10000.0) / d_model))\n",
    "        pe[:, 0::2] = torch.sin(position * div_term)\n",
    "        pe[:, 1::2] = torch.cos(position * div_term)\n",
    "        pe = pe.unsqueeze(0).transpose(0,1)\n",
    "        self.register_buffer('pe', pe)\n",
    "        \n",
    "    def forward(self, x):\n",
    "        x = x + self.pe[:x.size(0), :]\n",
    "        return self.dropout(x)"
   ]
  },
  {
   "cell_type": "markdown",
   "metadata": {},
   "source": [
    "### 2. 데이터 로드하고 배치 만들기\n",
    "* ```torchtext``` 를 사용하여 Wikitext-2 데이터셋을 생성\n",
    "* 단어 오브젝트는 훈련 데이터셋(train dataset) 에 의하여 만들어지고, 토큰을 텐서(tensor)로 수치화하는데 사용\n",
    "* 시퀀스 데이터로부터 시작하여, ```batchify()``` 함수는 데이터셋을 컬럼들로 배열하고, batch_size 사이즈의 배치들로 나눈 후에 남은 모든 토큰을 버린다.\n",
    "* 이 컬럼들은 모델에 의해서 독립적으로 취급되며, 이것은 더 효율적인 배치 프로세싱(batch processing) 이 가능"
   ]
  },
  {
   "cell_type": "code",
   "execution_count": 5,
   "metadata": {},
   "outputs": [
    {
     "name": "stdout",
     "output_type": "stream",
     "text": [
      "Collecting torchtext\n",
      "  Downloading torchtext-0.9.1-cp38-cp38-win_amd64.whl (1.5 MB)\n",
      "Requirement already satisfied: numpy in c:\\users\\seonyeong\\anaconda3\\lib\\site-packages (from torchtext) (1.19.2)\n",
      "Requirement already satisfied: tqdm in c:\\users\\seonyeong\\anaconda3\\lib\\site-packages (from torchtext) (4.50.2)\n",
      "Requirement already satisfied: requests in c:\\users\\seonyeong\\anaconda3\\lib\\site-packages (from torchtext) (2.24.0)\n",
      "Requirement already satisfied: torch==1.8.1 in c:\\users\\seonyeong\\anaconda3\\lib\\site-packages (from torchtext) (1.8.1)\n",
      "Requirement already satisfied: certifi>=2017.4.17 in c:\\users\\seonyeong\\anaconda3\\lib\\site-packages (from requests->torchtext) (2020.6.20)\n",
      "Requirement already satisfied: chardet<4,>=3.0.2 in c:\\users\\seonyeong\\anaconda3\\lib\\site-packages (from requests->torchtext) (3.0.4)\n",
      "Requirement already satisfied: urllib3!=1.25.0,!=1.25.1,<1.26,>=1.21.1 in c:\\users\\seonyeong\\anaconda3\\lib\\site-packages (from requests->torchtext) (1.25.11)\n",
      "Requirement already satisfied: idna<3,>=2.5 in c:\\users\\seonyeong\\anaconda3\\lib\\site-packages (from requests->torchtext) (2.10)\n",
      "Requirement already satisfied: typing_extensions in c:\\users\\seonyeong\\anaconda3\\lib\\site-packages (from torch==1.8.1->torchtext) (3.7.4.3)\n",
      "Installing collected packages: torchtext\n",
      "Successfully installed torchtext-0.9.1\n"
     ]
    }
   ],
   "source": [
    "!pip install torchtext"
   ]
  },
  {
   "cell_type": "code",
   "execution_count": 8,
   "metadata": {},
   "outputs": [],
   "source": [
    "import io\n",
    "import torch\n",
    "from torchtext.datasets import WikiText2\n",
    "from torchtext.data.utils import get_tokenizer\n",
    "from collections import Counter\n",
    "from torchtext.vocab import Vocab\n",
    "\n",
    "train_iter = WikiText2(split='train')\n",
    "tokenizer = get_tokenizer('basic_english')\n",
    "counter = Counter()\n",
    "for line in train_iter:\n",
    "    counter.update(tokenizer(line))\n",
    "vocab = Vocab(counter)\n",
    "\n",
    "def data_process(raw_text_iter):\n",
    "    data = [torch.tensor([vocab[token] for token in tokenizer(item)], dtype=torch.long) for item in raw_text_iter]\n",
    "    return torch.cat(tuple(filter(lambda t: t.numel() > 0, data)))\n",
    "\n",
    "train_iter, val_iter, test_iter = WikiText2()\n",
    "train_data = data_process(train_iter)\n",
    "val_data = data_process(val_iter)\n",
    "test_data = data_process(test_iter)\n",
    "\n",
    "device = torch.device('cuda' if torch.cuda.is_available() else 'cpu')\n",
    "\n",
    "def batchify(data, bsz):\n",
    "    # 데이터셋을 bsz 파트들로 나눈다.\n",
    "    nbatch = data.size(0) // bsz\n",
    "    # 깔끔하게 나누어 떨어지지 않는 추가적인 부분(나머지들) 은 잘라낸다.\n",
    "    data = data.narrow(0, 0, nbatch*bsz)\n",
    "    # 데이터에 대하여 bsz 배치들로 동등하게 나눈다.\n",
    "    data = data.view(bsz, -1).t().contiguous()\n",
    "    return data.to(device)\n",
    "\n",
    "batch_size = 20\n",
    "eval_batch_size = 10\n",
    "train_data = batchify(train_data, batch_size)\n",
    "val_data = batchify(val_data, eval_batch_size)\n",
    "test_data = batchify(test_data, eval_batch_size)"
   ]
  },
  {
   "cell_type": "markdown",
   "metadata": {},
   "source": [
    "### 3. 입력(input) 과 타겟(target) 시퀀스를 생성하기 위한 함수들"
   ]
  },
  {
   "cell_type": "code",
   "execution_count": 9,
   "metadata": {},
   "outputs": [],
   "source": [
    "bptt = 35\n",
    "# 트랜스포머 모델을 위한 입력과 타겟 시퀀스 생성\n",
    "# => 소스 데이터를 bptt 길이를 가진 덩어리로 세분화\n",
    "def get_batch(source, i):\n",
    "    seq_len = min(bptt, len(source)-1-i)\n",
    "    data = source[i:i+seq_len]\n",
    "    target = source[i+1:i+1+seq_len].reshape(-1)\n",
    "    return data, target"
   ]
  },
  {
   "cell_type": "markdown",
   "metadata": {},
   "source": [
    "## 4. 인스턴스(instance) 초기화\n",
    "아래와 같은 하이퍼파라미터(hyperparameter) 로 세팅\n",
    "\n",
    "단어 사이즈는 단어 오브젝트의 길이와 일치"
   ]
  },
  {
   "cell_type": "code",
   "execution_count": 13,
   "metadata": {},
   "outputs": [],
   "source": [
    "ntokens = len(vocab.stoi) # 단어 사전(어휘집)의 크기\n",
    "emsize = 200 # 임베딩 차원\n",
    "nhid = 200 # nn.TransformerEncoder 에서 피드포워드 네트워크(feedforward network) 모델의 차원\n",
    "nlayers = 2 # nn.TransformerEncoder 내부의 nn.TransformerEncoderLayer 개수\n",
    "nhead = 2 # 멀티헤드 어텐션(multi-head attention) 모델의 헤드 개수\n",
    "dropout = 0.2\n",
    "model = TransformerModel(ntokens, emsize, nhead, nhid, nlayers, dropout).to(device)"
   ]
  },
  {
   "cell_type": "markdown",
   "metadata": {},
   "source": [
    "## 5. 모델 실행\n",
    "* 손실(loss) 을 추적하는 데에는 ```CrossEntropyLoss``` 가 적용\n",
    "* 옵티마이저(optimizer) 로서 ```SGD``` 는 확률적 경사 하강법(stochastic gradient descent method) 을 구현\n",
    "* 초기 학습률(learning rate) 은 5.0 으로 설정\n",
    "* ```StepLR``` 은 에포크(epoch) 에 따라서 학습률을 조절하는데 사용\n",
    "* 학습하는 동안에 기울기 폭발(gradient exploding) 을 방지하기 위하여 모든 기울기를 함께 스케일(scale) 하는 함수인 ```nn.utils.clip_grad_norm_``` 을 이용"
   ]
  },
  {
   "cell_type": "code",
   "execution_count": 23,
   "metadata": {},
   "outputs": [],
   "source": [
    "criterion = nn.CrossEntropyLoss()\n",
    "lr = 5.0 # 학습률\n",
    "optimizer = torch.optim.SGD(model.parameters(), lr=lr)\n",
    "scheduler = torch.optim.lr_scheduler.StepLR(optimizer, 1.0, gamma=0.95)\n",
    "\n",
    "import time\n",
    "def train():\n",
    "    model.train() # 학습 모드를 시작\n",
    "    total_loss = 0.\n",
    "    start_time = time.time()\n",
    "    src_mask = model.generate_square_subsequent_mask(bptt).to(device)\n",
    "    for batch, i in enumerate(range(0, train_data.size(0) - 1, bptt)):\n",
    "        data, targets = get_batch(train_data, i)\n",
    "        optimizer.zero_grad()\n",
    "        if data.size(0) != bptt:\n",
    "            src_mask = model.generate_square_subsequent_mask(data.size(0)).to(device)\n",
    "        output = model(data, src_mask)\n",
    "        loss = criterion(output.view(-1, ntokens), targets)\n",
    "        loss.backward()\n",
    "        torch.nn.utils.clip_grad_norm_(model.parameters(), 0.5)\n",
    "        optimizer.step()\n",
    "\n",
    "        total_loss += loss.item()\n",
    "        log_interval = 200\n",
    "        if batch % log_interval == 0 and batch > 0:\n",
    "            cur_loss = total_loss / log_interval\n",
    "            elapsed = time.time() - start_time\n",
    "            print('| epoch {:3d} | {:5d}/{:5d} batches | '\n",
    "                  'lr {:02.2f} | ms/batch {:5.2f} | '\n",
    "                  'loss {:5.2f} | ppl {:8.2f}'.format(\n",
    "                    epoch, batch, len(train_data) // bptt, scheduler.get_last_lr()[0],\n",
    "                    elapsed * 1000 / log_interval,\n",
    "                    cur_loss, math.exp(cur_loss)))\n",
    "            total_loss = 0\n",
    "            start_time = time.time()\n",
    "\n",
    "def evaluate(eval_model, data_source):\n",
    "    eval_model.eval() # 평가 모드를 시작\n",
    "    total_loss = 0.\n",
    "    src_mask = model.generate_square_subsequent_mask(bptt).to(device)\n",
    "    with torch.no_grad():\n",
    "        for i in range(0, data_source.size(0) - 1, bptt):\n",
    "            data, targets = get_batch(data_source, i)\n",
    "            if data.size(0) != bptt:\n",
    "                src_mask = model.generate_square_subsequent_mask(data.size(0)).to(device)\n",
    "            output = eval_model(data, src_mask)\n",
    "            output_flat = output.view(-1, ntokens)\n",
    "            total_loss += len(data) * criterion(output_flat, targets).item()\n",
    "    return total_loss / (len(data_source) - 1)"
   ]
  },
  {
   "cell_type": "code",
   "execution_count": 24,
   "metadata": {},
   "outputs": [
    {
     "name": "stdout",
     "output_type": "stream",
     "text": [
      "| epoch   1 |   200/ 2928 batches | lr 5.00 | ms/batch 501.09 | loss  5.63 | ppl   279.99\n",
      "| epoch   1 |   400/ 2928 batches | lr 5.00 | ms/batch 536.99 | loss  5.65 | ppl   284.95\n",
      "| epoch   1 |   600/ 2928 batches | lr 5.00 | ms/batch 579.27 | loss  5.47 | ppl   236.42\n",
      "| epoch   1 |   800/ 2928 batches | lr 5.00 | ms/batch 583.26 | loss  5.52 | ppl   248.70\n",
      "| epoch   1 |  1000/ 2928 batches | lr 5.00 | ms/batch 575.46 | loss  5.47 | ppl   237.32\n",
      "| epoch   1 |  1200/ 2928 batches | lr 5.00 | ms/batch 584.70 | loss  5.52 | ppl   249.15\n",
      "| epoch   1 |  1400/ 2928 batches | lr 5.00 | ms/batch 583.15 | loss  5.54 | ppl   254.37\n",
      "| epoch   1 |  1600/ 2928 batches | lr 5.00 | ms/batch 581.07 | loss  5.56 | ppl   259.34\n",
      "| epoch   1 |  1800/ 2928 batches | lr 5.00 | ms/batch 589.83 | loss  5.51 | ppl   246.75\n",
      "| epoch   1 |  2000/ 2928 batches | lr 5.00 | ms/batch 600.93 | loss  5.53 | ppl   252.60\n",
      "| epoch   1 |  2200/ 2928 batches | lr 5.00 | ms/batch 596.99 | loss  5.42 | ppl   226.49\n",
      "| epoch   1 |  2400/ 2928 batches | lr 5.00 | ms/batch 591.63 | loss  5.51 | ppl   246.00\n",
      "| epoch   1 |  2600/ 2928 batches | lr 5.00 | ms/batch 585.65 | loss  5.51 | ppl   247.92\n",
      "| epoch   1 |  2800/ 2928 batches | lr 5.00 | ms/batch 581.60 | loss  5.45 | ppl   233.39\n",
      "-----------------------------------------------------------------------------------------\n",
      "| end of epoch   1 | time: 1775.21s | valid loss  5.64 | valid ppl   280.49\n",
      "-----------------------------------------------------------------------------------------\n",
      "| epoch   2 |   200/ 2928 batches | lr 4.75 | ms/batch 580.53 | loss  5.48 | ppl   240.91\n",
      "| epoch   2 |   400/ 2928 batches | lr 4.75 | ms/batch 576.78 | loss  5.51 | ppl   247.43\n",
      "| epoch   2 |   600/ 2928 batches | lr 4.75 | ms/batch 580.45 | loss  5.32 | ppl   204.08\n",
      "| epoch   2 |   800/ 2928 batches | lr 4.75 | ms/batch 599.61 | loss  5.39 | ppl   219.67\n",
      "| epoch   2 |  1000/ 2928 batches | lr 4.75 | ms/batch 587.17 | loss  5.34 | ppl   207.64\n",
      "| epoch   2 |  1200/ 2928 batches | lr 4.75 | ms/batch 588.20 | loss  5.38 | ppl   217.47\n",
      "| epoch   2 |  1400/ 2928 batches | lr 4.75 | ms/batch 588.07 | loss  5.41 | ppl   222.72\n",
      "| epoch   2 |  1600/ 2928 batches | lr 4.75 | ms/batch 573.20 | loss  5.42 | ppl   226.50\n",
      "| epoch   2 |  1800/ 2928 batches | lr 4.75 | ms/batch 588.76 | loss  5.38 | ppl   217.79\n",
      "| epoch   2 |  2000/ 2928 batches | lr 4.75 | ms/batch 575.03 | loss  5.40 | ppl   221.09\n",
      "| epoch   2 |  2200/ 2928 batches | lr 4.75 | ms/batch 587.15 | loss  5.28 | ppl   195.71\n",
      "| epoch   2 |  2400/ 2928 batches | lr 4.75 | ms/batch 578.31 | loss  5.38 | ppl   216.10\n",
      "| epoch   2 |  2600/ 2928 batches | lr 4.75 | ms/batch 586.50 | loss  5.38 | ppl   217.51\n",
      "| epoch   2 |  2800/ 2928 batches | lr 4.75 | ms/batch 582.01 | loss  5.31 | ppl   202.97\n",
      "-----------------------------------------------------------------------------------------\n",
      "| end of epoch   2 | time: 1796.97s | valid loss  5.59 | valid ppl   266.73\n",
      "-----------------------------------------------------------------------------------------\n",
      "| epoch   3 |   200/ 2928 batches | lr 4.51 | ms/batch 591.68 | loss  5.35 | ppl   211.48\n",
      "| epoch   3 |   400/ 2928 batches | lr 4.51 | ms/batch 585.33 | loss  5.39 | ppl   219.81\n",
      "| epoch   3 |   600/ 2928 batches | lr 4.51 | ms/batch 589.78 | loss  5.20 | ppl   180.71\n",
      "| epoch   3 |   800/ 2928 batches | lr 4.51 | ms/batch 596.34 | loss  5.27 | ppl   193.57\n",
      "| epoch   3 |  1000/ 2928 batches | lr 4.51 | ms/batch 577.70 | loss  5.24 | ppl   189.61\n",
      "| epoch   3 |  1200/ 2928 batches | lr 4.51 | ms/batch 573.97 | loss  5.27 | ppl   194.34\n",
      "| epoch   3 |  1400/ 2928 batches | lr 4.51 | ms/batch 576.78 | loss  5.29 | ppl   198.54\n",
      "| epoch   3 |  1600/ 2928 batches | lr 4.51 | ms/batch 576.23 | loss  5.32 | ppl   204.57\n",
      "| epoch   3 |  1800/ 2928 batches | lr 4.51 | ms/batch 575.49 | loss  5.28 | ppl   196.28\n",
      "| epoch   3 |  2000/ 2928 batches | lr 4.51 | ms/batch 586.24 | loss  5.30 | ppl   199.63\n",
      "| epoch   3 |  2200/ 2928 batches | lr 4.51 | ms/batch 584.21 | loss  5.16 | ppl   174.39\n",
      "| epoch   3 |  2400/ 2928 batches | lr 4.51 | ms/batch 582.93 | loss  5.27 | ppl   194.34\n",
      "| epoch   3 |  2600/ 2928 batches | lr 4.51 | ms/batch 573.92 | loss  5.28 | ppl   197.07\n",
      "| epoch   3 |  2800/ 2928 batches | lr 4.51 | ms/batch 612.72 | loss  5.21 | ppl   183.95\n",
      "-----------------------------------------------------------------------------------------\n",
      "| end of epoch   3 | time: 1803.39s | valid loss  5.56 | valid ppl   261.03\n",
      "-----------------------------------------------------------------------------------------\n"
     ]
    }
   ],
   "source": [
    "# 에포크 내에서 반복\n",
    "# 만약 검증 오차(validation loss) 가 우리가 지금까지 관찰한 것 중 최적이라면 모델을 저장\n",
    "# 매 에포크 이후에 학습률을 조절\n",
    "best_val_loss = float('inf')\n",
    "epochs = 3\n",
    "best_model = None\n",
    "\n",
    "for epoch in range(1, epochs + 1):\n",
    "    epoch_start_time = time.time()\n",
    "    train()\n",
    "    val_loss = evaluate(model, val_data)\n",
    "    print('-' * 89)\n",
    "    print('| end of epoch {:3d} | time: {:5.2f}s | valid loss {:5.2f} | '\n",
    "          'valid ppl {:8.2f}'.format(epoch, (time.time() - epoch_start_time),\n",
    "                                     val_loss, math.exp(val_loss)))\n",
    "    print('-' * 89)\n",
    "    if val_loss < best_val_loss:\n",
    "        best_val_loss = val_loss\n",
    "        best_model = model\n",
    "        \n",
    "    scheduler.step()"
   ]
  },
  {
   "cell_type": "markdown",
   "metadata": {},
   "source": [
    "## 6. 평가 데이터셋(test dataset)으로 모델 평가"
   ]
  },
  {
   "cell_type": "code",
   "execution_count": 25,
   "metadata": {},
   "outputs": [
    {
     "name": "stdout",
     "output_type": "stream",
     "text": [
      "=========================================================================================\n",
      "| End of training | test loss  5.47 | test ppl   237.58\n",
      "=========================================================================================\n"
     ]
    }
   ],
   "source": [
    "test_loss = evaluate(best_model, test_data)\n",
    "print('=' * 89)\n",
    "print('| End of training | test loss {:5.2f} | test ppl {:8.2f}'.format(\n",
    "    test_loss, math.exp(test_loss)))\n",
    "print('=' * 89)"
   ]
  }
 ],
 "metadata": {
  "kernelspec": {
   "display_name": "Python 3",
   "language": "python",
   "name": "python3"
  },
  "language_info": {
   "codemirror_mode": {
    "name": "ipython",
    "version": 3
   },
   "file_extension": ".py",
   "mimetype": "text/x-python",
   "name": "python",
   "nbconvert_exporter": "python",
   "pygments_lexer": "ipython3",
   "version": "3.8.5"
  }
 },
 "nbformat": 4,
 "nbformat_minor": 4
}
