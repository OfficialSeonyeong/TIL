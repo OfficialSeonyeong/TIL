{
 "cells": [
  {
   "cell_type": "code",
   "execution_count": 1,
   "metadata": {},
   "outputs": [],
   "source": [
    "import torch"
   ]
  },
  {
   "cell_type": "markdown",
   "metadata": {},
   "source": [
    "### expand: Copy the given tensor and concat those at desired dimension."
   ]
  },
  {
   "cell_type": "code",
   "execution_count": 2,
   "metadata": {},
   "outputs": [
    {
     "name": "stdout",
     "output_type": "stream",
     "text": [
      "torch.Size([2, 1, 2])\n"
     ]
    }
   ],
   "source": [
    "x = torch.FloatTensor([[[1,2]],[[3,4]]])\n",
    "print(x.size())"
   ]
  },
  {
   "cell_type": "code",
   "execution_count": 3,
   "metadata": {},
   "outputs": [
    {
     "name": "stdout",
     "output_type": "stream",
     "text": [
      "tensor([[[1., 2.],\n",
      "         [1., 2.],\n",
      "         [1., 2.]],\n",
      "\n",
      "        [[3., 4.],\n",
      "         [3., 4.],\n",
      "         [3., 4.]]])\n",
      "torch.Size([2, 3, 2])\n"
     ]
    }
   ],
   "source": [
    "y = x.expand(*[2,3,2])  # (2,3,2)\n",
    "print(y)\n",
    "print(y.size())"
   ]
  },
  {
   "cell_type": "markdown",
   "metadata": {},
   "source": [
    "Implement \"expand\" with cat."
   ]
  },
  {
   "cell_type": "code",
   "execution_count": 4,
   "metadata": {},
   "outputs": [
    {
     "name": "stdout",
     "output_type": "stream",
     "text": [
      "tensor([[[1., 2.],\n",
      "         [1., 2.],\n",
      "         [1., 2.]],\n",
      "\n",
      "        [[3., 4.],\n",
      "         [3., 4.],\n",
      "         [3., 4.]]])\n",
      "torch.Size([2, 3, 2])\n"
     ]
    }
   ],
   "source": [
    "y = torch.cat([x,x,x], dim=1)\n",
    "print(y)\n",
    "print(y.size())"
   ]
  },
  {
   "cell_type": "markdown",
   "metadata": {},
   "source": [
    "### randperm: Ramdom Permutation(임의 순열)"
   ]
  },
  {
   "cell_type": "code",
   "execution_count": 5,
   "metadata": {},
   "outputs": [
    {
     "name": "stdout",
     "output_type": "stream",
     "text": [
      "tensor([7, 0, 5, 9, 8, 4, 2, 3, 6, 1])\n",
      "torch.Size([10])\n"
     ]
    }
   ],
   "source": [
    "x = torch.randperm(10)\n",
    "print(x)\n",
    "print(x.size())"
   ]
  },
  {
   "cell_type": "markdown",
   "metadata": {},
   "source": [
    "### argmax: Return index of maximum values"
   ]
  },
  {
   "cell_type": "code",
   "execution_count": 6,
   "metadata": {},
   "outputs": [
    {
     "name": "stdout",
     "output_type": "stream",
     "text": [
      "tensor([[[16,  4,  2],\n",
      "         [23, 12, 21],\n",
      "         [ 9,  7, 24]],\n",
      "\n",
      "        [[18, 20, 25],\n",
      "         [10, 26,  1],\n",
      "         [17,  5, 13]],\n",
      "\n",
      "        [[22, 19, 14],\n",
      "         [11,  0, 15],\n",
      "         [ 3,  6,  8]]])\n",
      "torch.Size([3, 3, 3])\n"
     ]
    }
   ],
   "source": [
    "x = torch.randperm(3**3).reshape(3,3,-1)\n",
    "print(x)\n",
    "print(x.size())"
   ]
  },
  {
   "cell_type": "code",
   "execution_count": 7,
   "metadata": {},
   "outputs": [
    {
     "name": "stdout",
     "output_type": "stream",
     "text": [
      "tensor([[0, 0, 2],\n",
      "        [2, 1, 0],\n",
      "        [0, 2, 2]])\n",
      "torch.Size([3, 3])\n"
     ]
    }
   ],
   "source": [
    "y = x.argmax(dim=-1)\n",
    "print(y)\n",
    "print(y.size())"
   ]
  },
  {
   "cell_type": "markdown",
   "metadata": {},
   "source": [
    "### topk: Return tuple of top-k values and indices.\n",
    "reduction problem doesn't happen. 원래 차원이 유지된다."
   ]
  },
  {
   "cell_type": "code",
   "execution_count": 8,
   "metadata": {},
   "outputs": [
    {
     "name": "stdout",
     "output_type": "stream",
     "text": [
      "torch.Size([3, 3, 1])\n",
      "torch.Size([3, 3, 1])\n"
     ]
    }
   ],
   "source": [
    "values, indices = torch.topk(x, k=1, dim=-1)\n",
    "print(values.size())\n",
    "print(indices.size())"
   ]
  },
  {
   "cell_type": "code",
   "execution_count": 9,
   "metadata": {},
   "outputs": [
    {
     "name": "stdout",
     "output_type": "stream",
     "text": [
      "tensor([[16, 23, 24],\n",
      "        [25, 26, 17],\n",
      "        [22, 15,  8]])\n",
      "tensor([[0, 0, 2],\n",
      "        [2, 1, 0],\n",
      "        [0, 2, 2]])\n"
     ]
    }
   ],
   "source": [
    "print(values.squeeze(-1))\n",
    "print(indices.squeeze(-1))"
   ]
  },
  {
   "cell_type": "code",
   "execution_count": 10,
   "metadata": {
    "scrolled": true
   },
   "outputs": [
    {
     "name": "stdout",
     "output_type": "stream",
     "text": [
      "tensor([[True, True, True],\n",
      "        [True, True, True],\n",
      "        [True, True, True]])\n"
     ]
    }
   ],
   "source": [
    "print(x.argmax(dim=-1) == indices.squeeze(-1))"
   ]
  },
  {
   "cell_type": "code",
   "execution_count": 11,
   "metadata": {},
   "outputs": [
    {
     "name": "stdout",
     "output_type": "stream",
     "text": [
      "torch.Size([3, 3, 2])\n",
      "tensor([[True, True, True],\n",
      "        [True, True, True],\n",
      "        [True, True, True]])\n"
     ]
    }
   ],
   "source": [
    "_, indices = torch.topk(x, k=2, dim=-1)\n",
    "print(indices.size())\n",
    "\n",
    "print(x.argmax(dim=-1) == indices[:,:,0]) # indices[:,:,0]은 인덱스로 호출해서 마지막 차원은 없음 => (3,3)"
   ]
  },
  {
   "cell_type": "markdown",
   "metadata": {},
   "source": [
    "### Sort by using topk"
   ]
  },
  {
   "cell_type": "code",
   "execution_count": 12,
   "metadata": {},
   "outputs": [
    {
     "name": "stdout",
     "output_type": "stream",
     "text": [
      "tensor([[[16,  4,  2],\n",
      "         [23, 21, 12],\n",
      "         [24,  9,  7]],\n",
      "\n",
      "        [[25, 20, 18],\n",
      "         [26, 10,  1],\n",
      "         [17, 13,  5]],\n",
      "\n",
      "        [[22, 19, 14],\n",
      "         [15, 11,  0],\n",
      "         [ 8,  6,  3]]])\n"
     ]
    }
   ],
   "source": [
    "target_dim = -1\n",
    "values, indices = torch.topk(x, k=x.size(target_dim), largest=True)\n",
    "print(values)"
   ]
  },
  {
   "cell_type": "markdown",
   "metadata": {},
   "source": [
    "### Topk by using sort"
   ]
  },
  {
   "cell_type": "code",
   "execution_count": 16,
   "metadata": {},
   "outputs": [
    {
     "name": "stdout",
     "output_type": "stream",
     "text": [
      "tensor([[16, 23, 24],\n",
      "        [25, 26, 17],\n",
      "        [22, 15,  8]])\n",
      "tensor([[0, 0, 2],\n",
      "        [2, 1, 0],\n",
      "        [0, 2, 2]])\n"
     ]
    }
   ],
   "source": [
    "k=1\n",
    "values, indices = torch.sort(x, dim=-1, descending=True)\n",
    "values, indices = values[:,:,:k], indices[:,:,:k]\n",
    "\n",
    "print(values.squeeze(-1))\n",
    "print(indices.squeeze(-1))"
   ]
  },
  {
   "cell_type": "markdown",
   "metadata": {},
   "source": [
    "### masked_fill: Fill the value if element of mask is True."
   ]
  },
  {
   "cell_type": "code",
   "execution_count": 17,
   "metadata": {},
   "outputs": [
    {
     "name": "stdout",
     "output_type": "stream",
     "text": [
      "tensor([[0., 1., 2.],\n",
      "        [3., 4., 5.],\n",
      "        [6., 7., 8.]])\n",
      "torch.Size([3, 3])\n"
     ]
    }
   ],
   "source": [
    "x = torch.FloatTensor([i for i in range(3**2)]).reshape(3,-1)\n",
    "\n",
    "print(x)\n",
    "print(x.size())"
   ]
  },
  {
   "cell_type": "code",
   "execution_count": 18,
   "metadata": {},
   "outputs": [
    {
     "name": "stdout",
     "output_type": "stream",
     "text": [
      "tensor([[False, False, False],\n",
      "        [False, False,  True],\n",
      "        [ True,  True,  True]])\n"
     ]
    }
   ],
   "source": [
    "mask = x > 4\n",
    "print(mask)"
   ]
  },
  {
   "cell_type": "code",
   "execution_count": 19,
   "metadata": {},
   "outputs": [
    {
     "name": "stdout",
     "output_type": "stream",
     "text": [
      "tensor([[ 0.,  1.,  2.],\n",
      "        [ 3.,  4., -1.],\n",
      "        [-1., -1., -1.]])\n"
     ]
    }
   ],
   "source": [
    "y = x.masked_fill(mask, value=-1)\n",
    "print(y)"
   ]
  },
  {
   "cell_type": "markdown",
   "metadata": {},
   "source": [
    "### Ones and Zeros"
   ]
  },
  {
   "cell_type": "code",
   "execution_count": 20,
   "metadata": {},
   "outputs": [
    {
     "name": "stdout",
     "output_type": "stream",
     "text": [
      "tensor([[1., 1., 1.],\n",
      "        [1., 1., 1.]])\n",
      "tensor([[0., 0., 0.],\n",
      "        [0., 0., 0.]])\n"
     ]
    }
   ],
   "source": [
    "print(torch.ones(2, 3))\n",
    "print(torch.zeros(2, 3))"
   ]
  },
  {
   "cell_type": "code",
   "execution_count": 22,
   "metadata": {},
   "outputs": [
    {
     "name": "stdout",
     "output_type": "stream",
     "text": [
      "torch.Size([2, 3])\n"
     ]
    }
   ],
   "source": [
    "x = torch.FloatTensor([[1,2,3],\n",
    "                      [4,5,6]])\n",
    "print(x.size())"
   ]
  },
  {
   "cell_type": "code",
   "execution_count": 24,
   "metadata": {},
   "outputs": [
    {
     "name": "stdout",
     "output_type": "stream",
     "text": [
      "tensor([[1., 1., 1.],\n",
      "        [1., 1., 1.]])\n",
      "tensor([[0., 0., 0.],\n",
      "        [0., 0., 0.]])\n"
     ]
    }
   ],
   "source": [
    "# 연산을 위해 사이즈, 타입, 디바이스가 같은 조건으로 생성\n",
    "print(torch.ones_like(x))\n",
    "print(torch.zeros_like(x))"
   ]
  }
 ],
 "metadata": {
  "kernelspec": {
   "display_name": "Python 3",
   "language": "python",
   "name": "python3"
  },
  "language_info": {
   "codemirror_mode": {
    "name": "ipython",
    "version": 3
   },
   "file_extension": ".py",
   "mimetype": "text/x-python",
   "name": "python",
   "nbconvert_exporter": "python",
   "pygments_lexer": "ipython3",
   "version": "3.8.5"
  }
 },
 "nbformat": 4,
 "nbformat_minor": 4
}
