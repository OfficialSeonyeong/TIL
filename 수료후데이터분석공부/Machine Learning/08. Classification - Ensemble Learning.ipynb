{
 "cells": [
  {
   "cell_type": "markdown",
   "metadata": {},
   "source": [
    "* 앙상블 학습(Ensemble Learning)을 통한 분류는 **여러 개의 분류기(Classifier)를 생성하고 그 예측을 결합**함으로써 보다 정확한 최종 예측을 도출하는 기법\n",
    "* 이미지, 영상, 음성 등의 비정형 데이터의 분류는 딥러닝이 뛰어난 성능을 보이고 있지만, 대부분의 정형 데이터 분류 시에는 앙상블이 뛰어난 성능을 나타내고 있다.\n",
    "* 앙상블 학습의 유형은 전통적으로 **보팅(Voting), 배깅(Bagging), 부스팅(Boosting)**의 세 가지로 나눌 수 있고, 이외에도 스태깅을 포함한 다양한 앙상블 방법이 있다.\n",
    "    * **보팅과 배깅**은 여러 개의 분류기가 투표를 통해 최종 예측 결과를 결정하는 방식\n",
    "    * **보팅**은 서로 다른 알고리즘을 가진 분류기를 결합, **배깅**은 각각의 분류기가 모두 같은 유형의 알고리즘 기반이지만, 데이터 샘플링을 서로 다르게 가져가면서 학습을 수행, 대표적으로 랜덤 포레스트 알고리즘\n",
    "    * **부스팅**은 여러 개의 분류기가 순차적으로 학습을 수행하되, 앞에서 학습한 분류기가 예측이 틀린 데이터에 대해서는 올바르게 예측할 수 있도록 다음 분류기에게는 가중치(weight)를 부여하면서 학습과 예측 진행, 대표적으로 그래디언트 부스트, XGBoost, LightGBM\n",
    "    * **스태킹**은 여러 가지 다른 모델의 예측 결과값을 다시 학습 데이터로 만들어 다른 모델(메타 모델)에 재학습시켜 결과 예측"
   ]
  },
  {
   "cell_type": "markdown",
   "metadata": {},
   "source": [
    "## 1. 보팅(Voting)\n",
    "### 하드 보팅(Hard Voting)과 소프트 보팅(Soft Voting)\n",
    "* **하드 보팅**을 이용한 분류는 다수결 원칙과 비슷하게 예측한 결과값 중 다수의 분류기가 결정한 예측값을 최종 보팅 결과값으로 선정\n",
    "* **소프트 보팅**은 분류기들의 레이블 값 결정 확률을 모두 더하고 이를 평균해서 이들 중 확률이 가장 높은 레이블 값을 최종 보팅 결과값으로 선정, 일반적으로 소프트 보팅이 주로 적용됨\n",
    "\n",
    "### 보팅 분류기(Voting Classifier)\n",
    "사이킷런은 보팅 방식의 앙상블을 구현한 VotingClassifier 클래스를 제공\n",
    "\n",
    "\n",
    "#### <보팅 방식의 앙상블을 이용해 위스콘신 유방암 데이터 세트 예측 분석>\n",
    "유방암의 악성종양, 양성종양 여부를 결정하는 이진 분류 데이터 세트, 종양의 크기, 모양 등의 형태와 관련한 많은 피처를 가지고 있다.\n",
    "\n",
    "=> 로지스틱 회귀와 KNN을 기반으로 보팅 분류기 만들기"
   ]
  },
  {
   "cell_type": "code",
   "execution_count": 4,
   "metadata": {},
   "outputs": [
    {
     "data": {
      "text/html": [
       "<div>\n",
       "<style scoped>\n",
       "    .dataframe tbody tr th:only-of-type {\n",
       "        vertical-align: middle;\n",
       "    }\n",
       "\n",
       "    .dataframe tbody tr th {\n",
       "        vertical-align: top;\n",
       "    }\n",
       "\n",
       "    .dataframe thead th {\n",
       "        text-align: right;\n",
       "    }\n",
       "</style>\n",
       "<table border=\"1\" class=\"dataframe\">\n",
       "  <thead>\n",
       "    <tr style=\"text-align: right;\">\n",
       "      <th></th>\n",
       "      <th>mean radius</th>\n",
       "      <th>mean texture</th>\n",
       "      <th>mean perimeter</th>\n",
       "      <th>mean area</th>\n",
       "      <th>mean smoothness</th>\n",
       "      <th>mean compactness</th>\n",
       "      <th>mean concavity</th>\n",
       "      <th>mean concave points</th>\n",
       "      <th>mean symmetry</th>\n",
       "      <th>mean fractal dimension</th>\n",
       "      <th>...</th>\n",
       "      <th>worst radius</th>\n",
       "      <th>worst texture</th>\n",
       "      <th>worst perimeter</th>\n",
       "      <th>worst area</th>\n",
       "      <th>worst smoothness</th>\n",
       "      <th>worst compactness</th>\n",
       "      <th>worst concavity</th>\n",
       "      <th>worst concave points</th>\n",
       "      <th>worst symmetry</th>\n",
       "      <th>worst fractal dimension</th>\n",
       "    </tr>\n",
       "  </thead>\n",
       "  <tbody>\n",
       "    <tr>\n",
       "      <th>0</th>\n",
       "      <td>17.99</td>\n",
       "      <td>10.38</td>\n",
       "      <td>122.8</td>\n",
       "      <td>1001.0</td>\n",
       "      <td>0.11840</td>\n",
       "      <td>0.27760</td>\n",
       "      <td>0.3001</td>\n",
       "      <td>0.14710</td>\n",
       "      <td>0.2419</td>\n",
       "      <td>0.07871</td>\n",
       "      <td>...</td>\n",
       "      <td>25.38</td>\n",
       "      <td>17.33</td>\n",
       "      <td>184.6</td>\n",
       "      <td>2019.0</td>\n",
       "      <td>0.1622</td>\n",
       "      <td>0.6656</td>\n",
       "      <td>0.7119</td>\n",
       "      <td>0.2654</td>\n",
       "      <td>0.4601</td>\n",
       "      <td>0.11890</td>\n",
       "    </tr>\n",
       "    <tr>\n",
       "      <th>1</th>\n",
       "      <td>20.57</td>\n",
       "      <td>17.77</td>\n",
       "      <td>132.9</td>\n",
       "      <td>1326.0</td>\n",
       "      <td>0.08474</td>\n",
       "      <td>0.07864</td>\n",
       "      <td>0.0869</td>\n",
       "      <td>0.07017</td>\n",
       "      <td>0.1812</td>\n",
       "      <td>0.05667</td>\n",
       "      <td>...</td>\n",
       "      <td>24.99</td>\n",
       "      <td>23.41</td>\n",
       "      <td>158.8</td>\n",
       "      <td>1956.0</td>\n",
       "      <td>0.1238</td>\n",
       "      <td>0.1866</td>\n",
       "      <td>0.2416</td>\n",
       "      <td>0.1860</td>\n",
       "      <td>0.2750</td>\n",
       "      <td>0.08902</td>\n",
       "    </tr>\n",
       "    <tr>\n",
       "      <th>2</th>\n",
       "      <td>19.69</td>\n",
       "      <td>21.25</td>\n",
       "      <td>130.0</td>\n",
       "      <td>1203.0</td>\n",
       "      <td>0.10960</td>\n",
       "      <td>0.15990</td>\n",
       "      <td>0.1974</td>\n",
       "      <td>0.12790</td>\n",
       "      <td>0.2069</td>\n",
       "      <td>0.05999</td>\n",
       "      <td>...</td>\n",
       "      <td>23.57</td>\n",
       "      <td>25.53</td>\n",
       "      <td>152.5</td>\n",
       "      <td>1709.0</td>\n",
       "      <td>0.1444</td>\n",
       "      <td>0.4245</td>\n",
       "      <td>0.4504</td>\n",
       "      <td>0.2430</td>\n",
       "      <td>0.3613</td>\n",
       "      <td>0.08758</td>\n",
       "    </tr>\n",
       "  </tbody>\n",
       "</table>\n",
       "<p>3 rows × 30 columns</p>\n",
       "</div>"
      ],
      "text/plain": [
       "   mean radius  mean texture  mean perimeter  mean area  mean smoothness  \\\n",
       "0        17.99         10.38           122.8     1001.0          0.11840   \n",
       "1        20.57         17.77           132.9     1326.0          0.08474   \n",
       "2        19.69         21.25           130.0     1203.0          0.10960   \n",
       "\n",
       "   mean compactness  mean concavity  mean concave points  mean symmetry  \\\n",
       "0           0.27760          0.3001              0.14710         0.2419   \n",
       "1           0.07864          0.0869              0.07017         0.1812   \n",
       "2           0.15990          0.1974              0.12790         0.2069   \n",
       "\n",
       "   mean fractal dimension  ...  worst radius  worst texture  worst perimeter  \\\n",
       "0                 0.07871  ...         25.38          17.33            184.6   \n",
       "1                 0.05667  ...         24.99          23.41            158.8   \n",
       "2                 0.05999  ...         23.57          25.53            152.5   \n",
       "\n",
       "   worst area  worst smoothness  worst compactness  worst concavity  \\\n",
       "0      2019.0            0.1622             0.6656           0.7119   \n",
       "1      1956.0            0.1238             0.1866           0.2416   \n",
       "2      1709.0            0.1444             0.4245           0.4504   \n",
       "\n",
       "   worst concave points  worst symmetry  worst fractal dimension  \n",
       "0                0.2654          0.4601                  0.11890  \n",
       "1                0.1860          0.2750                  0.08902  \n",
       "2                0.2430          0.3613                  0.08758  \n",
       "\n",
       "[3 rows x 30 columns]"
      ]
     },
     "execution_count": 4,
     "metadata": {},
     "output_type": "execute_result"
    }
   ],
   "source": [
    "import pandas as pd\n",
    "\n",
    "from sklearn.ensemble import VotingClassifier\n",
    "from sklearn.linear_model import LogisticRegression\n",
    "from sklearn.neighbors import KNeighborsClassifier\n",
    "from sklearn.datasets import load_breast_cancer\n",
    "from sklearn.model_selection import train_test_split\n",
    "from sklearn.metrics import accuracy_score\n",
    "\n",
    "import warnings\n",
    "warnings.filterwarnings('ignore')\n",
    "\n",
    "cancer = load_breast_cancer()\n",
    "\n",
    "data_df = pd.DataFrame(cancer.data, columns=cancer.feature_names)\n",
    "data_df.head(3)"
   ]
  },
  {
   "cell_type": "code",
   "execution_count": 7,
   "metadata": {},
   "outputs": [
    {
     "name": "stdout",
     "output_type": "stream",
     "text": [
      "Voting 분류기 정확도: 0.9474\n",
      "LogisticRegression 정확도: 0.9386\n",
      "KNeighborsClassifier 정확도: 0.9386\n"
     ]
    }
   ],
   "source": [
    "# 소프트 보팅 방식으로 보팅 분류기 생성\n",
    "# estimators는 리스트 값, 보팅에 사용될 여러 개의 Classifier 객체들을 튜플 형식으로 입력 받음\n",
    "# voting은 'hard'는 하드 보팅, 'soft'는 소프트 보팅 방식 적용(default는 'hard')\n",
    "\n",
    "lr_clf = LogisticRegression()\n",
    "knn_clf = KNeighborsClassifier(n_neighbors=8)\n",
    "\n",
    "# 개별 모델을 소프트 보팅 기반의 앙상블 모델로 구현한 분류기\n",
    "vo_clf = VotingClassifier(estimators=[('LR', lr_clf), ('KNN', knn_clf)], voting='soft')\n",
    "\n",
    "X_train, X_test, y_train, y_test = train_test_split(cancer.data, cancer.target, test_size=0.2, random_state=156)\n",
    "\n",
    "# 학습/예측/평가\n",
    "vo_clf.fit(X_train, y_train)\n",
    "pred = vo_clf.predict(X_test)\n",
    "print('Voting 분류기 정확도: {0:.4f}'.format(accuracy_score(y_test, pred)))\n",
    "\n",
    "# 개별 모델의 학습/예측/평가\n",
    "classifiers = [lr_clf, knn_clf]\n",
    "for classifier in classifiers:\n",
    "    classifier.fit(X_train, y_train)\n",
    "    pred = classifier.predict(X_test)\n",
    "    classifier_name = classifier.__class__.__name__\n",
    "    print('{0} 정확도: {1:.4f}'.format(classifier_name, accuracy_score(pred, y_test)))"
   ]
  },
  {
   "cell_type": "markdown",
   "metadata": {},
   "source": [
    "* 무조건 보팅으로 여러 개의 기반 분류기를 결합한다고 해서 조건 기반 분류기보다 예측 성능이 향상되는 것은 아니다. 데이터의 특성과 분포 등 다양한 요건에 따라 다르다.\n",
    "* 그럼에도 불구하고 전반적으로 단일 ML 알고리즘보다 뛰어난 예측 성능을 가지는 경우가 많다. 현실 세계에서는 다양한 변수와 예측이 어려운 규칙으로 구성되기 때문에 다양한 관점의 알고리즘의 결합이 더 나은 성능을 끌어낼 수 있다."
   ]
  },
  {
   "cell_type": "markdown",
   "metadata": {},
   "source": [
    "## 2. 배깅(Bagging)\n",
    "대표적인 알고리즘 => **랜덤 포레스트**\n",
    "* 비교적 빠른 수행 속도와 다양한 영역에서 높은 예측 성능\n",
    "* 기반 알고리즘은 결정 트리로서, 결정 트리의 쉽고 직관적인 장점을 그대로 가지고 있다.\n",
    "* 여러 개의 결정 트리 분류기가 전체 데이터에서 배깅 방식으로 각자의 데이터를 샘플링해 개별적으로 학습을 수행한 뒤 최종적으로 모든 분류기가 보팅을 통해 예측 결정\n",
    "* 여러 개의 데이터 세트를 중첩되게 분리하는 것을 부트스트래핑(bootstrapping) 분할 방식이라고 한다.\n",
    "* 서브세트의 데이터 건수는 전체 데이터 건수와 동일하지만, 개별 데이터가 중첩되어 만들어진다.\n",
    "\n",
    "#### <사용자 행동 인식 데이터 세트 예측>"
   ]
  },
  {
   "cell_type": "code",
   "execution_count": 5,
   "metadata": {},
   "outputs": [],
   "source": [
    "# 전처리\n",
    "\n",
    "# 중복 피처명에 _1, _2를 추가해 새로운 피처명 부여하는 함수\n",
    "\n",
    "def get_new_feature_name_df(old_feature_name_df):\n",
    "    feature_dup_df = pd.DataFrame(data=old_feature_name_df.groupby('column_name').cumcount(), columns=['dup_cnt'])\n",
    "    feature_dup_df = feature_dup_df.reset_index()\n",
    "    new_feature_name_df = pd.merge(old_feature_name_df.reset_index(), feature_dup_df, how='outer')\n",
    "    new_feature_name_df['column_name'] = new_feature_name_df[['column_name','dup_cnt']].apply(lambda x: x[0]+'_'+str(x[1])\n",
    "                                                                                             if x[1]>0 else x[0], axis=1)\n",
    "    new_feature_name_df = new_feature_name_df.drop(['index'], axis=1)\n",
    "    return new_feature_name_df\n",
    "\n",
    "def get_human_dataset():\n",
    "    # 각 데이터 파일은 공백으로 분리되어 있음\n",
    "    feature_name_df = pd.read_csv('./data/human_activity/features.txt', sep='\\s+', header=None, names=['column_index','column_name'])\n",
    "    \n",
    "    # 중복된 피처명 수정\n",
    "    new_feature_name_df = get_new_feature_name_df(feature_name_df)\n",
    "    \n",
    "    # 피처명을 칼럼으로 부여하기 위해 리스트 객체로 다시 변환\n",
    "    feature_name = new_feature_name_df.iloc[:,1].values.tolist()\n",
    "    \n",
    "    # 학습 피처 데이터세트와 테스트 피처 데이터를 DataFrame으로 로딩\n",
    "    X_train = pd.read_csv('./data/human_activity/train/X_train.txt', sep='\\s+', names=feature_name)\n",
    "    X_test = pd.read_csv('./data/human_activity/test/X_test.txt', sep='\\s+', names=feature_name)\n",
    "    \n",
    "    # 학습 레이블과 테스트 레이블 데이터 로딩\n",
    "    y_train = pd.read_csv('./data/human_activity/train/y_train.txt', sep='\\s+', names=['actions'])\n",
    "    y_test = pd.read_csv('./data/human_activity/test/y_test.txt', sep='\\s+', names=['actions'])\n",
    "    \n",
    "    return X_train, X_test, y_train, y_test"
   ]
  },
  {
   "cell_type": "code",
   "execution_count": 12,
   "metadata": {},
   "outputs": [
    {
     "name": "stdout",
     "output_type": "stream",
     "text": [
      "랜덤 포레스트 정확도: 0.9253\n"
     ]
    }
   ],
   "source": [
    "from sklearn.ensemble import RandomForestClassifier\n",
    "from sklearn.metrics import accuracy_score\n",
    "import pandas as pd\n",
    "\n",
    "X_train, X_test, y_train, y_test = get_human_dataset()\n",
    "\n",
    "# 랜덤 포레스트 학습/예측/평가\n",
    "rf_clf = RandomForestClassifier(random_state=0)\n",
    "rf_clf.fit(X_train, y_train)\n",
    "pred = rf_clf.predict(X_test)\n",
    "accuracy = accuracy_score(y_test, pred)\n",
    "print('랜덤 포레스트 정확도: {0:.4f}'.format(accuracy))"
   ]
  },
  {
   "cell_type": "markdown",
   "metadata": {},
   "source": [
    "### 랜덤 포레스트 하이퍼 파라미터 및 튜닝\n",
    "* 트리 기반의 앙상블 알고리즘의 단점을 굳이 뽑자면 많은 하이퍼 파라미터, 그로 인해 튜닝이 오래 걸린다는 것이다. 또한, 튜닝 후에 예측 성능이 크게 향상되지 않는 경우가 많다.\n",
    "* **n_estimators**: 랜덤 포레스트에서 결정 트리의 개수를 지정, 디폴트는 10개, 많이 설정할수록 좋은 성능을 기대할 수 있지만 무조건 향상되는 것은 아님, 늘릴수록 학습 수행 시간이 오래 걸림.\n",
    "* **max_features**: 결정 트리의 max_features과 동일, 기본은 'auto'로 'sqrt'와 동일, 전체 피처가 아니라 sqrt(전체 피처 개수)만큼 참조\n",
    "* **max_depth나 min_samples_leaf**와 같이 결정 트리에서 과적합을 개선하기 위해 사용되는 파라미터도 적용 가능"
   ]
  },
  {
   "cell_type": "code",
   "execution_count": 14,
   "metadata": {},
   "outputs": [
    {
     "name": "stdout",
     "output_type": "stream",
     "text": [
      "최적 하이퍼 파라미터:\n",
      " {'max_depth': 10, 'min_samples_leaf': 8, 'min_samples_split': 8, 'n_estimators': 100}\n",
      "최고 예측 정확도: 0.9180\n"
     ]
    }
   ],
   "source": [
    "# GridSearchCV 이용해 랜덤 포레스트의 하이퍼 파라미터 튜닝\n",
    "\n",
    "# 랜덤 포레스트는 CPU 병렬 처리도 효과적으로 수행\n",
    "# 멀티 코어 환경에서는 n_jobs=-1 파라미터를 추가하면 모든 CPU 코어를 이용해 학습 가능\n",
    "from sklearn.model_selection import GridSearchCV\n",
    "\n",
    "params = {\n",
    "    'n_estimators':[100],\n",
    "    'max_depth':[6,8,10,12],\n",
    "    'min_samples_leaf':[8,12,18],\n",
    "    'min_samples_split':[8,16,20]\n",
    "}\n",
    "\n",
    "# RandomForestClassifer 객체 생성 후 GridSearchCV 수행\n",
    "rf_clf = RandomForestClassifier(random_state=0, n_jobs=-1)\n",
    "grid_cv = GridSearchCV(rf_clf, param_grid=params, cv=2, n_jobs=-1)\n",
    "grid_cv.fit(X_train, y_train)\n",
    "\n",
    "print('최적 하이퍼 파라미터:\\n', grid_cv.best_params_)\n",
    "print('최고 예측 정확도: {0:.4f}'.format(grid_cv.best_score_))"
   ]
  },
  {
   "cell_type": "code",
   "execution_count": 16,
   "metadata": {},
   "outputs": [
    {
     "name": "stdout",
     "output_type": "stream",
     "text": [
      "예측 정확도: 0.9165\n"
     ]
    }
   ],
   "source": [
    "# 하이퍼 파라미터 수정\n",
    "rf_clf1 = RandomForestClassifier(n_estimators=300, max_depth=10, min_samples_leaf=8, min_samples_split=8, random_state=0)\n",
    "rf_clf1.fit(X_train, y_train)\n",
    "pred = rf_clf1.predict(X_test)\n",
    "print('예측 정확도: {0:.4f}'.format(accuracy_score(y_test, pred)))"
   ]
  },
  {
   "cell_type": "code",
   "execution_count": 18,
   "metadata": {
    "scrolled": true
   },
   "outputs": [
    {
     "data": {
      "image/png": "[encoded data removed]",
      "text/plain": [
       "<Figure size 576x432 with 1 Axes>"
      ]
     },
     "metadata": {
      "needs_background": "light"
     },
     "output_type": "display_data"
    }
   ],
   "source": [
    "# 피처 중요도 시각화\n",
    "import matplotlib.pyplot as plt\n",
    "import seaborn as sns\n",
    "%matplotlib inline\n",
    "\n",
    "ftr_importances_values = rf_clf1.feature_importances_\n",
    "ftr_importances = pd.Series(ftr_importances_values, index=X_train.columns)\n",
    "ftr_top20 = ftr_importances.sort_values(ascending=False)[:20]\n",
    "\n",
    "plt.figure(figsize=(8,6))\n",
    "plt.title('Feature importances Top 20')\n",
    "sns.barplot(x=ftr_top20, y=ftr_top20.index)\n",
    "plt.show()"
   ]
  },
  {
   "cell_type": "markdown",
   "metadata": {},
   "source": [
    "## 3. 부스팅(Boosting)\n",
    "여러 개의 약한 학습기(weak learner)를 순차적으로 학습-예측하면서 잘못 예측한 데이터에 가중치 부여를 통해 오류를 개선해 나가면서 학습하는 방식\n",
    "\n",
    "대표적인 구현 => **AdaBoost(Adaptive boosting), 그래디언트 부스트(Gradient Boost)**\n",
    "\n",
    "에이다부스트는 오류 데이터에 가중치를 부여하면서 부스팅하는 대표적인 알고리즘, GBM(Gradient Boost Machine)도 유사하나 가중치 업데이트를 경사 하강법(Gradient Descent)을 이용하는 것이 차이점이다.\n",
    "\n",
    "GBM은 CART 기반의 다른 알고리즘과 마찬가지로 분류와 회귀 가능"
   ]
  },
  {
   "cell_type": "code",
   "execution_count": 6,
   "metadata": {},
   "outputs": [
    {
     "name": "stdout",
     "output_type": "stream",
     "text": [
      "GBM 정확도: 0.9382\n",
      "GBM 수행 시간: 771.5초\n"
     ]
    }
   ],
   "source": [
    "from sklearn.ensemble import GradientBoostingClassifier\n",
    "import time\n",
    "import warnings\n",
    "warnings.filterwarnings('ignore')\n",
    "\n",
    "X_train, X_test, y_train, y_test = get_human_dataset()\n",
    "\n",
    "# 시작 시간\n",
    "start_time = time.time()\n",
    "\n",
    "gb_clf = GradientBoostingClassifier(random_state=0)\n",
    "gb_clf.fit(X_train, y_train)\n",
    "gb_pred = gb_clf.predict(X_test)\n",
    "gb_accuracy = accuracy_score(y_test, gb_pred)\n",
    "\n",
    "print('GBM 정확도: {0:.4f}'.format(gb_accuracy))\n",
    "print('GBM 수행 시간: {0:.1f}초'.format(time.time() - start_time))"
   ]
  },
  {
   "cell_type": "markdown",
   "metadata": {},
   "source": [
    "### GBM 하이퍼 파라미터 및 튜닝\n",
    "* loss: 경사 하강법에서 사용할 비용 함수 지정, 주로 기본값인 'deviance' 적용\n",
    "* learning_rate: 학습을 진행할 때마다 적용하는 학습률, 순차적으로 오류값을 보정해 나가는 데 적용하는 계수, 0~1 사이의 값을 지정하고 기본 값은 0.1, 작은 값은 예측 성능이 높아질 가능성이 높지만 수행 시간이 오래 걸리고, 큰 값은 예측 성능이 떨어질 가능성이 높지만 빠른 수행 가능, 그래서 n_estimators와 상호 보완적으로 조합해 사용(learning_rate를 작게 하고 n_estimators를 크게 하면 더 이상 성능이 좋아지지 않는 한계점까지 예측 성능이 조금씩 좋아질 수 있으나 수행 시간이 너무 오래 걸리는 단점이 있고 성능이 현격히 좋아지지는 않는다.\n",
    "* n_estimators: weak learner의 개수, 개수가 많을수록 예측 성능이 일정 수준까지 좋아질 수 있으나 수행 시간이 오래 걸린다. 기본값은 100이다.\n",
    "* subsample: weak learner가 학습에 사용하는 데이터 샘플링 비율, 기본값은 1이며 전체 학습 데이터를 기반으로 학습한다는 의미, 과적합이 염려되는 경우 1보다 작은 값으로 설정"
   ]
  },
  {
   "cell_type": "code",
   "execution_count": 8,
   "metadata": {},
   "outputs": [
    {
     "name": "stdout",
     "output_type": "stream",
     "text": [
      "Fitting 2 folds for each of 4 candidates, totalling 8 fits\n"
     ]
    },
    {
     "name": "stderr",
     "output_type": "stream",
     "text": [
      "[Parallel(n_jobs=1)]: Using backend SequentialBackend with 1 concurrent workers.\n",
      "[Parallel(n_jobs=1)]: Done   8 out of   8 | elapsed: 73.4min finished\n"
     ]
    },
    {
     "name": "stdout",
     "output_type": "stream",
     "text": [
      "최적 하이퍼 파라미터:\n",
      " {'learning_rate': 0.05, 'n_estimators': 500}\n",
      "최고 예측 정확도: 0.9013\n"
     ]
    }
   ],
   "source": [
    "from sklearn.model_selection import GridSearchCV\n",
    "\n",
    "params={\n",
    "    'n_estimators':[100,500],\n",
    "    'learning_rate':[0.05, 0.1]\n",
    "}\n",
    "grid_cv = GridSearchCV(gb_clf, param_grid=params, cv=2, verbose=1)\n",
    "grid_cv.fit(X_train, y_train)\n",
    "print('최적 하이퍼 파라미터:\\n', grid_cv.best_params_)\n",
    "print('최고 예측 정확도: {0:.4f}'.format(grid_cv.best_score_))"
   ]
  },
  {
   "cell_type": "code",
   "execution_count": 9,
   "metadata": {},
   "outputs": [
    {
     "name": "stdout",
     "output_type": "stream",
     "text": [
      "GBM 정확도: 0.9396\n"
     ]
    }
   ],
   "source": [
    "# GridSearchCV를 이용해 최적으로 학습된 estimator로 예측 수행\n",
    "gb_pred = grid_cv.best_estimator_.predict(X_test)\n",
    "gb_accuracy = accuracy_score(y_test, gb_pred)\n",
    "print('GBM 정확도: {0:.4f}'.format(gb_accuracy))"
   ]
  },
  {
   "cell_type": "markdown",
   "metadata": {},
   "source": [
    "## XGBoost(eXtra Gradient Boost)\n",
    "* XGBoost와 LightBGM은 그래디언트 부스팅 기반 ML 패키지\n",
    "* XGBoost는 트리 기반의 앙상블 학습에서 가장 각광받고 있는 알고리즘 중 하나\n",
    "* 분류에 있어 다른 머신러닝보다 뛰어난 예측 성능을 나타낸다.\n",
    "* GBM에 기반하지만 GBM의 단점인 느린 수행 시간 및 과적합 규제 부재 등의 문제를 해결\n",
    "* 병렬 CPU 환경에서 병렬 학습이 가능해 기존 GBM보다 빠르게 학습 완료\n",
    "* Tree pruning(나무 가지치기)로 더 이상 긍정 이득이 없는 분할을 가지치기해서 분할 수를 더 줄이는 장점이 있다.\n",
    "* 자체 내장된 교차 검증이 있고 조기 중단 기능도 있다.\n",
    "* 결손값 자체 처리하는 기능을 가지고 있다.\n",
    "* XGBoost 프레임워크 기반의 XGBoost(파이썬 래퍼 XGBoost 모듈), 사이킷런과 연동되는 모듈(사이킷런 래퍼 XGBoost 모듈)이 있다."
   ]
  },
  {
   "cell_type": "code",
   "execution_count": 10,
   "metadata": {},
   "outputs": [],
   "source": [
    "import xgboost as xgb\n",
    "from xgboost import XGBClassifier"
   ]
  },
  {
   "cell_type": "markdown",
   "metadata": {},
   "source": [
    "### 파이썬 래퍼 XGBoost 하이퍼 파라미터\n",
    "파이썬 래퍼 XGBoost 모듈과 사이킷런 래퍼 XGBoost 모듈의 일부 하이퍼 파라미터는 약간 다르므로 주의가 필요\n",
    "\n",
    "#### 일반 파라미터: 디폴트 파라미터 값 주로 사용\n",
    "* booster: gbtree(tree based model) 또는 gblinear(linear model) 선택, 디폴트는 gbtree\n",
    "* silent: 디폴트는 0, 출력 메시지를 나타내고 싶지 않을 경우 1\n",
    "* nthread: CPU의 실행 스레드 개수 조정, 디폴트는 CPU의 전체 스레드 다 사용\n",
    "\n",
    "#### 부스터 파라미터: 트리 최적화, 부스팅, regularization 등\n",
    "* eta[default=0.3, alias: learning_rate]: GBM의 학습률(learning rate)과 같은 파라미터, 0과 1사이의 값 지정, 부스팅 스텝을 반복적으로 수행할 때 업데이트되는 학습률 값\n",
    "* num_boost_rounds: GBM의 n_estimators와 같은 파라미터\n",
    "* min_child_weight[default=1]: 트리에서 추가적으로 가지를 나눌지를 결정하기 위해 필요한 데이터들의 weight 총합, 클수록 분할을 자제, 과적합 조절 위해 사용\n",
    "* gamma[default=0, alias: min_split_loss]: 트리의 리프 노드를 추가적으로 나눌지를 결정할 최소 손실 감소 값, 해당 값보다 큰 손실(loss)이 감소된 경우에 리프 노드 분리, 값이 클수록 과적합 감소 효과\n",
    "* max_depth[default=6]: 트리 기반 알고리즘의 max_depth와 같다. 0은 깊이에 제한 없음, 값이 높으면 특정 피처 조건에 특화되어 과적합 가능성이 높아짐, 보통은 3~10 사이의 값 적용\n",
    "* sub_sample[default=1]: GBM의 subsample과 동일, 트리가 커져서 과적합되는 것을 제어하기 위해 데이터를 샘플링하는 비율 지정, 0.5이면 전체 데이터의 절반을 트리 생성하는데 사용, 0~1 사이의 값이 가능하나 일반적으로 0.5~1 사이의 값 사용\n",
    "* colsample_bytree[default=1]: GBM의 max_features와 유사, 트리 생성에 필요한 피처(칼럼)를 임의로 샘플링하는 데 사용, 매우 많은 피처가 있는 경우 과적합 조정하는데 사용\n",
    "* lambda[default=1, alias=reg_lambda]: L2 Regularization 적용 값, 피처 개수가 많을 경우 적용을 검토하며 값이 클수록 과적합 감소 효과가 있다.\n",
    "* alpha[default=0, alias=reg_alpha]: L1 Regularization 적용 값, 피처 개수가 많을 경우 적용을 검토하며 값이 클수록 과적합 감소 효과\n",
    "* scale_pos_weight[default=1]:특정 값으로 치우친 비대칭한 클래스로 구성된 데이터 세트의 균형을 유지하기 위한 파라미터\n",
    "\n",
    "#### 학습 태스크 파라미터: 학습 수행 시의 객체 함수, 평가를 위한 지표 등 설정\n",
    "* objective: 최솟값을 가져야 할 손실 함수 정의, XGBoost는 많은 유형의 손실 함수 사용, 이진 분류인지 다중 분류인지에 따라 결정\n",
    "* binary:logistic: 이진 분류일 때 적용\n",
    "* multi:softmax: 다중 분류일 때 적용, 손실함수가 multi:softmax일 경우에는 레이블 클래스의 개수인 num_class 파라미터 지정\n",
    "* multi:softprob: multi:softmax와 유사하나 개별 레이블 클래스의 해당되는 예측 확률 반환\n",
    "* eval_metric: 검증에 사용되는 함수 정의, 기본값은 회귀인 경우 rmse, 분류일 경우 error\n",
    "    * rmse: Root Mean Square Error\n",
    "    * mae: Mean Absolute Error\n",
    "    * logloss: Negative log-likelihood\n",
    "    * error: Binary classification error rate (0.5 threshold)\n",
    "    * merror: Multiclass classification error rate\n",
    "    * mlogloss: Multiclass logloss\n",
    "    * auc: Area under the curve\n",
    "\n",
    "*뛰어난 알고리즘일수록 파라미터를 튜닝할 필요가 적다. 파라미터 튜닝에 들이는 공수 대비 성능 향상 효과가 높지 않은 경우가 대부분*\n",
    "\n",
    "\n",
    "*과적합 문제가 심각하다면*\n",
    "* eta 값을 낮춘다(0.01~0.1), eta 값을 낮출 경우 num_round(또는 n_estimators)는 반대로 높여줘야 한다.\n",
    "* max_depth 값을 낮춘다.\n",
    "* min_child_weight 값을 높인다.\n",
    "* gamma 값을 높인다.\n",
    "* subsample과 colsample_bytree를 조정한다."
   ]
  },
  {
   "cell_type": "code",
   "execution_count": 1,
   "metadata": {},
   "outputs": [
    {
     "name": "stderr",
     "output_type": "stream",
     "text": [
      "C:\\Users\\A\\anaconda3\\lib\\site-packages\\numpy\\_distributor_init.py:32: UserWarning: loaded more than 1 DLL from .libs:\n",
      "C:\\Users\\A\\anaconda3\\lib\\site-packages\\numpy\\.libs\\libopenblas.GK7GX5KEQ4F6UYO3P26ULGBQYHGQO7J4.gfortran-win_amd64.dll\n",
      "C:\\Users\\A\\anaconda3\\lib\\site-packages\\numpy\\.libs\\libopenblas.TXA6YQSD3GCQQC22GEQ54J2UDCXDXHWN.gfortran-win_amd64.dll\n",
      "  stacklevel=1)\n"
     ]
    },
    {
     "name": "stdout",
     "output_type": "stream",
     "text": [
      "0.90\n"
     ]
    }
   ],
   "source": [
    "import xgboost\n",
    "print(xgboost.__version__)"
   ]
  },
  {
   "cell_type": "markdown",
   "metadata": {},
   "source": [
    "### 파이썬 래퍼 XGBoost 적용 - 위스콘신 유방암 예측"
   ]
  },
  {
   "cell_type": "code",
   "execution_count": 2,
   "metadata": {},
   "outputs": [
    {
     "data": {
      "text/html": [
       "<div>\n",
       "<style scoped>\n",
       "    .dataframe tbody tr th:only-of-type {\n",
       "        vertical-align: middle;\n",
       "    }\n",
       "\n",
       "    .dataframe tbody tr th {\n",
       "        vertical-align: top;\n",
       "    }\n",
       "\n",
       "    .dataframe thead th {\n",
       "        text-align: right;\n",
       "    }\n",
       "</style>\n",
       "<table border=\"1\" class=\"dataframe\">\n",
       "  <thead>\n",
       "    <tr style=\"text-align: right;\">\n",
       "      <th></th>\n",
       "      <th>mean radius</th>\n",
       "      <th>mean texture</th>\n",
       "      <th>mean perimeter</th>\n",
       "      <th>mean area</th>\n",
       "      <th>mean smoothness</th>\n",
       "      <th>mean compactness</th>\n",
       "      <th>mean concavity</th>\n",
       "      <th>mean concave points</th>\n",
       "      <th>mean symmetry</th>\n",
       "      <th>mean fractal dimension</th>\n",
       "      <th>...</th>\n",
       "      <th>worst texture</th>\n",
       "      <th>worst perimeter</th>\n",
       "      <th>worst area</th>\n",
       "      <th>worst smoothness</th>\n",
       "      <th>worst compactness</th>\n",
       "      <th>worst concavity</th>\n",
       "      <th>worst concave points</th>\n",
       "      <th>worst symmetry</th>\n",
       "      <th>worst fractal dimension</th>\n",
       "      <th>target</th>\n",
       "    </tr>\n",
       "  </thead>\n",
       "  <tbody>\n",
       "    <tr>\n",
       "      <th>0</th>\n",
       "      <td>17.99</td>\n",
       "      <td>10.38</td>\n",
       "      <td>122.8</td>\n",
       "      <td>1001.0</td>\n",
       "      <td>0.11840</td>\n",
       "      <td>0.27760</td>\n",
       "      <td>0.3001</td>\n",
       "      <td>0.14710</td>\n",
       "      <td>0.2419</td>\n",
       "      <td>0.07871</td>\n",
       "      <td>...</td>\n",
       "      <td>17.33</td>\n",
       "      <td>184.6</td>\n",
       "      <td>2019.0</td>\n",
       "      <td>0.1622</td>\n",
       "      <td>0.6656</td>\n",
       "      <td>0.7119</td>\n",
       "      <td>0.2654</td>\n",
       "      <td>0.4601</td>\n",
       "      <td>0.11890</td>\n",
       "      <td>0</td>\n",
       "    </tr>\n",
       "    <tr>\n",
       "      <th>1</th>\n",
       "      <td>20.57</td>\n",
       "      <td>17.77</td>\n",
       "      <td>132.9</td>\n",
       "      <td>1326.0</td>\n",
       "      <td>0.08474</td>\n",
       "      <td>0.07864</td>\n",
       "      <td>0.0869</td>\n",
       "      <td>0.07017</td>\n",
       "      <td>0.1812</td>\n",
       "      <td>0.05667</td>\n",
       "      <td>...</td>\n",
       "      <td>23.41</td>\n",
       "      <td>158.8</td>\n",
       "      <td>1956.0</td>\n",
       "      <td>0.1238</td>\n",
       "      <td>0.1866</td>\n",
       "      <td>0.2416</td>\n",
       "      <td>0.1860</td>\n",
       "      <td>0.2750</td>\n",
       "      <td>0.08902</td>\n",
       "      <td>0</td>\n",
       "    </tr>\n",
       "    <tr>\n",
       "      <th>2</th>\n",
       "      <td>19.69</td>\n",
       "      <td>21.25</td>\n",
       "      <td>130.0</td>\n",
       "      <td>1203.0</td>\n",
       "      <td>0.10960</td>\n",
       "      <td>0.15990</td>\n",
       "      <td>0.1974</td>\n",
       "      <td>0.12790</td>\n",
       "      <td>0.2069</td>\n",
       "      <td>0.05999</td>\n",
       "      <td>...</td>\n",
       "      <td>25.53</td>\n",
       "      <td>152.5</td>\n",
       "      <td>1709.0</td>\n",
       "      <td>0.1444</td>\n",
       "      <td>0.4245</td>\n",
       "      <td>0.4504</td>\n",
       "      <td>0.2430</td>\n",
       "      <td>0.3613</td>\n",
       "      <td>0.08758</td>\n",
       "      <td>0</td>\n",
       "    </tr>\n",
       "  </tbody>\n",
       "</table>\n",
       "<p>3 rows × 31 columns</p>\n",
       "</div>"
      ],
      "text/plain": [
       "   mean radius  mean texture  mean perimeter  mean area  mean smoothness  \\\n",
       "0        17.99         10.38           122.8     1001.0          0.11840   \n",
       "1        20.57         17.77           132.9     1326.0          0.08474   \n",
       "2        19.69         21.25           130.0     1203.0          0.10960   \n",
       "\n",
       "   mean compactness  mean concavity  mean concave points  mean symmetry  \\\n",
       "0           0.27760          0.3001              0.14710         0.2419   \n",
       "1           0.07864          0.0869              0.07017         0.1812   \n",
       "2           0.15990          0.1974              0.12790         0.2069   \n",
       "\n",
       "   mean fractal dimension  ...  worst texture  worst perimeter  worst area  \\\n",
       "0                 0.07871  ...          17.33            184.6      2019.0   \n",
       "1                 0.05667  ...          23.41            158.8      1956.0   \n",
       "2                 0.05999  ...          25.53            152.5      1709.0   \n",
       "\n",
       "   worst smoothness  worst compactness  worst concavity  worst concave points  \\\n",
       "0            0.1622             0.6656           0.7119                0.2654   \n",
       "1            0.1238             0.1866           0.2416                0.1860   \n",
       "2            0.1444             0.4245           0.4504                0.2430   \n",
       "\n",
       "   worst symmetry  worst fractal dimension  target  \n",
       "0          0.4601                  0.11890       0  \n",
       "1          0.2750                  0.08902       0  \n",
       "2          0.3613                  0.08758       0  \n",
       "\n",
       "[3 rows x 31 columns]"
      ]
     },
     "execution_count": 2,
     "metadata": {},
     "output_type": "execute_result"
    }
   ],
   "source": [
    "import xgboost as xgb\n",
    "from xgboost import plot_importance\n",
    "import pandas as pd\n",
    "import numpy as np\n",
    "from sklearn.datasets import load_breast_cancer\n",
    "from sklearn.model_selection import train_test_split\n",
    "import warnings\n",
    "warnings.filterwarnings('ignore')\n",
    "\n",
    "dataset = load_breast_cancer()\n",
    "X_features = dataset.data\n",
    "y_label = dataset.target\n",
    "\n",
    "cancer_df = pd.DataFrame(data=X_features, columns=dataset.feature_names)\n",
    "cancer_df['target'] = y_label\n",
    "cancer_df.head(3)"
   ]
  },
  {
   "cell_type": "code",
   "execution_count": 4,
   "metadata": {},
   "outputs": [
    {
     "name": "stdout",
     "output_type": "stream",
     "text": [
      "['malignant' 'benign']\n",
      "1    357\n",
      "0    212\n",
      "Name: target, dtype: int64\n"
     ]
    }
   ],
   "source": [
    "print(dataset.target_names)\n",
    "print(cancer_df['target'].value_counts())"
   ]
  },
  {
   "cell_type": "code",
   "execution_count": 5,
   "metadata": {},
   "outputs": [
    {
     "name": "stdout",
     "output_type": "stream",
     "text": [
      "(455, 30) (114, 30)\n"
     ]
    }
   ],
   "source": [
    "X_train, X_test, y_train, y_test = train_test_split(X_features, y_label, test_size=0.2, random_state=156)\n",
    "print(X_train.shape, X_test.shape)"
   ]
  },
  {
   "cell_type": "code",
   "execution_count": 6,
   "metadata": {},
   "outputs": [],
   "source": [
    "# 파이썬 래퍼 XGBoost는! 학습용과 데스트용 데이터 세트를 위해 별도의 객체인 DMatrix 생성!\n",
    "# 판다스의 DataFrame으로 데이터 인터페이스를 하기 위해서는 DataFrame.values를 이용해 넘파이로 일차 변환한 뒤 DMatrix 변환\n",
    "dtrain = xgb.DMatrix(data=X_train, label=y_train)\n",
    "dtest = xgb.DMatrix(data=X_test, label=y_test)"
   ]
  },
  {
   "cell_type": "code",
   "execution_count": 7,
   "metadata": {},
   "outputs": [],
   "source": [
    "# 하이퍼 파라미터 설정\n",
    "\n",
    "params = {'max_depth':3,\n",
    "          'eta':0.1,\n",
    "          'objective':'binary:logistic',\n",
    "          'eval_metric':'logloss',\n",
    "          'early_stoppings':100\n",
    "}\n",
    "num_rounds=400"
   ]
  },
  {
   "cell_type": "code",
   "execution_count": 8,
   "metadata": {},
   "outputs": [
    {
     "name": "stdout",
     "output_type": "stream",
     "text": [
      "[0]\ttrain-logloss:0.609688\teval-logloss:0.61352\n",
      "Multiple eval metrics have been passed: 'eval-logloss' will be used for early stopping.\n",
      "\n",
      "Will train until eval-logloss hasn't improved in 100 rounds.\n",
      "[1]\ttrain-logloss:0.540803\teval-logloss:0.547842\n",
      "[2]\ttrain-logloss:0.483753\teval-logloss:0.494247\n",
      "[3]\ttrain-logloss:0.434457\teval-logloss:0.447986\n",
      "[4]\ttrain-logloss:0.39055\teval-logloss:0.409109\n",
      "[5]\ttrain-logloss:0.354145\teval-logloss:0.374977\n",
      "[6]\ttrain-logloss:0.321222\teval-logloss:0.345714\n",
      "[7]\ttrain-logloss:0.292593\teval-logloss:0.320529\n",
      "[8]\ttrain-logloss:0.267467\teval-logloss:0.29721\n",
      "[9]\ttrain-logloss:0.245153\teval-logloss:0.277991\n",
      "[10]\ttrain-logloss:0.225694\teval-logloss:0.260302\n",
      "[11]\ttrain-logloss:0.207937\teval-logloss:0.246037\n",
      "[12]\ttrain-logloss:0.192184\teval-logloss:0.231556\n",
      "[13]\ttrain-logloss:0.177916\teval-logloss:0.22005\n",
      "[14]\ttrain-logloss:0.165222\teval-logloss:0.208572\n",
      "[15]\ttrain-logloss:0.153622\teval-logloss:0.199993\n",
      "[16]\ttrain-logloss:0.14333\teval-logloss:0.190118\n",
      "[17]\ttrain-logloss:0.133985\teval-logloss:0.181818\n",
      "[18]\ttrain-logloss:0.125599\teval-logloss:0.174729\n",
      "[19]\ttrain-logloss:0.117286\teval-logloss:0.167657\n",
      "[20]\ttrain-logloss:0.109688\teval-logloss:0.158202\n",
      "[21]\ttrain-logloss:0.102975\teval-logloss:0.154725\n",
      "[22]\ttrain-logloss:0.097067\teval-logloss:0.148947\n",
      "[23]\ttrain-logloss:0.091428\teval-logloss:0.143308\n",
      "[24]\ttrain-logloss:0.086335\teval-logloss:0.136344\n",
      "[25]\ttrain-logloss:0.081311\teval-logloss:0.132778\n",
      "[26]\ttrain-logloss:0.076857\teval-logloss:0.127912\n",
      "[27]\ttrain-logloss:0.072836\teval-logloss:0.125263\n",
      "[28]\ttrain-logloss:0.069248\teval-logloss:0.119978\n",
      "[29]\ttrain-logloss:0.065549\teval-logloss:0.116412\n",
      "[30]\ttrain-logloss:0.062414\teval-logloss:0.114502\n",
      "[31]\ttrain-logloss:0.059591\teval-logloss:0.112572\n",
      "[32]\ttrain-logloss:0.057096\teval-logloss:0.11154\n",
      "[33]\ttrain-logloss:0.054407\teval-logloss:0.108681\n",
      "[34]\ttrain-logloss:0.052036\teval-logloss:0.106681\n",
      "[35]\ttrain-logloss:0.049751\teval-logloss:0.104207\n",
      "[36]\ttrain-logloss:0.04775\teval-logloss:0.102962\n",
      "[37]\ttrain-logloss:0.045853\teval-logloss:0.100576\n",
      "[38]\ttrain-logloss:0.044015\teval-logloss:0.098683\n",
      "[39]\ttrain-logloss:0.042263\teval-logloss:0.096444\n",
      "[40]\ttrain-logloss:0.040649\teval-logloss:0.095869\n",
      "[41]\ttrain-logloss:0.039126\teval-logloss:0.094242\n",
      "[42]\ttrain-logloss:0.037377\teval-logloss:0.094715\n",
      "[43]\ttrain-logloss:0.036106\teval-logloss:0.094272\n",
      "[44]\ttrain-logloss:0.034941\teval-logloss:0.093894\n",
      "[45]\ttrain-logloss:0.033654\teval-logloss:0.094184\n",
      "[46]\ttrain-logloss:0.032528\teval-logloss:0.09402\n",
      "[47]\ttrain-logloss:0.031485\teval-logloss:0.09236\n",
      "[48]\ttrain-logloss:0.030389\teval-logloss:0.093012\n",
      "[49]\ttrain-logloss:0.029467\teval-logloss:0.091273\n",
      "[50]\ttrain-logloss:0.028545\teval-logloss:0.090051\n",
      "[51]\ttrain-logloss:0.027525\teval-logloss:0.089605\n",
      "[52]\ttrain-logloss:0.026555\teval-logloss:0.089577\n",
      "[53]\ttrain-logloss:0.025682\teval-logloss:0.090703\n",
      "[54]\ttrain-logloss:0.025004\teval-logloss:0.089579\n",
      "[55]\ttrain-logloss:0.024297\teval-logloss:0.090357\n",
      "[56]\ttrain-logloss:0.023574\teval-logloss:0.091587\n",
      "[57]\ttrain-logloss:0.022965\teval-logloss:0.091527\n",
      "[58]\ttrain-logloss:0.022488\teval-logloss:0.091986\n",
      "[59]\ttrain-logloss:0.021854\teval-logloss:0.091951\n",
      "[60]\ttrain-logloss:0.021316\teval-logloss:0.091939\n",
      "[61]\ttrain-logloss:0.020794\teval-logloss:0.091461\n",
      "[62]\ttrain-logloss:0.020218\teval-logloss:0.090311\n",
      "[63]\ttrain-logloss:0.019701\teval-logloss:0.089407\n",
      "[64]\ttrain-logloss:0.01918\teval-logloss:0.089719\n",
      "[65]\ttrain-logloss:0.018724\teval-logloss:0.089743\n",
      "[66]\ttrain-logloss:0.018325\teval-logloss:0.089622\n",
      "[67]\ttrain-logloss:0.017867\teval-logloss:0.088734\n",
      "[68]\ttrain-logloss:0.017598\teval-logloss:0.088621\n",
      "[69]\ttrain-logloss:0.017243\teval-logloss:0.089739\n",
      "[70]\ttrain-logloss:0.01688\teval-logloss:0.089981\n",
      "[71]\ttrain-logloss:0.016641\teval-logloss:0.089782\n",
      "[72]\ttrain-logloss:0.016287\teval-logloss:0.089584\n",
      "[73]\ttrain-logloss:0.015983\teval-logloss:0.089533\n",
      "[74]\ttrain-logloss:0.015658\teval-logloss:0.088748\n",
      "[75]\ttrain-logloss:0.015393\teval-logloss:0.088597\n",
      "[76]\ttrain-logloss:0.015151\teval-logloss:0.08812\n",
      "[77]\ttrain-logloss:0.01488\teval-logloss:0.088396\n",
      "[78]\ttrain-logloss:0.014637\teval-logloss:0.088736\n",
      "[79]\ttrain-logloss:0.014491\teval-logloss:0.088153\n",
      "[80]\ttrain-logloss:0.014185\teval-logloss:0.087577\n",
      "[81]\ttrain-logloss:0.014005\teval-logloss:0.087412\n",
      "[82]\ttrain-logloss:0.013772\teval-logloss:0.08849\n",
      "[83]\ttrain-logloss:0.013568\teval-logloss:0.088575\n",
      "[84]\ttrain-logloss:0.013414\teval-logloss:0.08807\n",
      "[85]\ttrain-logloss:0.013253\teval-logloss:0.087641\n",
      "[86]\ttrain-logloss:0.013109\teval-logloss:0.087416\n",
      "[87]\ttrain-logloss:0.012926\teval-logloss:0.087611\n",
      "[88]\ttrain-logloss:0.012714\teval-logloss:0.087065\n",
      "[89]\ttrain-logloss:0.012544\teval-logloss:0.08727\n",
      "[90]\ttrain-logloss:0.012353\teval-logloss:0.087161\n",
      "[91]\ttrain-logloss:0.012226\teval-logloss:0.086962\n",
      "[92]\ttrain-logloss:0.012065\teval-logloss:0.087166\n",
      "[93]\ttrain-logloss:0.011927\teval-logloss:0.087067\n",
      "[94]\ttrain-logloss:0.011821\teval-logloss:0.086592\n",
      "[95]\ttrain-logloss:0.011649\teval-logloss:0.086116\n",
      "[96]\ttrain-logloss:0.011482\teval-logloss:0.087139\n",
      "[97]\ttrain-logloss:0.01136\teval-logloss:0.086768\n",
      "[98]\ttrain-logloss:0.011239\teval-logloss:0.086694\n",
      "[99]\ttrain-logloss:0.011132\teval-logloss:0.086547\n",
      "[100]\ttrain-logloss:0.011002\teval-logloss:0.086498\n",
      "[101]\ttrain-logloss:0.010852\teval-logloss:0.08641\n",
      "[102]\ttrain-logloss:0.010755\teval-logloss:0.086288\n",
      "[103]\ttrain-logloss:0.010636\teval-logloss:0.086258\n",
      "[104]\ttrain-logloss:0.0105\teval-logloss:0.086835\n",
      "[105]\ttrain-logloss:0.010395\teval-logloss:0.086767\n",
      "[106]\ttrain-logloss:0.010305\teval-logloss:0.087321\n",
      "[107]\ttrain-logloss:0.010197\teval-logloss:0.087304\n",
      "[108]\ttrain-logloss:0.010072\teval-logloss:0.08728\n",
      "[109]\ttrain-logloss:0.01\teval-logloss:0.087298\n",
      "[110]\ttrain-logloss:0.009914\teval-logloss:0.087289\n",
      "[111]\ttrain-logloss:0.009798\teval-logloss:0.088002\n",
      "[112]\ttrain-logloss:0.00971\teval-logloss:0.087936\n",
      "[113]\ttrain-logloss:0.009628\teval-logloss:0.087843\n",
      "[114]\ttrain-logloss:0.009558\teval-logloss:0.088066\n",
      "[115]\ttrain-logloss:0.009483\teval-logloss:0.087649\n",
      "[116]\ttrain-logloss:0.009416\teval-logloss:0.087298\n",
      "[117]\ttrain-logloss:0.009306\teval-logloss:0.087799\n",
      "[118]\ttrain-logloss:0.009228\teval-logloss:0.087751\n",
      "[119]\ttrain-logloss:0.009154\teval-logloss:0.08768\n",
      "[120]\ttrain-logloss:0.009118\teval-logloss:0.087626\n",
      "[121]\ttrain-logloss:0.009016\teval-logloss:0.08757\n",
      "[122]\ttrain-logloss:0.008972\teval-logloss:0.087547\n",
      "[123]\ttrain-logloss:0.008904\teval-logloss:0.087156\n",
      "[124]\ttrain-logloss:0.008837\teval-logloss:0.08767\n",
      "[125]\ttrain-logloss:0.008803\teval-logloss:0.087737\n",
      "[126]\ttrain-logloss:0.008709\teval-logloss:0.088275\n",
      "[127]\ttrain-logloss:0.008645\teval-logloss:0.088309\n",
      "[128]\ttrain-logloss:0.008613\teval-logloss:0.088266\n",
      "[129]\ttrain-logloss:0.008555\teval-logloss:0.087886\n",
      "[130]\ttrain-logloss:0.008463\teval-logloss:0.088861\n",
      "[131]\ttrain-logloss:0.008416\teval-logloss:0.088675\n",
      "[132]\ttrain-logloss:0.008385\teval-logloss:0.088743\n",
      "[133]\ttrain-logloss:0.0083\teval-logloss:0.089218\n",
      "[134]\ttrain-logloss:0.00827\teval-logloss:0.089179\n",
      "[135]\ttrain-logloss:0.008218\teval-logloss:0.088821\n",
      "[136]\ttrain-logloss:0.008157\teval-logloss:0.088512\n",
      "[137]\ttrain-logloss:0.008076\teval-logloss:0.08848\n",
      "[138]\ttrain-logloss:0.008047\teval-logloss:0.088386\n",
      "[139]\ttrain-logloss:0.007973\teval-logloss:0.089145\n",
      "[140]\ttrain-logloss:0.007946\teval-logloss:0.08911\n",
      "[141]\ttrain-logloss:0.007898\teval-logloss:0.088765\n",
      "[142]\ttrain-logloss:0.007872\teval-logloss:0.088678\n",
      "[143]\ttrain-logloss:0.007847\teval-logloss:0.088389\n",
      "[144]\ttrain-logloss:0.007776\teval-logloss:0.089271\n",
      "[145]\ttrain-logloss:0.007752\teval-logloss:0.089238\n",
      "[146]\ttrain-logloss:0.007728\teval-logloss:0.089139\n",
      "[147]\ttrain-logloss:0.007689\teval-logloss:0.088907\n",
      "[148]\ttrain-logloss:0.007621\teval-logloss:0.089416\n",
      "[149]\ttrain-logloss:0.007598\teval-logloss:0.089388\n",
      "[150]\ttrain-logloss:0.007575\teval-logloss:0.089108\n",
      "[151]\ttrain-logloss:0.007521\teval-logloss:0.088735\n",
      "[152]\ttrain-logloss:0.007498\teval-logloss:0.088717\n",
      "[153]\ttrain-logloss:0.007464\teval-logloss:0.088484\n",
      "[154]\ttrain-logloss:0.00741\teval-logloss:0.088471\n",
      "[155]\ttrain-logloss:0.007389\teval-logloss:0.088545\n",
      "[156]\ttrain-logloss:0.007367\teval-logloss:0.088521\n",
      "[157]\ttrain-logloss:0.007345\teval-logloss:0.088547\n",
      "[158]\ttrain-logloss:0.007323\teval-logloss:0.088275\n",
      "[159]\ttrain-logloss:0.007303\teval-logloss:0.0883\n",
      "[160]\ttrain-logloss:0.007282\teval-logloss:0.08828\n"
     ]
    },
    {
     "name": "stdout",
     "output_type": "stream",
     "text": [
      "[161]\ttrain-logloss:0.007261\teval-logloss:0.088013\n",
      "[162]\ttrain-logloss:0.007241\teval-logloss:0.087758\n",
      "[163]\ttrain-logloss:0.007221\teval-logloss:0.087784\n",
      "[164]\ttrain-logloss:0.0072\teval-logloss:0.087777\n",
      "[165]\ttrain-logloss:0.00718\teval-logloss:0.087517\n",
      "[166]\ttrain-logloss:0.007161\teval-logloss:0.087542\n",
      "[167]\ttrain-logloss:0.007142\teval-logloss:0.087642\n",
      "[168]\ttrain-logloss:0.007122\teval-logloss:0.08739\n",
      "[169]\ttrain-logloss:0.007103\teval-logloss:0.087377\n",
      "[170]\ttrain-logloss:0.007084\teval-logloss:0.087298\n",
      "[171]\ttrain-logloss:0.007065\teval-logloss:0.087368\n",
      "[172]\ttrain-logloss:0.007047\teval-logloss:0.087395\n",
      "[173]\ttrain-logloss:0.007028\teval-logloss:0.087385\n",
      "[174]\ttrain-logloss:0.007009\teval-logloss:0.087132\n",
      "[175]\ttrain-logloss:0.006991\teval-logloss:0.087159\n",
      "[176]\ttrain-logloss:0.006973\teval-logloss:0.086955\n",
      "[177]\ttrain-logloss:0.006955\teval-logloss:0.087053\n",
      "[178]\ttrain-logloss:0.006937\teval-logloss:0.08697\n",
      "[179]\ttrain-logloss:0.00692\teval-logloss:0.086973\n",
      "[180]\ttrain-logloss:0.006901\teval-logloss:0.087038\n",
      "[181]\ttrain-logloss:0.006884\teval-logloss:0.086799\n",
      "[182]\ttrain-logloss:0.006866\teval-logloss:0.086826\n",
      "[183]\ttrain-logloss:0.006849\teval-logloss:0.086582\n",
      "[184]\ttrain-logloss:0.006831\teval-logloss:0.086588\n",
      "[185]\ttrain-logloss:0.006815\teval-logloss:0.086614\n",
      "[186]\ttrain-logloss:0.006798\teval-logloss:0.086372\n",
      "[187]\ttrain-logloss:0.006781\teval-logloss:0.086369\n",
      "[188]\ttrain-logloss:0.006764\teval-logloss:0.086297\n",
      "[189]\ttrain-logloss:0.006747\teval-logloss:0.086104\n",
      "[190]\ttrain-logloss:0.00673\teval-logloss:0.086023\n",
      "[191]\ttrain-logloss:0.006714\teval-logloss:0.08605\n",
      "[192]\ttrain-logloss:0.006698\teval-logloss:0.086149\n",
      "[193]\ttrain-logloss:0.006682\teval-logloss:0.085916\n",
      "[194]\ttrain-logloss:0.006666\teval-logloss:0.085915\n",
      "[195]\ttrain-logloss:0.00665\teval-logloss:0.085984\n",
      "[196]\ttrain-logloss:0.006634\teval-logloss:0.086012\n",
      "[197]\ttrain-logloss:0.006618\teval-logloss:0.085922\n",
      "[198]\ttrain-logloss:0.006603\teval-logloss:0.085853\n",
      "[199]\ttrain-logloss:0.006587\teval-logloss:0.085874\n",
      "[200]\ttrain-logloss:0.006572\teval-logloss:0.085888\n",
      "[201]\ttrain-logloss:0.006556\teval-logloss:0.08595\n",
      "[202]\ttrain-logloss:0.006542\teval-logloss:0.08573\n",
      "[203]\ttrain-logloss:0.006527\teval-logloss:0.08573\n",
      "[204]\ttrain-logloss:0.006512\teval-logloss:0.085753\n",
      "[205]\ttrain-logloss:0.006497\teval-logloss:0.085821\n",
      "[206]\ttrain-logloss:0.006483\teval-logloss:0.08584\n",
      "[207]\ttrain-logloss:0.006469\teval-logloss:0.085776\n",
      "[208]\ttrain-logloss:0.006455\teval-logloss:0.085686\n",
      "[209]\ttrain-logloss:0.00644\teval-logloss:0.08571\n",
      "[210]\ttrain-logloss:0.006427\teval-logloss:0.085806\n",
      "[211]\ttrain-logloss:0.006413\teval-logloss:0.085593\n",
      "[212]\ttrain-logloss:0.006399\teval-logloss:0.085801\n",
      "[213]\ttrain-logloss:0.006385\teval-logloss:0.085807\n",
      "[214]\ttrain-logloss:0.006372\teval-logloss:0.085744\n",
      "[215]\ttrain-logloss:0.006359\teval-logloss:0.085658\n",
      "[216]\ttrain-logloss:0.006345\teval-logloss:0.085843\n",
      "[217]\ttrain-logloss:0.006332\teval-logloss:0.085632\n",
      "[218]\ttrain-logloss:0.006319\teval-logloss:0.085726\n",
      "[219]\ttrain-logloss:0.006306\teval-logloss:0.085783\n",
      "[220]\ttrain-logloss:0.006293\teval-logloss:0.085791\n",
      "[221]\ttrain-logloss:0.00628\teval-logloss:0.085817\n",
      "[222]\ttrain-logloss:0.006268\teval-logloss:0.085757\n",
      "[223]\ttrain-logloss:0.006255\teval-logloss:0.085674\n",
      "[224]\ttrain-logloss:0.006242\teval-logloss:0.08586\n",
      "[225]\ttrain-logloss:0.00623\teval-logloss:0.085871\n",
      "[226]\ttrain-logloss:0.006218\teval-logloss:0.085927\n",
      "[227]\ttrain-logloss:0.006206\teval-logloss:0.085954\n",
      "[228]\ttrain-logloss:0.006194\teval-logloss:0.085874\n",
      "[229]\ttrain-logloss:0.006182\teval-logloss:0.086057\n",
      "[230]\ttrain-logloss:0.00617\teval-logloss:0.086002\n",
      "[231]\ttrain-logloss:0.006158\teval-logloss:0.085922\n",
      "[232]\ttrain-logloss:0.006147\teval-logloss:0.086102\n",
      "[233]\ttrain-logloss:0.006135\teval-logloss:0.086115\n",
      "[234]\ttrain-logloss:0.006124\teval-logloss:0.086169\n",
      "[235]\ttrain-logloss:0.006112\teval-logloss:0.086263\n",
      "[236]\ttrain-logloss:0.006101\teval-logloss:0.086291\n",
      "[237]\ttrain-logloss:0.00609\teval-logloss:0.086217\n",
      "[238]\ttrain-logloss:0.006079\teval-logloss:0.086395\n",
      "[239]\ttrain-logloss:0.006068\teval-logloss:0.086342\n",
      "[240]\ttrain-logloss:0.006057\teval-logloss:0.08618\n",
      "[241]\ttrain-logloss:0.006046\teval-logloss:0.086195\n",
      "[242]\ttrain-logloss:0.006036\teval-logloss:0.086248\n",
      "[243]\ttrain-logloss:0.006025\teval-logloss:0.086263\n",
      "[244]\ttrain-logloss:0.006014\teval-logloss:0.086293\n",
      "[245]\ttrain-logloss:0.006004\teval-logloss:0.086222\n",
      "[246]\ttrain-logloss:0.005993\teval-logloss:0.086398\n",
      "[247]\ttrain-logloss:0.005983\teval-logloss:0.086347\n",
      "[248]\ttrain-logloss:0.005972\teval-logloss:0.086276\n",
      "[249]\ttrain-logloss:0.005962\teval-logloss:0.086448\n",
      "[250]\ttrain-logloss:0.005952\teval-logloss:0.086294\n",
      "[251]\ttrain-logloss:0.005942\teval-logloss:0.086312\n",
      "[252]\ttrain-logloss:0.005932\teval-logloss:0.086364\n",
      "[253]\ttrain-logloss:0.005922\teval-logloss:0.086394\n",
      "[254]\ttrain-logloss:0.005912\teval-logloss:0.08649\n",
      "[255]\ttrain-logloss:0.005903\teval-logloss:0.086441\n",
      "[256]\ttrain-logloss:0.005893\teval-logloss:0.08629\n",
      "[257]\ttrain-logloss:0.005883\teval-logloss:0.086459\n",
      "[258]\ttrain-logloss:0.005874\teval-logloss:0.086391\n",
      "[259]\ttrain-logloss:0.005864\teval-logloss:0.086441\n",
      "[260]\ttrain-logloss:0.005855\teval-logloss:0.086461\n",
      "[261]\ttrain-logloss:0.005845\teval-logloss:0.086491\n",
      "[262]\ttrain-logloss:0.005836\teval-logloss:0.086445\n",
      "[263]\ttrain-logloss:0.005827\teval-logloss:0.086466\n",
      "[264]\ttrain-logloss:0.005818\teval-logloss:0.086319\n",
      "[265]\ttrain-logloss:0.005809\teval-logloss:0.086488\n",
      "[266]\ttrain-logloss:0.0058\teval-logloss:0.086538\n",
      "[267]\ttrain-logloss:0.005791\teval-logloss:0.086471\n",
      "[268]\ttrain-logloss:0.005782\teval-logloss:0.086501\n",
      "[269]\ttrain-logloss:0.005773\teval-logloss:0.086522\n",
      "[270]\ttrain-logloss:0.005764\teval-logloss:0.086689\n",
      "[271]\ttrain-logloss:0.005755\teval-logloss:0.086738\n",
      "[272]\ttrain-logloss:0.005747\teval-logloss:0.086829\n",
      "[273]\ttrain-logloss:0.005738\teval-logloss:0.086684\n",
      "[274]\ttrain-logloss:0.005729\teval-logloss:0.08664\n",
      "[275]\ttrain-logloss:0.005721\teval-logloss:0.086496\n",
      "[276]\ttrain-logloss:0.005712\teval-logloss:0.086355\n",
      "[277]\ttrain-logloss:0.005704\teval-logloss:0.086519\n",
      "[278]\ttrain-logloss:0.005696\teval-logloss:0.086567\n",
      "[279]\ttrain-logloss:0.005687\teval-logloss:0.08659\n",
      "[280]\ttrain-logloss:0.005679\teval-logloss:0.086679\n",
      "[281]\ttrain-logloss:0.005671\teval-logloss:0.086637\n",
      "[282]\ttrain-logloss:0.005663\teval-logloss:0.086499\n",
      "[283]\ttrain-logloss:0.005655\teval-logloss:0.086356\n",
      "[284]\ttrain-logloss:0.005646\teval-logloss:0.086405\n",
      "[285]\ttrain-logloss:0.005639\teval-logloss:0.086429\n",
      "[286]\ttrain-logloss:0.005631\teval-logloss:0.086456\n",
      "[287]\ttrain-logloss:0.005623\teval-logloss:0.086504\n",
      "[288]\ttrain-logloss:0.005615\teval-logloss:0.08637\n",
      "[289]\ttrain-logloss:0.005608\teval-logloss:0.086457\n",
      "[290]\ttrain-logloss:0.0056\teval-logloss:0.086453\n",
      "[291]\ttrain-logloss:0.005593\teval-logloss:0.086322\n",
      "[292]\ttrain-logloss:0.005585\teval-logloss:0.086284\n",
      "[293]\ttrain-logloss:0.005577\teval-logloss:0.086148\n",
      "[294]\ttrain-logloss:0.00557\teval-logloss:0.086196\n",
      "[295]\ttrain-logloss:0.005563\teval-logloss:0.086221\n",
      "[296]\ttrain-logloss:0.005556\teval-logloss:0.086308\n",
      "[297]\ttrain-logloss:0.005548\teval-logloss:0.086178\n",
      "[298]\ttrain-logloss:0.005541\teval-logloss:0.086263\n",
      "[299]\ttrain-logloss:0.005534\teval-logloss:0.086131\n",
      "[300]\ttrain-logloss:0.005526\teval-logloss:0.086179\n",
      "[301]\ttrain-logloss:0.005519\teval-logloss:0.086052\n",
      "[302]\ttrain-logloss:0.005512\teval-logloss:0.086016\n",
      "[303]\ttrain-logloss:0.005505\teval-logloss:0.086101\n",
      "[304]\ttrain-logloss:0.005498\teval-logloss:0.085977\n",
      "[305]\ttrain-logloss:0.005491\teval-logloss:0.086059\n",
      "[306]\ttrain-logloss:0.005484\teval-logloss:0.085971\n",
      "[307]\ttrain-logloss:0.005478\teval-logloss:0.085998\n",
      "[308]\ttrain-logloss:0.005471\teval-logloss:0.085998\n",
      "[309]\ttrain-logloss:0.005464\teval-logloss:0.085877\n",
      "[310]\ttrain-logloss:0.005457\teval-logloss:0.085923\n",
      "[311]\ttrain-logloss:0.00545\teval-logloss:0.085948\n",
      "Stopping. Best iteration:\n",
      "[211]\ttrain-logloss:0.006413\teval-logloss:0.085593\n",
      "\n"
     ]
    }
   ],
   "source": [
    "# train() 함수에 파라미터 전달\n",
    "# 조기 중단을 수행하기 위해서는 반드시 eval_set, eval_metric이 함께 지정되어야 한다. 반복바다 eval_set으로 지정된 데이터 세트에서 eval_metric의 지정된 평가 지표로 예측 오류 측정\n",
    "\n",
    "# train 데이터 세트는 'train', test 세트는 'eval'로 명기\n",
    "wlist = [(dtrain, 'train'), (dtest, 'eval')]\n",
    "xgb_model = xgb.train(params=params, dtrain=dtrain, num_boost_round=num_rounds, early_stopping_rounds=100, evals=wlist)"
   ]
  },
  {
   "cell_type": "code",
   "execution_count": 9,
   "metadata": {},
   "outputs": [
    {
     "name": "stdout",
     "output_type": "stream",
     "text": [
      "predict() 수행 결과값 10개만 표시, 예측 확률값으로 표시됨\n",
      "[0.934 0.003 0.91  0.094 0.993 1.    1.    0.999 0.997 0.   ]\n",
      "예측값 10개만 표시: [1, 0, 1, 0, 1, 1, 1, 1, 1, 0]\n"
     ]
    }
   ],
   "source": [
    "# 테스트 데이터 세트에 예측 수행/ predict()는 예측 결과를 추정할 수 있는 확률 값 반환\n",
    "\n",
    "pred_probs = xgb_model.predict(dtest)\n",
    "print('predict() 수행 결과값 10개만 표시, 예측 확률값으로 표시됨')\n",
    "print(np.round(pred_probs[:10],3))\n",
    "\n",
    "# 예측 확률이 0.5보다 크면 1, 그렇지 않으면 0으로 예측값 결정\n",
    "preds = [1 if x>0.5 else 0 for x in pred_probs]\n",
    "print('예측값 10개만 표시:', preds[:10])"
   ]
  },
  {
   "cell_type": "code",
   "execution_count": 12,
   "metadata": {},
   "outputs": [
    {
     "name": "stdout",
     "output_type": "stream",
     "text": [
      "오차 행렬\n",
      "[[35  2]\n",
      " [ 1 76]]\n",
      "정확도: 0.9737, 정밀도: 0.9744, 재현율: 0.9870, F1: 0.9806, AUC: 0.9951\n"
     ]
    }
   ],
   "source": [
    "from sklearn.metrics import accuracy_score, precision_score, recall_score, confusion_matrix, roc_auc_score, f1_score\n",
    "\n",
    "def get_clf_eval(y_test, pred=None, pred_proba=None):\n",
    "    confusion = confusion_matrix(y_test, pred)\n",
    "    accuracy = accuracy_score(y_test, pred)\n",
    "    precision = precision_score(y_test, pred)\n",
    "    recall = recall_score(y_test, pred)\n",
    "    f1 = f1_score(y_test, pred)\n",
    "    roc_auc = roc_auc_score(y_test, pred_proba)\n",
    "    print('오차 행렬')\n",
    "    print(confusion)\n",
    "    print('정확도: {0:.4f}, 정밀도: {1:.4f}, 재현율: {2:.4f}, F1: {3:.4f}, AUC: {4:.4f}'.format(accuracy, precision, recall,f1, roc_auc))\n",
    "    \n",
    "get_clf_eval(y_test, preds, pred_probs)"
   ]
  },
  {
   "cell_type": "code",
   "execution_count": 13,
   "metadata": {},
   "outputs": [
    {
     "data": {
      "text/plain": [
       "<matplotlib.axes._subplots.AxesSubplot at 0x13efaad8108>"
      ]
     },
     "execution_count": 13,
     "metadata": {},
     "output_type": "execute_result"
    },
    {
     "data": {
      "image/png": "[encoded data removed]",
      "text/plain": [
       "<Figure size 720x864 with 1 Axes>"
      ]
     },
     "metadata": {
      "needs_background": "light"
     },
     "output_type": "display_data"
    }
   ],
   "source": [
    "# 피처의 중요도(피처명이 나오지 않는 것이 특징)\n",
    "from xgboost import plot_importance\n",
    "import matplotlib.pyplot as plt\n",
    "%matplotlib inline\n",
    "\n",
    "fig, ax = plt.subplots(figsize=(10,12))\n",
    "plot_importance(xgb_model, ax=ax)"
   ]
  }
 ],
 "metadata": {
  "kernelspec": {
   "display_name": "Python 3",
   "language": "python",
   "name": "python3"
  },
  "language_info": {
   "codemirror_mode": {
    "name": "ipython",
    "version": 3
   },
   "file_extension": ".py",
   "mimetype": "text/x-python",
   "name": "python",
   "nbconvert_exporter": "python",
   "pygments_lexer": "ipython3",
   "version": "3.7.6"
  }
 },
 "nbformat": 4,
 "nbformat_minor": 4
}
