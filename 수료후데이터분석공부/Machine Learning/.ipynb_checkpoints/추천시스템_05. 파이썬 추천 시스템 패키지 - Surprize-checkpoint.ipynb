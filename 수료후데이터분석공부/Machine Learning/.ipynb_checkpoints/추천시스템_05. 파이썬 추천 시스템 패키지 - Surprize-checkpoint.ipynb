{
 "cells": [
  {
   "cell_type": "code",
   "execution_count": 1,
   "metadata": {},
   "outputs": [],
   "source": [
    "from surprise import SVD\n",
    "from surprise import Dataset\n",
    "from surprise import accuracy\n",
    "from surprise.model_selection import train_test_split"
   ]
  },
  {
   "cell_type": "code",
   "execution_count": 3,
   "metadata": {},
   "outputs": [],
   "source": [
    "# 데이터 로딩은 Dataset 클래스 통해서만 가능\n",
    "# 주요 데이터가 로우(Row) 레벨 형태로 돼있는 포멧의 데이터만 처리\n",
    "\n",
    "# 무비렌즈(MovieLens) 사이트에서 제공하는 데이터 가져오기\n",
    "data = Dataset.load_builtin('ml-100k')\n",
    " \n",
    "trainset, testset = train_test_split(data, test_size=.25, random_state=0)"
   ]
  },
  {
   "cell_type": "code",
   "execution_count": 5,
   "metadata": {},
   "outputs": [
    {
     "data": {
      "text/plain": [
       "<surprise.prediction_algorithms.matrix_factorization.SVD at 0x25cfdf05bb0>"
      ]
     },
     "execution_count": 5,
     "metadata": {},
     "output_type": "execute_result"
    }
   ],
   "source": [
    "# SVD로 잠재 요인 협업 필터링\n",
    "algo = SVD()\n",
    "algo.fit(trainset)"
   ]
  },
  {
   "cell_type": "code",
   "execution_count": 7,
   "metadata": {},
   "outputs": [
    {
     "name": "stdout",
     "output_type": "stream",
     "text": [
      "prediction type:  <class 'list'> size:  25000\n",
      "prediction 결과의 최초 5개 추출\n"
     ]
    },
    {
     "data": {
      "text/plain": [
       "[Prediction(uid='120', iid='282', r_ui=4.0, est=3.8223902031583092, details={'was_impossible': False}),\n",
       " Prediction(uid='882', iid='291', r_ui=4.0, est=3.5360146519966165, details={'was_impossible': False}),\n",
       " Prediction(uid='535', iid='507', r_ui=5.0, est=4.198000391007143, details={'was_impossible': False}),\n",
       " Prediction(uid='697', iid='244', r_ui=5.0, est=3.4916333725081277, details={'was_impossible': False}),\n",
       " Prediction(uid='751', iid='385', r_ui=4.0, est=3.7035817198944954, details={'was_impossible': False})]"
      ]
     },
     "execution_count": 7,
     "metadata": {},
     "output_type": "execute_result"
    }
   ],
   "source": [
    "# 테스트 데이터 세트에 대한 추천 수행\n",
    "# test()\n",
    "predictions = algo.test(testset)\n",
    "print('prediction type: ', type(predictions), 'size: ', len(predictions))\n",
    "print('prediction 결과의 최초 5개 추출')\n",
    "predictions[:5]"
   ]
  },
  {
   "cell_type": "code",
   "execution_count": 8,
   "metadata": {},
   "outputs": [
    {
     "data": {
      "text/plain": [
       "[('120', '282', 3.8223902031583092),\n",
       " ('882', '291', 3.5360146519966165),\n",
       " ('535', '507', 4.198000391007143)]"
      ]
     },
     "execution_count": 8,
     "metadata": {},
     "output_type": "execute_result"
    }
   ],
   "source": [
    "[(pred.uid, pred.iid, pred.est) for pred in predictions[:3]]"
   ]
  },
  {
   "cell_type": "code",
   "execution_count": 9,
   "metadata": {},
   "outputs": [
    {
     "name": "stdout",
     "output_type": "stream",
     "text": [
      "user: 196        item: 302        r_ui = None   est = 4.30   {'was_impossible': False}\n"
     ]
    }
   ],
   "source": [
    "# 개별 사용자의 아이템에 대한 추천 평점 예측\n",
    "# predict()\n",
    "\n",
    "# 사용자 아이디, 아이템 아이디는 문자열로\n",
    "uid = str(196)\n",
    "iid = str(302)\n",
    "pred = algo.predict(uid, iid)\n",
    "print(pred)"
   ]
  },
  {
   "cell_type": "code",
   "execution_count": 10,
   "metadata": {},
   "outputs": [
    {
     "name": "stdout",
     "output_type": "stream",
     "text": [
      "RMSE: 0.9488\n"
     ]
    },
    {
     "data": {
      "text/plain": [
       "0.9488053327279888"
      ]
     },
     "execution_count": 10,
     "metadata": {},
     "output_type": "execute_result"
    }
   ],
   "source": [
    "# 실제 평점과 추천 예측 평점의 차이\n",
    "accuracy.rmse(predictions)"
   ]
  },
  {
   "cell_type": "markdown",
   "metadata": {},
   "source": [
    "## Surprise 주요 모듈 소개"
   ]
  },
  {
   "cell_type": "markdown",
   "metadata": {},
   "source": [
    "### Dataset\n",
    "*외부 데이터 또한 칼럼 순서가 **사용자 아이디, 아이템 아이디, 평점 순**이어야 한다.*\n",
    "\n",
    "```Dataset.load_builtin``` 무비렌즈 아카이브 FTP 서버에서 무비렌즈 데이터 내려받기\n",
    "\n",
    "```Dataset.load_from_file(file_path, reader)``` OS 파일에서 데이터 로딩할 때 사용, 콤마, 탭 등으로 칼럼이 분리된 포맷의 OS 파일에서 데이터 로딩\n",
    "\n",
    "```Dataset.load_from_df(df, reader)``` 판다스의 DataFrame에서 데이터 로딩"
   ]
  },
  {
   "cell_type": "markdown",
   "metadata": {},
   "source": [
    "#### OS 파일 데이터를 Surprise 데이터 세트로 로딩\n",
    "로딩할 때 데이터 파일에 칼럼명을 가지는 헤더 문자열이 있어서는 안 된다."
   ]
  },
  {
   "cell_type": "code",
   "execution_count": 13,
   "metadata": {},
   "outputs": [],
   "source": [
    "import pandas as pd\n",
    "\n",
    "ratings = pd.read_csv('./data/ml-latest-small/ratings.csv')\n",
    "\n",
    "# header 지운 파일\n",
    "ratings.to_csv('./data/ml-latest-small/ratings_noh.csv', index=False, header=False)"
   ]
  },
  {
   "cell_type": "code",
   "execution_count": null,
   "metadata": {},
   "outputs": [],
   "source": []
  }
 ],
 "metadata": {
  "kernelspec": {
   "display_name": "Python 3",
   "language": "python",
   "name": "python3"
  },
  "language_info": {
   "codemirror_mode": {
    "name": "ipython",
    "version": 3
   },
   "file_extension": ".py",
   "mimetype": "text/x-python",
   "name": "python",
   "nbconvert_exporter": "python",
   "pygments_lexer": "ipython3",
   "version": "3.8.5"
  }
 },
 "nbformat": 4,
 "nbformat_minor": 4
}
