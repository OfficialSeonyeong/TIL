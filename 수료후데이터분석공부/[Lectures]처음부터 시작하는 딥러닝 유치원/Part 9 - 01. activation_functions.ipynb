{
 "cells": [
  {
   "cell_type": "code",
   "execution_count": 1,
   "metadata": {},
   "outputs": [],
   "source": [
    "import torch\n",
    "import torch.nn as nn\n",
    "from matplotlib import pyplot as plt"
   ]
  },
  {
   "cell_type": "code",
   "execution_count": 2,
   "metadata": {},
   "outputs": [
    {
     "data": {
      "text/plain": [
       "tensor([-21.8689, -21.2003, -20.2334, -19.2475, -15.9813, -13.4334, -13.3927,\n",
       "        -12.4682, -12.4108, -12.1869, -12.1857, -11.9152, -11.5078, -11.4211,\n",
       "        -11.1123, -11.0359, -11.0025, -10.9148,  -9.9205,  -8.2608,  -7.9514,\n",
       "         -7.8550,  -7.7066,  -7.4396,  -7.3861,  -5.3465,  -5.0869,  -4.9697,\n",
       "         -4.9596,  -4.5333,  -4.2244,  -4.0107,  -3.9553,  -3.9454,  -3.3433,\n",
       "         -3.0616,  -3.0242,  -2.8885,  -2.5080,  -2.1858,  -2.1592,  -1.7073,\n",
       "         -1.4807,  -1.4197,  -0.4190,   0.2365,   0.2587,   0.6007,   0.6589,\n",
       "          0.7623,   1.0082,   1.0285,   1.2379,   1.2610,   1.5267,   1.6501,\n",
       "          1.7612,   2.2502,   2.3237,   2.5630,   2.8011,   2.8446,   2.9148,\n",
       "          3.3222,   3.4664,   3.5933,   4.1618,   4.6896,   4.8028,   5.2179,\n",
       "          5.2526,   5.5380,   5.6223,   5.7933,   6.1683,   6.7798,   7.1955,\n",
       "          7.6955,   8.1897,   8.2600,   8.3147,   8.3773,   8.7354,   8.9896,\n",
       "          9.4376,   9.5001,   9.5124,  10.0969,  10.5319,  10.6804,  11.1904,\n",
       "         12.1992,  14.2253,  14.2745,  18.5159,  18.7158,  19.0699,  19.2775,\n",
       "         20.1391,  23.0483])"
      ]
     },
     "execution_count": 2,
     "metadata": {},
     "output_type": "execute_result"
    }
   ],
   "source": [
    "x = torch.sort(torch.randn(100) * 10)[0]\n",
    "x"
   ]
  },
  {
   "cell_type": "markdown",
   "metadata": {},
   "source": [
    "## Sigmoid"
   ]
  },
  {
   "cell_type": "code",
   "execution_count": 3,
   "metadata": {},
   "outputs": [
    {
     "name": "stdout",
     "output_type": "stream",
     "text": [
      "tensor([3.1801e-10, 6.2061e-10, 1.6321e-09, 4.3742e-09, 1.1466e-07, 1.4654e-06,\n",
      "        1.5263e-06, 3.8472e-06, 4.0743e-06, 5.0965e-06, 5.1026e-06, 6.6881e-06,\n",
      "        1.0051e-05, 1.0962e-05, 1.4927e-05, 1.6113e-05, 1.6660e-05, 1.8186e-05,\n",
      "        4.9153e-05, 2.5838e-04, 3.5206e-04, 3.8766e-04, 4.4966e-04, 5.8717e-04,\n",
      "        6.1944e-04, 4.7423e-03, 6.1394e-03, 6.8975e-03, 6.9668e-03, 1.0630e-02,\n",
      "        1.4422e-02, 1.7798e-02, 1.8792e-02, 1.8976e-02, 3.4117e-02, 4.4720e-02,\n",
      "        4.6345e-02, 5.2726e-02, 7.5300e-02, 1.0104e-01, 1.0347e-01, 1.5352e-01,\n",
      "        1.8532e-01, 1.9471e-01, 3.9675e-01, 5.5886e-01, 5.6431e-01, 6.4581e-01,\n",
      "        6.5901e-01, 6.8184e-01, 7.3266e-01, 7.3662e-01, 7.7519e-01, 7.7920e-01,\n",
      "        8.2152e-01, 8.3890e-01, 8.5336e-01, 9.0466e-01, 9.1082e-01, 9.2844e-01,\n",
      "        9.4273e-01, 9.4504e-01, 9.4857e-01, 9.6518e-01, 9.6972e-01, 9.7323e-01,\n",
      "        9.8466e-01, 9.9089e-01, 9.9186e-01, 9.9461e-01, 9.9479e-01, 9.9608e-01,\n",
      "        9.9640e-01, 9.9696e-01, 9.9791e-01, 9.9886e-01, 9.9925e-01, 9.9955e-01,\n",
      "        9.9972e-01, 9.9974e-01, 9.9976e-01, 9.9977e-01, 9.9984e-01, 9.9988e-01,\n",
      "        9.9992e-01, 9.9993e-01, 9.9993e-01, 9.9996e-01, 9.9997e-01, 9.9998e-01,\n",
      "        9.9999e-01, 9.9999e-01, 1.0000e+00, 1.0000e+00, 1.0000e+00, 1.0000e+00,\n",
      "        1.0000e+00, 1.0000e+00, 1.0000e+00, 1.0000e+00])\n"
     ]
    }
   ],
   "source": [
    "# 객체\n",
    "act = nn.Sigmoid()\n",
    "print(act(x))"
   ]
  },
  {
   "cell_type": "code",
   "execution_count": 4,
   "metadata": {},
   "outputs": [
    {
     "name": "stdout",
     "output_type": "stream",
     "text": [
      "tensor([3.1801e-10, 6.2061e-10, 1.6321e-09, 4.3742e-09, 1.1466e-07, 1.4654e-06,\n",
      "        1.5263e-06, 3.8472e-06, 4.0743e-06, 5.0965e-06, 5.1026e-06, 6.6881e-06,\n",
      "        1.0051e-05, 1.0962e-05, 1.4927e-05, 1.6113e-05, 1.6660e-05, 1.8186e-05,\n",
      "        4.9153e-05, 2.5838e-04, 3.5206e-04, 3.8766e-04, 4.4966e-04, 5.8717e-04,\n",
      "        6.1944e-04, 4.7423e-03, 6.1394e-03, 6.8975e-03, 6.9668e-03, 1.0630e-02,\n",
      "        1.4422e-02, 1.7798e-02, 1.8792e-02, 1.8976e-02, 3.4117e-02, 4.4720e-02,\n",
      "        4.6345e-02, 5.2726e-02, 7.5300e-02, 1.0104e-01, 1.0347e-01, 1.5352e-01,\n",
      "        1.8532e-01, 1.9471e-01, 3.9675e-01, 5.5886e-01, 5.6431e-01, 6.4581e-01,\n",
      "        6.5901e-01, 6.8184e-01, 7.3266e-01, 7.3662e-01, 7.7519e-01, 7.7920e-01,\n",
      "        8.2152e-01, 8.3890e-01, 8.5336e-01, 9.0466e-01, 9.1082e-01, 9.2844e-01,\n",
      "        9.4273e-01, 9.4504e-01, 9.4857e-01, 9.6518e-01, 9.6972e-01, 9.7323e-01,\n",
      "        9.8466e-01, 9.9089e-01, 9.9186e-01, 9.9461e-01, 9.9479e-01, 9.9608e-01,\n",
      "        9.9640e-01, 9.9696e-01, 9.9791e-01, 9.9886e-01, 9.9925e-01, 9.9955e-01,\n",
      "        9.9972e-01, 9.9974e-01, 9.9976e-01, 9.9977e-01, 9.9984e-01, 9.9988e-01,\n",
      "        9.9992e-01, 9.9993e-01, 9.9993e-01, 9.9996e-01, 9.9997e-01, 9.9998e-01,\n",
      "        9.9999e-01, 9.9999e-01, 1.0000e+00, 1.0000e+00, 1.0000e+00, 1.0000e+00,\n",
      "        1.0000e+00, 1.0000e+00, 1.0000e+00, 1.0000e+00])\n"
     ]
    }
   ],
   "source": [
    "# 함수\n",
    "print(torch.sigmoid(x))"
   ]
  },
  {
   "cell_type": "code",
   "execution_count": 5,
   "metadata": {},
   "outputs": [
    {
     "data": {
      "image/png": "[encoded data removed]",
      "text/plain": [
       "<Figure size 432x288 with 1 Axes>"
      ]
     },
     "metadata": {
      "needs_background": "light"
     },
     "output_type": "display_data"
    }
   ],
   "source": [
    "plt.plot(x.numpy(), torch.sigmoid(x).numpy())\n",
    "plt.show()"
   ]
  },
  {
   "cell_type": "markdown",
   "metadata": {},
   "source": [
    "## Hypoerbolic Tangent(TanH)"
   ]
  },
  {
   "cell_type": "code",
   "execution_count": 6,
   "metadata": {},
   "outputs": [
    {
     "name": "stdout",
     "output_type": "stream",
     "text": [
      "tensor([-1.0000, -1.0000, -1.0000, -1.0000, -1.0000, -1.0000, -1.0000, -1.0000,\n",
      "        -1.0000, -1.0000, -1.0000, -1.0000, -1.0000, -1.0000, -1.0000, -1.0000,\n",
      "        -1.0000, -1.0000, -1.0000, -1.0000, -1.0000, -1.0000, -1.0000, -1.0000,\n",
      "        -1.0000, -1.0000, -0.9999, -0.9999, -0.9999, -0.9998, -0.9996, -0.9993,\n",
      "        -0.9993, -0.9993, -0.9975, -0.9956, -0.9953, -0.9938, -0.9868, -0.9751,\n",
      "        -0.9737, -0.9363, -0.9016, -0.8895, -0.3961,  0.2322,  0.2531,  0.5375,\n",
      "         0.5776,  0.6424,  0.7650,  0.7733,  0.8448,  0.8513,  0.9099,  0.9289,\n",
      "         0.9426,  0.9780,  0.9810,  0.9882,  0.9926,  0.9933,  0.9941,  0.9974,\n",
      "         0.9981,  0.9985,  0.9995,  0.9998,  0.9999,  0.9999,  0.9999,  1.0000,\n",
      "         1.0000,  1.0000,  1.0000,  1.0000,  1.0000,  1.0000,  1.0000,  1.0000,\n",
      "         1.0000,  1.0000,  1.0000,  1.0000,  1.0000,  1.0000,  1.0000,  1.0000,\n",
      "         1.0000,  1.0000,  1.0000,  1.0000,  1.0000,  1.0000,  1.0000,  1.0000,\n",
      "         1.0000,  1.0000,  1.0000,  1.0000])\n"
     ]
    }
   ],
   "source": [
    "# 객체\n",
    "act = nn.Tanh()\n",
    "print(act(x))"
   ]
  },
  {
   "cell_type": "code",
   "execution_count": 7,
   "metadata": {},
   "outputs": [
    {
     "name": "stdout",
     "output_type": "stream",
     "text": [
      "tensor([-1.0000, -1.0000, -1.0000, -1.0000, -1.0000, -1.0000, -1.0000, -1.0000,\n",
      "        -1.0000, -1.0000, -1.0000, -1.0000, -1.0000, -1.0000, -1.0000, -1.0000,\n",
      "        -1.0000, -1.0000, -1.0000, -1.0000, -1.0000, -1.0000, -1.0000, -1.0000,\n",
      "        -1.0000, -1.0000, -0.9999, -0.9999, -0.9999, -0.9998, -0.9996, -0.9993,\n",
      "        -0.9993, -0.9993, -0.9975, -0.9956, -0.9953, -0.9938, -0.9868, -0.9751,\n",
      "        -0.9737, -0.9363, -0.9016, -0.8895, -0.3961,  0.2322,  0.2531,  0.5375,\n",
      "         0.5776,  0.6424,  0.7650,  0.7733,  0.8448,  0.8513,  0.9099,  0.9289,\n",
      "         0.9426,  0.9780,  0.9810,  0.9882,  0.9926,  0.9933,  0.9941,  0.9974,\n",
      "         0.9981,  0.9985,  0.9995,  0.9998,  0.9999,  0.9999,  0.9999,  1.0000,\n",
      "         1.0000,  1.0000,  1.0000,  1.0000,  1.0000,  1.0000,  1.0000,  1.0000,\n",
      "         1.0000,  1.0000,  1.0000,  1.0000,  1.0000,  1.0000,  1.0000,  1.0000,\n",
      "         1.0000,  1.0000,  1.0000,  1.0000,  1.0000,  1.0000,  1.0000,  1.0000,\n",
      "         1.0000,  1.0000,  1.0000,  1.0000])\n"
     ]
    }
   ],
   "source": [
    "# 함수\n",
    "print(torch.tanh(x))"
   ]
  },
  {
   "cell_type": "code",
   "execution_count": 8,
   "metadata": {},
   "outputs": [
    {
     "data": {
      "image/png": "[encoded data removed]",
      "text/plain": [
       "<Figure size 432x288 with 1 Axes>"
      ]
     },
     "metadata": {
      "needs_background": "light"
     },
     "output_type": "display_data"
    }
   ],
   "source": [
    "plt.plot(x.numpy(), torch.tanh(x).numpy())\n",
    "plt.show()"
   ]
  }
 ],
 "metadata": {
  "kernelspec": {
   "display_name": "Python 3",
   "language": "python",
   "name": "python3"
  },
  "language_info": {
   "codemirror_mode": {
    "name": "ipython",
    "version": 3
   },
   "file_extension": ".py",
   "mimetype": "text/x-python",
   "name": "python",
   "nbconvert_exporter": "python",
   "pygments_lexer": "ipython3",
   "version": "3.8.5"
  }
 },
 "nbformat": 4,
 "nbformat_minor": 4
}
