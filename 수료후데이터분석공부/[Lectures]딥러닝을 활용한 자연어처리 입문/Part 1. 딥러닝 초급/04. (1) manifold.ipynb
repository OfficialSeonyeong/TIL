{
 "cells": [
  {
   "cell_type": "code",
   "execution_count": 1,
   "metadata": {},
   "outputs": [],
   "source": [
    "import numpy as np\n",
    "import matplotlib.pyplot as plt"
   ]
  },
  {
   "cell_type": "code",
   "execution_count": 2,
   "metadata": {},
   "outputs": [],
   "source": [
    "import torch\n",
    "import torch.nn as nn\n",
    "import torch.optim as optim"
   ]
  },
  {
   "cell_type": "code",
   "execution_count": 3,
   "metadata": {},
   "outputs": [],
   "source": [
    "from utils import load_mnist\n",
    "from trainer import Trainer"
   ]
  },
  {
   "cell_type": "code",
   "execution_count": 4,
   "metadata": {},
   "outputs": [],
   "source": [
    "def show_image(x):\n",
    "    if x.dim() == 1:\n",
    "        x = x.view(int(x.size(0) ** .5), -1)\n",
    "        \n",
    "    plt.imshow(x, cmap='gray')\n",
    "    plt.show()"
   ]
  },
  {
   "cell_type": "code",
   "execution_count": 5,
   "metadata": {},
   "outputs": [
    {
     "name": "stdout",
     "output_type": "stream",
     "text": [
      "Namespace(batch_size=256, btl_size=2, n_epochs=50, train_ratio=0.8, verbose=1)\n"
     ]
    }
   ],
   "source": [
    "from argparse import Namespace\n",
    "\n",
    "config = {\n",
    "    'train_ratio': .8,\n",
    "    'batch_size': 256,\n",
    "    'n_epochs': 50,\n",
    "    'verbose': 1,\n",
    "    'btl_size':2\n",
    "}\n",
    "\n",
    "config = Namespace(**config)\n",
    "print(config)"
   ]
  },
  {
   "cell_type": "code",
   "execution_count": 7,
   "metadata": {},
   "outputs": [
    {
     "name": "stdout",
     "output_type": "stream",
     "text": [
      "Train torch.Size([48000, 784]) torch.Size([48000])\n",
      "Valid torch.Size([12000, 784]) torch.Size([12000])\n",
      "Test torch.Size([10000, 784]) torch.Size([10000])\n"
     ]
    }
   ],
   "source": [
    "train_x, train_y = load_mnist(flatten=True)\n",
    "test_x, test_y = load_mnist(is_train=False, flatten=True)\n",
    "\n",
    "train_cnt = int(train_x.size(0) * config.train_ratio)\n",
    "valid_cnt = train_x.size(0) - train_cnt\n",
    "\n",
    "indices = torch.randperm(train_x.size(0))\n",
    "train_x, valid_x = torch.index_select(train_x, dim=0, index=indices).split([train_cnt, valid_cnt], dim=0)\n",
    "train_y, valid_y = torch.index_select(train_y, dim=0, index=indices).split([train_cnt, valid_cnt], dim=0)\n",
    "\n",
    "print('Train', train_x.shape, train_y.shape)\n",
    "print('Valid', valid_x.shape, valid_y.shape)\n",
    "print('Test', test_x.shape, test_y.shape)"
   ]
  },
  {
   "cell_type": "code",
   "execution_count": 8,
   "metadata": {},
   "outputs": [],
   "source": [
    "from model import Autoencoder"
   ]
  },
  {
   "cell_type": "code",
   "execution_count": 9,
   "metadata": {},
   "outputs": [],
   "source": [
    "model = Autoencoder(btl_size=config.btl_size)\n",
    "optimizer = optim.Adam(model.parameters())\n",
    "crit = nn.MSELoss()\n",
    "\n",
    "trainer = Trainer(model, optimizer, crit)"
   ]
  },
  {
   "cell_type": "code",
   "execution_count": 11,
   "metadata": {},
   "outputs": [
    {
     "name": "stdout",
     "output_type": "stream",
     "text": [
      "Epoch(1/50): train_loss=7.2724e-02  valid_loss=4.8715e-02  lowest_loss=4.8715e-02\n",
      "Epoch(2/50): train_loss=4.6748e-02  valid_loss=4.4309e-02  lowest_loss=4.4309e-02\n",
      "Epoch(3/50): train_loss=4.3887e-02  valid_loss=4.2091e-02  lowest_loss=4.2091e-02\n",
      "Epoch(4/50): train_loss=4.2752e-02  valid_loss=4.1148e-02  lowest_loss=4.1148e-02\n",
      "Epoch(5/50): train_loss=4.1959e-02  valid_loss=4.0945e-02  lowest_loss=4.0945e-02\n",
      "Epoch(6/50): train_loss=4.1140e-02  valid_loss=3.9975e-02  lowest_loss=3.9975e-02\n",
      "Epoch(7/50): train_loss=4.0564e-02  valid_loss=3.9094e-02  lowest_loss=3.9094e-02\n",
      "Epoch(8/50): train_loss=4.0505e-02  valid_loss=3.9628e-02  lowest_loss=3.9094e-02\n",
      "Epoch(9/50): train_loss=4.0115e-02  valid_loss=3.9042e-02  lowest_loss=3.9042e-02\n",
      "Epoch(10/50): train_loss=3.9937e-02  valid_loss=3.8537e-02  lowest_loss=3.8537e-02\n",
      "Epoch(11/50): train_loss=3.9501e-02  valid_loss=3.9045e-02  lowest_loss=3.8537e-02\n",
      "Epoch(12/50): train_loss=3.9396e-02  valid_loss=3.8579e-02  lowest_loss=3.8537e-02\n",
      "Epoch(13/50): train_loss=3.9667e-02  valid_loss=3.8539e-02  lowest_loss=3.8537e-02\n",
      "Epoch(14/50): train_loss=3.9046e-02  valid_loss=3.8269e-02  lowest_loss=3.8269e-02\n",
      "Epoch(15/50): train_loss=3.8820e-02  valid_loss=3.7982e-02  lowest_loss=3.7982e-02\n",
      "Epoch(16/50): train_loss=3.8647e-02  valid_loss=3.7117e-02  lowest_loss=3.7117e-02\n",
      "Epoch(17/50): train_loss=3.8541e-02  valid_loss=3.7749e-02  lowest_loss=3.7117e-02\n",
      "Epoch(18/50): train_loss=3.8487e-02  valid_loss=3.7305e-02  lowest_loss=3.7117e-02\n",
      "Epoch(19/50): train_loss=3.8072e-02  valid_loss=3.6807e-02  lowest_loss=3.6807e-02\n",
      "Epoch(20/50): train_loss=3.8190e-02  valid_loss=3.7439e-02  lowest_loss=3.6807e-02\n",
      "Epoch(21/50): train_loss=3.8141e-02  valid_loss=3.7361e-02  lowest_loss=3.6807e-02\n",
      "Epoch(22/50): train_loss=3.7813e-02  valid_loss=4.0459e-02  lowest_loss=3.6807e-02\n",
      "Epoch(23/50): train_loss=3.7695e-02  valid_loss=3.7363e-02  lowest_loss=3.6807e-02\n",
      "Epoch(24/50): train_loss=3.7687e-02  valid_loss=3.6881e-02  lowest_loss=3.6807e-02\n",
      "Epoch(25/50): train_loss=3.7861e-02  valid_loss=3.7224e-02  lowest_loss=3.6807e-02\n",
      "Epoch(26/50): train_loss=3.7560e-02  valid_loss=3.6526e-02  lowest_loss=3.6526e-02\n",
      "Epoch(27/50): train_loss=3.7297e-02  valid_loss=3.6098e-02  lowest_loss=3.6098e-02\n",
      "Epoch(28/50): train_loss=3.7523e-02  valid_loss=3.6879e-02  lowest_loss=3.6098e-02\n",
      "Epoch(29/50): train_loss=3.7646e-02  valid_loss=3.6558e-02  lowest_loss=3.6098e-02\n",
      "Epoch(30/50): train_loss=3.7508e-02  valid_loss=3.6772e-02  lowest_loss=3.6098e-02\n",
      "Epoch(31/50): train_loss=3.7382e-02  valid_loss=3.6287e-02  lowest_loss=3.6098e-02\n",
      "Epoch(32/50): train_loss=3.6997e-02  valid_loss=3.6221e-02  lowest_loss=3.6098e-02\n",
      "Epoch(33/50): train_loss=3.6976e-02  valid_loss=3.6133e-02  lowest_loss=3.6098e-02\n",
      "Epoch(34/50): train_loss=3.6875e-02  valid_loss=3.5917e-02  lowest_loss=3.5917e-02\n",
      "Epoch(35/50): train_loss=3.6716e-02  valid_loss=3.6099e-02  lowest_loss=3.5917e-02\n",
      "Epoch(36/50): train_loss=3.6862e-02  valid_loss=3.5947e-02  lowest_loss=3.5917e-02\n",
      "Epoch(37/50): train_loss=3.7013e-02  valid_loss=3.6422e-02  lowest_loss=3.5917e-02\n",
      "Epoch(38/50): train_loss=3.6835e-02  valid_loss=3.5804e-02  lowest_loss=3.5804e-02\n",
      "Epoch(39/50): train_loss=3.6447e-02  valid_loss=3.5697e-02  lowest_loss=3.5697e-02\n",
      "Epoch(40/50): train_loss=3.6999e-02  valid_loss=3.7298e-02  lowest_loss=3.5697e-02\n",
      "Epoch(41/50): train_loss=3.7219e-02  valid_loss=3.6004e-02  lowest_loss=3.5697e-02\n",
      "Epoch(42/50): train_loss=3.7153e-02  valid_loss=3.7752e-02  lowest_loss=3.5697e-02\n",
      "Epoch(43/50): train_loss=3.7518e-02  valid_loss=3.6773e-02  lowest_loss=3.5697e-02\n",
      "Epoch(44/50): train_loss=3.7481e-02  valid_loss=3.6703e-02  lowest_loss=3.5697e-02\n",
      "Epoch(45/50): train_loss=3.7876e-02  valid_loss=3.6905e-02  lowest_loss=3.5697e-02\n",
      "Epoch(46/50): train_loss=3.7873e-02  valid_loss=3.6044e-02  lowest_loss=3.5697e-02\n",
      "Epoch(47/50): train_loss=3.7018e-02  valid_loss=3.6133e-02  lowest_loss=3.5697e-02\n",
      "Epoch(48/50): train_loss=3.6877e-02  valid_loss=3.5593e-02  lowest_loss=3.5593e-02\n",
      "Epoch(49/50): train_loss=3.6590e-02  valid_loss=3.5601e-02  lowest_loss=3.5593e-02\n",
      "Epoch(50/50): train_loss=3.6472e-02  valid_loss=3.5931e-02  lowest_loss=3.5593e-02\n"
     ]
    }
   ],
   "source": [
    "trainer.train((train_x, train_x), (valid_x, valid_x), config)"
   ]
  },
  {
   "cell_type": "markdown",
   "metadata": {},
   "source": [
    "## Mean value in each space"
   ]
  },
  {
   "cell_type": "code",
   "execution_count": 13,
   "metadata": {},
   "outputs": [
    {
     "data": {
      "image/png": "[encoded data removed]",
      "text/plain": [
       "<Figure size 432x288 with 1 Axes>"
      ]
     },
     "metadata": {
      "needs_background": "light"
     },
     "output_type": "display_data"
    },
    {
     "data": {
      "image/png": "[encoded data removed]",
      "text/plain": [
       "<Figure size 432x288 with 1 Axes>"
      ]
     },
     "metadata": {
      "needs_background": "light"
     },
     "output_type": "display_data"
    },
    {
     "data": {
      "image/png": "[encoded data removed]",
      "text/plain": [
       "<Figure size 432x288 with 1 Axes>"
      ]
     },
     "metadata": {
      "needs_background": "light"
     },
     "output_type": "display_data"
    },
    {
     "data": {
      "image/png": "[encoded data removed]",
      "text/plain": [
       "<Figure size 432x288 with 1 Axes>"
      ]
     },
     "metadata": {
      "needs_background": "light"
     },
     "output_type": "display_data"
    }
   ],
   "source": [
    "with torch.no_grad():\n",
    "    import random\n",
    "    \n",
    "    index1 = int(random.random() * test_x.size(0))\n",
    "    index2 = int(random.random() * test_x.size(0))\n",
    "    \n",
    "    z1 = model.encoder(test_x[index1].view(1,-1))\n",
    "    z2 = model.encoder(test_x[index2].view(1,-1))\n",
    "    \n",
    "    recon = model.decoder((z1 + z2) / 2).squeeze()\n",
    "    \n",
    "    show_image(test_x[index1])\n",
    "    show_image(test_x[index2])\n",
    "    show_image(test_x[index1] + test_x[index2] / 2)\n",
    "    show_image(recon)"
   ]
  }
 ],
 "metadata": {
  "kernelspec": {
   "display_name": "Python 3",
   "language": "python",
   "name": "python3"
  },
  "language_info": {
   "codemirror_mode": {
    "name": "ipython",
    "version": 3
   },
   "file_extension": ".py",
   "mimetype": "text/x-python",
   "name": "python",
   "nbconvert_exporter": "python",
   "pygments_lexer": "ipython3",
   "version": "3.8.5"
  }
 },
 "nbformat": 4,
 "nbformat_minor": 4
}
