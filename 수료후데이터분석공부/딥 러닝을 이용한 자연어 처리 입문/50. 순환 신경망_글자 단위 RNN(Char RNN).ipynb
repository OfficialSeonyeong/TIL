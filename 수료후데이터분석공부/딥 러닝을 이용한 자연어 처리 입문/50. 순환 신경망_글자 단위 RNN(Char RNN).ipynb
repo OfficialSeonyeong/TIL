{
 "cells": [
  {
   "cell_type": "markdown",
   "metadata": {},
   "source": [
    "이번에는 입출력의 단위를 단어 레벨(word-level)이 아닌 글자 레벨(character-level)로 변경해 RNN을 구현\n",
    "\n",
    "## 1. 글자 단위 RNN 언어 모델(Char RNNLM)\n",
    "* 이전 시점의 예측 글자를 다음 시점의 입력으로 사용하는 글자 단위 RNN 언어 모델을 구현\n",
    "* 글자 단위를 입, 출력으로 사용하므로 임베딩층(embedding layer)을 사용하지 않고 구현\n",
    "\n",
    "### 1) 데이터에 대한 이해와 전처리"
   ]
  },
  {
   "cell_type": "code",
   "execution_count": 1,
   "metadata": {},
   "outputs": [],
   "source": [
    "import warnings\n",
    "warnings.filterwarnings('ignore')\n",
    "\n",
    "import numpy as np\n",
    "import urllib.request\n",
    "from tensorflow.keras.utils import to_categorical"
   ]
  },
  {
   "cell_type": "code",
   "execution_count": 2,
   "metadata": {},
   "outputs": [],
   "source": [
    "urllib.request.urlretrieve(\"http://www.gutenberg.org/files/11/11-0.txt\", filename=\"11-0.txt\")\n",
    "f = open('11-0.txt', 'rb')\n",
    "lines = []\n",
    "for line in f:\n",
    "    line=line.strip() # strip()을 통해 \\r, \\n을 제거한다.\n",
    "    line=line.lower() # 소문자화\n",
    "    line=line.decode('ascii','ignore') # \\xe2\\x80\\x99 등과 같은 바이트 열 제거\n",
    "    if len(line) > 0:\n",
    "        lines.append(line)\n",
    "        \n",
    "f.close()"
   ]
  },
  {
   "cell_type": "code",
   "execution_count": 3,
   "metadata": {},
   "outputs": [
    {
     "data": {
      "text/plain": [
       "['the project gutenberg ebook of alices adventures in wonderland, by lewis carroll',\n",
       " 'this ebook is for the use of anyone anywhere in the united states and',\n",
       " 'most other parts of the world at no cost and with almost no restrictions',\n",
       " 'whatsoever. you may copy it, give it away or re-use it under the terms',\n",
       " 'of the project gutenberg license included with this ebook or online at']"
      ]
     },
     "execution_count": 3,
     "metadata": {},
     "output_type": "execute_result"
    }
   ],
   "source": [
    "lines[:5]"
   ]
  },
  {
   "cell_type": "code",
   "execution_count": 4,
   "metadata": {},
   "outputs": [
    {
     "name": "stdout",
     "output_type": "stream",
     "text": [
      "문자열의 길이 또는 총 글자의 개수: 159484\n"
     ]
    }
   ],
   "source": [
    "# 하나의 문자열로 통합\n",
    "text = ' '.join(lines)\n",
    "print('문자열의 길이 또는 총 글자의 개수: %d' % len(text))"
   ]
  },
  {
   "cell_type": "code",
   "execution_count": 5,
   "metadata": {},
   "outputs": [
    {
     "name": "stdout",
     "output_type": "stream",
     "text": [
      "the project gutenberg ebook of alices adventures in wonderland, by lewis carroll this ebook is for the use of anyone anywhere in the united states and most other parts of the world at no cost and with\n"
     ]
    }
   ],
   "source": [
    "print(text[:200])"
   ]
  },
  {
   "cell_type": "code",
   "execution_count": 6,
   "metadata": {},
   "outputs": [
    {
     "name": "stdout",
     "output_type": "stream",
     "text": [
      "글자 집합의 크기 : 56\n"
     ]
    }
   ],
   "source": [
    "# 글자 집합\n",
    "char_vocab = sorted(list(set(text)))\n",
    "vocab_size = len(char_vocab)\n",
    "print('글자 집합의 크기 : {}'.format(vocab_size))"
   ]
  },
  {
   "cell_type": "markdown",
   "metadata": {},
   "source": [
    "* 영어가 훈련 데이터일 때 대부분의 경우에서 글자 집합의 크기가 단어 집합을 사용했을 경우보다 집합의 크기가 현저히 작다는 특징이 있다."
   ]
  },
  {
   "cell_type": "code",
   "execution_count": 7,
   "metadata": {},
   "outputs": [
    {
     "name": "stdout",
     "output_type": "stream",
     "text": [
      "{' ': 0, '!': 1, '\"': 2, '#': 3, '$': 4, '%': 5, \"'\": 6, '(': 7, ')': 8, '*': 9, ',': 10, '-': 11, '.': 12, '/': 13, '0': 14, '1': 15, '2': 16, '3': 17, '4': 18, '5': 19, '6': 20, '7': 21, '8': 22, '9': 23, ':': 24, ';': 25, '?': 26, '[': 27, ']': 28, '_': 29, 'a': 30, 'b': 31, 'c': 32, 'd': 33, 'e': 34, 'f': 35, 'g': 36, 'h': 37, 'i': 38, 'j': 39, 'k': 40, 'l': 41, 'm': 42, 'n': 43, 'o': 44, 'p': 45, 'q': 46, 'r': 47, 's': 48, 't': 49, 'u': 50, 'v': 51, 'w': 52, 'x': 53, 'y': 54, 'z': 55}\n"
     ]
    }
   ],
   "source": [
    "# 글자 집합에 인덱스를 부여하고 전부 출력\n",
    "char_to_index = dict((c,i) for i,c in enumerate(char_vocab))\n",
    "print(char_to_index)"
   ]
  },
  {
   "cell_type": "code",
   "execution_count": 8,
   "metadata": {},
   "outputs": [],
   "source": [
    "# 인덱스로부터 글자 리턴\n",
    "index_to_char={}\n",
    "for key, value in char_to_index.items():\n",
    "    index_to_char[value] = key"
   ]
  },
  {
   "cell_type": "code",
   "execution_count": 9,
   "metadata": {},
   "outputs": [
    {
     "name": "stdout",
     "output_type": "stream",
     "text": [
      "문장 샘플의 수 : 2658\n"
     ]
    }
   ],
   "source": [
    "# text 문자열로부터 다수의 문장 샘플들로 분리\n",
    "\n",
    "seq_length = 60 # 문장의 길이를 60으로 한다.\n",
    "n_samples = int(np.floor((len(text)-1)/seq_length)) # 문자열을 60등분한다. 그러면 즉, 총 샘플의 개수\n",
    "print ('문장 샘플의 수 : {}'.format(n_samples))"
   ]
  },
  {
   "cell_type": "code",
   "execution_count": 10,
   "metadata": {},
   "outputs": [],
   "source": [
    "train_X = []\n",
    "train_y = []\n",
    "\n",
    "for i in range(n_samples):\n",
    "    X_sample = text[i*seq_length: (i+1) * seq_length]\n",
    "    X_encoded = [char_to_index[c] for c in X_sample] # 하나의 문장 샘플에 대해 정수 인코딩\n",
    "    train_X.append(X_encoded)\n",
    "    \n",
    "    y_sample = text[i*seq_length + 1: (i+1)*seq_length + 1]\n",
    "    y_encoded = [char_to_index[c] for c in y_sample]\n",
    "    train_y.append(y_encoded)"
   ]
  },
  {
   "cell_type": "code",
   "execution_count": 11,
   "metadata": {},
   "outputs": [
    {
     "name": "stdout",
     "output_type": "stream",
     "text": [
      "[49, 37, 34, 0, 45, 47, 44, 39, 34, 32, 49, 0, 36, 50, 49, 34, 43, 31, 34, 47, 36, 0, 34, 31, 44, 44, 40, 0, 44, 35, 0, 30, 41, 38, 32, 34, 48, 0, 30, 33, 51, 34, 43, 49, 50, 47, 34, 48, 0, 38, 43, 0, 52, 44, 43, 33, 34, 47, 41, 30]\n"
     ]
    }
   ],
   "source": [
    "print(train_X[0])"
   ]
  },
  {
   "cell_type": "code",
   "execution_count": 12,
   "metadata": {
    "scrolled": true
   },
   "outputs": [
    {
     "name": "stdout",
     "output_type": "stream",
     "text": [
      "[37, 34, 0, 45, 47, 44, 39, 34, 32, 49, 0, 36, 50, 49, 34, 43, 31, 34, 47, 36, 0, 34, 31, 44, 44, 40, 0, 44, 35, 0, 30, 41, 38, 32, 34, 48, 0, 30, 33, 51, 34, 43, 49, 50, 47, 34, 48, 0, 38, 43, 0, 52, 44, 43, 33, 34, 47, 41, 30, 43]\n"
     ]
    }
   ],
   "source": [
    "print(train_y[0]) # train_X[0]에서 오른쪽으로 한 칸 쉬프트 된 문장"
   ]
  },
  {
   "cell_type": "markdown",
   "metadata": {},
   "source": [
    "글자 단위 RNN에서는 입력 시퀀스에 대해서 워드 임베딩을 하지 않습니다. "
   ]
  },
  {
   "cell_type": "code",
   "execution_count": 13,
   "metadata": {},
   "outputs": [],
   "source": [
    "# 원-핫 인코딩\n",
    "train_X = to_categorical(train_X)\n",
    "train_y = to_categorical(train_y)"
   ]
  },
  {
   "cell_type": "code",
   "execution_count": 14,
   "metadata": {},
   "outputs": [
    {
     "name": "stdout",
     "output_type": "stream",
     "text": [
      "train_X의 크기(shape) : (2658, 60, 56)\n",
      "train_y의 크기(shape) : (2658, 60, 56)\n"
     ]
    }
   ],
   "source": [
    "print('train_X의 크기(shape) : {}'.format(train_X.shape)) # 원-핫 인코딩\n",
    "print('train_y의 크기(shape) : {}'.format(train_y.shape)) # 원-핫 인코딩\n",
    "# 샘플의 수(No. of samples)가 2,658개, 입력 시퀀스의 길이(input_length)가 60, 각 벡터의 차원(input_dim)이 56"
   ]
  },
  {
   "cell_type": "markdown",
   "metadata": {},
   "source": [
    "### 2) 모델 설계하기"
   ]
  },
  {
   "cell_type": "code",
   "execution_count": 15,
   "metadata": {},
   "outputs": [],
   "source": [
    "from tensorflow.keras.models import Sequential\n",
    "from tensorflow.keras.layers import Dense, LSTM, TimeDistributed"
   ]
  },
  {
   "cell_type": "code",
   "execution_count": 16,
   "metadata": {},
   "outputs": [],
   "source": [
    "model = Sequential()\n",
    "model.add(LSTM(256, input_shape=(None, train_X.shape[2]), return_sequences=True))\n",
    "model.add(LSTM(256, return_sequences=True))\n",
    "model.add(TimeDistributed(Dense(vocab_size, activation='softmax')))"
   ]
  },
  {
   "cell_type": "code",
   "execution_count": null,
   "metadata": {},
   "outputs": [
    {
     "name": "stdout",
     "output_type": "stream",
     "text": [
      "Epoch 1/80\n",
      "84/84 - 22s - loss: 3.0820 - accuracy: 0.1816\n",
      "Epoch 2/80\n",
      "84/84 - 22s - loss: 2.7437 - accuracy: 0.2445\n",
      "Epoch 3/80\n",
      "84/84 - 25s - loss: 2.3934 - accuracy: 0.3304\n",
      "Epoch 4/80\n",
      "84/84 - 25s - loss: 2.2510 - accuracy: 0.3616\n",
      "Epoch 5/80\n",
      "84/84 - 25s - loss: 2.1466 - accuracy: 0.3848\n",
      "Epoch 6/80\n",
      "84/84 - 25s - loss: 2.0709 - accuracy: 0.4036\n",
      "Epoch 7/80\n",
      "84/84 - 29s - loss: 1.9946 - accuracy: 0.4242\n",
      "Epoch 8/80\n",
      "84/84 - 26s - loss: 1.9335 - accuracy: 0.4408\n",
      "Epoch 9/80\n",
      "84/84 - 27s - loss: 1.8775 - accuracy: 0.4557\n",
      "Epoch 10/80\n",
      "84/84 - 31s - loss: 1.8306 - accuracy: 0.4689\n",
      "Epoch 11/80\n",
      "84/84 - 27s - loss: 1.7854 - accuracy: 0.4807\n",
      "Epoch 12/80\n",
      "84/84 - 27s - loss: 1.7437 - accuracy: 0.4922\n",
      "Epoch 13/80\n",
      "84/84 - 30s - loss: 1.7078 - accuracy: 0.5019\n",
      "Epoch 14/80\n",
      "84/84 - 29s - loss: 1.6722 - accuracy: 0.5114\n",
      "Epoch 15/80\n",
      "84/84 - 28s - loss: 1.6369 - accuracy: 0.5203\n",
      "Epoch 16/80\n",
      "84/84 - 29s - loss: 1.6052 - accuracy: 0.5274\n",
      "Epoch 17/80\n",
      "84/84 - 29s - loss: 1.5721 - accuracy: 0.5369\n",
      "Epoch 18/80\n",
      "84/84 - 29s - loss: 1.5411 - accuracy: 0.5449\n",
      "Epoch 19/80\n",
      "84/84 - 30s - loss: 1.5109 - accuracy: 0.5533\n",
      "Epoch 20/80\n",
      "84/84 - 30s - loss: 1.4816 - accuracy: 0.5621\n",
      "Epoch 21/80\n",
      "84/84 - 30s - loss: 1.4603 - accuracy: 0.5674\n",
      "Epoch 22/80\n",
      "84/84 - 30s - loss: 1.4262 - accuracy: 0.5769\n",
      "Epoch 23/80\n",
      "84/84 - 29s - loss: 1.3974 - accuracy: 0.5857\n",
      "Epoch 24/80\n",
      "84/84 - 29s - loss: 1.3692 - accuracy: 0.5932\n",
      "Epoch 25/80\n",
      "84/84 - 29s - loss: 1.3451 - accuracy: 0.5994\n",
      "Epoch 26/80\n",
      "84/84 - 29s - loss: 1.3139 - accuracy: 0.6089\n",
      "Epoch 27/80\n",
      "84/84 - 29s - loss: 1.2873 - accuracy: 0.6165\n",
      "Epoch 28/80\n",
      "84/84 - 29s - loss: 1.2613 - accuracy: 0.6236\n",
      "Epoch 29/80\n",
      "84/84 - 32s - loss: 1.2343 - accuracy: 0.6312\n",
      "Epoch 30/80\n",
      "84/84 - 30s - loss: 1.2064 - accuracy: 0.6399\n",
      "Epoch 31/80\n",
      "84/84 - 29s - loss: 1.1819 - accuracy: 0.6465\n",
      "Epoch 32/80\n",
      "84/84 - 30s - loss: 1.1559 - accuracy: 0.6546\n",
      "Epoch 33/80\n",
      "84/84 - 30s - loss: 1.1223 - accuracy: 0.6646\n",
      "Epoch 34/80\n",
      "84/84 - 31s - loss: 1.0948 - accuracy: 0.6723\n",
      "Epoch 35/80\n",
      "84/84 - 30s - loss: 1.0671 - accuracy: 0.6812\n",
      "Epoch 36/80\n",
      "84/84 - 30s - loss: 1.0429 - accuracy: 0.6874\n",
      "Epoch 37/80\n",
      "84/84 - 30s - loss: 1.0149 - accuracy: 0.6970\n",
      "Epoch 38/80\n",
      "84/84 - 29s - loss: 0.9872 - accuracy: 0.7055\n",
      "Epoch 39/80\n",
      "84/84 - 30s - loss: 0.9596 - accuracy: 0.7133\n",
      "Epoch 40/80\n",
      "84/84 - 31s - loss: 0.9294 - accuracy: 0.7226\n",
      "Epoch 41/80\n",
      "84/84 - 31s - loss: 0.9032 - accuracy: 0.7313\n",
      "Epoch 42/80\n",
      "84/84 - 30s - loss: 0.8793 - accuracy: 0.7389\n",
      "Epoch 43/80\n",
      "84/84 - 31s - loss: 0.8533 - accuracy: 0.7471\n",
      "Epoch 44/80\n",
      "84/84 - 31s - loss: 0.8205 - accuracy: 0.7574\n",
      "Epoch 45/80\n",
      "84/84 - 32s - loss: 0.7956 - accuracy: 0.7658\n",
      "Epoch 46/80\n"
     ]
    }
   ],
   "source": [
    "model.compile(loss='categorical_crossentropy', optimizer='adam', metrics=['accuracy'])\n",
    "model.fit(train_X, train_y, epochs=80, verbose=2)"
   ]
  },
  {
   "cell_type": "code",
   "execution_count": null,
   "metadata": {},
   "outputs": [],
   "source": [
    "def sentence_generation(model, length):\n",
    "    ix = [np.random.randint(vocab_size)]  # 글자에 대한 0~vocab_size 사이의 난수 1개 랜덤 인덱스 생성\n",
    "    y_char = [index_to_char[ix[-1]]] # 랜덤 인덱스로부터 글자 생성\n",
    "    print(ix[-1],'번 글자',y_char[-1],'로 예측을 시작!')\n",
    "    X = np.zeros((1, length, vocab_size))  # (1, length, 55) 크기의 X 생성. 즉, LSTM의 입력 시퀀스 생성\n",
    "    \n",
    "    for i in range(length):\n",
    "        x[0][i][ix[-1]] = 1  # X[0][i][예측한 글자의 인덱스] = 1, 즉, 예측 글자를 다음 입력 시퀀스에 추가\n",
    "        print(index_to_char[ix[-1]], end=\"\")\n",
    "        ix = np.argmax(model.predict(X[:,:i+1,:])[0], 1)\n",
    "        y_char.append(index_to_char[ix[-1]])\n",
    "    return ('').join(y_char)"
   ]
  },
  {
   "cell_type": "code",
   "execution_count": 19,
   "metadata": {},
   "outputs": [
    {
     "data": {
      "text/plain": [
       "56"
      ]
     },
     "execution_count": 19,
     "metadata": {},
     "output_type": "execute_result"
    }
   ],
   "source": [
    "vocab_size"
   ]
  },
  {
   "cell_type": "code",
   "execution_count": null,
   "metadata": {},
   "outputs": [],
   "source": [
    "sentence_generation(model, 100)"
   ]
  },
  {
   "cell_type": "markdown",
   "metadata": {},
   "source": [
    "##  2. 글자 단위 RNN(Char RNN)으로 텍스트 생성하기\n",
    "다 대 일(many-to-one) 구조의 RNN\n",
    "\n",
    "### 1) 데이터에 대한 이해와 전처리"
   ]
  },
  {
   "cell_type": "code",
   "execution_count": null,
   "metadata": {},
   "outputs": [],
   "source": [
    "import numpy as np\n",
    "from tensorflow.keras.utils import to_categorical"
   ]
  },
  {
   "cell_type": "code",
   "execution_count": 21,
   "metadata": {},
   "outputs": [],
   "source": [
    "# 가상의 노래 가사\n",
    "text='''\n",
    "I get on with life as a programmer,\n",
    "I like to contemplate beer.\n",
    "But when I start to daydream,\n",
    "My mind turns straight to wine.\n",
    "\n",
    "Do I love wine more than beer?\n",
    "\n",
    "I like to use words about beer.\n",
    "But when I stop my talking,\n",
    "My mind turns straight to wine.\n",
    "\n",
    "I hate bugs and errors.\n",
    "But I just think back to wine,\n",
    "And I'm happy once again.\n",
    "\n",
    "I like to hang out with programming and deep learning.\n",
    "But when left alone,\n",
    "My mind turns straight to wine.\n",
    "'''"
   ]
  },
  {
   "cell_type": "code",
   "execution_count": 27,
   "metadata": {},
   "outputs": [
    {
     "name": "stdout",
     "output_type": "stream",
     "text": [
      "I get on with life as a programmer, I like to contemplate beer. But when I start to daydream, My mind turns straight to wine. Do I love wine more than beer? I like to use words about beer. But when I stop my talking, My mind turns straight to wine. I hate bugs and errors. But I just think back to wine, And I'm happy once again. I like to hang out with programming and deep learning. But when left alone, My mind turns straight to wine.\n"
     ]
    }
   ],
   "source": [
    "# 단락 구분을 없애고 하나의 문자열로 재저장\n",
    "tokens = text.split() # '\\n' 저장\n",
    "text = ' '.join(tokens)\n",
    "print(text)"
   ]
  }
 ],
 "metadata": {
  "kernelspec": {
   "display_name": "Python 3",
   "language": "python",
   "name": "python3"
  },
  "language_info": {
   "codemirror_mode": {
    "name": "ipython",
    "version": 3
   },
   "file_extension": ".py",
   "mimetype": "text/x-python",
   "name": "python",
   "nbconvert_exporter": "python",
   "pygments_lexer": "ipython3",
   "version": "3.8.5"
  }
 },
 "nbformat": 4,
 "nbformat_minor": 4
}
