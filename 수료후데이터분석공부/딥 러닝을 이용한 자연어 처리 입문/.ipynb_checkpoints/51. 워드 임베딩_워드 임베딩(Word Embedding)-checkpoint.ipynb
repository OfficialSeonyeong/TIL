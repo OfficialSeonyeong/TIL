{
 "cells": [
  {
   "cell_type": "markdown",
   "metadata": {},
   "source": [
    "# 워드 임베딩(Word Embedding)\n",
    "워드 임베딩: 단어를 벡터로 표현하는 방법, 단어를 밀집 표현으로 변환\n",
    "\n",
    "## 1. 희소 표현(Sparse Representation)\n",
    "* 원-핫 인코딩처럼 벡터 또는 행렬의 값이 대부분 0으로 표현되는 방법을 희소 표현이라고 한다. 원-핫 벡터는 희소 벡터(sparse vector)이다.\n",
    "* 희소 벡터의 문제점은 단어의 개수가 늘어나면 벡터의 차원이 한없이 커져 공간적 낭비를 일으킨다.\n",
    "* 또한, 단어의 의미를 담지 못한다.\n",
    "\n",
    "\n",
    "## 2. 밀집 표현(Dense Representation)\n",
    "* 벡터의 차원을 단어 집합의 크기로 상정하지 않는다. 사용자가 설정한 값으로 모든 단어의 벡터 표현의 차원을 맞춘다. \n",
    "* 이 과정에서 더 이상 0과 1만이 아닌 실수값을 가지게 된다.\n",
    "\n",
    "## 3. 워드 임베딩(Word Embedding)\n",
    "* 단어를 밀집 벡터(dense vector)의 형태로 표현하는 방법\n",
    "* 밀집 벡터를 임베딩 벡터(embedding vector)라고 한다.\n",
    "* LSA, Word2Vec, FastText, Glove 등"
   ]
  }
 ],
 "metadata": {
  "kernelspec": {
   "display_name": "Python 3",
   "language": "python",
   "name": "python3"
  },
  "language_info": {
   "codemirror_mode": {
    "name": "ipython",
    "version": 3
   },
   "file_extension": ".py",
   "mimetype": "text/x-python",
   "name": "python",
   "nbconvert_exporter": "python",
   "pygments_lexer": "ipython3",
   "version": "3.7.6"
  }
 },
 "nbformat": 4,
 "nbformat_minor": 4
}
