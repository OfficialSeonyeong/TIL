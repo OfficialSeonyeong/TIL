{
 "cells": [
  {
   "cell_type": "markdown",
   "metadata": {},
   "source": [
    "* 케라스는 유저가 손쉽게 딥 러닝을 구현할 수 있도록 도와주는 상위 레벨의 인터페이스\n",
    "\n",
    "## 1. 전처리(Preprocessing)\n",
    "**Tokenizer()** : 토큰화와 정수 인코딩(단어에 대한 인덱싱)을 위해 사용"
   ]
  },
  {
   "cell_type": "code",
   "execution_count": 1,
   "metadata": {},
   "outputs": [
    {
     "name": "stdout",
     "output_type": "stream",
     "text": [
      "sequences : [1, 2, 3, 4, 6, 7, 8]\n",
      "word_index :  {'the': 1, 'earth': 2, 'is': 3, 'an': 4, 'awesome': 5, 'place': 6, 'to': 7, 'live': 8}\n"
     ]
    }
   ],
   "source": [
    "import warnings\n",
    "warnings.filterwarnings('ignore')\n",
    "\n",
    "from tensorflow.keras.preprocessing.text import Tokenizer\n",
    "\n",
    "t = Tokenizer()\n",
    "fit_text = \"The earth is an awesome place to live\"\n",
    "t.fit_on_texts([fit_text])\n",
    "\n",
    "test_text = \"The earth is an great place to live\"\n",
    "sequences = t.texts_to_sequences([test_text])[0]\n",
    "\n",
    "print('sequences :', sequences) # great는 단어 집합(vocabulary)에 없으므로 출력되지 않는다.\n",
    "print(\"word_index : \",t.word_index) # 단어 집합(vocabulary) 출력"
   ]
  },
  {
   "cell_type": "markdown",
   "metadata": {},
   "source": [
    "**pad_sequences()** : 전체 훈련 데이터에서 각 샘플의 길이는 서로 다를 수 있다. \n",
    "\n",
    "모델의 입력으로 사용하려면 모든 샘플의 길이를 동일하게 맞춰야 할 때가 있다. => 패딩(padding) 작업\n",
    "\n",
    "보통 숫자 0을 넣어서 길이가 다른 샘플의 길이를 맞춰준다."
   ]
  },
  {
   "cell_type": "code",
   "execution_count": 2,
   "metadata": {},
   "outputs": [
    {
     "data": {
      "text/plain": [
       "array([[1, 2, 3],\n",
       "       [4, 5, 6],\n",
       "       [0, 7, 8]])"
      ]
     },
     "execution_count": 2,
     "metadata": {},
     "output_type": "execute_result"
    }
   ],
   "source": [
    "from tensorflow.keras.preprocessing.sequence import pad_sequences\n",
    "\n",
    "pad_sequences([[1, 2, 3], [3, 4, 5, 6], [7, 8]], maxlen=3, padding='pre')\n",
    "# 전처리가 끝나서 각 단어에 대한 정수 인코딩이 끝났다고 가정하고, 3개의 데이터를 입력으로 한다."
   ]
  },
  {
   "cell_type": "markdown",
   "metadata": {},
   "source": [
    "## 2. 워드 임베딩(Word Embedding)\n",
    "* 워드 임베딩이란 텍스트 내의 단어들을 밀집 벡터(dense vector)로 만드는 것\n",
    "* 원-핫 벡터의 차원이 주로 20,000 이상을 넘어가는 것과는 달리 임베딩 벡터는 주로 256, 512, 1024 등의 차원을 가진다.\n",
    "* 임베딩 벡터는 초기에는 랜덤값을 가지지만, 인공 신경망의 가중치가 학습되는 방법과 같은 방식으로 값이 학습되며 변경된다.\n",
    "* **Embedding()** \n",
    "    * 단어를 밀집 벡터로 만드는 역할\n",
    "    * 인공 신경망 용어로는 임베딩 층(embedding layer)을 만드는 역할\n",
    "    * 정수 인코딩이 된 단어들을 입력 받아서 임베딩 수행\n",
    "    * (number of samples, input_length)인 2D 정수 텐서를 입력받는다. 이 때 각 sample은 정수 인코딩이 된 결과로 정수의 시퀀스이다.\n",
    "    * 워드 임베딩 작업을 수행 후, (number of samples, input_length, embedding word dimensionality)인 3D 텐서 리턴"
   ]
  },
  {
   "cell_type": "code",
   "execution_count": null,
   "metadata": {},
   "outputs": [],
   "source": [
    "# 문장 토큰화와 단어 토큰화\n",
    "text=[['Hope', 'to', 'see', 'you', 'soon'],['Nice', 'to', 'see', 'you', 'again']]\n",
    "\n",
    "# 각 단어에 대한 정수 인코딩\n",
    "text=[[0, 1, 2, 3, 4],[5, 1, 2, 3, 6]]\n",
    "\n",
    "# 위 데이터가 아래의 임베딩 층의 입력이 된다.\n",
    "Embedding(7, 2, input_length=5)\n",
    "# 7은 단어의 개수. 즉, 단어 집합(vocabulary)의 크기이다.\n",
    "# 2는 임베딩한 후의 벡터의 크기이다.\n",
    "# 5는 각 입력 시퀀스의 길이. 즉, input_length이다.\n",
    "\n",
    "# 각 정수는 아래의 테이블의 인덱스로 사용되며 Embeddig()은 각 단어에 대해 임베딩 벡터를 리턴한다.\n",
    "+-----------+-----------+\n",
    "|   index    | embedding  |\n",
    "+------------+----------+\n",
    "|     0      | [1.2, 3.1] |\n",
    "|     1      | [0.1, 4.2] |\n",
    "|     2      | [1.0, 3.1] |\n",
    "|     3      | [0.3, 2.1] |\n",
    "|     4      | [2.2, 1.4] |\n",
    "|     5      | [0.7, 1.7] |\n",
    "|     6      | [4.1, 2.0] |\n",
    "+-----------+------------+\n",
    "# 위의 표는 임베딩 벡터가 된 결과를 예로서 정리한 것이고 Embedding()의 출력인 3D 텐서를 보여주는 것이 아님."
   ]
  },
  {
   "cell_type": "markdown",
   "metadata": {},
   "source": [
    "## 3. 모델링(Modeling)\n",
    "**Sequential()** : 인공 신경망에서 입력층, 은닉층, 출력층을 구성하기 위해 사용\n",
    "\n",
    "Sequential()을 model로 선언한 뒤에 model.add()라는 코드를 통해 층을 단계적으로 추가\n",
    "\n",
    "```from tensorflow.keras.models import Sequential```\n",
    "\n",
    "```model = Sequential()```\n",
    "\n",
    "```model.add()```\n",
    "\n",
    "```model.add()```\n",
    "\n",
    "Embedding()을 통해 생성하는 임베딩 층(embedding layer) 또한 인공 신경망의 층의 하나이므로 model.add()로 추가\n",
    "\n",
    "```from tensorflow.keras.models import Sequential```\n",
    "\n",
    "```model = Sequential()```\n",
    "\n",
    "```model.add(Embedding(vocabulary, output_dim, input_length))```\n",
    "\n",
    "**Dense()** : 전결합층(fully-conntected layer) 추가\n",
    "\n",
    "```from tensorflow.keras.models import Sequential```\n",
    "\n",
    "```from tensorflow.keras.layers import Dense```\n",
    "\n",
    "```model = Sequential()```\n",
    "\n",
    "```model.add(Dense(1, input_dim=3, activation='relu'))```\n",
    "* 첫번째 인자 = 출력 뉴런의 수\n",
    "* input_dim = 입력 뉴런의 수 (입력의 차원)\n",
    "* activation = 활성화 함수"
   ]
  },
  {
   "cell_type": "code",
   "execution_count": null,
   "metadata": {},
   "outputs": [],
   "source": [
    "from tensorflow.keras.models import Sequential\n",
    "from tensorflow.keras.layers import Dense\n",
    "model = Sequential()\n",
    "model.add(Dense(8, input_dim=4, activation='relu'))\n",
    "model.add(Dense(1, activation='sigmoid')) # 출력층"
   ]
  },
  {
   "cell_type": "markdown",
   "metadata": {},
   "source": [
    "이번에는 Dense()가 두번 사용\n",
    "\n",
    "첫 번째 사용된 Dense()의 8은 더 이상 출력층의 뉴런이 아니라 은닉층의 뉴런이다.\n",
    "\n",
    "두 번째 Dense()는 input_dim 인자가 없지만 이전층의 뉴런의 수가 8이라는 것을 알고 있다.\n",
    "\n",
    "**summary()**: 모델의 정보 요약\n",
    "\n",
    "```model.summary()``` # 위의 코드 연장선 상에 있는 코드"
   ]
  },
  {
   "cell_type": "markdown",
   "metadata": {},
   "source": [
    "## 4. 컴파일(Compile)과 훈련(Training)\n",
    "**compile()** : 모델을 기계가 이해할 수 있도록 컴파일, 오차 함수와 최적화 방법, 메트릭 함수 선택"
   ]
  },
  {
   "cell_type": "code",
   "execution_count": null,
   "metadata": {},
   "outputs": [],
   "source": [
    "from tensorflow.keras.layers import SimpleRNN, Embedding, Dense\n",
    "from tensorflow.keras.models import Sequential\n",
    "max_features = 10000\n",
    "\n",
    "model = Sequential()\n",
    "model.add(Embedding(max_features, 32))\n",
    "model.add(SimpleRNN(32))\n",
    "model.add(Dense(1, activation='sigmoid'))\n",
    "model.compile(optimizer='rmsprop', loss='binary_crossentropy', metrics=['acc'])"
   ]
  },
  {
   "cell_type": "markdown",
   "metadata": {},
   "source": [
    "* optimizer : 훈련 과정을 설정하는 옵티마이저 설정\n",
    "* loss : 훈련 과정에서 사용할 손실 함수(loss function) 설정\n",
    "* metrics : 훈련을 모니터링하기 위한 지표 선택\n",
    "\n",
    "<대표적으로 사용되는 손실 함수와 활성화 함수의 조합>\n",
    "\n",
    "문제유형     |                  손실 함수명                   | 활성화함수명\n",
    "\n",
    "  회귀문제         | mean_squared_error(평균 제곱 오차)             | -\n",
    "\n",
    "  다중 클래스 분류 | categorical_crossentropy(범주형 교차 엔트로피) | 소프트맥스\n",
    "\n",
    "다중 클래스 분류 | sparse_categorical_crossentropy                | 소프트맥스\n",
    "\n",
    "이진 분류        | binary_crossentropy(이항 교차 엔트로피)        | 시그모이드"
   ]
  },
  {
   "cell_type": "markdown",
   "metadata": {},
   "source": [
    "**fit()** : 모델 학습, 모델이 오차로부터 매개 변수를 업데이트 시키는 과정을 학습, 훈련, 또는 적합(fitting)"
   ]
  },
  {
   "cell_type": "code",
   "execution_count": null,
   "metadata": {},
   "outputs": [],
   "source": [
    "# 위의 compile() 코드의 연장 선상에 있는 코드\n",
    "model.fit(X_train, y_train, epochs=10, batch_size=32)"
   ]
  },
  {
   "cell_type": "markdown",
   "metadata": {},
   "source": [
    "* 훈련 데이터, 레이블 데이터, 에포크(총 훈련 횟수), 배치 크기(기본값은 32, 미니 매치 경사 하강법을 사용하고 싶지 않을 경우 batch_size=None)"
   ]
  },
  {
   "cell_type": "code",
   "execution_count": null,
   "metadata": {},
   "outputs": [],
   "source": [
    "# 좀 더 많은 인자를 사용하는 경우\n",
    "model.fit(X_train, y_train, epochs=10, batch_size=32, verbose=0, validation_data(X_val, y_val))"
   ]
  },
  {
   "cell_type": "markdown",
   "metadata": {},
   "source": [
    "* **validation_data(X_val, y_val)** : \n",
    "    * 검증 데이터(validation data)를 사용\n",
    "    * 검증 데이터를 사용하면 각 에포크마다 검증 데이터의 정확도도 함께 출력된다.\n",
    "    * 실제로 모델이 검증 데이터를 학습하지는 않는다.\n",
    "    * 검증 데이터의 loss가 낮아지다가 높아지기 시작하면 이는 과적합(overfitting)의 신호이다.\n",
    "\n",
    "* **validation_split** :\n",
    "    * validation_data 대신 사용\n",
    "    * X_train과 y_train에서 일정 비율을 분리하여 이를 검증 데이터로 사용\n",
    "    * 이 또한 학습하지 않고 훈련 과정을 지켜보는 용도로 사용\n",
    "\n",
    "* **verbose** : 학습 중 출력되는 문구를 설정\n",
    "    * 0 : 아무 것도 출력하지 않는다.\n",
    "    - 1 : 훈련의 진행도를 보여주는 진행 막대를 보여준다.\n",
    "    - 2 : 미니 배치마다 손실 정보를 출력"
   ]
  },
  {
   "cell_type": "code",
   "execution_count": null,
   "metadata": {},
   "outputs": [],
   "source": [
    "# 훈련 데이터의 20%를 검증 데이터로 사용.\n",
    "model.fit(X_train, y_train, epochs=10, batch_size=32, verbose=0, validation_split=0.2))"
   ]
  },
  {
   "cell_type": "code",
   "execution_count": null,
   "metadata": {},
   "outputs": [],
   "source": [
    "# verbose = 1일 경우.\n",
    "Epoch 88/100\n",
    "7/7 [==============================] - 0s 143us/step - loss: 0.1029 - acc: 1.0000\n",
    "        \n",
    "# verbose = 2일 경우.\n",
    "Epoch 88/100\n",
    " - 0s - loss: 0.1475 - acc: 1.0000"
   ]
  },
  {
   "cell_type": "markdown",
   "metadata": {},
   "source": [
    "## 5. 평가(Evaluation)와 예측(Prediction)\n",
    "**evaluate()** : 테스트 데이터를 통해 학습한 모델에 대한 정확도 평가"
   ]
  },
  {
   "cell_type": "code",
   "execution_count": null,
   "metadata": {},
   "outputs": [],
   "source": [
    "# 위의 fit() 코드의 연장선상인 코드\n",
    "model.evaluate(X_test, y_test, batch_size=32)"
   ]
  },
  {
   "cell_type": "markdown",
   "metadata": {},
   "source": [
    "* 첫번째 인자 = 테스트 데이터\n",
    "* 두번째 인자 = 레이블 테스트 데이터\n",
    "* batch_size = 배치 크기\n",
    "\n",
    "\n",
    "**predict()** : 임의의 입력에 대한 모델의 출력값을 확인"
   ]
  },
  {
   "cell_type": "code",
   "execution_count": null,
   "metadata": {},
   "outputs": [],
   "source": [
    "# 위의 fit() 코드의 연장선상인 코드\n",
    "model.predict(X_input, batch_size=32)"
   ]
  },
  {
   "cell_type": "markdown",
   "metadata": {},
   "source": [
    "* 첫번째 인자 = 예측하고자 하는 데이터\n",
    "* batch_size = 배치 크기"
   ]
  },
  {
   "cell_type": "markdown",
   "metadata": {},
   "source": [
    "## 6. 모델의 저장(Save)과 로드(Load)\n",
    "*구현한 모델을 저장하고 불러오는 일은 중요하다.*\n",
    "\n",
    "**save()** : 인공 신경망 모델을 hdf5 파일에 저장\n",
    "\n",
    "**load_model()** : 저장해둔 모델을 불러오기"
   ]
  },
  {
   "cell_type": "code",
   "execution_count": null,
   "metadata": {},
   "outputs": [],
   "source": [
    "model.save(\"model_name.h5\")\n",
    "\n",
    "from tensorflow.keras.models import load_model\n",
    "model = load_model(\"model_name.h5\")"
   ]
  }
 ],
 "metadata": {
  "kernelspec": {
   "display_name": "Python 3",
   "language": "python",
   "name": "python3"
  },
  "language_info": {
   "codemirror_mode": {
    "name": "ipython",
    "version": 3
   },
   "file_extension": ".py",
   "mimetype": "text/x-python",
   "name": "python",
   "nbconvert_exporter": "python",
   "pygments_lexer": "ipython3",
   "version": "3.7.6"
  }
 },
 "nbformat": 4,
 "nbformat_minor": 4
}
