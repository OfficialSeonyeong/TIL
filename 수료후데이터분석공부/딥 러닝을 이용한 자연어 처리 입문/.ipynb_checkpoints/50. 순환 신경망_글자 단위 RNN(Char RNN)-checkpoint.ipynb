{
 "cells": [
  {
   "cell_type": "markdown",
   "metadata": {
    "id": "4ynS0KaN6Sg2"
   },
   "source": [
    "이번에는 입출력의 단위를 단어 레벨(word-level)이 아닌 글자 레벨(character-level)로 변경해 RNN을 구현\n",
    "\n",
    "## 1. 글자 단위 RNN 언어 모델(Char RNNLM)\n",
    "* 이전 시점의 예측 글자를 다음 시점의 입력으로 사용하는 글자 단위 RNN 언어 모델을 구현\n",
    "* 글자 단위를 입, 출력으로 사용하므로 임베딩층(embedding layer)을 사용하지 않고 구현\n",
    "\n",
    "### 1) 데이터에 대한 이해와 전처리"
   ]
  },
  {
   "cell_type": "code",
   "execution_count": 1,
   "metadata": {
    "executionInfo": {
     "elapsed": 2099,
     "status": "ok",
     "timestamp": 1622640529408,
     "user": {
      "displayName": "윤선영",
      "photoUrl": "",
      "userId": "03257090453356543910"
     },
     "user_tz": -540
    },
    "id": "gCHvLuh46Sg7"
   },
   "outputs": [],
   "source": [
    "import warnings\n",
    "warnings.filterwarnings('ignore')\n",
    "\n",
    "import numpy as np\n",
    "import urllib.request\n",
    "from tensorflow.keras.utils import to_categorical"
   ]
  },
  {
   "cell_type": "code",
   "execution_count": 2,
   "metadata": {
    "executionInfo": {
     "elapsed": 1819,
     "status": "ok",
     "timestamp": 1622640531219,
     "user": {
      "displayName": "윤선영",
      "photoUrl": "",
      "userId": "03257090453356543910"
     },
     "user_tz": -540
    },
    "id": "SqEH6QRW6Sg8"
   },
   "outputs": [],
   "source": [
    "urllib.request.urlretrieve(\"http://www.gutenberg.org/files/11/11-0.txt\", filename=\"./data/11-0.txt\")\n",
    "f = open('./data/11-0.txt', 'rb')\n",
    "lines = []\n",
    "for line in f:\n",
    "    line=line.strip() # strip()을 통해 \\r, \\n을 제거한다.\n",
    "    line=line.lower() # 소문자화\n",
    "    line=line.decode('ascii','ignore') # \\xe2\\x80\\x99 등과 같은 바이트 열 제거\n",
    "    if len(line) > 0:\n",
    "        lines.append(line)\n",
    "        \n",
    "f.close()"
   ]
  },
  {
   "cell_type": "code",
   "execution_count": 3,
   "metadata": {
    "colab": {
     "base_uri": "https://localhost:8080/"
    },
    "executionInfo": {
     "elapsed": 22,
     "status": "ok",
     "timestamp": 1622640531220,
     "user": {
      "displayName": "윤선영",
      "photoUrl": "",
      "userId": "03257090453356543910"
     },
     "user_tz": -540
    },
    "id": "oaIr671R6Sg-",
    "outputId": "5651838a-aa61-4fa6-8e75-c6d4b50033d7"
   },
   "outputs": [
    {
     "data": {
      "text/plain": [
       "['the project gutenberg ebook of alices adventures in wonderland, by lewis carroll',\n",
       " 'this ebook is for the use of anyone anywhere in the united states and',\n",
       " 'most other parts of the world at no cost and with almost no restrictions',\n",
       " 'whatsoever. you may copy it, give it away or re-use it under the terms',\n",
       " 'of the project gutenberg license included with this ebook or online at']"
      ]
     },
     "execution_count": 3,
     "metadata": {},
     "output_type": "execute_result"
    }
   ],
   "source": [
    "lines[:5]"
   ]
  },
  {
   "cell_type": "code",
   "execution_count": 4,
   "metadata": {
    "colab": {
     "base_uri": "https://localhost:8080/"
    },
    "executionInfo": {
     "elapsed": 16,
     "status": "ok",
     "timestamp": 1622640531220,
     "user": {
      "displayName": "윤선영",
      "photoUrl": "",
      "userId": "03257090453356543910"
     },
     "user_tz": -540
    },
    "id": "PkbGK3Ub6Sg_",
    "outputId": "70308137-c1ab-46f0-81ca-75bef78de9dc"
   },
   "outputs": [
    {
     "name": "stdout",
     "output_type": "stream",
     "text": [
      "문자열의 길이 또는 총 글자의 개수: 159484\n"
     ]
    }
   ],
   "source": [
    "# 하나의 문자열로 통합\n",
    "text = ' '.join(lines)\n",
    "print('문자열의 길이 또는 총 글자의 개수: %d' % len(text))"
   ]
  },
  {
   "cell_type": "code",
   "execution_count": 5,
   "metadata": {
    "colab": {
     "base_uri": "https://localhost:8080/"
    },
    "executionInfo": {
     "elapsed": 12,
     "status": "ok",
     "timestamp": 1622640531221,
     "user": {
      "displayName": "윤선영",
      "photoUrl": "",
      "userId": "03257090453356543910"
     },
     "user_tz": -540
    },
    "id": "2lruUFkw6ShA",
    "outputId": "03862ba5-5fda-446f-d839-b0c429de96c7"
   },
   "outputs": [
    {
     "name": "stdout",
     "output_type": "stream",
     "text": [
      "the project gutenberg ebook of alices adventures in wonderland, by lewis carroll this ebook is for the use of anyone anywhere in the united states and most other parts of the world at no cost and with\n"
     ]
    }
   ],
   "source": [
    "print(text[:200])"
   ]
  },
  {
   "cell_type": "code",
   "execution_count": 6,
   "metadata": {
    "colab": {
     "base_uri": "https://localhost:8080/"
    },
    "executionInfo": {
     "elapsed": 11,
     "status": "ok",
     "timestamp": 1622640531222,
     "user": {
      "displayName": "윤선영",
      "photoUrl": "",
      "userId": "03257090453356543910"
     },
     "user_tz": -540
    },
    "id": "IXlIJ0fe6ShB",
    "outputId": "17e58983-4113-4d5b-a153-71a0c5f2add7"
   },
   "outputs": [
    {
     "name": "stdout",
     "output_type": "stream",
     "text": [
      "글자 집합의 크기 : 56\n"
     ]
    }
   ],
   "source": [
    "# 글자 집합\n",
    "char_vocab = sorted(list(set(text)))\n",
    "vocab_size = len(char_vocab)\n",
    "print('글자 집합의 크기 : {}'.format(vocab_size))"
   ]
  },
  {
   "cell_type": "markdown",
   "metadata": {
    "id": "AkJ1z5xy6ShB"
   },
   "source": [
    "* 영어가 훈련 데이터일 때 대부분의 경우에서 글자 집합의 크기가 단어 집합을 사용했을 경우보다 집합의 크기가 현저히 작다는 특징이 있다."
   ]
  },
  {
   "cell_type": "code",
   "execution_count": 7,
   "metadata": {
    "colab": {
     "base_uri": "https://localhost:8080/"
    },
    "executionInfo": {
     "elapsed": 538,
     "status": "ok",
     "timestamp": 1622640531752,
     "user": {
      "displayName": "윤선영",
      "photoUrl": "",
      "userId": "03257090453356543910"
     },
     "user_tz": -540
    },
    "id": "F574dPTf6ShC",
    "outputId": "b3eccead-d356-4140-945d-b4659f01ab7e"
   },
   "outputs": [
    {
     "name": "stdout",
     "output_type": "stream",
     "text": [
      "{' ': 0, '!': 1, '\"': 2, '#': 3, '$': 4, '%': 5, \"'\": 6, '(': 7, ')': 8, '*': 9, ',': 10, '-': 11, '.': 12, '/': 13, '0': 14, '1': 15, '2': 16, '3': 17, '4': 18, '5': 19, '6': 20, '7': 21, '8': 22, '9': 23, ':': 24, ';': 25, '?': 26, '[': 27, ']': 28, '_': 29, 'a': 30, 'b': 31, 'c': 32, 'd': 33, 'e': 34, 'f': 35, 'g': 36, 'h': 37, 'i': 38, 'j': 39, 'k': 40, 'l': 41, 'm': 42, 'n': 43, 'o': 44, 'p': 45, 'q': 46, 'r': 47, 's': 48, 't': 49, 'u': 50, 'v': 51, 'w': 52, 'x': 53, 'y': 54, 'z': 55}\n"
     ]
    }
   ],
   "source": [
    "# 글자 집합에 인덱스를 부여하고 전부 출력\n",
    "char_to_index = dict((c,i) for i,c in enumerate(char_vocab))\n",
    "print(char_to_index)"
   ]
  },
  {
   "cell_type": "code",
   "execution_count": 8,
   "metadata": {
    "executionInfo": {
     "elapsed": 20,
     "status": "ok",
     "timestamp": 1622640531752,
     "user": {
      "displayName": "윤선영",
      "photoUrl": "",
      "userId": "03257090453356543910"
     },
     "user_tz": -540
    },
    "id": "dJo2LY6U6ShC"
   },
   "outputs": [],
   "source": [
    "# 인덱스로부터 글자 리턴\n",
    "index_to_char={}\n",
    "for key, value in char_to_index.items():\n",
    "    index_to_char[value] = key"
   ]
  },
  {
   "cell_type": "code",
   "execution_count": 9,
   "metadata": {
    "colab": {
     "base_uri": "https://localhost:8080/"
    },
    "executionInfo": {
     "elapsed": 21,
     "status": "ok",
     "timestamp": 1622640531753,
     "user": {
      "displayName": "윤선영",
      "photoUrl": "",
      "userId": "03257090453356543910"
     },
     "user_tz": -540
    },
    "id": "A2SV0ABb6ShD",
    "outputId": "2ea60ec6-e5fa-4b92-8509-966c8472ad9c"
   },
   "outputs": [
    {
     "name": "stdout",
     "output_type": "stream",
     "text": [
      "문장 샘플의 수 : 2658\n"
     ]
    }
   ],
   "source": [
    "# text 문자열로부터 다수의 문장 샘플들로 분리\n",
    "\n",
    "seq_length = 60 # 문장의 길이를 60으로 한다.\n",
    "n_samples = int(np.floor((len(text)-1)/seq_length)) # 문자열을 60등분한다. 그러면 즉, 총 샘플의 개수\n",
    "print ('문장 샘플의 수 : {}'.format(n_samples))"
   ]
  },
  {
   "cell_type": "code",
   "execution_count": 10,
   "metadata": {
    "executionInfo": {
     "elapsed": 17,
     "status": "ok",
     "timestamp": 1622640531753,
     "user": {
      "displayName": "윤선영",
      "photoUrl": "",
      "userId": "03257090453356543910"
     },
     "user_tz": -540
    },
    "id": "eeEnu54t6ShD"
   },
   "outputs": [],
   "source": [
    "train_X = []\n",
    "train_y = []\n",
    "\n",
    "for i in range(n_samples):\n",
    "    X_sample = text[i*seq_length: (i+1) * seq_length]\n",
    "    X_encoded = [char_to_index[c] for c in X_sample] # 하나의 문장 샘플에 대해 정수 인코딩\n",
    "    train_X.append(X_encoded)\n",
    "    \n",
    "    y_sample = text[i*seq_length + 1: (i+1)*seq_length + 1]\n",
    "    y_encoded = [char_to_index[c] for c in y_sample]\n",
    "    train_y.append(y_encoded)"
   ]
  },
  {
   "cell_type": "code",
   "execution_count": 11,
   "metadata": {
    "colab": {
     "base_uri": "https://localhost:8080/"
    },
    "executionInfo": {
     "elapsed": 18,
     "status": "ok",
     "timestamp": 1622640531754,
     "user": {
      "displayName": "윤선영",
      "photoUrl": "",
      "userId": "03257090453356543910"
     },
     "user_tz": -540
    },
    "id": "WKdWXqqf6ShE",
    "outputId": "2e3c25ec-afa4-48f4-f104-6c3dfce86c42"
   },
   "outputs": [
    {
     "name": "stdout",
     "output_type": "stream",
     "text": [
      "[49, 37, 34, 0, 45, 47, 44, 39, 34, 32, 49, 0, 36, 50, 49, 34, 43, 31, 34, 47, 36, 0, 34, 31, 44, 44, 40, 0, 44, 35, 0, 30, 41, 38, 32, 34, 48, 0, 30, 33, 51, 34, 43, 49, 50, 47, 34, 48, 0, 38, 43, 0, 52, 44, 43, 33, 34, 47, 41, 30]\n"
     ]
    }
   ],
   "source": [
    "print(train_X[0])"
   ]
  },
  {
   "cell_type": "code",
   "execution_count": 12,
   "metadata": {
    "colab": {
     "base_uri": "https://localhost:8080/"
    },
    "executionInfo": {
     "elapsed": 15,
     "status": "ok",
     "timestamp": 1622640531754,
     "user": {
      "displayName": "윤선영",
      "photoUrl": "",
      "userId": "03257090453356543910"
     },
     "user_tz": -540
    },
    "id": "slRMrisv6ShE",
    "outputId": "9d96cc49-8a6f-4e3e-cc1d-7d51fdc16d1e",
    "scrolled": true
   },
   "outputs": [
    {
     "name": "stdout",
     "output_type": "stream",
     "text": [
      "[37, 34, 0, 45, 47, 44, 39, 34, 32, 49, 0, 36, 50, 49, 34, 43, 31, 34, 47, 36, 0, 34, 31, 44, 44, 40, 0, 44, 35, 0, 30, 41, 38, 32, 34, 48, 0, 30, 33, 51, 34, 43, 49, 50, 47, 34, 48, 0, 38, 43, 0, 52, 44, 43, 33, 34, 47, 41, 30, 43]\n"
     ]
    }
   ],
   "source": [
    "print(train_y[0]) # train_X[0]에서 오른쪽으로 한 칸 쉬프트 된 문장"
   ]
  },
  {
   "cell_type": "markdown",
   "metadata": {
    "id": "lePjQv_y6ShE"
   },
   "source": [
    "글자 단위 RNN에서는 입력 시퀀스에 대해서 워드 임베딩을 하지 않습니다. "
   ]
  },
  {
   "cell_type": "code",
   "execution_count": 13,
   "metadata": {
    "executionInfo": {
     "elapsed": 14,
     "status": "ok",
     "timestamp": 1622640531756,
     "user": {
      "displayName": "윤선영",
      "photoUrl": "",
      "userId": "03257090453356543910"
     },
     "user_tz": -540
    },
    "id": "jQKY9pBz6ShF"
   },
   "outputs": [],
   "source": [
    "# 원-핫 인코딩\n",
    "train_X = to_categorical(train_X)\n",
    "train_y = to_categorical(train_y)"
   ]
  },
  {
   "cell_type": "code",
   "execution_count": 14,
   "metadata": {
    "colab": {
     "base_uri": "https://localhost:8080/"
    },
    "executionInfo": {
     "elapsed": 13,
     "status": "ok",
     "timestamp": 1622640531756,
     "user": {
      "displayName": "윤선영",
      "photoUrl": "",
      "userId": "03257090453356543910"
     },
     "user_tz": -540
    },
    "id": "168hTNsZ6ShF",
    "outputId": "c69a9636-57c8-4370-c1dd-d66a8fa76d04"
   },
   "outputs": [
    {
     "name": "stdout",
     "output_type": "stream",
     "text": [
      "train_X의 크기(shape) : (2658, 60, 56)\n",
      "train_y의 크기(shape) : (2658, 60, 56)\n"
     ]
    }
   ],
   "source": [
    "print('train_X의 크기(shape) : {}'.format(train_X.shape)) # 원-핫 인코딩\n",
    "print('train_y의 크기(shape) : {}'.format(train_y.shape)) # 원-핫 인코딩\n",
    "# 샘플의 수(No. of samples)가 2,658개, 입력 시퀀스의 길이(input_length)가 60, 각 벡터의 차원(input_dim)이 56"
   ]
  },
  {
   "cell_type": "markdown",
   "metadata": {
    "id": "Y5rpx9qA6ShF"
   },
   "source": [
    "### 2) 모델 설계하기"
   ]
  },
  {
   "cell_type": "code",
   "execution_count": 15,
   "metadata": {
    "executionInfo": {
     "elapsed": 12,
     "status": "ok",
     "timestamp": 1622640531757,
     "user": {
      "displayName": "윤선영",
      "photoUrl": "",
      "userId": "03257090453356543910"
     },
     "user_tz": -540
    },
    "id": "5YL60Qoy6ShG"
   },
   "outputs": [],
   "source": [
    "from tensorflow.keras.models import Sequential\n",
    "from tensorflow.keras.layers import Dense, LSTM, TimeDistributed"
   ]
  },
  {
   "cell_type": "code",
   "execution_count": 16,
   "metadata": {
    "executionInfo": {
     "elapsed": 5257,
     "status": "ok",
     "timestamp": 1622640537003,
     "user": {
      "displayName": "윤선영",
      "photoUrl": "",
      "userId": "03257090453356543910"
     },
     "user_tz": -540
    },
    "id": "2bxF8dNm6ShG"
   },
   "outputs": [],
   "source": [
    "model = Sequential()\n",
    "model.add(LSTM(256, input_shape=(None, train_X.shape[2]), return_sequences=True))\n",
    "model.add(LSTM(256, return_sequences=True))\n",
    "model.add(TimeDistributed(Dense(vocab_size, activation='softmax')))"
   ]
  },
  {
   "cell_type": "code",
   "execution_count": 17,
   "metadata": {
    "colab": {
     "base_uri": "https://localhost:8080/"
    },
    "executionInfo": {
     "elapsed": 228749,
     "status": "ok",
     "timestamp": 1622640765747,
     "user": {
      "displayName": "윤선영",
      "photoUrl": "",
      "userId": "03257090453356543910"
     },
     "user_tz": -540
    },
    "id": "R1N0dhjK6ShG",
    "outputId": "675215e5-7e3b-4510-94f0-f699cc51b2ce"
   },
   "outputs": [
    {
     "name": "stdout",
     "output_type": "stream",
     "text": [
      "Epoch 1/80\n",
      "84/84 - 23s - loss: 3.0735 - accuracy: 0.1818\n",
      "Epoch 2/80\n",
      "84/84 - 21s - loss: 2.7202 - accuracy: 0.2485\n",
      "Epoch 3/80\n",
      "84/84 - 24s - loss: 2.3723 - accuracy: 0.3336\n",
      "Epoch 4/80\n",
      "84/84 - 24s - loss: 2.2359 - accuracy: 0.3639\n",
      "Epoch 5/80\n",
      "84/84 - 27s - loss: 2.1328 - accuracy: 0.3917\n",
      "Epoch 6/80\n",
      "84/84 - 27s - loss: 2.0506 - accuracy: 0.4121\n",
      "Epoch 7/80\n",
      "84/84 - 25s - loss: 1.9840 - accuracy: 0.4279\n",
      "Epoch 8/80\n",
      "84/84 - 26s - loss: 1.9220 - accuracy: 0.4445\n",
      "Epoch 9/80\n",
      "84/84 - 28s - loss: 1.8704 - accuracy: 0.4579\n",
      "Epoch 10/80\n",
      "84/84 - 29s - loss: 1.8200 - accuracy: 0.4720\n",
      "Epoch 11/80\n",
      "84/84 - 30s - loss: 1.7729 - accuracy: 0.4854\n",
      "Epoch 12/80\n",
      "84/84 - 28s - loss: 1.7283 - accuracy: 0.4977\n",
      "Epoch 13/80\n",
      "84/84 - 28s - loss: 1.6958 - accuracy: 0.5046\n",
      "Epoch 14/80\n",
      "84/84 - 28s - loss: 1.6541 - accuracy: 0.5156\n",
      "Epoch 15/80\n",
      "84/84 - 28s - loss: 1.6196 - accuracy: 0.5240\n",
      "Epoch 16/80\n",
      "84/84 - 28s - loss: 1.5879 - accuracy: 0.5327\n",
      "Epoch 17/80\n",
      "84/84 - 27s - loss: 1.5542 - accuracy: 0.5416\n",
      "Epoch 18/80\n",
      "84/84 - 29s - loss: 1.5229 - accuracy: 0.5503\n",
      "Epoch 19/80\n",
      "84/84 - 28s - loss: 1.4902 - accuracy: 0.5588\n",
      "Epoch 20/80\n",
      "84/84 - 28s - loss: 1.4594 - accuracy: 0.5679\n",
      "Epoch 21/80\n",
      "84/84 - 29s - loss: 1.4301 - accuracy: 0.5764\n",
      "Epoch 22/80\n",
      "84/84 - 29s - loss: 1.4005 - accuracy: 0.5846\n",
      "Epoch 23/80\n",
      "84/84 - 29s - loss: 1.3715 - accuracy: 0.5934\n",
      "Epoch 24/80\n",
      "84/84 - 29s - loss: 1.3434 - accuracy: 0.6010\n",
      "Epoch 25/80\n",
      "84/84 - 28s - loss: 1.3145 - accuracy: 0.6095\n",
      "Epoch 26/80\n",
      "84/84 - 27s - loss: 1.2869 - accuracy: 0.6172\n",
      "Epoch 27/80\n",
      "84/84 - 28s - loss: 1.2585 - accuracy: 0.6256\n",
      "Epoch 28/80\n",
      "84/84 - 28s - loss: 1.2281 - accuracy: 0.6346\n",
      "Epoch 29/80\n",
      "84/84 - 28s - loss: 1.1989 - accuracy: 0.6424\n",
      "Epoch 30/80\n",
      "84/84 - 28s - loss: 1.1767 - accuracy: 0.6485\n",
      "Epoch 31/80\n",
      "84/84 - 28s - loss: 1.1489 - accuracy: 0.6565\n",
      "Epoch 32/80\n",
      "84/84 - 28s - loss: 1.1177 - accuracy: 0.6667\n",
      "Epoch 33/80\n",
      "84/84 - 28s - loss: 1.0875 - accuracy: 0.6759\n",
      "Epoch 34/80\n",
      "84/84 - 29s - loss: 1.0663 - accuracy: 0.6824\n",
      "Epoch 35/80\n",
      "84/84 - 28s - loss: 1.0314 - accuracy: 0.6933\n",
      "Epoch 36/80\n",
      "84/84 - 28s - loss: 1.0055 - accuracy: 0.7005\n",
      "Epoch 37/80\n",
      "84/84 - 28s - loss: 0.9749 - accuracy: 0.7103\n",
      "Epoch 38/80\n",
      "84/84 - 28s - loss: 0.9522 - accuracy: 0.7164\n",
      "Epoch 39/80\n",
      "84/84 - 28s - loss: 0.9222 - accuracy: 0.7264\n",
      "Epoch 40/80\n",
      "84/84 - 28s - loss: 0.8988 - accuracy: 0.7337\n",
      "Epoch 41/80\n",
      "84/84 - 28s - loss: 0.8644 - accuracy: 0.7442\n",
      "Epoch 42/80\n",
      "84/84 - 28s - loss: 0.8379 - accuracy: 0.7518\n",
      "Epoch 43/80\n",
      "84/84 - 28s - loss: 0.8130 - accuracy: 0.7613\n",
      "Epoch 44/80\n",
      "84/84 - 28s - loss: 0.7833 - accuracy: 0.7698\n",
      "Epoch 45/80\n",
      "84/84 - 28s - loss: 0.7525 - accuracy: 0.7800\n",
      "Epoch 46/80\n",
      "84/84 - 29s - loss: 0.7332 - accuracy: 0.7857\n",
      "Epoch 47/80\n",
      "84/84 - 28s - loss: 0.7073 - accuracy: 0.7946\n",
      "Epoch 48/80\n",
      "84/84 - 29s - loss: 0.6983 - accuracy: 0.7955\n",
      "Epoch 49/80\n",
      "84/84 - 29s - loss: 0.6619 - accuracy: 0.8087\n",
      "Epoch 50/80\n",
      "84/84 - 29s - loss: 0.6393 - accuracy: 0.8156\n",
      "Epoch 51/80\n",
      "84/84 - 28s - loss: 0.6152 - accuracy: 0.8235\n",
      "Epoch 52/80\n",
      "84/84 - 29s - loss: 0.5955 - accuracy: 0.8296\n",
      "Epoch 53/80\n",
      "84/84 - 29s - loss: 0.5862 - accuracy: 0.8304\n",
      "Epoch 54/80\n",
      "84/84 - 29s - loss: 0.5519 - accuracy: 0.8436\n",
      "Epoch 55/80\n",
      "84/84 - 28s - loss: 0.5260 - accuracy: 0.8525\n",
      "Epoch 56/80\n",
      "84/84 - 28s - loss: 0.5174 - accuracy: 0.8534\n",
      "Epoch 57/80\n",
      "84/84 - 28s - loss: 0.4884 - accuracy: 0.8645\n",
      "Epoch 58/80\n",
      "84/84 - 28s - loss: 0.4638 - accuracy: 0.8733\n",
      "Epoch 59/80\n",
      "84/84 - 29s - loss: 0.4543 - accuracy: 0.8743\n",
      "Epoch 60/80\n",
      "84/84 - 29s - loss: 0.4362 - accuracy: 0.8816\n",
      "Epoch 61/80\n",
      "84/84 - 28s - loss: 0.4143 - accuracy: 0.8885\n",
      "Epoch 62/80\n",
      "84/84 - 28s - loss: 0.4003 - accuracy: 0.8925\n",
      "Epoch 63/80\n",
      "84/84 - 29s - loss: 0.3808 - accuracy: 0.8994\n",
      "Epoch 64/80\n",
      "84/84 - 28s - loss: 0.3725 - accuracy: 0.9011\n",
      "Epoch 65/80\n",
      "84/84 - 28s - loss: 0.3597 - accuracy: 0.9051\n",
      "Epoch 66/80\n",
      "84/84 - 29s - loss: 0.3432 - accuracy: 0.9100\n",
      "Epoch 67/80\n",
      "84/84 - 28s - loss: 0.3274 - accuracy: 0.9148\n",
      "Epoch 68/80\n",
      "84/84 - 28s - loss: 0.3096 - accuracy: 0.9212\n",
      "Epoch 69/80\n",
      "84/84 - 28s - loss: 0.3009 - accuracy: 0.9241\n",
      "Epoch 70/80\n",
      "84/84 - 29s - loss: 0.2839 - accuracy: 0.9292\n",
      "Epoch 71/80\n",
      "84/84 - 29s - loss: 0.2869 - accuracy: 0.9266\n",
      "Epoch 72/80\n",
      "84/84 - 28s - loss: 0.2625 - accuracy: 0.9359\n",
      "Epoch 73/80\n",
      "84/84 - 28s - loss: 0.2648 - accuracy: 0.9334\n",
      "Epoch 74/80\n",
      "84/84 - 28s - loss: 0.2490 - accuracy: 0.9389\n",
      "Epoch 75/80\n",
      "84/84 - 29s - loss: 0.2442 - accuracy: 0.9400\n",
      "Epoch 76/80\n",
      "84/84 - 28s - loss: 0.2299 - accuracy: 0.9441\n",
      "Epoch 77/80\n",
      "84/84 - 28s - loss: 0.2204 - accuracy: 0.9465\n",
      "Epoch 78/80\n",
      "84/84 - 28s - loss: 0.2088 - accuracy: 0.9503\n",
      "Epoch 79/80\n",
      "84/84 - 29s - loss: 0.2012 - accuracy: 0.9522\n",
      "Epoch 80/80\n",
      "84/84 - 29s - loss: 0.2026 - accuracy: 0.9506\n"
     ]
    },
    {
     "data": {
      "text/plain": [
       "<tensorflow.python.keras.callbacks.History at 0x17211184370>"
      ]
     },
     "execution_count": 17,
     "metadata": {},
     "output_type": "execute_result"
    }
   ],
   "source": [
    "model.compile(loss='categorical_crossentropy', optimizer='adam', metrics=['accuracy'])\n",
    "model.fit(train_X, train_y, epochs=80, verbose=2)"
   ]
  },
  {
   "cell_type": "code",
   "execution_count": 18,
   "metadata": {
    "executionInfo": {
     "elapsed": 379,
     "status": "ok",
     "timestamp": 1622640808740,
     "user": {
      "displayName": "윤선영",
      "photoUrl": "",
      "userId": "03257090453356543910"
     },
     "user_tz": -540
    },
    "id": "TpcHLCrY6ShH"
   },
   "outputs": [],
   "source": [
    "def sentence_generation(model, length):\n",
    "    ix = [np.random.randint(vocab_size)]  # 글자에 대한 0~vocab_size 사이의 난수 1개 랜덤 인덱스 생성\n",
    "    y_char = [index_to_char[ix[-1]]] # 랜덤 인덱스로부터 글자 생성\n",
    "    print(ix[-1],'번 글자',y_char[-1],'로 예측을 시작!')\n",
    "    X = np.zeros((1, length, vocab_size))  # (1, length, 55) 크기의 X 생성. 즉, LSTM의 입력 시퀀스 생성\n",
    "    \n",
    "    for i in range(length):\n",
    "        X[0][i][ix[-1]] = 1  # X[0][i][예측한 글자의 인덱스] = 1, 즉, 예측 글자를 다음 입력 시퀀스에 추가\n",
    "        print(index_to_char[ix[-1]], end=\"\")\n",
    "        ix = np.argmax(model.predict(X[:,:i+1,:])[0], 1)\n",
    "        y_char.append(index_to_char[ix[-1]])\n",
    "    return ('').join(y_char)"
   ]
  },
  {
   "cell_type": "code",
   "execution_count": 19,
   "metadata": {
    "colab": {
     "base_uri": "https://localhost:8080/",
     "height": 108
    },
    "executionInfo": {
     "elapsed": 5456,
     "status": "ok",
     "timestamp": 1622641057776,
     "user": {
      "displayName": "윤선영",
      "photoUrl": "",
      "userId": "03257090453356543910"
     },
     "user_tz": -540
    },
    "id": "Q7qqNzqf6ShH",
    "outputId": "2b05334f-61ec-4580-c9c1-5031232985aa"
   },
   "outputs": [
    {
     "name": "stdout",
     "output_type": "stream",
     "text": [
      "27 번 글자 [ 로 예측을 시작!\n",
      "[late cook a mine. the next wainting up the capering wit, an accoudmed to know. wet? as she cauged t"
     ]
    },
    {
     "data": {
      "text/plain": [
       "'[late cook a mine. the next wainting up the capering wit, an accoudmed to know. wet? as she cauged th'"
      ]
     },
     "execution_count": 19,
     "metadata": {},
     "output_type": "execute_result"
    }
   ],
   "source": [
    "sentence_generation(model, 100)"
   ]
  },
  {
   "cell_type": "markdown",
   "metadata": {
    "id": "liKQD9s46ShI"
   },
   "source": [
    "##  2. 글자 단위 RNN(Char RNN)으로 텍스트 생성하기\n",
    "다 대 일(many-to-one) 구조의 RNN\n",
    "\n",
    "### 1) 데이터에 대한 이해와 전처리"
   ]
  },
  {
   "cell_type": "code",
   "execution_count": 20,
   "metadata": {
    "executionInfo": {
     "elapsed": 447,
     "status": "ok",
     "timestamp": 1622641070414,
     "user": {
      "displayName": "윤선영",
      "photoUrl": "",
      "userId": "03257090453356543910"
     },
     "user_tz": -540
    },
    "id": "puKha5al6ShI"
   },
   "outputs": [],
   "source": [
    "import numpy as np\n",
    "from tensorflow.keras.utils import to_categorical"
   ]
  },
  {
   "cell_type": "code",
   "execution_count": 21,
   "metadata": {
    "executionInfo": {
     "elapsed": 497,
     "status": "ok",
     "timestamp": 1622641074013,
     "user": {
      "displayName": "윤선영",
      "photoUrl": "",
      "userId": "03257090453356543910"
     },
     "user_tz": -540
    },
    "id": "_vz3zPzu6ShI"
   },
   "outputs": [],
   "source": [
    "# 가상의 노래 가사\n",
    "text='''\n",
    "I get on with life as a programmer,\n",
    "I like to contemplate beer.\n",
    "But when I start to daydream,\n",
    "My mind turns straight to wine.\n",
    "\n",
    "Do I love wine more than beer?\n",
    "\n",
    "I like to use words about beer.\n",
    "But when I stop my talking,\n",
    "My mind turns straight to wine.\n",
    "\n",
    "I hate bugs and errors.\n",
    "But I just think back to wine,\n",
    "And I'm happy once again.\n",
    "\n",
    "I like to hang out with programming and deep learning.\n",
    "But when left alone,\n",
    "My mind turns straight to wine.\n",
    "'''"
   ]
  },
  {
   "cell_type": "code",
   "execution_count": 22,
   "metadata": {
    "colab": {
     "base_uri": "https://localhost:8080/"
    },
    "executionInfo": {
     "elapsed": 400,
     "status": "ok",
     "timestamp": 1622641076014,
     "user": {
      "displayName": "윤선영",
      "photoUrl": "",
      "userId": "03257090453356543910"
     },
     "user_tz": -540
    },
    "id": "bq6PBTeh6ShI",
    "outputId": "ed3cac9a-e489-4a74-fec4-1a1cd505cce5"
   },
   "outputs": [
    {
     "name": "stdout",
     "output_type": "stream",
     "text": [
      "I get on with life as a programmer, I like to contemplate beer. But when I start to daydream, My mind turns straight to wine. Do I love wine more than beer? I like to use words about beer. But when I stop my talking, My mind turns straight to wine. I hate bugs and errors. But I just think back to wine, And I'm happy once again. I like to hang out with programming and deep learning. But when left alone, My mind turns straight to wine.\n"
     ]
    }
   ],
   "source": [
    "# 단락 구분을 없애고 하나의 문자열로 재저장\n",
    "tokens = text.split() # '\\n' 저장\n",
    "text = ' '.join(tokens)\n",
    "print(text)"
   ]
  },
  {
   "cell_type": "code",
   "execution_count": 23,
   "metadata": {
    "id": "dJaC7vZB8fzD"
   },
   "outputs": [
    {
     "name": "stdout",
     "output_type": "stream",
     "text": [
      "[' ', \"'\", ',', '.', '?', 'A', 'B', 'D', 'I', 'M', 'a', 'b', 'c', 'd', 'e', 'f', 'g', 'h', 'i', 'j', 'k', 'l', 'm', 'n', 'o', 'p', 'r', 's', 't', 'u', 'v', 'w', 'y']\n"
     ]
    }
   ],
   "source": [
    "# 글자 집합\n",
    "char_vocab = sorted(list(set(text)))\n",
    "print(char_vocab)"
   ]
  },
  {
   "cell_type": "code",
   "execution_count": 24,
   "metadata": {},
   "outputs": [
    {
     "name": "stdout",
     "output_type": "stream",
     "text": [
      "글자 집합의 크기: 33\n"
     ]
    }
   ],
   "source": [
    "vocab_size = len(char_vocab)\n",
    "print('글자 집합의 크기: {}'.format(vocab_size))"
   ]
  },
  {
   "cell_type": "code",
   "execution_count": 25,
   "metadata": {},
   "outputs": [
    {
     "name": "stdout",
     "output_type": "stream",
     "text": [
      "{' ': 0, \"'\": 1, ',': 2, '.': 3, '?': 4, 'A': 5, 'B': 6, 'D': 7, 'I': 8, 'M': 9, 'a': 10, 'b': 11, 'c': 12, 'd': 13, 'e': 14, 'f': 15, 'g': 16, 'h': 17, 'i': 18, 'j': 19, 'k': 20, 'l': 21, 'm': 22, 'n': 23, 'o': 24, 'p': 25, 'r': 26, 's': 27, 't': 28, 'u': 29, 'v': 30, 'w': 31, 'y': 32}\n"
     ]
    }
   ],
   "source": [
    "char_to_index = dict((c,i) for i, c in enumerate(char_vocab))\n",
    "print(char_to_index)"
   ]
  },
  {
   "cell_type": "code",
   "execution_count": 35,
   "metadata": {},
   "outputs": [
    {
     "name": "stdout",
     "output_type": "stream",
     "text": [
      "총 훈련 샘플의 수: 426\n"
     ]
    }
   ],
   "source": [
    "length = 11\n",
    "sequences = []\n",
    "for i in range(length, len(text)):\n",
    "    seq = text[i-length:i]  # # 길이 11의 문자열을 지속적으로 만든다.\n",
    "    sequences.append(seq)\n",
    "print('총 훈련 샘플의 수: %d' % len(sequences))"
   ]
  },
  {
   "cell_type": "code",
   "execution_count": 36,
   "metadata": {},
   "outputs": [
    {
     "data": {
      "text/plain": [
       "['I get on wi',\n",
       " ' get on wit',\n",
       " 'get on with',\n",
       " 'et on with ',\n",
       " 't on with l',\n",
       " ' on with li',\n",
       " 'on with lif',\n",
       " 'n with life',\n",
       " ' with life ',\n",
       " 'with life a']"
      ]
     },
     "execution_count": 36,
     "metadata": {},
     "output_type": "execute_result"
    }
   ],
   "source": [
    "sequences[:10]"
   ]
  },
  {
   "cell_type": "code",
   "execution_count": 40,
   "metadata": {},
   "outputs": [],
   "source": [
    "# 전체 데이터에 대해 정수 인코딩\n",
    "X = []\n",
    "for line in sequences:\n",
    "    temp_X = [char_to_index[char] for char in line]\n",
    "    X.append(temp_X)"
   ]
  },
  {
   "cell_type": "code",
   "execution_count": 41,
   "metadata": {},
   "outputs": [
    {
     "name": "stdout",
     "output_type": "stream",
     "text": [
      "[8, 0, 16, 14, 28, 0, 24, 23, 0, 31, 18]\n",
      "[0, 16, 14, 28, 0, 24, 23, 0, 31, 18, 28]\n",
      "[16, 14, 28, 0, 24, 23, 0, 31, 18, 28, 17]\n",
      "[14, 28, 0, 24, 23, 0, 31, 18, 28, 17, 0]\n",
      "[28, 0, 24, 23, 0, 31, 18, 28, 17, 0, 21]\n"
     ]
    }
   ],
   "source": [
    "for line in X[:5]:\n",
    "    print(line)"
   ]
  },
  {
   "cell_type": "code",
   "execution_count": 42,
   "metadata": {},
   "outputs": [],
   "source": [
    "# 예측 대상이 되는 맨 마지막 글자 분리\n",
    "sequences = np.array(X)\n",
    "X = sequences[:,:-1]\n",
    "y = sequences[:,-1]"
   ]
  },
  {
   "cell_type": "code",
   "execution_count": 43,
   "metadata": {},
   "outputs": [
    {
     "name": "stdout",
     "output_type": "stream",
     "text": [
      "[ 8  0 16 14 28  0 24 23  0 31]\n",
      "[ 0 16 14 28  0 24 23  0 31 18]\n",
      "[16 14 28  0 24 23  0 31 18 28]\n",
      "[14 28  0 24 23  0 31 18 28 17]\n",
      "[28  0 24 23  0 31 18 28 17  0]\n"
     ]
    }
   ],
   "source": [
    "for line in X[:5]:\n",
    "    print(line)"
   ]
  },
  {
   "cell_type": "code",
   "execution_count": 44,
   "metadata": {},
   "outputs": [
    {
     "name": "stdout",
     "output_type": "stream",
     "text": [
      "[18 28 17  0 21]\n"
     ]
    }
   ],
   "source": [
    "print(y[:5])"
   ]
  },
  {
   "cell_type": "code",
   "execution_count": 45,
   "metadata": {},
   "outputs": [],
   "source": [
    "sequences = [to_categorical(x, num_classes=vocab_size) for x in X]  # X에 대한 원-핫 인코딩\n",
    "X = np.array(sequences)\n",
    "y = to_categorical(y, num_classes=vocab_size)"
   ]
  },
  {
   "cell_type": "code",
   "execution_count": 46,
   "metadata": {},
   "outputs": [
    {
     "name": "stdout",
     "output_type": "stream",
     "text": [
      "(426, 10, 33)\n"
     ]
    }
   ],
   "source": [
    "print(X.shape) # (# of samples, input_length, input_dim)"
   ]
  },
  {
   "cell_type": "markdown",
   "metadata": {},
   "source": [
    "### 2) 모델 설계하기"
   ]
  },
  {
   "cell_type": "code",
   "execution_count": 47,
   "metadata": {},
   "outputs": [],
   "source": [
    "from tensorflow.keras.models import Sequential\n",
    "from tensorflow.keras.layers import Dense, LSTM\n",
    "from tensorflow.keras.preprocessing.sequence import pad_sequences"
   ]
  },
  {
   "cell_type": "code",
   "execution_count": 48,
   "metadata": {},
   "outputs": [],
   "source": [
    "model = Sequential()\n",
    "model.add(LSTM(80, input_shape=(X.shape[1], X.shape[2])))\n",
    "model.add(Dense(vocab_size, activation='softmax'))"
   ]
  },
  {
   "cell_type": "code",
   "execution_count": 49,
   "metadata": {},
   "outputs": [
    {
     "name": "stdout",
     "output_type": "stream",
     "text": [
      "Epoch 1/100\n",
      "14/14 - 2s - loss: 3.4534 - accuracy: 0.1432\n",
      "Epoch 2/100\n",
      "14/14 - 0s - loss: 3.2640 - accuracy: 0.1972\n",
      "Epoch 3/100\n",
      "14/14 - 0s - loss: 3.0315 - accuracy: 0.1972\n",
      "Epoch 4/100\n",
      "14/14 - 0s - loss: 2.9747 - accuracy: 0.1972\n",
      "Epoch 5/100\n",
      "14/14 - 0s - loss: 2.9524 - accuracy: 0.1972\n",
      "Epoch 6/100\n",
      "14/14 - 0s - loss: 2.9331 - accuracy: 0.1972\n",
      "Epoch 7/100\n",
      "14/14 - 0s - loss: 2.9111 - accuracy: 0.1972\n",
      "Epoch 8/100\n",
      "14/14 - 0s - loss: 2.8964 - accuracy: 0.1972\n",
      "Epoch 9/100\n",
      "14/14 - 0s - loss: 2.8703 - accuracy: 0.1972\n",
      "Epoch 10/100\n",
      "14/14 - 0s - loss: 2.8416 - accuracy: 0.1972\n",
      "Epoch 11/100\n",
      "14/14 - 0s - loss: 2.8120 - accuracy: 0.1995\n",
      "Epoch 12/100\n",
      "14/14 - 0s - loss: 2.7941 - accuracy: 0.2230\n",
      "Epoch 13/100\n",
      "14/14 - 0s - loss: 2.7401 - accuracy: 0.2160\n",
      "Epoch 14/100\n",
      "14/14 - 0s - loss: 2.6851 - accuracy: 0.2371\n",
      "Epoch 15/100\n",
      "14/14 - 0s - loss: 2.6238 - accuracy: 0.2512\n",
      "Epoch 16/100\n",
      "14/14 - 0s - loss: 2.5757 - accuracy: 0.2324\n",
      "Epoch 17/100\n",
      "14/14 - 0s - loss: 2.4999 - accuracy: 0.2700\n",
      "Epoch 18/100\n",
      "14/14 - 0s - loss: 2.4381 - accuracy: 0.2817\n",
      "Epoch 19/100\n",
      "14/14 - 0s - loss: 2.3953 - accuracy: 0.3216\n",
      "Epoch 20/100\n",
      "14/14 - 0s - loss: 2.3396 - accuracy: 0.3404\n",
      "Epoch 21/100\n",
      "14/14 - 0s - loss: 2.2903 - accuracy: 0.3310\n",
      "Epoch 22/100\n",
      "14/14 - 0s - loss: 2.2422 - accuracy: 0.3709\n",
      "Epoch 23/100\n",
      "14/14 - 0s - loss: 2.1891 - accuracy: 0.3732\n",
      "Epoch 24/100\n",
      "14/14 - 0s - loss: 2.1295 - accuracy: 0.4108\n",
      "Epoch 25/100\n",
      "14/14 - 0s - loss: 2.0767 - accuracy: 0.4085\n",
      "Epoch 26/100\n",
      "14/14 - 0s - loss: 2.0361 - accuracy: 0.4225\n",
      "Epoch 27/100\n",
      "14/14 - 0s - loss: 1.9860 - accuracy: 0.4460\n",
      "Epoch 28/100\n",
      "14/14 - 0s - loss: 1.9474 - accuracy: 0.4671\n",
      "Epoch 29/100\n",
      "14/14 - 0s - loss: 1.8878 - accuracy: 0.4742\n",
      "Epoch 30/100\n",
      "14/14 - 0s - loss: 1.8474 - accuracy: 0.4930\n",
      "Epoch 31/100\n",
      "14/14 - 0s - loss: 1.8046 - accuracy: 0.4859\n",
      "Epoch 32/100\n",
      "14/14 - 0s - loss: 1.7537 - accuracy: 0.5164\n",
      "Epoch 33/100\n",
      "14/14 - 0s - loss: 1.7152 - accuracy: 0.5329\n",
      "Epoch 34/100\n",
      "14/14 - 0s - loss: 1.6615 - accuracy: 0.5516\n",
      "Epoch 35/100\n",
      "14/14 - 0s - loss: 1.6296 - accuracy: 0.5540\n",
      "Epoch 36/100\n",
      "14/14 - 0s - loss: 1.5718 - accuracy: 0.5775\n",
      "Epoch 37/100\n",
      "14/14 - 0s - loss: 1.5273 - accuracy: 0.5892\n",
      "Epoch 38/100\n",
      "14/14 - 0s - loss: 1.4830 - accuracy: 0.5962\n",
      "Epoch 39/100\n",
      "14/14 - 0s - loss: 1.4400 - accuracy: 0.6244\n",
      "Epoch 40/100\n",
      "14/14 - 0s - loss: 1.4315 - accuracy: 0.6244\n",
      "Epoch 41/100\n",
      "14/14 - 0s - loss: 1.3751 - accuracy: 0.6620\n",
      "Epoch 42/100\n",
      "14/14 - 0s - loss: 1.3503 - accuracy: 0.6408\n",
      "Epoch 43/100\n",
      "14/14 - 0s - loss: 1.2832 - accuracy: 0.6761\n",
      "Epoch 44/100\n",
      "14/14 - 0s - loss: 1.2280 - accuracy: 0.6854\n",
      "Epoch 45/100\n",
      "14/14 - 0s - loss: 1.2023 - accuracy: 0.7019\n",
      "Epoch 46/100\n",
      "14/14 - 0s - loss: 1.1554 - accuracy: 0.6995\n",
      "Epoch 47/100\n",
      "14/14 - 0s - loss: 1.1186 - accuracy: 0.7230\n",
      "Epoch 48/100\n",
      "14/14 - 0s - loss: 1.0906 - accuracy: 0.7394\n",
      "Epoch 49/100\n",
      "14/14 - 0s - loss: 1.0564 - accuracy: 0.7676\n",
      "Epoch 50/100\n",
      "14/14 - 0s - loss: 1.0136 - accuracy: 0.7676\n",
      "Epoch 51/100\n",
      "14/14 - 0s - loss: 0.9738 - accuracy: 0.7793\n",
      "Epoch 52/100\n",
      "14/14 - 0s - loss: 0.9369 - accuracy: 0.7770\n",
      "Epoch 53/100\n",
      "14/14 - 0s - loss: 0.8999 - accuracy: 0.8075\n",
      "Epoch 54/100\n",
      "14/14 - 0s - loss: 0.8706 - accuracy: 0.8146\n",
      "Epoch 55/100\n",
      "14/14 - 0s - loss: 0.8547 - accuracy: 0.8122\n",
      "Epoch 56/100\n",
      "14/14 - 0s - loss: 0.8271 - accuracy: 0.8357\n",
      "Epoch 57/100\n",
      "14/14 - 0s - loss: 0.7754 - accuracy: 0.8380\n",
      "Epoch 58/100\n",
      "14/14 - 0s - loss: 0.7656 - accuracy: 0.8427\n",
      "Epoch 59/100\n",
      "14/14 - 0s - loss: 0.7224 - accuracy: 0.8498\n",
      "Epoch 60/100\n",
      "14/14 - 0s - loss: 0.6881 - accuracy: 0.8732\n",
      "Epoch 61/100\n",
      "14/14 - 0s - loss: 0.6821 - accuracy: 0.8662\n",
      "Epoch 62/100\n",
      "14/14 - 0s - loss: 0.6757 - accuracy: 0.8803\n",
      "Epoch 63/100\n",
      "14/14 - 0s - loss: 0.6190 - accuracy: 0.8920\n",
      "Epoch 64/100\n",
      "14/14 - 0s - loss: 0.5867 - accuracy: 0.9131\n",
      "Epoch 65/100\n",
      "14/14 - 0s - loss: 0.5784 - accuracy: 0.9014\n",
      "Epoch 66/100\n",
      "14/14 - 0s - loss: 0.5551 - accuracy: 0.9131\n",
      "Epoch 67/100\n",
      "14/14 - 0s - loss: 0.5132 - accuracy: 0.9202\n",
      "Epoch 68/100\n",
      "14/14 - 0s - loss: 0.5111 - accuracy: 0.9225\n",
      "Epoch 69/100\n",
      "14/14 - 0s - loss: 0.4996 - accuracy: 0.9202\n",
      "Epoch 70/100\n",
      "14/14 - 0s - loss: 0.4781 - accuracy: 0.9249\n",
      "Epoch 71/100\n",
      "14/14 - 0s - loss: 0.4496 - accuracy: 0.9460\n",
      "Epoch 72/100\n",
      "14/14 - 0s - loss: 0.4412 - accuracy: 0.9343\n",
      "Epoch 73/100\n",
      "14/14 - 0s - loss: 0.4336 - accuracy: 0.9437\n",
      "Epoch 74/100\n",
      "14/14 - 0s - loss: 0.4069 - accuracy: 0.9601\n",
      "Epoch 75/100\n",
      "14/14 - 0s - loss: 0.3858 - accuracy: 0.9531\n",
      "Epoch 76/100\n",
      "14/14 - 0s - loss: 0.3739 - accuracy: 0.9577\n",
      "Epoch 77/100\n",
      "14/14 - 0s - loss: 0.3578 - accuracy: 0.9648\n",
      "Epoch 78/100\n",
      "14/14 - 0s - loss: 0.3592 - accuracy: 0.9624\n",
      "Epoch 79/100\n",
      "14/14 - 0s - loss: 0.3361 - accuracy: 0.9648\n",
      "Epoch 80/100\n",
      "14/14 - 0s - loss: 0.3177 - accuracy: 0.9671\n",
      "Epoch 81/100\n",
      "14/14 - 0s - loss: 0.3100 - accuracy: 0.9765\n",
      "Epoch 82/100\n",
      "14/14 - 0s - loss: 0.2929 - accuracy: 0.9671\n",
      "Epoch 83/100\n",
      "14/14 - 0s - loss: 0.2923 - accuracy: 0.9718\n",
      "Epoch 84/100\n",
      "14/14 - 0s - loss: 0.2813 - accuracy: 0.9695\n",
      "Epoch 85/100\n",
      "14/14 - 0s - loss: 0.2697 - accuracy: 0.9765\n",
      "Epoch 86/100\n",
      "14/14 - 0s - loss: 0.2642 - accuracy: 0.9742\n",
      "Epoch 87/100\n",
      "14/14 - 0s - loss: 0.2499 - accuracy: 0.9765\n",
      "Epoch 88/100\n",
      "14/14 - 0s - loss: 0.2370 - accuracy: 0.9789\n",
      "Epoch 89/100\n",
      "14/14 - 0s - loss: 0.2266 - accuracy: 0.9789\n",
      "Epoch 90/100\n",
      "14/14 - 0s - loss: 0.2236 - accuracy: 0.9718\n",
      "Epoch 91/100\n",
      "14/14 - 0s - loss: 0.2398 - accuracy: 0.9742\n",
      "Epoch 92/100\n",
      "14/14 - 0s - loss: 0.2198 - accuracy: 0.9765\n",
      "Epoch 93/100\n",
      "14/14 - 0s - loss: 0.2091 - accuracy: 0.9718\n",
      "Epoch 94/100\n",
      "14/14 - 0s - loss: 0.2004 - accuracy: 0.9789\n",
      "Epoch 95/100\n",
      "14/14 - 0s - loss: 0.1937 - accuracy: 0.9765\n",
      "Epoch 96/100\n",
      "14/14 - 0s - loss: 0.1841 - accuracy: 0.9836\n",
      "Epoch 97/100\n",
      "14/14 - 0s - loss: 0.1846 - accuracy: 0.9765\n",
      "Epoch 98/100\n",
      "14/14 - 0s - loss: 0.1791 - accuracy: 0.9789\n",
      "Epoch 99/100\n",
      "14/14 - 0s - loss: 0.1740 - accuracy: 0.9742\n",
      "Epoch 100/100\n",
      "14/14 - 0s - loss: 0.1643 - accuracy: 0.9836\n"
     ]
    },
    {
     "data": {
      "text/plain": [
       "<tensorflow.python.keras.callbacks.History at 0x1721d1aaa90>"
      ]
     },
     "execution_count": 49,
     "metadata": {},
     "output_type": "execute_result"
    }
   ],
   "source": [
    "model.compile(loss='categorical_crossentropy', optimizer='adam', metrics=['accuracy'])\n",
    "model.fit(X, y, epochs=100, verbose=2)"
   ]
  },
  {
   "cell_type": "code",
   "execution_count": 58,
   "metadata": {},
   "outputs": [],
   "source": [
    "def sentence_generation(model, char_to_index, seq_length, seed_text, n):\n",
    "    init_text = seed_text\n",
    "    sentence = ''\n",
    "    for _ in range(n):\n",
    "        encoded = [char_to_index[char] for char in seed_text] # 정수인코딩\n",
    "        encoded = pad_sequences([encoded], maxlen=seq_length, padding='pre') # 데이터에 대한 테딩\n",
    "        encoded = to_categorical(encoded, num_classes=len(char_to_index))\n",
    "        result = model.predict_classes(encoded, verbose=0)\n",
    "        \n",
    "        for char, index in char_to_index.items():\n",
    "            if index == result:\n",
    "                break\n",
    "        seed_text = seed_text + char\n",
    "        sentence = sentence + char\n",
    "    sentence = init_text + sentence\n",
    "    return sentence"
   ]
  },
  {
   "cell_type": "code",
   "execution_count": 59,
   "metadata": {},
   "outputs": [
    {
     "name": "stdout",
     "output_type": "stream",
     "text": [
      "I get on with life as a programmer, I like to use words about beer. But when I start to da\n"
     ]
    }
   ],
   "source": [
    "print(sentence_generation(model, char_to_index, 10, 'I get on w', 80))"
   ]
  }
 ],
 "metadata": {
  "accelerator": "GPU",
  "colab": {
   "collapsed_sections": [],
   "name": "50. 순환 신경망_글자 단위 RNN(Char RNN).ipynb",
   "provenance": []
  },
  "kernelspec": {
   "display_name": "Python 3",
   "language": "python",
   "name": "python3"
  },
  "language_info": {
   "codemirror_mode": {
    "name": "ipython",
    "version": 3
   },
   "file_extension": ".py",
   "mimetype": "text/x-python",
   "name": "python",
   "nbconvert_exporter": "python",
   "pygments_lexer": "ipython3",
   "version": "3.8.5"
  }
 },
 "nbformat": 4,
 "nbformat_minor": 1
}
