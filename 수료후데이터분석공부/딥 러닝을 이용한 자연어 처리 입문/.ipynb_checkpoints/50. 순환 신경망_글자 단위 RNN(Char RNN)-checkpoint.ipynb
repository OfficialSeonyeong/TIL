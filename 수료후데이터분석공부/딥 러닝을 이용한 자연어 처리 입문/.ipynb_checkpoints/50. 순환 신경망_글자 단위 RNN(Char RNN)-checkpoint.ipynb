{
 "cells": [
  {
   "cell_type": "markdown",
   "metadata": {
    "id": "4ynS0KaN6Sg2"
   },
   "source": [
    "이번에는 입출력의 단위를 단어 레벨(word-level)이 아닌 글자 레벨(character-level)로 변경해 RNN을 구현\n",
    "\n",
    "## 1. 글자 단위 RNN 언어 모델(Char RNNLM)\n",
    "* 이전 시점의 예측 글자를 다음 시점의 입력으로 사용하는 글자 단위 RNN 언어 모델을 구현\n",
    "* 글자 단위를 입, 출력으로 사용하므로 임베딩층(embedding layer)을 사용하지 않고 구현\n",
    "\n",
    "### 1) 데이터에 대한 이해와 전처리"
   ]
  },
  {
   "cell_type": "code",
   "execution_count": 17,
   "metadata": {
    "executionInfo": {
     "elapsed": 2099,
     "status": "ok",
     "timestamp": 1622640529408,
     "user": {
      "displayName": "윤선영",
      "photoUrl": "",
      "userId": "03257090453356543910"
     },
     "user_tz": -540
    },
    "id": "gCHvLuh46Sg7"
   },
   "outputs": [],
   "source": [
    "import warnings\n",
    "warnings.filterwarnings('ignore')\n",
    "\n",
    "import numpy as np\n",
    "import urllib.request\n",
    "from tensorflow.keras.utils import to_categorical"
   ]
  },
  {
   "cell_type": "code",
   "execution_count": 18,
   "metadata": {
    "executionInfo": {
     "elapsed": 1819,
     "status": "ok",
     "timestamp": 1622640531219,
     "user": {
      "displayName": "윤선영",
      "photoUrl": "",
      "userId": "03257090453356543910"
     },
     "user_tz": -540
    },
    "id": "SqEH6QRW6Sg8"
   },
   "outputs": [],
   "source": [
    "urllib.request.urlretrieve(\"http://www.gutenberg.org/files/11/11-0.txt\", filename=\"./data/11-0.txt\")\n",
    "f = open('./data/11-0.txt', 'rb')\n",
    "lines = []\n",
    "for line in f:\n",
    "    line=line.strip() # strip()을 통해 \\r, \\n을 제거한다.\n",
    "    line=line.lower() # 소문자화\n",
    "    line=line.decode('ascii','ignore') # \\xe2\\x80\\x99 등과 같은 바이트 열 제거\n",
    "    if len(line) > 0:\n",
    "        lines.append(line)\n",
    "        \n",
    "f.close()"
   ]
  },
  {
   "cell_type": "code",
   "execution_count": 3,
   "metadata": {
    "colab": {
     "base_uri": "https://localhost:8080/"
    },
    "executionInfo": {
     "elapsed": 22,
     "status": "ok",
     "timestamp": 1622640531220,
     "user": {
      "displayName": "윤선영",
      "photoUrl": "",
      "userId": "03257090453356543910"
     },
     "user_tz": -540
    },
    "id": "oaIr671R6Sg-",
    "outputId": "5651838a-aa61-4fa6-8e75-c6d4b50033d7"
   },
   "outputs": [
    {
     "data": {
      "text/plain": [
       "['the project gutenberg ebook of alices adventures in wonderland, by lewis carroll',\n",
       " 'this ebook is for the use of anyone anywhere in the united states and',\n",
       " 'most other parts of the world at no cost and with almost no restrictions',\n",
       " 'whatsoever. you may copy it, give it away or re-use it under the terms',\n",
       " 'of the project gutenberg license included with this ebook or online at']"
      ]
     },
     "execution_count": 3,
     "metadata": {
      "tags": []
     },
     "output_type": "execute_result"
    }
   ],
   "source": [
    "lines[:5]"
   ]
  },
  {
   "cell_type": "code",
   "execution_count": 4,
   "metadata": {
    "colab": {
     "base_uri": "https://localhost:8080/"
    },
    "executionInfo": {
     "elapsed": 16,
     "status": "ok",
     "timestamp": 1622640531220,
     "user": {
      "displayName": "윤선영",
      "photoUrl": "",
      "userId": "03257090453356543910"
     },
     "user_tz": -540
    },
    "id": "PkbGK3Ub6Sg_",
    "outputId": "70308137-c1ab-46f0-81ca-75bef78de9dc"
   },
   "outputs": [
    {
     "name": "stdout",
     "output_type": "stream",
     "text": [
      "문자열의 길이 또는 총 글자의 개수: 159484\n"
     ]
    }
   ],
   "source": [
    "# 하나의 문자열로 통합\n",
    "text = ' '.join(lines)\n",
    "print('문자열의 길이 또는 총 글자의 개수: %d' % len(text))"
   ]
  },
  {
   "cell_type": "code",
   "execution_count": 5,
   "metadata": {
    "colab": {
     "base_uri": "https://localhost:8080/"
    },
    "executionInfo": {
     "elapsed": 12,
     "status": "ok",
     "timestamp": 1622640531221,
     "user": {
      "displayName": "윤선영",
      "photoUrl": "",
      "userId": "03257090453356543910"
     },
     "user_tz": -540
    },
    "id": "2lruUFkw6ShA",
    "outputId": "03862ba5-5fda-446f-d839-b0c429de96c7"
   },
   "outputs": [
    {
     "name": "stdout",
     "output_type": "stream",
     "text": [
      "the project gutenberg ebook of alices adventures in wonderland, by lewis carroll this ebook is for the use of anyone anywhere in the united states and most other parts of the world at no cost and with\n"
     ]
    }
   ],
   "source": [
    "print(text[:200])"
   ]
  },
  {
   "cell_type": "code",
   "execution_count": 6,
   "metadata": {
    "colab": {
     "base_uri": "https://localhost:8080/"
    },
    "executionInfo": {
     "elapsed": 11,
     "status": "ok",
     "timestamp": 1622640531222,
     "user": {
      "displayName": "윤선영",
      "photoUrl": "",
      "userId": "03257090453356543910"
     },
     "user_tz": -540
    },
    "id": "IXlIJ0fe6ShB",
    "outputId": "17e58983-4113-4d5b-a153-71a0c5f2add7"
   },
   "outputs": [
    {
     "name": "stdout",
     "output_type": "stream",
     "text": [
      "글자 집합의 크기 : 56\n"
     ]
    }
   ],
   "source": [
    "# 글자 집합\n",
    "char_vocab = sorted(list(set(text)))\n",
    "vocab_size = len(char_vocab)\n",
    "print('글자 집합의 크기 : {}'.format(vocab_size))"
   ]
  },
  {
   "cell_type": "markdown",
   "metadata": {
    "id": "AkJ1z5xy6ShB"
   },
   "source": [
    "* 영어가 훈련 데이터일 때 대부분의 경우에서 글자 집합의 크기가 단어 집합을 사용했을 경우보다 집합의 크기가 현저히 작다는 특징이 있다."
   ]
  },
  {
   "cell_type": "code",
   "execution_count": 7,
   "metadata": {
    "colab": {
     "base_uri": "https://localhost:8080/"
    },
    "executionInfo": {
     "elapsed": 538,
     "status": "ok",
     "timestamp": 1622640531752,
     "user": {
      "displayName": "윤선영",
      "photoUrl": "",
      "userId": "03257090453356543910"
     },
     "user_tz": -540
    },
    "id": "F574dPTf6ShC",
    "outputId": "b3eccead-d356-4140-945d-b4659f01ab7e"
   },
   "outputs": [
    {
     "name": "stdout",
     "output_type": "stream",
     "text": [
      "{' ': 0, '!': 1, '\"': 2, '#': 3, '$': 4, '%': 5, \"'\": 6, '(': 7, ')': 8, '*': 9, ',': 10, '-': 11, '.': 12, '/': 13, '0': 14, '1': 15, '2': 16, '3': 17, '4': 18, '5': 19, '6': 20, '7': 21, '8': 22, '9': 23, ':': 24, ';': 25, '?': 26, '[': 27, ']': 28, '_': 29, 'a': 30, 'b': 31, 'c': 32, 'd': 33, 'e': 34, 'f': 35, 'g': 36, 'h': 37, 'i': 38, 'j': 39, 'k': 40, 'l': 41, 'm': 42, 'n': 43, 'o': 44, 'p': 45, 'q': 46, 'r': 47, 's': 48, 't': 49, 'u': 50, 'v': 51, 'w': 52, 'x': 53, 'y': 54, 'z': 55}\n"
     ]
    }
   ],
   "source": [
    "# 글자 집합에 인덱스를 부여하고 전부 출력\n",
    "char_to_index = dict((c,i) for i,c in enumerate(char_vocab))\n",
    "print(char_to_index)"
   ]
  },
  {
   "cell_type": "code",
   "execution_count": 8,
   "metadata": {
    "executionInfo": {
     "elapsed": 20,
     "status": "ok",
     "timestamp": 1622640531752,
     "user": {
      "displayName": "윤선영",
      "photoUrl": "",
      "userId": "03257090453356543910"
     },
     "user_tz": -540
    },
    "id": "dJo2LY6U6ShC"
   },
   "outputs": [],
   "source": [
    "# 인덱스로부터 글자 리턴\n",
    "index_to_char={}\n",
    "for key, value in char_to_index.items():\n",
    "    index_to_char[value] = key"
   ]
  },
  {
   "cell_type": "code",
   "execution_count": 9,
   "metadata": {
    "colab": {
     "base_uri": "https://localhost:8080/"
    },
    "executionInfo": {
     "elapsed": 21,
     "status": "ok",
     "timestamp": 1622640531753,
     "user": {
      "displayName": "윤선영",
      "photoUrl": "",
      "userId": "03257090453356543910"
     },
     "user_tz": -540
    },
    "id": "A2SV0ABb6ShD",
    "outputId": "2ea60ec6-e5fa-4b92-8509-966c8472ad9c"
   },
   "outputs": [
    {
     "name": "stdout",
     "output_type": "stream",
     "text": [
      "문장 샘플의 수 : 2658\n"
     ]
    }
   ],
   "source": [
    "# text 문자열로부터 다수의 문장 샘플들로 분리\n",
    "\n",
    "seq_length = 60 # 문장의 길이를 60으로 한다.\n",
    "n_samples = int(np.floor((len(text)-1)/seq_length)) # 문자열을 60등분한다. 그러면 즉, 총 샘플의 개수\n",
    "print ('문장 샘플의 수 : {}'.format(n_samples))"
   ]
  },
  {
   "cell_type": "code",
   "execution_count": 10,
   "metadata": {
    "executionInfo": {
     "elapsed": 17,
     "status": "ok",
     "timestamp": 1622640531753,
     "user": {
      "displayName": "윤선영",
      "photoUrl": "",
      "userId": "03257090453356543910"
     },
     "user_tz": -540
    },
    "id": "eeEnu54t6ShD"
   },
   "outputs": [],
   "source": [
    "train_X = []\n",
    "train_y = []\n",
    "\n",
    "for i in range(n_samples):\n",
    "    X_sample = text[i*seq_length: (i+1) * seq_length]\n",
    "    X_encoded = [char_to_index[c] for c in X_sample] # 하나의 문장 샘플에 대해 정수 인코딩\n",
    "    train_X.append(X_encoded)\n",
    "    \n",
    "    y_sample = text[i*seq_length + 1: (i+1)*seq_length + 1]\n",
    "    y_encoded = [char_to_index[c] for c in y_sample]\n",
    "    train_y.append(y_encoded)"
   ]
  },
  {
   "cell_type": "code",
   "execution_count": 11,
   "metadata": {
    "colab": {
     "base_uri": "https://localhost:8080/"
    },
    "executionInfo": {
     "elapsed": 18,
     "status": "ok",
     "timestamp": 1622640531754,
     "user": {
      "displayName": "윤선영",
      "photoUrl": "",
      "userId": "03257090453356543910"
     },
     "user_tz": -540
    },
    "id": "WKdWXqqf6ShE",
    "outputId": "2e3c25ec-afa4-48f4-f104-6c3dfce86c42"
   },
   "outputs": [
    {
     "name": "stdout",
     "output_type": "stream",
     "text": [
      "[49, 37, 34, 0, 45, 47, 44, 39, 34, 32, 49, 0, 36, 50, 49, 34, 43, 31, 34, 47, 36, 0, 34, 31, 44, 44, 40, 0, 44, 35, 0, 30, 41, 38, 32, 34, 48, 0, 30, 33, 51, 34, 43, 49, 50, 47, 34, 48, 0, 38, 43, 0, 52, 44, 43, 33, 34, 47, 41, 30]\n"
     ]
    }
   ],
   "source": [
    "print(train_X[0])"
   ]
  },
  {
   "cell_type": "code",
   "execution_count": 12,
   "metadata": {
    "colab": {
     "base_uri": "https://localhost:8080/"
    },
    "executionInfo": {
     "elapsed": 15,
     "status": "ok",
     "timestamp": 1622640531754,
     "user": {
      "displayName": "윤선영",
      "photoUrl": "",
      "userId": "03257090453356543910"
     },
     "user_tz": -540
    },
    "id": "slRMrisv6ShE",
    "outputId": "9d96cc49-8a6f-4e3e-cc1d-7d51fdc16d1e",
    "scrolled": true
   },
   "outputs": [
    {
     "name": "stdout",
     "output_type": "stream",
     "text": [
      "[37, 34, 0, 45, 47, 44, 39, 34, 32, 49, 0, 36, 50, 49, 34, 43, 31, 34, 47, 36, 0, 34, 31, 44, 44, 40, 0, 44, 35, 0, 30, 41, 38, 32, 34, 48, 0, 30, 33, 51, 34, 43, 49, 50, 47, 34, 48, 0, 38, 43, 0, 52, 44, 43, 33, 34, 47, 41, 30, 43]\n"
     ]
    }
   ],
   "source": [
    "print(train_y[0]) # train_X[0]에서 오른쪽으로 한 칸 쉬프트 된 문장"
   ]
  },
  {
   "cell_type": "markdown",
   "metadata": {
    "id": "lePjQv_y6ShE"
   },
   "source": [
    "글자 단위 RNN에서는 입력 시퀀스에 대해서 워드 임베딩을 하지 않습니다. "
   ]
  },
  {
   "cell_type": "code",
   "execution_count": 13,
   "metadata": {
    "executionInfo": {
     "elapsed": 14,
     "status": "ok",
     "timestamp": 1622640531756,
     "user": {
      "displayName": "윤선영",
      "photoUrl": "",
      "userId": "03257090453356543910"
     },
     "user_tz": -540
    },
    "id": "jQKY9pBz6ShF"
   },
   "outputs": [],
   "source": [
    "# 원-핫 인코딩\n",
    "train_X = to_categorical(train_X)\n",
    "train_y = to_categorical(train_y)"
   ]
  },
  {
   "cell_type": "code",
   "execution_count": 14,
   "metadata": {
    "colab": {
     "base_uri": "https://localhost:8080/"
    },
    "executionInfo": {
     "elapsed": 13,
     "status": "ok",
     "timestamp": 1622640531756,
     "user": {
      "displayName": "윤선영",
      "photoUrl": "",
      "userId": "03257090453356543910"
     },
     "user_tz": -540
    },
    "id": "168hTNsZ6ShF",
    "outputId": "c69a9636-57c8-4370-c1dd-d66a8fa76d04"
   },
   "outputs": [
    {
     "name": "stdout",
     "output_type": "stream",
     "text": [
      "train_X의 크기(shape) : (2658, 60, 56)\n",
      "train_y의 크기(shape) : (2658, 60, 56)\n"
     ]
    }
   ],
   "source": [
    "print('train_X의 크기(shape) : {}'.format(train_X.shape)) # 원-핫 인코딩\n",
    "print('train_y의 크기(shape) : {}'.format(train_y.shape)) # 원-핫 인코딩\n",
    "# 샘플의 수(No. of samples)가 2,658개, 입력 시퀀스의 길이(input_length)가 60, 각 벡터의 차원(input_dim)이 56"
   ]
  },
  {
   "cell_type": "markdown",
   "metadata": {
    "id": "Y5rpx9qA6ShF"
   },
   "source": [
    "### 2) 모델 설계하기"
   ]
  },
  {
   "cell_type": "code",
   "execution_count": 15,
   "metadata": {
    "executionInfo": {
     "elapsed": 12,
     "status": "ok",
     "timestamp": 1622640531757,
     "user": {
      "displayName": "윤선영",
      "photoUrl": "",
      "userId": "03257090453356543910"
     },
     "user_tz": -540
    },
    "id": "5YL60Qoy6ShG"
   },
   "outputs": [],
   "source": [
    "from tensorflow.keras.models import Sequential\n",
    "from tensorflow.keras.layers import Dense, LSTM, TimeDistributed"
   ]
  },
  {
   "cell_type": "code",
   "execution_count": 16,
   "metadata": {
    "executionInfo": {
     "elapsed": 5257,
     "status": "ok",
     "timestamp": 1622640537003,
     "user": {
      "displayName": "윤선영",
      "photoUrl": "",
      "userId": "03257090453356543910"
     },
     "user_tz": -540
    },
    "id": "2bxF8dNm6ShG"
   },
   "outputs": [],
   "source": [
    "model = Sequential()\n",
    "model.add(LSTM(256, input_shape=(None, train_X.shape[2]), return_sequences=True))\n",
    "model.add(LSTM(256, return_sequences=True))\n",
    "model.add(TimeDistributed(Dense(vocab_size, activation='softmax')))"
   ]
  },
  {
   "cell_type": "code",
   "execution_count": 17,
   "metadata": {
    "colab": {
     "base_uri": "https://localhost:8080/"
    },
    "executionInfo": {
     "elapsed": 228749,
     "status": "ok",
     "timestamp": 1622640765747,
     "user": {
      "displayName": "윤선영",
      "photoUrl": "",
      "userId": "03257090453356543910"
     },
     "user_tz": -540
    },
    "id": "R1N0dhjK6ShG",
    "outputId": "675215e5-7e3b-4510-94f0-f699cc51b2ce"
   },
   "outputs": [
    {
     "name": "stdout",
     "output_type": "stream",
     "text": [
      "Epoch 1/80\n",
      "84/84 - 11s - loss: 3.0705 - accuracy: 0.1814\n",
      "Epoch 2/80\n",
      "84/84 - 3s - loss: 2.7015 - accuracy: 0.2529\n",
      "Epoch 3/80\n",
      "84/84 - 3s - loss: 2.3763 - accuracy: 0.3337\n",
      "Epoch 4/80\n",
      "84/84 - 3s - loss: 2.2370 - accuracy: 0.3638\n",
      "Epoch 5/80\n",
      "84/84 - 3s - loss: 2.1381 - accuracy: 0.3897\n",
      "Epoch 6/80\n",
      "84/84 - 3s - loss: 2.0551 - accuracy: 0.4093\n",
      "Epoch 7/80\n",
      "84/84 - 3s - loss: 1.9865 - accuracy: 0.4273\n",
      "Epoch 8/80\n",
      "84/84 - 3s - loss: 1.9262 - accuracy: 0.4426\n",
      "Epoch 9/80\n",
      "84/84 - 3s - loss: 1.8758 - accuracy: 0.4573\n",
      "Epoch 10/80\n",
      "84/84 - 3s - loss: 1.8257 - accuracy: 0.4712\n",
      "Epoch 11/80\n",
      "84/84 - 3s - loss: 1.7825 - accuracy: 0.4833\n",
      "Epoch 12/80\n",
      "84/84 - 3s - loss: 1.7436 - accuracy: 0.4927\n",
      "Epoch 13/80\n",
      "84/84 - 3s - loss: 1.7043 - accuracy: 0.5027\n",
      "Epoch 14/80\n",
      "84/84 - 3s - loss: 1.6711 - accuracy: 0.5121\n",
      "Epoch 15/80\n",
      "84/84 - 3s - loss: 1.6364 - accuracy: 0.5216\n",
      "Epoch 16/80\n",
      "84/84 - 3s - loss: 1.6023 - accuracy: 0.5303\n",
      "Epoch 17/80\n",
      "84/84 - 3s - loss: 1.5747 - accuracy: 0.5376\n",
      "Epoch 18/80\n",
      "84/84 - 3s - loss: 1.5398 - accuracy: 0.5454\n",
      "Epoch 19/80\n",
      "84/84 - 3s - loss: 1.5085 - accuracy: 0.5556\n",
      "Epoch 20/80\n",
      "84/84 - 3s - loss: 1.4829 - accuracy: 0.5609\n",
      "Epoch 21/80\n",
      "84/84 - 3s - loss: 1.4492 - accuracy: 0.5705\n",
      "Epoch 22/80\n",
      "84/84 - 3s - loss: 1.4196 - accuracy: 0.5793\n",
      "Epoch 23/80\n",
      "84/84 - 3s - loss: 1.3947 - accuracy: 0.5855\n",
      "Epoch 24/80\n",
      "84/84 - 3s - loss: 1.3651 - accuracy: 0.5954\n",
      "Epoch 25/80\n",
      "84/84 - 3s - loss: 1.3400 - accuracy: 0.6018\n",
      "Epoch 26/80\n",
      "84/84 - 3s - loss: 1.3113 - accuracy: 0.6098\n",
      "Epoch 27/80\n",
      "84/84 - 3s - loss: 1.2847 - accuracy: 0.6180\n",
      "Epoch 28/80\n",
      "84/84 - 3s - loss: 1.2583 - accuracy: 0.6248\n",
      "Epoch 29/80\n",
      "84/84 - 3s - loss: 1.2309 - accuracy: 0.6333\n",
      "Epoch 30/80\n",
      "84/84 - 3s - loss: 1.2067 - accuracy: 0.6407\n",
      "Epoch 31/80\n",
      "84/84 - 3s - loss: 1.1802 - accuracy: 0.6481\n",
      "Epoch 32/80\n",
      "84/84 - 3s - loss: 1.1541 - accuracy: 0.6556\n",
      "Epoch 33/80\n",
      "84/84 - 3s - loss: 1.1271 - accuracy: 0.6628\n",
      "Epoch 34/80\n",
      "84/84 - 3s - loss: 1.1012 - accuracy: 0.6708\n",
      "Epoch 35/80\n",
      "84/84 - 3s - loss: 1.0766 - accuracy: 0.6785\n",
      "Epoch 36/80\n",
      "84/84 - 3s - loss: 1.0454 - accuracy: 0.6889\n",
      "Epoch 37/80\n",
      "84/84 - 3s - loss: 1.0178 - accuracy: 0.6964\n",
      "Epoch 38/80\n",
      "84/84 - 3s - loss: 0.9941 - accuracy: 0.7035\n",
      "Epoch 39/80\n",
      "84/84 - 3s - loss: 0.9753 - accuracy: 0.7086\n",
      "Epoch 40/80\n",
      "84/84 - 3s - loss: 0.9434 - accuracy: 0.7190\n",
      "Epoch 41/80\n",
      "84/84 - 3s - loss: 0.9171 - accuracy: 0.7273\n",
      "Epoch 42/80\n",
      "84/84 - 3s - loss: 0.8903 - accuracy: 0.7358\n",
      "Epoch 43/80\n",
      "84/84 - 3s - loss: 0.8635 - accuracy: 0.7448\n",
      "Epoch 44/80\n",
      "84/84 - 3s - loss: 0.8333 - accuracy: 0.7535\n",
      "Epoch 45/80\n",
      "84/84 - 3s - loss: 0.8122 - accuracy: 0.7602\n",
      "Epoch 46/80\n",
      "84/84 - 3s - loss: 0.7931 - accuracy: 0.7661\n",
      "Epoch 47/80\n",
      "84/84 - 3s - loss: 0.7682 - accuracy: 0.7740\n",
      "Epoch 48/80\n",
      "84/84 - 3s - loss: 0.7443 - accuracy: 0.7812\n",
      "Epoch 49/80\n",
      "84/84 - 3s - loss: 0.7113 - accuracy: 0.7921\n",
      "Epoch 50/80\n",
      "84/84 - 3s - loss: 0.6946 - accuracy: 0.7964\n",
      "Epoch 51/80\n",
      "84/84 - 3s - loss: 0.6648 - accuracy: 0.8070\n",
      "Epoch 52/80\n",
      "84/84 - 3s - loss: 0.6565 - accuracy: 0.8086\n",
      "Epoch 53/80\n",
      "84/84 - 3s - loss: 0.6274 - accuracy: 0.8182\n",
      "Epoch 54/80\n",
      "84/84 - 3s - loss: 0.6135 - accuracy: 0.8223\n",
      "Epoch 55/80\n",
      "84/84 - 3s - loss: 0.5876 - accuracy: 0.8313\n",
      "Epoch 56/80\n",
      "84/84 - 3s - loss: 0.5635 - accuracy: 0.8387\n",
      "Epoch 57/80\n",
      "84/84 - 3s - loss: 0.5540 - accuracy: 0.8412\n",
      "Epoch 58/80\n",
      "84/84 - 3s - loss: 0.5292 - accuracy: 0.8503\n",
      "Epoch 59/80\n",
      "84/84 - 3s - loss: 0.5005 - accuracy: 0.8605\n",
      "Epoch 60/80\n",
      "84/84 - 3s - loss: 0.5018 - accuracy: 0.8578\n",
      "Epoch 61/80\n",
      "84/84 - 3s - loss: 0.4661 - accuracy: 0.8715\n",
      "Epoch 62/80\n",
      "84/84 - 3s - loss: 0.4529 - accuracy: 0.8755\n",
      "Epoch 63/80\n",
      "84/84 - 3s - loss: 0.4296 - accuracy: 0.8835\n",
      "Epoch 64/80\n",
      "84/84 - 3s - loss: 0.4129 - accuracy: 0.8887\n",
      "Epoch 65/80\n",
      "84/84 - 3s - loss: 0.3989 - accuracy: 0.8931\n",
      "Epoch 66/80\n",
      "84/84 - 3s - loss: 0.3830 - accuracy: 0.8981\n",
      "Epoch 67/80\n",
      "84/84 - 3s - loss: 0.3817 - accuracy: 0.8968\n",
      "Epoch 68/80\n",
      "84/84 - 3s - loss: 0.3548 - accuracy: 0.9070\n",
      "Epoch 69/80\n",
      "84/84 - 3s - loss: 0.3583 - accuracy: 0.9036\n",
      "Epoch 70/80\n",
      "84/84 - 3s - loss: 0.3411 - accuracy: 0.9101\n",
      "Epoch 71/80\n",
      "84/84 - 3s - loss: 0.3307 - accuracy: 0.9127\n",
      "Epoch 72/80\n",
      "84/84 - 3s - loss: 0.3043 - accuracy: 0.9234\n",
      "Epoch 73/80\n",
      "84/84 - 3s - loss: 0.2994 - accuracy: 0.9239\n",
      "Epoch 74/80\n",
      "84/84 - 3s - loss: 0.2858 - accuracy: 0.9281\n",
      "Epoch 75/80\n",
      "84/84 - 3s - loss: 0.2882 - accuracy: 0.9262\n",
      "Epoch 76/80\n",
      "84/84 - 3s - loss: 0.2705 - accuracy: 0.9318\n",
      "Epoch 77/80\n",
      "84/84 - 3s - loss: 0.2573 - accuracy: 0.9361\n",
      "Epoch 78/80\n",
      "84/84 - 3s - loss: 0.2574 - accuracy: 0.9355\n",
      "Epoch 79/80\n",
      "84/84 - 3s - loss: 0.2410 - accuracy: 0.9410\n",
      "Epoch 80/80\n",
      "84/84 - 3s - loss: 0.2255 - accuracy: 0.9455\n"
     ]
    },
    {
     "data": {
      "text/plain": [
       "<tensorflow.python.keras.callbacks.History at 0x7f04f0264750>"
      ]
     },
     "execution_count": 17,
     "metadata": {
      "tags": []
     },
     "output_type": "execute_result"
    }
   ],
   "source": [
    "model.compile(loss='categorical_crossentropy', optimizer='adam', metrics=['accuracy'])\n",
    "model.fit(train_X, train_y, epochs=80, verbose=2)"
   ]
  },
  {
   "cell_type": "code",
   "execution_count": 21,
   "metadata": {
    "executionInfo": {
     "elapsed": 379,
     "status": "ok",
     "timestamp": 1622640808740,
     "user": {
      "displayName": "윤선영",
      "photoUrl": "",
      "userId": "03257090453356543910"
     },
     "user_tz": -540
    },
    "id": "TpcHLCrY6ShH"
   },
   "outputs": [],
   "source": [
    "def sentence_generation(model, length):\n",
    "    ix = [np.random.randint(vocab_size)]  # 글자에 대한 0~vocab_size 사이의 난수 1개 랜덤 인덱스 생성\n",
    "    y_char = [index_to_char[ix[-1]]] # 랜덤 인덱스로부터 글자 생성\n",
    "    print(ix[-1],'번 글자',y_char[-1],'로 예측을 시작!')\n",
    "    X = np.zeros((1, length, vocab_size))  # (1, length, 55) 크기의 X 생성. 즉, LSTM의 입력 시퀀스 생성\n",
    "    \n",
    "    for i in range(length):\n",
    "        X[0][i][ix[-1]] = 1  # X[0][i][예측한 글자의 인덱스] = 1, 즉, 예측 글자를 다음 입력 시퀀스에 추가\n",
    "        print(index_to_char[ix[-1]], end=\"\")\n",
    "        ix = np.argmax(model.predict(X[:,:i+1,:])[0], 1)\n",
    "        y_char.append(index_to_char[ix[-1]])\n",
    "    return ('').join(y_char)"
   ]
  },
  {
   "cell_type": "code",
   "execution_count": 30,
   "metadata": {
    "colab": {
     "base_uri": "https://localhost:8080/",
     "height": 108
    },
    "executionInfo": {
     "elapsed": 5456,
     "status": "ok",
     "timestamp": 1622641057776,
     "user": {
      "displayName": "윤선영",
      "photoUrl": "",
      "userId": "03257090453356543910"
     },
     "user_tz": -540
    },
    "id": "Q7qqNzqf6ShH",
    "outputId": "2b05334f-61ec-4580-c9c1-5031232985aa"
   },
   "outputs": [
    {
     "name": "stdout",
     "output_type": "stream",
     "text": [
      "37 번 글자 h 로 예측을 시작!\n",
      "he mock turtle, suddenly dropping his voice. after all, and the caker said in a tone, and the grypho"
     ]
    },
    {
     "data": {
      "application/vnd.google.colaboratory.intrinsic+json": {
       "type": "string"
      },
      "text/plain": [
       "'he mock turtle, suddenly dropping his voice. after all, and the caker said in a tone, and the gryphon'"
      ]
     },
     "execution_count": 30,
     "metadata": {
      "tags": []
     },
     "output_type": "execute_result"
    }
   ],
   "source": [
    "sentence_generation(model, 100)"
   ]
  },
  {
   "cell_type": "markdown",
   "metadata": {
    "id": "liKQD9s46ShI"
   },
   "source": [
    "##  2. 글자 단위 RNN(Char RNN)으로 텍스트 생성하기\n",
    "다 대 일(many-to-one) 구조의 RNN\n",
    "\n",
    "### 1) 데이터에 대한 이해와 전처리"
   ]
  },
  {
   "cell_type": "code",
   "execution_count": 19,
   "metadata": {
    "executionInfo": {
     "elapsed": 447,
     "status": "ok",
     "timestamp": 1622641070414,
     "user": {
      "displayName": "윤선영",
      "photoUrl": "",
      "userId": "03257090453356543910"
     },
     "user_tz": -540
    },
    "id": "puKha5al6ShI"
   },
   "outputs": [],
   "source": [
    "import numpy as np\n",
    "from tensorflow.keras.utils import to_categorical"
   ]
  },
  {
   "cell_type": "code",
   "execution_count": 20,
   "metadata": {
    "executionInfo": {
     "elapsed": 497,
     "status": "ok",
     "timestamp": 1622641074013,
     "user": {
      "displayName": "윤선영",
      "photoUrl": "",
      "userId": "03257090453356543910"
     },
     "user_tz": -540
    },
    "id": "_vz3zPzu6ShI"
   },
   "outputs": [],
   "source": [
    "# 가상의 노래 가사\n",
    "text='''\n",
    "I get on with life as a programmer,\n",
    "I like to contemplate beer.\n",
    "But when I start to daydream,\n",
    "My mind turns straight to wine.\n",
    "\n",
    "Do I love wine more than beer?\n",
    "\n",
    "I like to use words about beer.\n",
    "But when I stop my talking,\n",
    "My mind turns straight to wine.\n",
    "\n",
    "I hate bugs and errors.\n",
    "But I just think back to wine,\n",
    "And I'm happy once again.\n",
    "\n",
    "I like to hang out with programming and deep learning.\n",
    "But when left alone,\n",
    "My mind turns straight to wine.\n",
    "'''"
   ]
  },
  {
   "cell_type": "code",
   "execution_count": 21,
   "metadata": {
    "colab": {
     "base_uri": "https://localhost:8080/"
    },
    "executionInfo": {
     "elapsed": 400,
     "status": "ok",
     "timestamp": 1622641076014,
     "user": {
      "displayName": "윤선영",
      "photoUrl": "",
      "userId": "03257090453356543910"
     },
     "user_tz": -540
    },
    "id": "bq6PBTeh6ShI",
    "outputId": "ed3cac9a-e489-4a74-fec4-1a1cd505cce5"
   },
   "outputs": [
    {
     "name": "stdout",
     "output_type": "stream",
     "text": [
      "I get on with life as a programmer, I like to contemplate beer. But when I start to daydream, My mind turns straight to wine. Do I love wine more than beer? I like to use words about beer. But when I stop my talking, My mind turns straight to wine. I hate bugs and errors. But I just think back to wine, And I'm happy once again. I like to hang out with programming and deep learning. But when left alone, My mind turns straight to wine.\n"
     ]
    }
   ],
   "source": [
    "# 단락 구분을 없애고 하나의 문자열로 재저장\n",
    "tokens = text.split() # '\\n' 저장\n",
    "text = ' '.join(tokens)\n",
    "print(text)"
   ]
  },
  {
   "cell_type": "code",
   "execution_count": 22,
   "metadata": {
    "id": "dJaC7vZB8fzD"
   },
   "outputs": [
    {
     "name": "stdout",
     "output_type": "stream",
     "text": [
      "[' ', \"'\", ',', '.', '?', 'A', 'B', 'D', 'I', 'M', 'a', 'b', 'c', 'd', 'e', 'f', 'g', 'h', 'i', 'j', 'k', 'l', 'm', 'n', 'o', 'p', 'r', 's', 't', 'u', 'v', 'w', 'y']\n"
     ]
    }
   ],
   "source": [
    "# 글자 집합\n",
    "char_vocab = sorted(list(set(text)))\n",
    "print(char_vocab)"
   ]
  },
  {
   "cell_type": "code",
   "execution_count": 23,
   "metadata": {},
   "outputs": [
    {
     "name": "stdout",
     "output_type": "stream",
     "text": [
      "글자 집합의 크기: 33\n"
     ]
    }
   ],
   "source": [
    "vocab_size = len(char_vocab)\n",
    "print('글자 집합의 크기: {}'.format(vocab_size))"
   ]
  },
  {
   "cell_type": "code",
   "execution_count": 24,
   "metadata": {},
   "outputs": [
    {
     "name": "stdout",
     "output_type": "stream",
     "text": [
      "{' ': 0, \"'\": 1, ',': 2, '.': 3, '?': 4, 'A': 5, 'B': 6, 'D': 7, 'I': 8, 'M': 9, 'a': 10, 'b': 11, 'c': 12, 'd': 13, 'e': 14, 'f': 15, 'g': 16, 'h': 17, 'i': 18, 'j': 19, 'k': 20, 'l': 21, 'm': 22, 'n': 23, 'o': 24, 'p': 25, 'r': 26, 's': 27, 't': 28, 'u': 29, 'v': 30, 'w': 31, 'y': 32}\n"
     ]
    }
   ],
   "source": [
    "char_to_index = dict((c,i) for i, c in enumerate(char_vocab))\n",
    "print(char_to_index)"
   ]
  }
 ],
 "metadata": {
  "accelerator": "GPU",
  "colab": {
   "collapsed_sections": [],
   "name": "50. 순환 신경망_글자 단위 RNN(Char RNN).ipynb",
   "provenance": []
  },
  "kernelspec": {
   "display_name": "Python 3",
   "language": "python",
   "name": "python3"
  },
  "language_info": {
   "codemirror_mode": {
    "name": "ipython",
    "version": 3
   },
   "file_extension": ".py",
   "mimetype": "text/x-python",
   "name": "python",
   "nbconvert_exporter": "python",
   "pygments_lexer": "ipython3",
   "version": "3.7.6"
  }
 },
 "nbformat": 4,
 "nbformat_minor": 1
}
