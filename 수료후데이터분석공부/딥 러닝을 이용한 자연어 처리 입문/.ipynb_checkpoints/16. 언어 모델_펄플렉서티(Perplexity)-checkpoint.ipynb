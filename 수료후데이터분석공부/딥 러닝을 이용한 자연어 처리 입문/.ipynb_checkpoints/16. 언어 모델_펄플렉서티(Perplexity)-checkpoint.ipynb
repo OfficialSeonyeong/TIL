{
 "cells": [
  {
   "cell_type": "markdown",
   "metadata": {},
   "source": [
    "펄플렉서티 : 모델 내에서 자신의 성능을 수치화하여 결과를 내놓는 내부 평가 지표(PPL)"
   ]
  },
  {
   "cell_type": "markdown",
   "metadata": {},
   "source": [
    "## 1. 언어 모델의 평가 방법(Evaluation metric)\n",
    "* PPL : 헷갈리는 정도\n",
    "* 낮을수록 언어 모델의 성능이 좋다.\n",
    "*  단어의 수로 정규화(normalization) 된 테스트 데이터에 대한 확률의 역수\n",
    "* PPL(W)=P(w1,w2,w3,...,wN)−1/N"
   ]
  },
  {
   "cell_type": "markdown",
   "metadata": {},
   "source": [
    "## 2. 분기계수(Branching factor)\n",
    "* PPL은 선택할 수 있는 가능한 경우의 수를 의미하는 분기계수\n",
    "* PPL은 이 언어 모델이 특정 시점에서 평균적으로 몇 개의 선택지를 가지고 고민하고 있는지를 의미\n",
    "* PPL의 값이 낮다는 것은 테스트 데이터 상에서 높은 정확도를 보인다는 것이지, 사람이 직접 느끼기에 좋은 언어 모델이라는 것을 반드시 의미하진 않는다.\n",
    "* 두 개 이상의 언어 모델을 비교할 때는 정량적으로 양이 많고, 또한 도메인에 알맞은 동일한 테스트 데이터를 사용해야 신뢰도가 높다."
   ]
  },
  {
   "cell_type": "markdown",
   "metadata": {},
   "source": [
    "## 3. 기존 언어 모델 Vs. 인공 신경망을 이용한 언어 모델\n",
    "* 인공 신경망을 이용한 언어 모델들은 대부분 n-gram을 이용한 언어 모델보다 더 좋은 성능 평가를 받는다."
   ]
  }
 ],
 "metadata": {
  "kernelspec": {
   "display_name": "Python 3",
   "language": "python",
   "name": "python3"
  },
  "language_info": {
   "codemirror_mode": {
    "name": "ipython",
    "version": 3
   },
   "file_extension": ".py",
   "mimetype": "text/x-python",
   "name": "python",
   "nbconvert_exporter": "python",
   "pygments_lexer": "ipython3",
   "version": "3.7.6"
  }
 },
 "nbformat": 4,
 "nbformat_minor": 4
}
