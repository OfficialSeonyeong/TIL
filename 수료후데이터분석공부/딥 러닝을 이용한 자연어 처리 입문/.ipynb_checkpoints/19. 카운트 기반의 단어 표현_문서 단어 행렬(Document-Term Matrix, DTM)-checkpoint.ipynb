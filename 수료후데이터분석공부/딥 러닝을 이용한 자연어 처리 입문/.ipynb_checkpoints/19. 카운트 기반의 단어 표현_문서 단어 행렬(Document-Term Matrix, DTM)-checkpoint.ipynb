{
 "cells": [
  {
   "cell_type": "markdown",
   "metadata": {},
   "source": [
    "**문서 단어 행렬(DTM)** : 다수의 문서에서 등장하는 각 단어들의 빈도를 행렬로 표현\n",
    "\n",
    "=> 각 문서에 대한 BoW를 하나의 행렬로 만든 것\n"
   ]
  },
  {
   "cell_type": "markdown",
   "metadata": {},
   "source": [
    "### 문서 단어 행렬의 한계\n",
    "1. 희소 표현(Sparse Representation)\n",
    "희소 벡터, 희소 행렬 : 원-핫 벡터처럼 대부분의 값이 0인 표현\n",
    "\n",
    "=>공간적 낭비와 계산 리소스를 증가시킬 수 있다.\n",
    "\n",
    "**전처리를 통해 단어 집합의 크기를 줄이는 것이 중요**\n",
    "\n",
    "2. 단순 빈도 수 기반 접근\n",
    "예를 들어 영어에서 불용어인 the가 자주 등장하는 경우가 많은데 그렇다고 유사한 문서라고 판단할 수 없다.\n",
    "\n",
    "=> **TF-IDF** : DTM에 불용어와 중요한 단어에 대해 가중치를 줄 수 있는 방법"
   ]
  }
 ],
 "metadata": {
  "kernelspec": {
   "display_name": "Python 3",
   "language": "python",
   "name": "python3"
  },
  "language_info": {
   "codemirror_mode": {
    "name": "ipython",
    "version": 3
   },
   "file_extension": ".py",
   "mimetype": "text/x-python",
   "name": "python",
   "nbconvert_exporter": "python",
   "pygments_lexer": "ipython3",
   "version": "3.7.6"
  }
 },
 "nbformat": 4,
 "nbformat_minor": 4
}
