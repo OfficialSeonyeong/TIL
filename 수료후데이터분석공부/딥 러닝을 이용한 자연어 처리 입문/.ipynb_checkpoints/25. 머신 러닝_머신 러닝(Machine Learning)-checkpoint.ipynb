{
 "cells": [
  {
   "cell_type": "markdown",
   "metadata": {},
   "source": [
    "* 딥 러닝을 포함하고 있는 개념인 머신러닝(Machine Learning)\n",
    "* 머신 러닝은 기존 프로그래밍의 한계에 대한 해결책이 될 수 있다."
   ]
  },
  {
   "cell_type": "markdown",
   "metadata": {},
   "source": [
    "## 1. 머신 러닝 모델의 평가\n",
    "* 실제 모델을 평가하기 위해서 데이터를 훈련용, 검증용, 테스트용으로 나눈다. \n",
    "*여기서는 편의상 훈련용, 테스트용으로만 구분*\n",
    "* 검증용 데이터: 모델의 성능을 조정하기 위한 용도, 과적합 판단 또는 하이퍼파라미터 조정\n",
    "* 하이퍼파마리터(초매개변수): 모델의 성능에 영향을 주는 매개변수, 사용자가 직접 정해줄 수 있는 변수\n",
    "* 매개변수: 가중치와 편향과 같은 학습을 통해 바뀌어져가는 변수, 모델이 학습하는 과정에서 얻어지는 값\n",
    "* 검증 데이터와 테스트 데이터를 나눌 만큼 데이터가 충분하지 않다면 k-폴드 교차 검증 사용"
   ]
  },
  {
   "cell_type": "markdown",
   "metadata": {},
   "source": [
    "## 2. 분류(Classification)와 회귀(Regression)\n",
    "여기서 다룰 머신러닝 기법은\n",
    "* 회귀 문제 - 선형회귀(Linear Regression)\n",
    "* 분류 문제 - 로지스틱 회귀(Logistic Rgression)\n",
    "    * 이진 분류(Binary Classification)과 다중 클래스 분류(Multi-Class Classification)"
   ]
  },
  {
   "cell_type": "markdown",
   "metadata": {},
   "source": [
    "## 3. 지도 학습(Supervised Learning)과 비지도 학습(Unsupervised Learning)\n",
    "머신러닝은 크게 지도 학습, 비지도 학습, 강화 학습으로 나누나 강화학습은 이 책의 범위를 벗어나기에 제외\n",
    "* 지도 학습: 레이블(Label)이라는 정답과 함께 학습하는 것\n",
    "* 비지도 학습: 레이블이 없이 학습하는 것"
   ]
  },
  {
   "cell_type": "markdown",
   "metadata": {},
   "source": [
    "## 4. 혼동 행렬(Confusion Matrix)\n",
    "정확도(Accuracy): 맞춘 문제수를 전체 문제수로 나눈 값\n",
    "혼동 행렬(Confusion Matrix): 맞춘 결과와 틀린 결과에 대한 세부적인 내용\n",
    "* TP(True Positive), TN(True Negative), FP(False Postivie), FN(False Negative)\n",
    "\n",
    "1. 정밀도(Precision): 양성이라고 대답한 전체 케이스에 대한 TP의 비율\n",
    "    정밀도 =  TP / TP+FP\n",
    "2. 재현율(Recall): 실제값이 양성인 데이터의 전체 개수에 대해서 TP의 비율\n",
    "    재현율 = TP / TP + FN"
   ]
  },
  {
   "cell_type": "markdown",
   "metadata": {},
   "source": [
    "## 5. 과적합(Overfitting)과 과소 적합(Underfitting)\n",
    "* 과적합: 훈련 데이터에 대해 지나친 일반화\n",
    "* 과소적합: 테스트 데이터의 성능이 올라갈 여지가 있음에도 훈련을 덜 한 상태"
   ]
  }
 ],
 "metadata": {
  "kernelspec": {
   "display_name": "Python 3",
   "language": "python",
   "name": "python3"
  },
  "language_info": {
   "codemirror_mode": {
    "name": "ipython",
    "version": 3
   },
   "file_extension": ".py",
   "mimetype": "text/x-python",
   "name": "python",
   "nbconvert_exporter": "python",
   "pygments_lexer": "ipython3",
   "version": "3.7.6"
  }
 },
 "nbformat": 4,
 "nbformat_minor": 4
}
