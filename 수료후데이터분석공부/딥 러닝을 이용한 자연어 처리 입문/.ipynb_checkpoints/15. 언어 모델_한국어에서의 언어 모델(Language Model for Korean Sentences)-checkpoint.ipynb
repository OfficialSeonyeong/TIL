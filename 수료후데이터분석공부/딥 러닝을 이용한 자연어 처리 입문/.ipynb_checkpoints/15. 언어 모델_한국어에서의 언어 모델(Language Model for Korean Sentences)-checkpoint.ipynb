{
 "cells": [
  {
   "cell_type": "markdown",
   "metadata": {},
   "source": [
    "한국어 자연어 처리는 영어나 기타 언어에 비해 까다롭다.\n",
    "\n",
    "### 1. 한국어는 어순이 중요하지 않다.\n",
    "이전 단어가 주어졌을 때, 다음 단어가 나타날 확률을 구해야 하는데 어떤 단어든 나타나도 되기 때문에 다음 단어 예측이 어렵다.\n",
    "\n",
    "### 2. 한국어는 교착어이다.\n",
    "한국어에서는 토큰화를 통해 접사나 조사 등을 분리하는 것이 중요하다.\n",
    "\n",
    "### 3. 한국어는 띄어쓰기가 제대로 지켜지지 않는다.\n",
    "띄어쓰기를 제대로 하지 않아도 의미가 전달되며, 띄어쓰기 규칙 또한 상대적으로 까다로운 언어로 한국어 코퍼스는 띄어쓰기가 제대로 지켜지지 않는 경우가 많다."
   ]
  }
 ],
 "metadata": {
  "kernelspec": {
   "display_name": "Python 3",
   "language": "python",
   "name": "python3"
  },
  "language_info": {
   "codemirror_mode": {
    "name": "ipython",
    "version": 3
   },
   "file_extension": ".py",
   "mimetype": "text/x-python",
   "name": "python",
   "nbconvert_exporter": "python",
   "pygments_lexer": "ipython3",
   "version": "3.7.6"
  }
 },
 "nbformat": 4,
 "nbformat_minor": 4
}
