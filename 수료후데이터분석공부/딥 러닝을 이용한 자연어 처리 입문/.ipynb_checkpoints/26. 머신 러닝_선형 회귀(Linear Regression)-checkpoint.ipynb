{
 "cells": [
  {
   "cell_type": "markdown",
   "metadata": {},
   "source": [
    "## 1. 선형 회귀(Linear Regression)\n",
    "* 변수 x의 값은 독립적으로 변할 수 있는 것에 반해, y값은 계속해서 x의 값에 의해서, 종속적으로 결정되므로 x를 독립 변수, y를 종속 변수라고 한다.\n",
    "* 선형 회귀는 한 개 이상의 독립 변수 x와 y의 선형 관계를 모델링한다.\n",
    "* 만약, 독립 변수 x가 1개라면 단순 선형 회귀라고 한다.\n",
    "\n",
    "\n",
    "1.  단순 선형 회귀 분석(Simple Linear Regression Analysis)\n",
    "\n",
    "    y=Wx+b\n",
    "* 독립 변수 x와 곱해지는 값 W를 머신 러닝에서는 가중치(weight)\n",
    "* 별도로 더해지는 값 b는 편향(bias)\n",
    "\n",
    "\n",
    "2. 다중 선형 회귀 분석(Multiple Linear Regression Analysis)\n",
    "\n",
    "    y=W1x1+W2x2+...Wnxn+b\n",
    "* y는 2개, x는 1개가 아닌 여러 개"
   ]
  },
  {
   "cell_type": "code",
   "execution_count": null,
   "metadata": {},
   "outputs": [],
   "source": []
  }
 ],
 "metadata": {
  "kernelspec": {
   "display_name": "Python 3",
   "language": "python",
   "name": "python3"
  },
  "language_info": {
   "codemirror_mode": {
    "name": "ipython",
    "version": 3
   },
   "file_extension": ".py",
   "mimetype": "text/x-python",
   "name": "python",
   "nbconvert_exporter": "python",
   "pygments_lexer": "ipython3",
   "version": "3.7.6"
  }
 },
 "nbformat": 4,
 "nbformat_minor": 4
}
