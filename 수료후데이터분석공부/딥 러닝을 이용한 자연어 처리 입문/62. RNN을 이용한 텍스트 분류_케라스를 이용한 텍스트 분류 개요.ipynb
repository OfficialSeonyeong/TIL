{
 "cells": [
  {
   "cell_type": "markdown",
   "metadata": {},
   "source": [
    "케라스로 인공 신경망을 이용한 텍스트 분류와 인공 신경망 외에도 텍스트 분류 방법으로 자주 언급되는 나이브 베이즈 분류기를 통해 텍스트를 분류해보자.\n",
    "\n",
    "딥러닝을 이용해 텍스트 분류가 수행될 때, 어떤 작업과 구성으로 진행될까?\n",
    "\n",
    "## 1. 훈련 데이터에 대한 이해\n",
    "텍스트 분류 작업은 지도학습(Supervised Learning)에 속한다. 지도학습의 훈련 데이터는 레이블이라는 이름의 미리 정답이 적혀있는 데이터로 구성되어 있다.\n",
    "\n",
    "## 2. 훈련 데이터와 테스트 데이터\n",
    "전체 데이터를 전부 훈련에 사용하는 것보다 테스트용으로 일부 남겨놓는 것이 바람직하다.\n",
    "\n",
    "훈련 데이터(X_train, y_train), 테스트 데이터(X_test, y_test)\n",
    "\n",
    "## 3. 단어에 대한 인덱스 부여\n",
    "* 케라스의 Embedding()은 단어 각각에 대해 정수가 맵핑된 입력에 대해서 임베딩 작업 수행\n",
    "* 단어 각각에 숫자 맵핑, 인덱스를 부여 -> 빈도순대로 정렬해 인덱스 부여 등\n",
    "\n",
    "## 4. RNN으로 분류하기\n",
    "```model.add(SimpleRNN(hidden_size, input_shape=(timesteps, input_dim))```\n",
    "\n",
    "* hidden_size = 출력의 크기(output_dim)\n",
    "* timesteps = 시점의 수 = 각 문서에서의 단어 수\n",
    "* input_dim = 입력의 수 = 각 단어의 벡터 표현의 차원 수\n",
    "\n",
    "## 5. RNN의 다-대-일(Many-to-One) 문제\n",
    "텍스트 분류는 5. RNN의 다-대-일(Many-to-One) 문제에 속한다. 즉, 모든 시점(time step)에 대해서 입력을 받지만 최종 시점의 RNN 셀만이 은닉 상태를 출력하고, 이것이 출력층으로 가서 활성화 함수를 통해 고르는 문제다.\n",
    "\n",
    "이 때, 두 개의 선택지 중에서 정답을 고르는 **이진 분류(Binary Classification)** 문제, 세 개 이상의 선택지 중에서 정답을 고르는 **다중 클래스 분류(Multi-Class Classification)**문제가 있다.\n",
    "\n",
    "이진 분류의 문제의 경우, 출력층의 활성화 함수로 **시그모이드 함수**를, 손실 함수로 **binary_crossentropy** 사용\n",
    "\n",
    "다중 클래스 문제는 출력층의 활성화 함수로 **소프트맥스 함수**를, 손실 함수로는 **categorical_crossentropy** 사용 + 클래스가 N개라면 출력층에 해당되는 밀집층(dense layer)의 크기를 N으로 한다. 즉, 출력층의 뉴런의 수는 N개이다."
   ]
  }
 ],
 "metadata": {
  "kernelspec": {
   "display_name": "Python 3",
   "language": "python",
   "name": "python3"
  },
  "language_info": {
   "codemirror_mode": {
    "name": "ipython",
    "version": 3
   },
   "file_extension": ".py",
   "mimetype": "text/x-python",
   "name": "python",
   "nbconvert_exporter": "python",
   "pygments_lexer": "ipython3",
   "version": "3.8.5"
  }
 },
 "nbformat": 4,
 "nbformat_minor": 4
}
