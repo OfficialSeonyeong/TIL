{
 "cells": [
  {
   "cell_type": "markdown",
   "metadata": {},
   "source": [
    "* 소프트맥스 회귀에서는 종속 변수 y의 종류도 3개 이상이 되면서 더욱 복잡해진다. 그리고 이러한 식들이 겹겹이 누적되면 인공 신경망의 개념이 된다.\n",
    "* 케라스는 사용하기 편리해서 연산 이해가 상대적으로 필요하지 않지만, Numpy나 텐서플로우의 로우 레벨(low-level)의 머신 러닝 개발을 하게 되면 각 변수들의 연산을 벡터와 행렬 연산으로 이해할 수 있어야 한다. 데이터와 변수의 개수로부터 행렬의 크기, 더 나아 텐서의 크기를 산정할 수 있어야 한다."
   ]
  },
  {
   "cell_type": "markdown",
   "metadata": {},
   "source": [
    "## 1. 벡터와 행렬과 텐서\n",
    "* 벡터: 크기와 방향을 가진 양, 숫자가 나열된 형상이며 파이썬에서는 1차원 배열 또는 리스트로 표현\n",
    "* 행렬: 행과 열을 가지는 2차원 형상을 가진 구조, 파이썬에서는 2차원 배열로 표현\n",
    "* 텐서: 3차원 이상의 형상을 가진 구조, 파이썬에서 3차원 이상의 배열로 표현"
   ]
  },
  {
   "cell_type": "markdown",
   "metadata": {},
   "source": [
    "## 2. 텐서(Tensor)\n",
    "* 인공 신경망은 복잡한 모델 내의 연산을 주로 행렬 연산을 통해 해결\n",
    "* 여기서 행렬 연산이란 단순히 2차원 배열을 통한 연산만을 의미하는 것은 아니다. 머신 러닝의 입출력이 복잡해지면 **3차원 텐서**에 대한 이해가 필수로 요구"
   ]
  },
  {
   "cell_type": "code",
   "execution_count": 2,
   "metadata": {},
   "outputs": [],
   "source": [
    "import numpy as np\n",
    "import warnings\n",
    "warnings.filterwarnings('ignore')"
   ]
  },
  {
   "cell_type": "markdown",
   "metadata": {},
   "source": [
    "### 1) 0차원 텐서\n",
    "0차원 텐서(스칼라): 하나의 실수값으로 이루어진 데이터"
   ]
  },
  {
   "cell_type": "code",
   "execution_count": 3,
   "metadata": {},
   "outputs": [
    {
     "name": "stdout",
     "output_type": "stream",
     "text": [
      "0\n",
      "()\n"
     ]
    }
   ],
   "source": [
    "d = np.array(5)\n",
    "# Numpy의 ndim은 축의 개수 => 텐서에서의 차원수\n",
    "print(d.ndim) # 차원수 출력\n",
    "print(d.shape) # 텐서의 크기 출력"
   ]
  },
  {
   "cell_type": "markdown",
   "metadata": {},
   "source": [
    "### 2) 1차원 텐서\n",
    "1차원 텐서(벡터): 숫자를 특정 순서대로 배열한 것\n",
    "\n",
    "*벡터의 차원과 텐서의 차원은 다른 개념!*"
   ]
  },
  {
   "cell_type": "code",
   "execution_count": 4,
   "metadata": {},
   "outputs": [
    {
     "name": "stdout",
     "output_type": "stream",
     "text": [
      "1\n",
      "(4,)\n"
     ]
    }
   ],
   "source": [
    "d = np.array([1,2,3,4])\n",
    "print(d.ndim) # 텐서의 차원\n",
    "print(d.shape) # 벡터의 차원"
   ]
  },
  {
   "cell_type": "markdown",
   "metadata": {},
   "source": [
    "### 2차원 텐서\n",
    "2차원 텐서(행렬): 행과 열이 존재하는 벡터의 배열"
   ]
  },
  {
   "cell_type": "code",
   "execution_count": 5,
   "metadata": {},
   "outputs": [
    {
     "name": "stdout",
     "output_type": "stream",
     "text": [
      "2\n",
      "(3, 4)\n"
     ]
    }
   ],
   "source": [
    "d = np.array([[1,2,3,4],[5,6,7,8],[9,10,11,12]])\n",
    "print(d.ndim)\n",
    "print(d.shape)"
   ]
  },
  {
   "cell_type": "markdown",
   "metadata": {},
   "source": [
    "### 3차원 텐서\n",
    "3차원 텐서: 행렬 또는 2차원 텐서를 단위로 한 번 더 배열\n",
    "* 3차원 이상의 텐서부터는 본격적으로 텐서라고 부른다."
   ]
  },
  {
   "cell_type": "code",
   "execution_count": 6,
   "metadata": {},
   "outputs": [
    {
     "name": "stdout",
     "output_type": "stream",
     "text": [
      "3\n",
      "(2, 3, 5)\n"
     ]
    }
   ],
   "source": [
    "d = np.array([\n",
    "            [[1, 2, 3, 4, 5], [6, 7, 8, 9, 10], [10, 11, 12, 13, 14]],\n",
    "            [[15, 16, 17, 18, 19], [19, 20, 21, 22, 23], [23, 24, 25, 26, 27]]\n",
    "            ])\n",
    "print(d.ndim)\n",
    "print(d.shape)"
   ]
  },
  {
   "cell_type": "markdown",
   "metadata": {},
   "source": [
    "* 자연어 처리에서 특히 자주 보게 되는 것이 3D 텐서다. 시퀀스 데이터(sequence data)를 표현할 때 자주 사용하기 때문 => 단어의 시퀀스를 의미\n",
    "* samples/batch_size는 데이터의 개수, timesteps는 시퀀스의 길이, word_dim은 단어를 표현하는 벡터의 차원 의미"
   ]
  },
  {
   "cell_type": "markdown",
   "metadata": {},
   "source": [
    "### 5) 그 이상의 텐서\n",
    "3차원 텐서를 배열로 합치면 4차원 텐서, 4차원 텐서를 배열로 합치면 5차원 텐서가 된다. 이런 식으로 텐서는 배열로서 계속 확장될 수 있다."
   ]
  },
  {
   "cell_type": "markdown",
   "metadata": {},
   "source": [
    "### 6) 케라스에서의 텐서\n",
    "* 앞에서 Numpy로 각 텐서의 ndim(차원)과 shape(크기)를 출력했다. 위 예제에서 3차원 텐서는 3차원이고 크기는 (2,3,5)였는데, 케라스에서는 입력의 크기(shape)를 인자로 줄 때 input_shape라는 인자를 사용한다.\n",
    "* input_shape는 배치 크기를 제외하고 차원을 지정하는데, input_shape=(6,5), batch_size=32 라고 지정하면 이 텐서의 크기는 (32,6,5)를 의미한다. batch_input_shape = (32,6,5)라고 표현 가능\n",
    "* 입력의 속성 수를 의미하는 input_dim, 시퀀스 데이터의 길이를 의미하는 input_length 등의 인자도 사용, *input_shape의 두 개의 인자는 (input_length, input_dim)*"
   ]
  },
  {
   "cell_type": "markdown",
   "metadata": {},
   "source": [
    "## 3. 벡터와 행렬의 연산\n",
    "### 1) 벡터와 행렬의 덧셈과 뺄셈\n",
    "같은 크기의 두 개의 벡터나 행렬은 덧셈과 뺄셈을 할 수 있다.\n",
    "이 경우 같은 위치의 원소끼리 연산하면 된다. => 요소별(element-wise) 연산"
   ]
  },
  {
   "cell_type": "code",
   "execution_count": 2,
   "metadata": {},
   "outputs": [
    {
     "name": "stdout",
     "output_type": "stream",
     "text": [
      "[9 6 8]\n",
      "[7 2 2]\n"
     ]
    }
   ],
   "source": [
    "import numpy as np\n",
    "import warnings\n",
    "warnings.filterwarnings('ignore')\n",
    "\n",
    "a = np.array([8,4,5])\n",
    "b = np.array([1,2,3])\n",
    "print(a+b)\n",
    "print(a-b)"
   ]
  },
  {
   "cell_type": "code",
   "execution_count": 3,
   "metadata": {},
   "outputs": [
    {
     "name": "stdout",
     "output_type": "stream",
     "text": [
      "[[15 26 37 48]\n",
      " [51 62 73 84]]\n",
      "[[ 5 14 23 32]\n",
      " [49 58 67 76]]\n"
     ]
    }
   ],
   "source": [
    "a = np.array([[10, 20, 30, 40], [50, 60, 70, 80]])\n",
    "b = np.array([[5, 6, 7, 8],[1, 2, 3, 4]])\n",
    "print(a+b)\n",
    "print(a-b)"
   ]
  },
  {
   "cell_type": "markdown",
   "metadata": {},
   "source": [
    "### 2) 벡터의 내적과 행렬의 곱셈\n",
    "**벡터의 접곱(dot product) 또는 내적(inner product)**\n",
    "* 연산을 점(dot)으로 표현, a⋅b\n",
    "* 내적이 성립하기 위해서는 두 벡터의 차원이 같아야 한다.\n",
    "* 앞의 벡터가 행벡터(가로 방향 벡터)이고 뒤에 벡터가 열벡터(세로 방향 벡터)여야 한다.\n",
    "* 벡터의 내적의 결과는 스칼라가 된다."
   ]
  },
  {
   "cell_type": "code",
   "execution_count": 4,
   "metadata": {},
   "outputs": [
    {
     "name": "stdout",
     "output_type": "stream",
     "text": [
      "32\n"
     ]
    }
   ],
   "source": [
    "a = np.array([1, 2, 3])\n",
    "b = np.array([4, 5, 6])\n",
    "print(np.dot(a,b))"
   ]
  },
  {
   "cell_type": "code",
   "execution_count": 5,
   "metadata": {},
   "outputs": [
    {
     "name": "stdout",
     "output_type": "stream",
     "text": [
      "[[23 31]\n",
      " [34 46]]\n"
     ]
    }
   ],
   "source": [
    "import numpy as np\n",
    "a = np.array([[1, 3],[2, 4]])\n",
    "b = np.array([[5, 7],[6, 8]])\n",
    "print(np.matmul(a,b))"
   ]
  },
  {
   "cell_type": "code",
   "execution_count": null,
   "metadata": {},
   "outputs": [],
   "source": []
  }
 ],
 "metadata": {
  "kernelspec": {
   "display_name": "Python 3",
   "language": "python",
   "name": "python3"
  },
  "language_info": {
   "codemirror_mode": {
    "name": "ipython",
    "version": 3
   },
   "file_extension": ".py",
   "mimetype": "text/x-python",
   "name": "python",
   "nbconvert_exporter": "python",
   "pygments_lexer": "ipython3",
   "version": "3.7.6"
  }
 },
 "nbformat": 4,
 "nbformat_minor": 4
}
