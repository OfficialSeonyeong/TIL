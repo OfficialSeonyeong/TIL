{
 "cells": [
  {
   "cell_type": "markdown",
   "metadata": {},
   "source": [
    "* 케라스는 유저가 손쉽게 딥 러닝을 구현할 수 있도록 도와주는 상위 레벨의 인터페이스\n",
    "\n",
    "## 1. 전처리(Preprocessing)\n",
    "**Tokenizer()** : 토큰화와 정수 인코딩(단어에 대한 인덱싱)을 위해 사용"
   ]
  },
  {
   "cell_type": "code",
   "execution_count": 2,
   "metadata": {},
   "outputs": [
    {
     "name": "stdout",
     "output_type": "stream",
     "text": [
      "sequences : [1, 2, 3, 4, 6, 7, 8]\n",
      "word_index :  {'the': 1, 'earth': 2, 'is': 3, 'an': 4, 'awesome': 5, 'place': 6, 'to': 7, 'live': 8}\n"
     ]
    }
   ],
   "source": [
    "import warnings\n",
    "warnings.filterwarnings('ignore')\n",
    "\n",
    "from tensorflow.keras.preprocessing.text import Tokenizer\n",
    "\n",
    "t = Tokenizer()\n",
    "fit_text = \"The earth is an awesome place to live\"\n",
    "t.fit_on_texts([fit_text])\n",
    "\n",
    "test_text = \"The earth is an great place to live\"\n",
    "sequences = t.texts_to_sequences([test_text])[0]\n",
    "\n",
    "print('sequences :', sequences) # great는 단어 집합(vocabulary)에 없으므로 출력되지 않는다.\n",
    "print(\"word_index : \",t.word_index) # 단어 집합(vocabulary) 출력"
   ]
  },
  {
   "cell_type": "markdown",
   "metadata": {},
   "source": [
    "**pad_sequences()** : 전체 훈련 데이터에서 각 샘플의 길이는 서로 다를 수 있다. \n",
    "\n",
    "모델의 입력으로 사용하려면 모든 샘플의 길이를 동일하게 맞춰야 할 때가 있다. => 패딩(padding) 작업\n",
    "\n",
    "보통 숫자 0을 넣어서 길이가 다른 샘플의 길이를 맞춰준다."
   ]
  },
  {
   "cell_type": "code",
   "execution_count": 3,
   "metadata": {},
   "outputs": [
    {
     "data": {
      "text/plain": [
       "array([[1, 2, 3],\n",
       "       [4, 5, 6],\n",
       "       [0, 7, 8]])"
      ]
     },
     "execution_count": 3,
     "metadata": {},
     "output_type": "execute_result"
    }
   ],
   "source": [
    "from tensorflow.keras.preprocessing.sequence import pad_sequences\n",
    "\n",
    "pad_sequences([[1, 2, 3], [3, 4, 5, 6], [7, 8]], maxlen=3, padding='pre')\n",
    "# 전처리가 끝나서 각 단어에 대한 정수 인코딩이 끝났다고 가정하고, 3개의 데이터를 입력으로 한다."
   ]
  },
  {
   "cell_type": "markdown",
   "metadata": {},
   "source": [
    "## 2. 워드 임베딩(Word Embedding)\n",
    "* 워드 임베딩이란 텍스트 내의 단어들을 밀집 벡터(dense vector)로 만드는 것\n",
    "* 원-핫 벡터의 차원이 주로 20,000 이상을 넘어가는 것과는 달리 임베딩 벡터는 주로 256, 512, 1024 등의 차원을 가진다.\n",
    "* 임베딩 벡터는 초기에는 랜덤값을 가지지만, 인공 신경망의 가중치가 학습되는 방법과 같은 방식으로 값이 학습되며 변경된다.\n",
    "* **Embedding()** \n",
    "    * 단어를 밀집 벡터로 만드는 역할\n",
    "    * 인공 신경망 용어로는 임베딩 층(embedding layer)을 만드는 역할\n",
    "    * 정수 인코딩이 된 단어들을 입력 받아서 임베딩 수행\n",
    "    * (number of samples, input_length)인 2D 정수 텐서를 입력받는다. 이 때 각 sample은 정수 인코딩이 된 결과로 정수의 시퀀스이다.\n",
    "    * 워드 임베딩 작업을 수행 후, (number of samples, input_length, embedding word dimensionality)인 3D 텐서 리턴"
   ]
  },
  {
   "cell_type": "code",
   "execution_count": null,
   "metadata": {},
   "outputs": [],
   "source": [
    "# 문장 토큰화와 단어 토큰화\n",
    "text=[['Hope', 'to', 'see', 'you', 'soon'],['Nice', 'to', 'see', 'you', 'again']]\n",
    "\n",
    "# 각 단어에 대한 정수 인코딩\n",
    "text=[[0, 1, 2, 3, 4],[5, 1, 2, 3, 6]]\n",
    "\n",
    "# 위 데이터가 아래의 임베딩 층의 입력이 된다.\n",
    "Embedding(7, 2, input_length=5)\n",
    "# 7은 단어의 개수. 즉, 단어 집합(vocabulary)의 크기이다.\n",
    "# 2는 임베딩한 후의 벡터의 크기이다.\n",
    "# 5는 각 입력 시퀀스의 길이. 즉, input_length이다.\n",
    "\n",
    "# 각 정수는 아래의 테이블의 인덱스로 사용되며 Embeddig()은 각 단어에 대해 임베딩 벡터를 리턴한다.\n",
    "+-----------+-----------+\n",
    "|   index    | embedding  |\n",
    "+------------+----------+\n",
    "|     0      | [1.2, 3.1] |\n",
    "|     1      | [0.1, 4.2] |\n",
    "|     2      | [1.0, 3.1] |\n",
    "|     3      | [0.3, 2.1] |\n",
    "|     4      | [2.2, 1.4] |\n",
    "|     5      | [0.7, 1.7] |\n",
    "|     6      | [4.1, 2.0] |\n",
    "+-----------+------------+\n",
    "# 위의 표는 임베딩 벡터가 된 결과를 예로서 정리한 것이고 Embedding()의 출력인 3D 텐서를 보여주는 것이 아님."
   ]
  },
  {
   "cell_type": "markdown",
   "metadata": {},
   "source": [
    "## 3. 모델링(Modeling)\n",
    "**Sequential()** : 인공 신경망에서 입력층, 은닉층, 출력층을 구성하기 위해 사용\n",
    "\n",
    "Sequential()을 model로 선언한 뒤에 model.add()라는 코드를 통해 층을 단계적으로 추가\n",
    "\n",
    "```from tensorflow.keras.models import Sequential```\n",
    "\n",
    "```model = Sequential()```\n",
    "\n",
    "```model.add()```\n",
    "\n",
    "```model.add()```\n",
    "\n",
    "Embedding()을 통해 생성하는 임베딩 층(embedding layer) 또한 인공 신경망의 층의 하나이므로 model.add()로 추가\n",
    "\n",
    "```from tensorflow.keras.models import Sequential```\n",
    "\n",
    "```model = Sequential()```\n",
    "\n",
    "```model.add(Embedding(vocabulary, output_dim, input_length))```\n",
    "\n",
    "**Dense()** : 전결합층(fully-conntected layer) 추가\n",
    "\n",
    "```from tensorflow.keras.models import Sequential```\n",
    "\n",
    "```from tensorflow.keras.layers import Dense```\n",
    "\n",
    "```model = Sequential()```\n",
    "\n",
    "```model.add(Dense(1, input_dim=3, activation='relu'))```"
   ]
  }
 ],
 "metadata": {
  "kernelspec": {
   "display_name": "Python 3",
   "language": "python",
   "name": "python3"
  },
  "language_info": {
   "codemirror_mode": {
    "name": "ipython",
    "version": 3
   },
   "file_extension": ".py",
   "mimetype": "text/x-python",
   "name": "python",
   "nbconvert_exporter": "python",
   "pygments_lexer": "ipython3",
   "version": "3.7.6"
  }
 },
 "nbformat": 4,
 "nbformat_minor": 4
}
