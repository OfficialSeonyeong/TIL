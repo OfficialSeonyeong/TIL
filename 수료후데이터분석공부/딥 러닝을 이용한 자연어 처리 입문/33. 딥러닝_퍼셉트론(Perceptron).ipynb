{
 "cells": [
  {
   "cell_type": "markdown",
   "metadata": {},
   "source": [
    "## 1. 퍼셉트론(Perceptron)\n",
    "* 초기 형태의 인공 신경망으로 다수의 입력으로부터 하나의 결과를 내보내는 알고리즘\n",
    "* 각각의 입력값에는 각각의 가중치가 존재하는데, 가중치의 값이 크면 클수록 해당 입력 값이 중요하다는 것을 의미\n",
    "* 각 입력값이 가중치와 곱해져서 인공 뉴런에 보내지고, 각 입력값과 그에 해당되는 가중치의 곱의 전체 합이 임계치(threshold)를 넘으면 종착지에 있는 인공 뉴런은 출력 신호로서 1을 출력하고, 그렇지 않을 경우에는 0을 출력 => 계단 함수(Step function)\n",
    "* 편향 b 또한 퍼셉트론의 입력으로 사용, b 또한 딥 러닝이 최적의 값을 찾아야 할 변수 중 하나"
   ]
  },
  {
   "cell_type": "code",
   "execution_count": null,
   "metadata": {},
   "outputs": [],
   "source": []
  }
 ],
 "metadata": {
  "kernelspec": {
   "display_name": "Python 3",
   "language": "python",
   "name": "python3"
  },
  "language_info": {
   "codemirror_mode": {
    "name": "ipython",
    "version": 3
   },
   "file_extension": ".py",
   "mimetype": "text/x-python",
   "name": "python",
   "nbconvert_exporter": "python",
   "pygments_lexer": "ipython3",
   "version": "3.7.6"
  }
 },
 "nbformat": 4,
 "nbformat_minor": 4
}
