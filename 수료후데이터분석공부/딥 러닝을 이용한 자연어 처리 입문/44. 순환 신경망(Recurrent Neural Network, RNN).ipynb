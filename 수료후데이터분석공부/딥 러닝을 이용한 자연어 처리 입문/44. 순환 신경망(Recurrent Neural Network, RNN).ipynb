{
 "cells": [
  {
   "cell_type": "markdown",
   "metadata": {},
   "source": [
    "* RNN(Recurrent Neural Network)은 시퀀스(Sequence) 모델\n",
    "* 입력과 출력을 시퀀스 단위로 처리하는 모델\n",
    "* 은닉층에서 활성화 함수를 지난 값은 출력층 방향으로 향하는 **피트 포워드 신경망(Feed Forward Neural Network)**\n",
    "* **RNN**은 은닉층의 노드에서 활성화 함수를 통해 나온 결과값을 출력층 방향으로도 보내면서, 다시 은닉층 노드의 다음 계산의 입력으로 보낸다.\n",
    "* RNN에서 은닉층에서 활성화 함수를 통해 결과를 내보내는 역할을 하는 노드를 셀(cell)이라고 한다. => 이 셀은 이전의 값을 기억하려고 하는 일종의 메모리 역할을 수행하므로 이를 **메모리 셀 또는 RNN 셀**이라고 표현\n",
    "* 은닉층의 메모리 셀은 각각의 시점에서 바로 이전 시점에서의 은닉층의 메모리 셀에서 나온 값을 자신의 입력으로 사용하는 재귀적 활동을 하고 있다.\n",
    "* 메모리 셀이 출력층 방향으로 또는 다음 시점의 자신에게 보내는 값을 **은닉 상태(hidden state)**라고 한다.\n",
    "* RNN은 입력과 출력의 길이를 다르게 설계 할 수 있으므로 다양한 용도로 사용할 수 있다.\n",
    "    * 하나의 입력에 대해서 여러개의 출력(one-to-many)의 모델은 하나의 이미지 입력에 대해서 사진의 제목을 출력하는 이미지 캡셔닝(Image Captioning) 작업에 사용\n",
    "    * 단어 시퀀스에 대해서 하나의 출력(many-to-one)을 하는 모델은 판별하는 감성 분류(sentiment classification), 또는 스팸 메일 분류(spam detection)에 사용\n",
    "    * 다 대 다(many-to-many)의 모델의 경우에는 입력 문장으로 부터 대답 문장을 출력하는 챗봇과 입력 문장으로부터 번역된 문장을 출력하는 번역기, 또는 개체명 인식이나 품사 태깅과 같은 작업에 사용"
   ]
  }
 ],
 "metadata": {
  "kernelspec": {
   "display_name": "Python 3",
   "language": "python",
   "name": "python3"
  },
  "language_info": {
   "codemirror_mode": {
    "name": "ipython",
    "version": 3
   },
   "file_extension": ".py",
   "mimetype": "text/x-python",
   "name": "python",
   "nbconvert_exporter": "python",
   "pygments_lexer": "ipython3",
   "version": "3.7.6"
  }
 },
 "nbformat": 4,
 "nbformat_minor": 4
}
