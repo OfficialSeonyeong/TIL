{
 "cells": [
  {
   "cell_type": "markdown",
   "metadata": {},
   "source": [
    "## 1. 조건부 확률\n",
    "P(B|A)=P(A,B)/P(A)\n",
    "\n",
    "P(A,B)=P(A)P(B|A)\n",
    "\n",
    "4개의 확률이 조건부 확률의 관계를 가질 때, **조건부 확률의 연쇄 법칙(Chain Rule)**\n",
    "\n",
    "=> P(A,B,C,D)=P(A)P(B|A)P(C|A,B)P(D|A,B,C)\n",
    "\n",
    "#### P(x1,x2,x3...xn)=P(x1)P(x2|x1)P(x3|x1,x2)...P(xn|x1...xn−1)"
   ]
  },
  {
   "cell_type": "markdown",
   "metadata": {},
   "source": [
    "## 2. 문장에 대한 확률\n",
    "P(An adorable little boy is spreading smiles)= \n",
    "P(An)×P(adorable|An)×P(little|An adorable)×P(boy|An adorable little)×P(is|An adorable little boy) ×P(spreading|An adorable little boy is)×P(smiles|An adorable little boy is spreading)"
   ]
  },
  {
   "cell_type": "markdown",
   "metadata": {},
   "source": [
    "## 3. 카운트 기반의 접근\n",
    "P(is|An adorable little boy) = count(An adorable little boy is) / count(An adorable little boy )"
   ]
  },
  {
   "cell_type": "markdown",
   "metadata": {},
   "source": [
    "## 4. 카운트 기반 접근의 한계 - 희소 문제(Sparsity Problem)\n",
    "* 언어 모델은 실생활에서 사용되는 언어의 확률 분포를 근사 모델링한다.\n",
    "* 그런데 카운트 기반으로 접근하려면 기계가 훈련하는 데이터의 방대한 양이 필요하다. => 충분한 데이터를 관측하지 못해 언어를 정확히 모델링하지 못하는 문제 **희소 문제**"
   ]
  }
 ],
 "metadata": {
  "kernelspec": {
   "display_name": "Python 3",
   "language": "python",
   "name": "python3"
  },
  "language_info": {
   "codemirror_mode": {
    "name": "ipython",
    "version": 3
   },
   "file_extension": ".py",
   "mimetype": "text/x-python",
   "name": "python",
   "nbconvert_exporter": "python",
   "pygments_lexer": "ipython3",
   "version": "3.7.6"
  }
 },
 "nbformat": 4,
 "nbformat_minor": 4
}
