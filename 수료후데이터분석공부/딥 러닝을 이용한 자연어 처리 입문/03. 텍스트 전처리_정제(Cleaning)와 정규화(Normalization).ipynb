{
 "cells": [
  {
   "cell_type": "markdown",
   "metadata": {},
   "source": [
    "토큰화 작업 전,후에는 텍스트 데이터를 용도에 맞게 정제(cleaning) 및 정규화(normalization)하는 일이 항상 함께한다.\n",
    "\n",
    "* 정제(cleaning): 갖고 있는 코퍼스로부터 노이즈 데이터 제거\n",
    "* 정규화(normalization): 표현 방법이 다른 단어들을 통합시켜서 같은 단어로 만든다\n",
    "\n",
    "토큰화 작업 전에 이루어지기도 하지만, 이후에도 여전히 남아있는 노이즈 제거를 위해 지속적으로 이루어진다.\n",
    "사실 완벽한 정제 작업은 어려운 편이라서 대부분의 경우 '이 정도면 됐다'라는 일종의 합의점을 찾는다."
   ]
  },
  {
   "cell_type": "markdown",
   "metadata": {},
   "source": [
    "1. 규칙에 기반한 표기가 다른 단어들의 통합\n",
    "* 같은 의미를 갖고있음에도, 표기가 다른 단어들을 하나의 단어로 정규화하는 방법\n",
    "* 예시) USA와 US\n",
    "\n",
    "2. 대,소문자 통합\n",
    "* 영어권 언어에서 대, 소문자를 통합하는 것은 단어의 개수를 줄일 수 있는 또 다른 정규화 방법\n",
    "* 대문자와 소문자를 무작정 통합해서는 안된다.\n",
    "    * 예시) 미국을 뜻하는 단어 US와 우리를 뜻하는 us, 회사 이름(General Motors)나, 사람 이름(Bush) 등은 대문자로 유지\n",
    "\n",
    "3. 불필요한 단어의 제거(Removing Unnecessary Words)\n",
    "* 노이즈 데이터(noise data): 자연어가 아니면서 아무 의미도 갖지 않는 글자들(특수 문자 등), 분석하고자 하는 목적에 맞지 않는 불필요 단어\n",
    "* 불용어 제거와 등장 빈도가 적은 단어, 길이가 짧은 단어들을 제거\n"
   ]
  },
  {
   "cell_type": "code",
   "execution_count": 1,
   "metadata": {},
   "outputs": [
    {
     "name": "stdout",
     "output_type": "stream",
     "text": [
      " was wondering anyone out there could enlighten this car.\n"
     ]
    }
   ],
   "source": [
    "# 영어의 경우 길이가 짧은 단어를 제거하는 것이 크게 의미가 없는 단어들을 제거하는 효과가 있다.\n",
    "\n",
    "# 길이가 1~2인 단어들을 정규 표현식을 이용하여 삭제\n",
    "import re\n",
    "text = \"I was wondering if anyone out there could enlighten me on this car.\"\n",
    "shortword = re.compile(r'\\W*\\b\\w{1,2}\\b')\n",
    "print(shortword.sub('',text))"
   ]
  },
  {
   "cell_type": "markdown",
   "metadata": {},
   "source": [
    "4. 정규표현식(Regular Expression)\n",
    "* 노이즈 데이터의 특징을 잡아낼 수 있다면, 정규 표현식을 통해서 이를 제거"
   ]
  }
 ],
 "metadata": {
  "kernelspec": {
   "display_name": "Python 3",
   "language": "python",
   "name": "python3"
  },
  "language_info": {
   "codemirror_mode": {
    "name": "ipython",
    "version": 3
   },
   "file_extension": ".py",
   "mimetype": "text/x-python",
   "name": "python",
   "nbconvert_exporter": "python",
   "pygments_lexer": "ipython3",
   "version": "3.8.5"
  }
 },
 "nbformat": 4,
 "nbformat_minor": 4
}
