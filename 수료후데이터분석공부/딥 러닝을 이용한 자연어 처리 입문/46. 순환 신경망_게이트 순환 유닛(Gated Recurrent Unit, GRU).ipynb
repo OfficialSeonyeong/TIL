{
 "cells": [
  {
   "cell_type": "markdown",
   "metadata": {},
   "source": [
    "*GRU는 성능은 LSTM과 유사하면서 복잡했던 LSTM의 구조를 간단화*\n",
    "\n",
    "## 1. GRU(Gated Recurrent Unit)\n",
    "* LSTM은 출력, 입력, 삭제 게이트라는 3개의 게이트가 존재하지만, GRU에서는 업데이트 게이트와 리셋 게이트 두 가지 게이트만 존재\n",
    "* GRU는 LSTM보다 학습속도가 빠르고 비슷한 성능을 보인다.\n",
    "* 반드시 GRU가 LSTM보다 성능이 더 낫다고 말할 수 없다.\n",
    "* 데이터 양이 적을 때는, 매개 변수의 양이 적은 GRU가 조금 더 낫고, 데이터 양이 더 많으면 LSTM이 더 낫다고 알려져 있다.\n",
    "\n",
    "\n",
    "## 2. 케라스에서의 GRU(Gated Recurrent Unit)"
   ]
  },
  {
   "cell_type": "code",
   "execution_count": null,
   "metadata": {},
   "outputs": [],
   "source": [
    "# 실제 GRU 은닉층을 추가하는 코드\n",
    "model.add(GRU(hidden_size, input_shape=(timesteps, input_dim)))"
   ]
  }
 ],
 "metadata": {
  "kernelspec": {
   "display_name": "Python 3",
   "language": "python",
   "name": "python3"
  },
  "language_info": {
   "codemirror_mode": {
    "name": "ipython",
    "version": 3
   },
   "file_extension": ".py",
   "mimetype": "text/x-python",
   "name": "python",
   "nbconvert_exporter": "python",
   "pygments_lexer": "ipython3",
   "version": "3.7.6"
  }
 },
 "nbformat": 4,
 "nbformat_minor": 4
}
