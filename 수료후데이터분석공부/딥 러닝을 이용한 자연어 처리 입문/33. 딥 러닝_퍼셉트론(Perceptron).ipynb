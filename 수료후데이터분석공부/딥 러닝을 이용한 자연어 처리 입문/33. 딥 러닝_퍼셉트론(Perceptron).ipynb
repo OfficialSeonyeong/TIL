{
 "cells": [
  {
   "cell_type": "markdown",
   "metadata": {},
   "source": [
    "## 1. 퍼셉트론(Perceptron)\n",
    "* 초기 형태의 인공 신경망으로 다수의 입력으로부터 하나의 결과를 내보내는 알고리즘\n",
    "* 각각의 입력값에는 각각의 가중치가 존재하는데, 가중치의 값이 크면 클수록 해당 입력 값이 중요하다는 것을 의미\n",
    "* 각 입력값이 가중치와 곱해져서 인공 뉴런에 보내지고, 각 입력값과 그에 해당되는 가중치의 곱의 전체 합이 임계치(threshold)를 넘으면 종착지에 있는 인공 뉴런은 출력 신호로서 1을 출력하고, 그렇지 않을 경우에는 0을 출력 => 계단 함수(Step function)\n",
    "* 편향 b 또한 퍼셉트론의 입력으로 사용, b 또한 딥 러닝이 최적의 값을 찾아야 할 변수 중 하나"
   ]
  },
  {
   "cell_type": "markdown",
   "metadata": {},
   "source": [
    "## 2. 단층 퍼셉트론(Single-Layer Perceptron)\n",
    "* 퍼셉트론은 단층 퍼셉트론과 다층 퍼셉트론으로 나누어진다.\n",
    "* 단층 퍼셉트론은 값을 보내는 단계와 값을 받아서 출력하는 두 단계로만 이루어진다. => 입력층(input layer)과 출력층(output layer)\n",
    "* 단층 퍼셉트론을 이용하면 AND, NAND, OR 게이트를 쉽게 구현\n",
    "    * 게이트 연산에 쓰이는 것은 두 개의 입력값과 하나의 출력값"
   ]
  },
  {
   "cell_type": "code",
   "execution_count": 2,
   "metadata": {},
   "outputs": [],
   "source": [
    "def AND_gate(x1, x2):\n",
    "    w1=0.5\n",
    "    w2=0.5\n",
    "    b=-0.7\n",
    "    result= x1*w1 + x2*w2 + b\n",
    "    if result <= 0:\n",
    "        return 0\n",
    "    else:\n",
    "        return 1"
   ]
  },
  {
   "cell_type": "code",
   "execution_count": 3,
   "metadata": {},
   "outputs": [
    {
     "data": {
      "text/plain": [
       "(0, 0, 0, 1)"
      ]
     },
     "execution_count": 3,
     "metadata": {},
     "output_type": "execute_result"
    }
   ],
   "source": [
    "AND_gate(0,0), AND_gate(0,1), AND_gate(1,0), AND_gate(1,1)"
   ]
  },
  {
   "cell_type": "code",
   "execution_count": 5,
   "metadata": {},
   "outputs": [],
   "source": [
    "def NAND_gate(x1,x2):\n",
    "    w1=-0.5\n",
    "    w2=-0.5\n",
    "    b=0.7\n",
    "    result= x1*w1 + x2*w2 + b\n",
    "    if result <= 0:\n",
    "        return 0\n",
    "    else:\n",
    "        return 1"
   ]
  },
  {
   "cell_type": "code",
   "execution_count": 6,
   "metadata": {},
   "outputs": [
    {
     "data": {
      "text/plain": [
       "(1, 1, 1, 0)"
      ]
     },
     "execution_count": 6,
     "metadata": {},
     "output_type": "execute_result"
    }
   ],
   "source": [
    "NAND_gate(0, 0), NAND_gate(0, 1), NAND_gate(1, 0), NAND_gate(1, 1)"
   ]
  },
  {
   "cell_type": "code",
   "execution_count": 7,
   "metadata": {},
   "outputs": [],
   "source": [
    "def OR_gate(x1,x2):\n",
    "    w1=0.6\n",
    "    w2=0.6\n",
    "    b=-0.5\n",
    "    result = x1*w1 + x2*w2 + b\n",
    "    if result <= 0:\n",
    "        return 0\n",
    "    else:\n",
    "        return 1"
   ]
  },
  {
   "cell_type": "code",
   "execution_count": 8,
   "metadata": {},
   "outputs": [
    {
     "data": {
      "text/plain": [
       "(0, 1, 1, 1)"
      ]
     },
     "execution_count": 8,
     "metadata": {},
     "output_type": "execute_result"
    }
   ],
   "source": [
    "OR_gate(0, 0), OR_gate(0, 1), OR_gate(1, 0), OR_gate(1, 1)"
   ]
  },
  {
   "cell_type": "markdown",
   "metadata": {},
   "source": [
    "* 하지만 단층 퍼셉트론으로 XOR 게이트는 구현 불가능\n",
    "    * XOR 게이트는 입력값 두개가 서로 다른 값을 갖고 있을 때에만 출력값이 1, 서로 같은 값을 가지면 출력값이 0이 되는 게이트\n",
    "    * 단층 퍼셉트론은 직선 하나로 두 영역을 나눌 수 있는 문제에 대해서만 구현 가능"
   ]
  },
  {
   "cell_type": "markdown",
   "metadata": {},
   "source": [
    "## 3. 다층 퍼셉트론(MultiLayer Perceptron, MLP)\n",
    "* XOR 게이트는 기존의 AND, NAND, OR 게이트를 조합하면 만들 수 있다.\n",
    "* 다층 퍼셉트론은 단층 퍼셉트론 중간에 층을 더 추가한 것이다. => 은닉층(hidden layer)\n",
    "* 은닉층이 2개 이상인 신경망은 **심층 신경망(Deep Neural Network, DNN)**이라고 한다.\n",
    "* 기계가 스스로 가중치를 찾아내도록 자동화시키는 것을 **학습(training)**이라고 한다. **손실 함수(Loss function)**와 **옵티마이저(Optimizer)**를 사용\n",
    "* 학습을 시키는 인공 신경망이 심층 신경망일 경우 **딥 러닝(Deep Learning)**이라고 한다."
   ]
  },
  {
   "cell_type": "code",
   "execution_count": 11,
   "metadata": {},
   "outputs": [],
   "source": [
    "def XOR_gate(x1,x2):\n",
    "    a = NAND_gate(x1,x2)\n",
    "    b = OR_gate(x1,x2)\n",
    "    result = AND_gate(a,b)\n",
    "    return result"
   ]
  },
  {
   "cell_type": "code",
   "execution_count": 12,
   "metadata": {},
   "outputs": [
    {
     "data": {
      "text/plain": [
       "(0, 1, 1, 0)"
      ]
     },
     "execution_count": 12,
     "metadata": {},
     "output_type": "execute_result"
    }
   ],
   "source": [
    "XOR_gate(0, 0), XOR_gate(0, 1), XOR_gate(1, 0), XOR_gate(1, 1)"
   ]
  }
 ],
 "metadata": {
  "kernelspec": {
   "display_name": "Python 3",
   "language": "python",
   "name": "python3"
  },
  "language_info": {
   "codemirror_mode": {
    "name": "ipython",
    "version": 3
   },
   "file_extension": ".py",
   "mimetype": "text/x-python",
   "name": "python",
   "nbconvert_exporter": "python",
   "pygments_lexer": "ipython3",
   "version": "3.7.6"
  }
 },
 "nbformat": 4,
 "nbformat_minor": 4
}
