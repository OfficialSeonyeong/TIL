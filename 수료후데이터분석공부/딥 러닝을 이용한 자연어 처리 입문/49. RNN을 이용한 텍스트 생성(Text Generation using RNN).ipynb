{
 "cells": [
  {
   "cell_type": "markdown",
   "metadata": {},
   "source": [
    "*다대일(many-to-one) 구조의 RNN을 사용해 문맥을 반영해 텍스트를 생성하는 모델 만들기*\n",
    "\n",
    "## 1. RNN을 이용하여 텍스트 생성하기\n",
    "샘플 문장:\n",
    "\n",
    "'경마장에 있는 말이 뛰고 있다'\n",
    "\n",
    "'그의 말이 법이다'\n",
    "\n",
    "'가는 말이 고와야 오는 말이 곱다'\n",
    "\n",
    "\n",
    "### 1) 데이터에 대한 이해와 전처리"
   ]
  },
  {
   "cell_type": "code",
   "execution_count": 2,
   "metadata": {},
   "outputs": [],
   "source": [
    "from tensorflow.keras.preprocessing.text import Tokenizer\n",
    "from tensorflow.keras.preprocessing.sequence import pad_sequences\n",
    "import numpy as np\n",
    "from tensorflow.keras.utils import to_categorical"
   ]
  },
  {
   "cell_type": "code",
   "execution_count": 3,
   "metadata": {},
   "outputs": [],
   "source": [
    "text=\"\"\"경마장에 있는 말이 뛰고 있다\\n\n",
    "그의 말이 법이다\\n\n",
    "가는 말이 고와야 오는 말이 곱다\\n\"\"\""
   ]
  },
  {
   "cell_type": "code",
   "execution_count": 5,
   "metadata": {},
   "outputs": [
    {
     "name": "stdout",
     "output_type": "stream",
     "text": [
      "단어 집합의 크기: 12\n"
     ]
    }
   ],
   "source": [
    "# 단어 집합 생성\n",
    "t = Tokenizer()\n",
    "t.fit_on_texts([text])\n",
    "vocab_size = len(t.word_index) + 1\n",
    "print('단어 집합의 크기: %d' % vocab_size)"
   ]
  },
  {
   "cell_type": "code",
   "execution_count": 6,
   "metadata": {},
   "outputs": [
    {
     "name": "stdout",
     "output_type": "stream",
     "text": [
      "{'말이': 1, '경마장에': 2, '있는': 3, '뛰고': 4, '있다': 5, '그의': 6, '법이다': 7, '가는': 8, '고와야': 9, '오는': 10, '곱다': 11}\n"
     ]
    }
   ],
   "source": [
    "print(t.word_index)"
   ]
  },
  {
   "cell_type": "code",
   "execution_count": 14,
   "metadata": {},
   "outputs": [
    {
     "name": "stdout",
     "output_type": "stream",
     "text": [
      "학습에 사용할 샘플의 개수: 11\n"
     ]
    }
   ],
   "source": [
    "# 훈련 데이터\n",
    "sequences = list()\n",
    "for line in text.split('\\n'): # \\n을 기준으로 문장 토큰화\n",
    "    encoded = t.texts_to_sequences([line])[0]\n",
    "    for i in range(1, len(encoded)):\n",
    "        sequence = encoded[:i+1]\n",
    "        sequences.append(sequence)\n",
    "        \n",
    "print('학습에 사용할 샘플의 개수: %d' % len(sequences))"
   ]
  },
  {
   "cell_type": "code",
   "execution_count": 15,
   "metadata": {},
   "outputs": [
    {
     "name": "stdout",
     "output_type": "stream",
     "text": [
      "[[2, 3], [2, 3, 1], [2, 3, 1, 4], [2, 3, 1, 4, 5], [6, 1], [6, 1, 7], [8, 1], [8, 1, 9], [8, 1, 9, 10], [8, 1, 9, 10, 1], [8, 1, 9, 10, 1, 11]]\n"
     ]
    }
   ],
   "source": [
    "# 레이블로 사용될 단어를 분리하지 않은 훈련 데이터\n",
    "print(sequences)"
   ]
  },
  {
   "cell_type": "code",
   "execution_count": 16,
   "metadata": {},
   "outputs": [
    {
     "name": "stdout",
     "output_type": "stream",
     "text": [
      "샘플의 최대 길이: 6\n"
     ]
    }
   ],
   "source": [
    "# 전체 샘플에 대해서 길이 일치\n",
    "max_len = max(len(l) for l in sequences)\n",
    "print('샘플의 최대 길이: {}'.format(max_len))"
   ]
  },
  {
   "cell_type": "code",
   "execution_count": 18,
   "metadata": {},
   "outputs": [],
   "source": [
    "sequences = pad_sequences(sequences, maxlen=max_len, padding='pre')"
   ]
  },
  {
   "cell_type": "code",
   "execution_count": 19,
   "metadata": {},
   "outputs": [
    {
     "name": "stdout",
     "output_type": "stream",
     "text": [
      "[[ 0  0  0  0  2  3]\n",
      " [ 0  0  0  2  3  1]\n",
      " [ 0  0  2  3  1  4]\n",
      " [ 0  2  3  1  4  5]\n",
      " [ 0  0  0  0  6  1]\n",
      " [ 0  0  0  6  1  7]\n",
      " [ 0  0  0  0  8  1]\n",
      " [ 0  0  0  8  1  9]\n",
      " [ 0  0  8  1  9 10]\n",
      " [ 0  8  1  9 10  1]\n",
      " [ 8  1  9 10  1 11]]\n"
     ]
    }
   ],
   "source": [
    "print(sequences)"
   ]
  },
  {
   "cell_type": "code",
   "execution_count": 22,
   "metadata": {},
   "outputs": [],
   "source": [
    "# 각 샘플의 마지막 단어를 레이블로 분리\n",
    "sequences = np.array(sequences)\n",
    "X = sequences[:,:-1] # 리스트의 마지막 값을 제외하고 저장한 것은 X\n",
    "y = sequences[:,-1] # 리스트의 마지막 값만 저장한 y => 레이블"
   ]
  },
  {
   "cell_type": "code",
   "execution_count": 23,
   "metadata": {},
   "outputs": [
    {
     "name": "stdout",
     "output_type": "stream",
     "text": [
      "[[ 0  0  0  0  2]\n",
      " [ 0  0  0  2  3]\n",
      " [ 0  0  2  3  1]\n",
      " [ 0  2  3  1  4]\n",
      " [ 0  0  0  0  6]\n",
      " [ 0  0  0  6  1]\n",
      " [ 0  0  0  0  8]\n",
      " [ 0  0  0  8  1]\n",
      " [ 0  0  8  1  9]\n",
      " [ 0  8  1  9 10]\n",
      " [ 8  1  9 10  1]]\n"
     ]
    }
   ],
   "source": [
    "print(X)"
   ]
  },
  {
   "cell_type": "code",
   "execution_count": 24,
   "metadata": {},
   "outputs": [
    {
     "name": "stdout",
     "output_type": "stream",
     "text": [
      "[ 3  1  4  5  1  7  1  9 10  1 11]\n"
     ]
    }
   ],
   "source": [
    "print(y)"
   ]
  },
  {
   "cell_type": "code",
   "execution_count": 25,
   "metadata": {},
   "outputs": [],
   "source": [
    "# 레이블에 대해 원-핫 인코딩\n",
    "y = to_categorical(y, num_classes=vocab_size)"
   ]
  },
  {
   "cell_type": "code",
   "execution_count": 26,
   "metadata": {},
   "outputs": [
    {
     "name": "stdout",
     "output_type": "stream",
     "text": [
      "[[0. 0. 0. 1. 0. 0. 0. 0. 0. 0. 0. 0.]\n",
      " [0. 1. 0. 0. 0. 0. 0. 0. 0. 0. 0. 0.]\n",
      " [0. 0. 0. 0. 1. 0. 0. 0. 0. 0. 0. 0.]\n",
      " [0. 0. 0. 0. 0. 1. 0. 0. 0. 0. 0. 0.]\n",
      " [0. 1. 0. 0. 0. 0. 0. 0. 0. 0. 0. 0.]\n",
      " [0. 0. 0. 0. 0. 0. 0. 1. 0. 0. 0. 0.]\n",
      " [0. 1. 0. 0. 0. 0. 0. 0. 0. 0. 0. 0.]\n",
      " [0. 0. 0. 0. 0. 0. 0. 0. 0. 1. 0. 0.]\n",
      " [0. 0. 0. 0. 0. 0. 0. 0. 0. 0. 1. 0.]\n",
      " [0. 1. 0. 0. 0. 0. 0. 0. 0. 0. 0. 0.]\n",
      " [0. 0. 0. 0. 0. 0. 0. 0. 0. 0. 0. 1.]]\n"
     ]
    }
   ],
   "source": [
    "print(y)"
   ]
  },
  {
   "cell_type": "markdown",
   "metadata": {},
   "source": [
    "## 2) 모델 설계하기"
   ]
  },
  {
   "cell_type": "code",
   "execution_count": 27,
   "metadata": {},
   "outputs": [],
   "source": [
    "from tensorflow.keras.models import Sequential\n",
    "from tensorflow.keras.layers import Embedding, Dense, SimpleRNN"
   ]
  },
  {
   "cell_type": "code",
   "execution_count": 28,
   "metadata": {},
   "outputs": [
    {
     "name": "stdout",
     "output_type": "stream",
     "text": [
      "Epoch 1/200\n",
      "1/1 - 1s - loss: 2.4617 - accuracy: 0.1818\n",
      "Epoch 2/200\n",
      "1/1 - 0s - loss: 2.4464 - accuracy: 0.1818\n",
      "Epoch 3/200\n",
      "1/1 - 0s - loss: 2.4310 - accuracy: 0.2727\n",
      "Epoch 4/200\n",
      "1/1 - 0s - loss: 2.4154 - accuracy: 0.4545\n",
      "Epoch 5/200\n",
      "1/1 - 0s - loss: 2.3995 - accuracy: 0.4545\n",
      "Epoch 6/200\n",
      "1/1 - 0s - loss: 2.3831 - accuracy: 0.4545\n",
      "Epoch 7/200\n",
      "1/1 - 0s - loss: 2.3662 - accuracy: 0.4545\n",
      "Epoch 8/200\n",
      "1/1 - 0s - loss: 2.3486 - accuracy: 0.4545\n",
      "Epoch 9/200\n",
      "1/1 - 0s - loss: 2.3303 - accuracy: 0.4545\n",
      "Epoch 10/200\n",
      "1/1 - 0s - loss: 2.3111 - accuracy: 0.4545\n",
      "Epoch 11/200\n",
      "1/1 - 0s - loss: 2.2909 - accuracy: 0.4545\n",
      "Epoch 12/200\n",
      "1/1 - 0s - loss: 2.2697 - accuracy: 0.5455\n",
      "Epoch 13/200\n",
      "1/1 - 0s - loss: 2.2475 - accuracy: 0.5455\n",
      "Epoch 14/200\n",
      "1/1 - 0s - loss: 2.2242 - accuracy: 0.5455\n",
      "Epoch 15/200\n",
      "1/1 - 0s - loss: 2.1997 - accuracy: 0.4545\n",
      "Epoch 16/200\n",
      "1/1 - 0s - loss: 2.1741 - accuracy: 0.4545\n",
      "Epoch 17/200\n",
      "1/1 - 0s - loss: 2.1474 - accuracy: 0.4545\n",
      "Epoch 18/200\n",
      "1/1 - 0s - loss: 2.1198 - accuracy: 0.4545\n",
      "Epoch 19/200\n",
      "1/1 - 0s - loss: 2.0912 - accuracy: 0.4545\n",
      "Epoch 20/200\n",
      "1/1 - 0s - loss: 2.0619 - accuracy: 0.4545\n",
      "Epoch 21/200\n",
      "1/1 - 0s - loss: 2.0321 - accuracy: 0.4545\n",
      "Epoch 22/200\n",
      "1/1 - 0s - loss: 2.0021 - accuracy: 0.4545\n",
      "Epoch 23/200\n",
      "1/1 - 0s - loss: 1.9723 - accuracy: 0.3636\n",
      "Epoch 24/200\n",
      "1/1 - 0s - loss: 1.9430 - accuracy: 0.3636\n",
      "Epoch 25/200\n",
      "1/1 - 0s - loss: 1.9147 - accuracy: 0.3636\n",
      "Epoch 26/200\n",
      "1/1 - 0s - loss: 1.8878 - accuracy: 0.3636\n",
      "Epoch 27/200\n",
      "1/1 - 0s - loss: 1.8628 - accuracy: 0.3636\n",
      "Epoch 28/200\n",
      "1/1 - 0s - loss: 1.8398 - accuracy: 0.3636\n",
      "Epoch 29/200\n",
      "1/1 - 0s - loss: 1.8189 - accuracy: 0.3636\n",
      "Epoch 30/200\n",
      "1/1 - 0s - loss: 1.8000 - accuracy: 0.3636\n",
      "Epoch 31/200\n",
      "1/1 - 0s - loss: 1.7827 - accuracy: 0.3636\n",
      "Epoch 32/200\n",
      "1/1 - 0s - loss: 1.7662 - accuracy: 0.3636\n",
      "Epoch 33/200\n",
      "1/1 - 0s - loss: 1.7500 - accuracy: 0.3636\n",
      "Epoch 34/200\n",
      "1/1 - 0s - loss: 1.7335 - accuracy: 0.3636\n",
      "Epoch 35/200\n",
      "1/1 - 0s - loss: 1.7160 - accuracy: 0.3636\n",
      "Epoch 36/200\n",
      "1/1 - 0s - loss: 1.6975 - accuracy: 0.3636\n",
      "Epoch 37/200\n",
      "1/1 - 0s - loss: 1.6777 - accuracy: 0.3636\n",
      "Epoch 38/200\n",
      "1/1 - 0s - loss: 1.6568 - accuracy: 0.3636\n",
      "Epoch 39/200\n",
      "1/1 - 0s - loss: 1.6351 - accuracy: 0.3636\n",
      "Epoch 40/200\n",
      "1/1 - 0s - loss: 1.6127 - accuracy: 0.4545\n",
      "Epoch 41/200\n",
      "1/1 - 0s - loss: 1.5900 - accuracy: 0.4545\n",
      "Epoch 42/200\n",
      "1/1 - 0s - loss: 1.5671 - accuracy: 0.4545\n",
      "Epoch 43/200\n",
      "1/1 - 0s - loss: 1.5441 - accuracy: 0.4545\n",
      "Epoch 44/200\n",
      "1/1 - 0s - loss: 1.5213 - accuracy: 0.4545\n",
      "Epoch 45/200\n",
      "1/1 - 0s - loss: 1.4984 - accuracy: 0.4545\n",
      "Epoch 46/200\n",
      "1/1 - 0s - loss: 1.4756 - accuracy: 0.4545\n",
      "Epoch 47/200\n",
      "1/1 - 0s - loss: 1.4526 - accuracy: 0.5455\n",
      "Epoch 48/200\n",
      "1/1 - 0s - loss: 1.4296 - accuracy: 0.6364\n",
      "Epoch 49/200\n",
      "1/1 - 0s - loss: 1.4064 - accuracy: 0.7273\n",
      "Epoch 50/200\n",
      "1/1 - 0s - loss: 1.3830 - accuracy: 0.7273\n",
      "Epoch 51/200\n",
      "1/1 - 0s - loss: 1.3595 - accuracy: 0.7273\n",
      "Epoch 52/200\n",
      "1/1 - 0s - loss: 1.3359 - accuracy: 0.7273\n",
      "Epoch 53/200\n",
      "1/1 - 0s - loss: 1.3123 - accuracy: 0.7273\n",
      "Epoch 54/200\n",
      "1/1 - 0s - loss: 1.2888 - accuracy: 0.7273\n",
      "Epoch 55/200\n",
      "1/1 - 0s - loss: 1.2655 - accuracy: 0.7273\n",
      "Epoch 56/200\n",
      "1/1 - 0s - loss: 1.2425 - accuracy: 0.7273\n",
      "Epoch 57/200\n",
      "1/1 - 0s - loss: 1.2199 - accuracy: 0.7273\n",
      "Epoch 58/200\n",
      "1/1 - 0s - loss: 1.1977 - accuracy: 0.7273\n",
      "Epoch 59/200\n",
      "1/1 - 0s - loss: 1.1761 - accuracy: 0.7273\n",
      "Epoch 60/200\n",
      "1/1 - 0s - loss: 1.1550 - accuracy: 0.7273\n",
      "Epoch 61/200\n",
      "1/1 - 0s - loss: 1.1346 - accuracy: 0.7273\n",
      "Epoch 62/200\n",
      "1/1 - 0s - loss: 1.1147 - accuracy: 0.7273\n",
      "Epoch 63/200\n",
      "1/1 - 0s - loss: 1.0953 - accuracy: 0.7273\n",
      "Epoch 64/200\n",
      "1/1 - 0s - loss: 1.0765 - accuracy: 0.7273\n",
      "Epoch 65/200\n",
      "1/1 - 0s - loss: 1.0582 - accuracy: 0.7273\n",
      "Epoch 66/200\n",
      "1/1 - 0s - loss: 1.0404 - accuracy: 0.7273\n",
      "Epoch 67/200\n",
      "1/1 - 0s - loss: 1.0231 - accuracy: 0.7273\n",
      "Epoch 68/200\n",
      "1/1 - 0s - loss: 1.0062 - accuracy: 0.7273\n",
      "Epoch 69/200\n",
      "1/1 - 0s - loss: 0.9897 - accuracy: 0.7273\n",
      "Epoch 70/200\n",
      "1/1 - 0s - loss: 0.9735 - accuracy: 0.7273\n",
      "Epoch 71/200\n",
      "1/1 - 0s - loss: 0.9578 - accuracy: 0.7273\n",
      "Epoch 72/200\n",
      "1/1 - 0s - loss: 0.9424 - accuracy: 0.7273\n",
      "Epoch 73/200\n",
      "1/1 - 0s - loss: 0.9274 - accuracy: 0.7273\n",
      "Epoch 74/200\n",
      "1/1 - 0s - loss: 0.9127 - accuracy: 0.7273\n",
      "Epoch 75/200\n",
      "1/1 - 0s - loss: 0.8983 - accuracy: 0.7273\n",
      "Epoch 76/200\n",
      "1/1 - 0s - loss: 0.8843 - accuracy: 0.7273\n",
      "Epoch 77/200\n",
      "1/1 - 0s - loss: 0.8705 - accuracy: 0.7273\n",
      "Epoch 78/200\n",
      "1/1 - 0s - loss: 0.8570 - accuracy: 0.7273\n",
      "Epoch 79/200\n",
      "1/1 - 0s - loss: 0.8437 - accuracy: 0.7273\n",
      "Epoch 80/200\n",
      "1/1 - 0s - loss: 0.8307 - accuracy: 0.7273\n",
      "Epoch 81/200\n",
      "1/1 - 0s - loss: 0.8179 - accuracy: 0.7273\n",
      "Epoch 82/200\n",
      "1/1 - 0s - loss: 0.8053 - accuracy: 0.8182\n",
      "Epoch 83/200\n",
      "1/1 - 0s - loss: 0.7929 - accuracy: 0.8182\n",
      "Epoch 84/200\n",
      "1/1 - 0s - loss: 0.7808 - accuracy: 0.8182\n",
      "Epoch 85/200\n",
      "1/1 - 0s - loss: 0.7688 - accuracy: 0.8182\n",
      "Epoch 86/200\n",
      "1/1 - 0s - loss: 0.7571 - accuracy: 0.8182\n",
      "Epoch 87/200\n",
      "1/1 - 0s - loss: 0.7455 - accuracy: 0.8182\n",
      "Epoch 88/200\n",
      "1/1 - 0s - loss: 0.7341 - accuracy: 0.8182\n",
      "Epoch 89/200\n",
      "1/1 - 0s - loss: 0.7230 - accuracy: 0.8182\n",
      "Epoch 90/200\n",
      "1/1 - 0s - loss: 0.7120 - accuracy: 0.8182\n",
      "Epoch 91/200\n",
      "1/1 - 0s - loss: 0.7012 - accuracy: 0.8182\n",
      "Epoch 92/200\n",
      "1/1 - 0s - loss: 0.6906 - accuracy: 0.8182\n",
      "Epoch 93/200\n",
      "1/1 - 0s - loss: 0.6802 - accuracy: 0.8182\n",
      "Epoch 94/200\n",
      "1/1 - 0s - loss: 0.6699 - accuracy: 0.8182\n",
      "Epoch 95/200\n",
      "1/1 - 0s - loss: 0.6599 - accuracy: 0.8182\n",
      "Epoch 96/200\n",
      "1/1 - 0s - loss: 0.6500 - accuracy: 0.8182\n",
      "Epoch 97/200\n",
      "1/1 - 0s - loss: 0.6403 - accuracy: 0.8182\n",
      "Epoch 98/200\n",
      "1/1 - 0s - loss: 0.6308 - accuracy: 0.8182\n",
      "Epoch 99/200\n",
      "1/1 - 0s - loss: 0.6214 - accuracy: 0.8182\n",
      "Epoch 100/200\n",
      "1/1 - 0s - loss: 0.6123 - accuracy: 0.8182\n",
      "Epoch 101/200\n",
      "1/1 - 0s - loss: 0.6033 - accuracy: 0.8182\n",
      "Epoch 102/200\n",
      "1/1 - 0s - loss: 0.5945 - accuracy: 0.8182\n",
      "Epoch 103/200\n",
      "1/1 - 0s - loss: 0.5859 - accuracy: 0.8182\n",
      "Epoch 104/200\n",
      "1/1 - 0s - loss: 0.5775 - accuracy: 0.8182\n",
      "Epoch 105/200\n",
      "1/1 - 0s - loss: 0.5692 - accuracy: 0.8182\n",
      "Epoch 106/200\n",
      "1/1 - 0s - loss: 0.5611 - accuracy: 0.8182\n",
      "Epoch 107/200\n",
      "1/1 - 0s - loss: 0.5532 - accuracy: 0.8182\n",
      "Epoch 108/200\n",
      "1/1 - 0s - loss: 0.5454 - accuracy: 0.8182\n",
      "Epoch 109/200\n",
      "1/1 - 0s - loss: 0.5377 - accuracy: 0.8182\n",
      "Epoch 110/200\n",
      "1/1 - 0s - loss: 0.5303 - accuracy: 0.8182\n",
      "Epoch 111/200\n",
      "1/1 - 0s - loss: 0.5229 - accuracy: 0.8182\n",
      "Epoch 112/200\n",
      "1/1 - 0s - loss: 0.5158 - accuracy: 0.8182\n",
      "Epoch 113/200\n",
      "1/1 - 0s - loss: 0.5087 - accuracy: 0.8182\n",
      "Epoch 114/200\n",
      "1/1 - 0s - loss: 0.5019 - accuracy: 0.8182\n",
      "Epoch 115/200\n",
      "1/1 - 0s - loss: 0.4951 - accuracy: 0.8182\n",
      "Epoch 116/200\n",
      "1/1 - 0s - loss: 0.4885 - accuracy: 0.8182\n",
      "Epoch 117/200\n",
      "1/1 - 0s - loss: 0.4820 - accuracy: 0.8182\n",
      "Epoch 118/200\n",
      "1/1 - 0s - loss: 0.4756 - accuracy: 0.8182\n",
      "Epoch 119/200\n",
      "1/1 - 0s - loss: 0.4694 - accuracy: 0.8182\n",
      "Epoch 120/200\n",
      "1/1 - 0s - loss: 0.4633 - accuracy: 0.8182\n",
      "Epoch 121/200\n",
      "1/1 - 0s - loss: 0.4573 - accuracy: 0.8182\n",
      "Epoch 122/200\n",
      "1/1 - 0s - loss: 0.4514 - accuracy: 0.8182\n",
      "Epoch 123/200\n",
      "1/1 - 0s - loss: 0.4457 - accuracy: 0.8182\n",
      "Epoch 124/200\n",
      "1/1 - 0s - loss: 0.4400 - accuracy: 0.8182\n",
      "Epoch 125/200\n",
      "1/1 - 0s - loss: 0.4345 - accuracy: 0.8182\n",
      "Epoch 126/200\n",
      "1/1 - 0s - loss: 0.4290 - accuracy: 0.9091\n",
      "Epoch 127/200\n",
      "1/1 - 0s - loss: 0.4237 - accuracy: 0.9091\n",
      "Epoch 128/200\n",
      "1/1 - 0s - loss: 0.4184 - accuracy: 0.9091\n",
      "Epoch 129/200\n",
      "1/1 - 0s - loss: 0.4133 - accuracy: 0.9091\n",
      "Epoch 130/200\n",
      "1/1 - 0s - loss: 0.4082 - accuracy: 0.9091\n",
      "Epoch 131/200\n",
      "1/1 - 0s - loss: 0.4032 - accuracy: 0.9091\n",
      "Epoch 132/200\n",
      "1/1 - 0s - loss: 0.3983 - accuracy: 0.9091\n",
      "Epoch 133/200\n",
      "1/1 - 0s - loss: 0.3935 - accuracy: 0.9091\n",
      "Epoch 134/200\n",
      "1/1 - 0s - loss: 0.3888 - accuracy: 0.9091\n",
      "Epoch 135/200\n",
      "1/1 - 0s - loss: 0.3841 - accuracy: 0.9091\n",
      "Epoch 136/200\n",
      "1/1 - 0s - loss: 0.3796 - accuracy: 0.9091\n",
      "Epoch 137/200\n",
      "1/1 - 0s - loss: 0.3751 - accuracy: 0.9091\n",
      "Epoch 138/200\n",
      "1/1 - 0s - loss: 0.3706 - accuracy: 0.9091\n",
      "Epoch 139/200\n",
      "1/1 - 0s - loss: 0.3663 - accuracy: 0.9091\n",
      "Epoch 140/200\n",
      "1/1 - 0s - loss: 0.3620 - accuracy: 0.9091\n",
      "Epoch 141/200\n",
      "1/1 - 0s - loss: 0.3577 - accuracy: 0.9091\n",
      "Epoch 142/200\n",
      "1/1 - 0s - loss: 0.3535 - accuracy: 0.9091\n",
      "Epoch 143/200\n",
      "1/1 - 0s - loss: 0.3494 - accuracy: 0.9091\n",
      "Epoch 144/200\n",
      "1/1 - 0s - loss: 0.3454 - accuracy: 0.9091\n",
      "Epoch 145/200\n",
      "1/1 - 0s - loss: 0.3413 - accuracy: 0.9091\n",
      "Epoch 146/200\n",
      "1/1 - 0s - loss: 0.3374 - accuracy: 0.9091\n"
     ]
    },
    {
     "name": "stdout",
     "output_type": "stream",
     "text": [
      "Epoch 147/200\n",
      "1/1 - 0s - loss: 0.3335 - accuracy: 0.9091\n",
      "Epoch 148/200\n",
      "1/1 - 0s - loss: 0.3296 - accuracy: 0.9091\n",
      "Epoch 149/200\n",
      "1/1 - 0s - loss: 0.3258 - accuracy: 0.9091\n",
      "Epoch 150/200\n",
      "1/1 - 0s - loss: 0.3221 - accuracy: 0.9091\n",
      "Epoch 151/200\n",
      "1/1 - 0s - loss: 0.3183 - accuracy: 0.9091\n",
      "Epoch 152/200\n",
      "1/1 - 0s - loss: 0.3147 - accuracy: 0.9091\n",
      "Epoch 153/200\n",
      "1/1 - 0s - loss: 0.3110 - accuracy: 0.9091\n",
      "Epoch 154/200\n",
      "1/1 - 0s - loss: 0.3074 - accuracy: 0.9091\n",
      "Epoch 155/200\n",
      "1/1 - 0s - loss: 0.3039 - accuracy: 0.9091\n",
      "Epoch 156/200\n",
      "1/1 - 0s - loss: 0.3003 - accuracy: 0.9091\n",
      "Epoch 157/200\n",
      "1/1 - 0s - loss: 0.2968 - accuracy: 0.9091\n",
      "Epoch 158/200\n",
      "1/1 - 0s - loss: 0.2934 - accuracy: 0.9091\n",
      "Epoch 159/200\n",
      "1/1 - 0s - loss: 0.2900 - accuracy: 1.0000\n",
      "Epoch 160/200\n",
      "1/1 - 0s - loss: 0.2866 - accuracy: 1.0000\n",
      "Epoch 161/200\n",
      "1/1 - 0s - loss: 0.2832 - accuracy: 1.0000\n",
      "Epoch 162/200\n",
      "1/1 - 0s - loss: 0.2799 - accuracy: 1.0000\n",
      "Epoch 163/200\n",
      "1/1 - 0s - loss: 0.2766 - accuracy: 1.0000\n",
      "Epoch 164/200\n",
      "1/1 - 0s - loss: 0.2733 - accuracy: 1.0000\n",
      "Epoch 165/200\n",
      "1/1 - 0s - loss: 0.2700 - accuracy: 1.0000\n",
      "Epoch 166/200\n",
      "1/1 - 0s - loss: 0.2668 - accuracy: 1.0000\n",
      "Epoch 167/200\n",
      "1/1 - 0s - loss: 0.2636 - accuracy: 1.0000\n",
      "Epoch 168/200\n",
      "1/1 - 0s - loss: 0.2605 - accuracy: 1.0000\n",
      "Epoch 169/200\n",
      "1/1 - 0s - loss: 0.2573 - accuracy: 1.0000\n",
      "Epoch 170/200\n",
      "1/1 - 0s - loss: 0.2542 - accuracy: 1.0000\n",
      "Epoch 171/200\n",
      "1/1 - 0s - loss: 0.2511 - accuracy: 1.0000\n",
      "Epoch 172/200\n",
      "1/1 - 0s - loss: 0.2480 - accuracy: 1.0000\n",
      "Epoch 173/200\n",
      "1/1 - 0s - loss: 0.2450 - accuracy: 1.0000\n",
      "Epoch 174/200\n",
      "1/1 - 0s - loss: 0.2419 - accuracy: 1.0000\n",
      "Epoch 175/200\n",
      "1/1 - 0s - loss: 0.2389 - accuracy: 1.0000\n",
      "Epoch 176/200\n",
      "1/1 - 0s - loss: 0.2359 - accuracy: 1.0000\n",
      "Epoch 177/200\n",
      "1/1 - 0s - loss: 0.2330 - accuracy: 1.0000\n",
      "Epoch 178/200\n",
      "1/1 - 0s - loss: 0.2300 - accuracy: 1.0000\n",
      "Epoch 179/200\n",
      "1/1 - 0s - loss: 0.2271 - accuracy: 1.0000\n",
      "Epoch 180/200\n",
      "1/1 - 0s - loss: 0.2242 - accuracy: 1.0000\n",
      "Epoch 181/200\n",
      "1/1 - 0s - loss: 0.2213 - accuracy: 1.0000\n",
      "Epoch 182/200\n",
      "1/1 - 0s - loss: 0.2184 - accuracy: 1.0000\n",
      "Epoch 183/200\n",
      "1/1 - 0s - loss: 0.2156 - accuracy: 1.0000\n",
      "Epoch 184/200\n",
      "1/1 - 0s - loss: 0.2127 - accuracy: 1.0000\n",
      "Epoch 185/200\n",
      "1/1 - 0s - loss: 0.2099 - accuracy: 1.0000\n",
      "Epoch 186/200\n",
      "1/1 - 0s - loss: 0.2071 - accuracy: 1.0000\n",
      "Epoch 187/200\n",
      "1/1 - 0s - loss: 0.2043 - accuracy: 1.0000\n",
      "Epoch 188/200\n",
      "1/1 - 0s - loss: 0.2016 - accuracy: 1.0000\n",
      "Epoch 189/200\n",
      "1/1 - 0s - loss: 0.1989 - accuracy: 1.0000\n",
      "Epoch 190/200\n",
      "1/1 - 0s - loss: 0.1961 - accuracy: 1.0000\n",
      "Epoch 191/200\n",
      "1/1 - 0s - loss: 0.1934 - accuracy: 1.0000\n",
      "Epoch 192/200\n",
      "1/1 - 0s - loss: 0.1908 - accuracy: 1.0000\n",
      "Epoch 193/200\n",
      "1/1 - 0s - loss: 0.1881 - accuracy: 1.0000\n",
      "Epoch 194/200\n",
      "1/1 - 0s - loss: 0.1855 - accuracy: 1.0000\n",
      "Epoch 195/200\n",
      "1/1 - 0s - loss: 0.1829 - accuracy: 1.0000\n",
      "Epoch 196/200\n",
      "1/1 - 0s - loss: 0.1803 - accuracy: 1.0000\n",
      "Epoch 197/200\n",
      "1/1 - 0s - loss: 0.1777 - accuracy: 1.0000\n",
      "Epoch 198/200\n",
      "1/1 - 0s - loss: 0.1752 - accuracy: 1.0000\n",
      "Epoch 199/200\n",
      "1/1 - 0s - loss: 0.1726 - accuracy: 1.0000\n",
      "Epoch 200/200\n",
      "1/1 - 0s - loss: 0.1701 - accuracy: 1.0000\n"
     ]
    },
    {
     "data": {
      "text/plain": [
       "<tensorflow.python.keras.callbacks.History at 0x19917802d90>"
      ]
     },
     "execution_count": 28,
     "metadata": {},
     "output_type": "execute_result"
    }
   ],
   "source": [
    "model = Sequential()\n",
    "# 10차원을 가지는 임베딩 벡터\n",
    "model.add(Embedding(vocab_size, 10, input_length=max_len-1)) # 레이블 분리했으므로 X의 길이 5\n",
    "# 32의 은닉 상태 크기를 가지는 바닐라 RNN\n",
    "model.add(SimpleRNN(32))\n",
    "model.add(Dense(vocab_size, activation='softmax'))\n",
    "model.compile(loss='categorical_crossentropy', optimizer='adam', metrics=['accuracy'])\n",
    "model.fit(X,y, epochs=200, verbose=2)"
   ]
  },
  {
   "cell_type": "code",
   "execution_count": 32,
   "metadata": {},
   "outputs": [],
   "source": [
    "# 정확하게 예측하고 있는지 문장을 생성하는 함수\n",
    "def sentence_generation(model, t, current_word, n): # 모델 , 토크나이저, 현재 단어, 반복할 횟수\n",
    "    init_word = current_word # 처음 들어온 단어도 마지막에 같이 출력하기 위해 저장\n",
    "    sentence = ''\n",
    "    for _ in range(n):\n",
    "        encoded = t.texts_to_sequences([current_word])[0]\n",
    "        encoded = pad_sequences([encoded], maxlen=5, padding='pre')\n",
    "        result = model.predict_classes(encoded, verbose=0)\n",
    "        # 입력한 X(현재 단어)에 대해서 Y를 예측하고 Y(예측한 단어)를 result에 저장\n",
    "        for word, index in t.word_index.items():\n",
    "            if index ==  result: # 만약 예측한 단어의 인덱스를 가지는 단어가 있다면\n",
    "                break\n",
    "        current_word = current_word + ' ' + word\n",
    "        sentence = sentence + ' ' + word\n",
    "    sentence = init_word + sentence\n",
    "    return sentence"
   ]
  },
  {
   "cell_type": "code",
   "execution_count": 34,
   "metadata": {},
   "outputs": [
    {
     "name": "stderr",
     "output_type": "stream",
     "text": [
      "C:\\Users\\Seonyeong\\anaconda3\\lib\\site-packages\\tensorflow\\python\\keras\\engine\\sequential.py:450: UserWarning: `model.predict_classes()` is deprecated and will be removed after 2021-01-01. Please use instead:* `np.argmax(model.predict(x), axis=-1)`,   if your model does multi-class classification   (e.g. if it uses a `softmax` last-layer activation).* `(model.predict(x) > 0.5).astype(\"int32\")`,   if your model does binary classification   (e.g. if it uses a `sigmoid` last-layer activation).\n",
      "  warnings.warn('`model.predict_classes()` is deprecated and '\n"
     ]
    },
    {
     "name": "stdout",
     "output_type": "stream",
     "text": [
      "경마장에 있는 말이 뛰고 있다\n"
     ]
    }
   ],
   "source": [
    "print(sentence_generation(model, t, '경마장에', 4))"
   ]
  },
  {
   "cell_type": "code",
   "execution_count": 35,
   "metadata": {},
   "outputs": [
    {
     "name": "stdout",
     "output_type": "stream",
     "text": [
      "그의 말이 법이다\n"
     ]
    }
   ],
   "source": [
    "print(sentence_generation(model, t, '그의', 2))"
   ]
  },
  {
   "cell_type": "code",
   "execution_count": 36,
   "metadata": {},
   "outputs": [
    {
     "name": "stdout",
     "output_type": "stream",
     "text": [
      "가는 말이 고와야 오는 말이 곱다\n"
     ]
    }
   ],
   "source": [
    "print(sentence_generation(model, t, '가는', 5))"
   ]
  },
  {
   "cell_type": "markdown",
   "metadata": {},
   "source": [
    "## 2. LSTM을 이용하여 텍스트 생성하기\n",
    "### 1) 데이터에 대한 이해와 전처리\n",
    "*뉴욕 타임즈 기사의 제목*\n",
    "\n",
    "파일 다운로드 링크 : https://www.kaggle.com/aashita/nyt-comments"
   ]
  },
  {
   "cell_type": "code",
   "execution_count": 1,
   "metadata": {},
   "outputs": [],
   "source": [
    "import pandas as pd\n",
    "from string import punctuation\n",
    "from tensorflow.keras.preprocessing.text import Tokenizer\n",
    "from tensorflow.keras.preprocessing.sequence import pad_sequences\n",
    "import numpy as np\n",
    "from tensorflow.keras.utils import to_categorical"
   ]
  },
  {
   "cell_type": "code",
   "execution_count": 2,
   "metadata": {},
   "outputs": [
    {
     "data": {
      "text/html": [
       "<div>\n",
       "<style scoped>\n",
       "    .dataframe tbody tr th:only-of-type {\n",
       "        vertical-align: middle;\n",
       "    }\n",
       "\n",
       "    .dataframe tbody tr th {\n",
       "        vertical-align: top;\n",
       "    }\n",
       "\n",
       "    .dataframe thead th {\n",
       "        text-align: right;\n",
       "    }\n",
       "</style>\n",
       "<table border=\"1\" class=\"dataframe\">\n",
       "  <thead>\n",
       "    <tr style=\"text-align: right;\">\n",
       "      <th></th>\n",
       "      <th>articleID</th>\n",
       "      <th>articleWordCount</th>\n",
       "      <th>byline</th>\n",
       "      <th>documentType</th>\n",
       "      <th>headline</th>\n",
       "      <th>keywords</th>\n",
       "      <th>multimedia</th>\n",
       "      <th>newDesk</th>\n",
       "      <th>printPage</th>\n",
       "      <th>pubDate</th>\n",
       "      <th>sectionName</th>\n",
       "      <th>snippet</th>\n",
       "      <th>source</th>\n",
       "      <th>typeOfMaterial</th>\n",
       "      <th>webURL</th>\n",
       "    </tr>\n",
       "  </thead>\n",
       "  <tbody>\n",
       "    <tr>\n",
       "      <th>0</th>\n",
       "      <td>5adf6684068401528a2aa69b</td>\n",
       "      <td>781</td>\n",
       "      <td>By JOHN BRANCH</td>\n",
       "      <td>article</td>\n",
       "      <td>Former N.F.L. Cheerleaders’ Settlement Offer: ...</td>\n",
       "      <td>['Workplace Hazards and Violations', 'Football...</td>\n",
       "      <td>68</td>\n",
       "      <td>Sports</td>\n",
       "      <td>0</td>\n",
       "      <td>2018-04-24 17:16:49</td>\n",
       "      <td>Pro Football</td>\n",
       "      <td>“I understand that they could meet with us, pa...</td>\n",
       "      <td>The New York Times</td>\n",
       "      <td>News</td>\n",
       "      <td>https://www.nytimes.com/2018/04/24/sports/foot...</td>\n",
       "    </tr>\n",
       "    <tr>\n",
       "      <th>1</th>\n",
       "      <td>5adf653f068401528a2aa697</td>\n",
       "      <td>656</td>\n",
       "      <td>By LISA FRIEDMAN</td>\n",
       "      <td>article</td>\n",
       "      <td>E.P.A. to Unveil a New Rule. Its Effect: Less ...</td>\n",
       "      <td>['Environmental Protection Agency', 'Pruitt, S...</td>\n",
       "      <td>68</td>\n",
       "      <td>Climate</td>\n",
       "      <td>0</td>\n",
       "      <td>2018-04-24 17:11:21</td>\n",
       "      <td>Unknown</td>\n",
       "      <td>The agency plans to publish a new regulation T...</td>\n",
       "      <td>The New York Times</td>\n",
       "      <td>News</td>\n",
       "      <td>https://www.nytimes.com/2018/04/24/climate/epa...</td>\n",
       "    </tr>\n",
       "    <tr>\n",
       "      <th>2</th>\n",
       "      <td>5adf4626068401528a2aa628</td>\n",
       "      <td>2427</td>\n",
       "      <td>By PETE WELLS</td>\n",
       "      <td>article</td>\n",
       "      <td>The New Noma, Explained</td>\n",
       "      <td>['Restaurants', 'Noma (Copenhagen, Restaurant)...</td>\n",
       "      <td>66</td>\n",
       "      <td>Dining</td>\n",
       "      <td>0</td>\n",
       "      <td>2018-04-24 14:58:44</td>\n",
       "      <td>Unknown</td>\n",
       "      <td>What’s it like to eat at the second incarnatio...</td>\n",
       "      <td>The New York Times</td>\n",
       "      <td>News</td>\n",
       "      <td>https://www.nytimes.com/2018/04/24/dining/noma...</td>\n",
       "    </tr>\n",
       "    <tr>\n",
       "      <th>3</th>\n",
       "      <td>5adf40d2068401528a2aa619</td>\n",
       "      <td>626</td>\n",
       "      <td>By JULIE HIRSCHFELD DAVIS and PETER BAKER</td>\n",
       "      <td>article</td>\n",
       "      <td>Unknown</td>\n",
       "      <td>['Macron, Emmanuel (1977- )', 'Trump, Donald J...</td>\n",
       "      <td>68</td>\n",
       "      <td>Washington</td>\n",
       "      <td>0</td>\n",
       "      <td>2018-04-24 14:35:57</td>\n",
       "      <td>Europe</td>\n",
       "      <td>President Trump welcomed President Emmanuel Ma...</td>\n",
       "      <td>The New York Times</td>\n",
       "      <td>News</td>\n",
       "      <td>https://www.nytimes.com/2018/04/24/world/europ...</td>\n",
       "    </tr>\n",
       "    <tr>\n",
       "      <th>4</th>\n",
       "      <td>5adf3d64068401528a2aa60f</td>\n",
       "      <td>815</td>\n",
       "      <td>By IAN AUSTEN and DAN BILEFSKY</td>\n",
       "      <td>article</td>\n",
       "      <td>Unknown</td>\n",
       "      <td>['Toronto, Ontario, Attack (April, 2018)', 'Mu...</td>\n",
       "      <td>68</td>\n",
       "      <td>Foreign</td>\n",
       "      <td>0</td>\n",
       "      <td>2018-04-24 14:21:21</td>\n",
       "      <td>Canada</td>\n",
       "      <td>Alek Minassian, 25, a resident of Toronto’s Ri...</td>\n",
       "      <td>The New York Times</td>\n",
       "      <td>News</td>\n",
       "      <td>https://www.nytimes.com/2018/04/24/world/canad...</td>\n",
       "    </tr>\n",
       "  </tbody>\n",
       "</table>\n",
       "</div>"
      ],
      "text/plain": [
       "                  articleID  articleWordCount  \\\n",
       "0  5adf6684068401528a2aa69b               781   \n",
       "1  5adf653f068401528a2aa697               656   \n",
       "2  5adf4626068401528a2aa628              2427   \n",
       "3  5adf40d2068401528a2aa619               626   \n",
       "4  5adf3d64068401528a2aa60f               815   \n",
       "\n",
       "                                      byline documentType  \\\n",
       "0                             By JOHN BRANCH      article   \n",
       "1                           By LISA FRIEDMAN      article   \n",
       "2                              By PETE WELLS      article   \n",
       "3  By JULIE HIRSCHFELD DAVIS and PETER BAKER      article   \n",
       "4             By IAN AUSTEN and DAN BILEFSKY      article   \n",
       "\n",
       "                                            headline  \\\n",
       "0  Former N.F.L. Cheerleaders’ Settlement Offer: ...   \n",
       "1  E.P.A. to Unveil a New Rule. Its Effect: Less ...   \n",
       "2                            The New Noma, Explained   \n",
       "3                                            Unknown   \n",
       "4                                            Unknown   \n",
       "\n",
       "                                            keywords  multimedia     newDesk  \\\n",
       "0  ['Workplace Hazards and Violations', 'Football...          68      Sports   \n",
       "1  ['Environmental Protection Agency', 'Pruitt, S...          68     Climate   \n",
       "2  ['Restaurants', 'Noma (Copenhagen, Restaurant)...          66      Dining   \n",
       "3  ['Macron, Emmanuel (1977- )', 'Trump, Donald J...          68  Washington   \n",
       "4  ['Toronto, Ontario, Attack (April, 2018)', 'Mu...          68     Foreign   \n",
       "\n",
       "   printPage              pubDate   sectionName  \\\n",
       "0          0  2018-04-24 17:16:49  Pro Football   \n",
       "1          0  2018-04-24 17:11:21       Unknown   \n",
       "2          0  2018-04-24 14:58:44       Unknown   \n",
       "3          0  2018-04-24 14:35:57        Europe   \n",
       "4          0  2018-04-24 14:21:21        Canada   \n",
       "\n",
       "                                             snippet              source  \\\n",
       "0  “I understand that they could meet with us, pa...  The New York Times   \n",
       "1  The agency plans to publish a new regulation T...  The New York Times   \n",
       "2  What’s it like to eat at the second incarnatio...  The New York Times   \n",
       "3  President Trump welcomed President Emmanuel Ma...  The New York Times   \n",
       "4  Alek Minassian, 25, a resident of Toronto’s Ri...  The New York Times   \n",
       "\n",
       "  typeOfMaterial                                             webURL  \n",
       "0           News  https://www.nytimes.com/2018/04/24/sports/foot...  \n",
       "1           News  https://www.nytimes.com/2018/04/24/climate/epa...  \n",
       "2           News  https://www.nytimes.com/2018/04/24/dining/noma...  \n",
       "3           News  https://www.nytimes.com/2018/04/24/world/europ...  \n",
       "4           News  https://www.nytimes.com/2018/04/24/world/canad...  "
      ]
     },
     "execution_count": 2,
     "metadata": {},
     "output_type": "execute_result"
    }
   ],
   "source": [
    "df = pd.read_csv('./data/ArticlesApril2018.csv')\n",
    "df.head()"
   ]
  },
  {
   "cell_type": "code",
   "execution_count": 3,
   "metadata": {},
   "outputs": [
    {
     "name": "stdout",
     "output_type": "stream",
     "text": [
      "열의 개수:  15\n",
      "Index(['articleID', 'articleWordCount', 'byline', 'documentType', 'headline',\n",
      "       'keywords', 'multimedia', 'newDesk', 'printPage', 'pubDate',\n",
      "       'sectionName', 'snippet', 'source', 'typeOfMaterial', 'webURL'],\n",
      "      dtype='object')\n"
     ]
    }
   ],
   "source": [
    "print('열의 개수: ', len(df.columns))\n",
    "print(df.columns)"
   ]
  },
  {
   "cell_type": "code",
   "execution_count": 4,
   "metadata": {},
   "outputs": [
    {
     "data": {
      "text/plain": [
       "False"
      ]
     },
     "execution_count": 4,
     "metadata": {},
     "output_type": "execute_result"
    }
   ],
   "source": [
    "# null 값이 있는지 확인\n",
    "df['headline'].isnull().values.any()"
   ]
  },
  {
   "cell_type": "code",
   "execution_count": 5,
   "metadata": {},
   "outputs": [
    {
     "data": {
      "text/plain": [
       "['Former N.F.L. Cheerleaders’ Settlement Offer: $1 and a Meeting With Goodell',\n",
       " 'E.P.A. to Unveil a New Rule. Its Effect: Less Science in Policymaking.',\n",
       " 'The New Noma, Explained',\n",
       " 'Unknown',\n",
       " 'Unknown']"
      ]
     },
     "execution_count": 5,
     "metadata": {},
     "output_type": "execute_result"
    }
   ],
   "source": [
    "# 모든 신문 기사의 제목을 뽑아서 하나의 리스트로 저장\n",
    "headline = []\n",
    "headline.extend(list(df.headline.values))\n",
    "headline[:5]"
   ]
  },
  {
   "cell_type": "code",
   "execution_count": 7,
   "metadata": {},
   "outputs": [
    {
     "name": "stdout",
     "output_type": "stream",
     "text": [
      "총 샘플의 개수 : 1324\n"
     ]
    }
   ],
   "source": [
    "# 'Unkown' 값은 노이즈 데이터이므로 제거\n",
    "print('총 샘플의 개수 : {}'.format(len(headline))) # 현재 샘플의 개수"
   ]
  },
  {
   "cell_type": "code",
   "execution_count": 8,
   "metadata": {},
   "outputs": [
    {
     "name": "stdout",
     "output_type": "stream",
     "text": [
      "노이즈값 제거 후 샘플의 개수: 1214\n"
     ]
    }
   ],
   "source": [
    "headline = [n for n in headline if n != 'Unknown']\n",
    "print('노이즈값 제거 후 샘플의 개수: {}'.format(len(headline))) # 제거 후 샘플의 개수"
   ]
  },
  {
   "cell_type": "code",
   "execution_count": 9,
   "metadata": {},
   "outputs": [
    {
     "data": {
      "text/plain": [
       "['Former N.F.L. Cheerleaders’ Settlement Offer: $1 and a Meeting With Goodell',\n",
       " 'E.P.A. to Unveil a New Rule. Its Effect: Less Science in Policymaking.',\n",
       " 'The New Noma, Explained',\n",
       " 'How a Bag of Texas Dirt  Became a Times Tradition',\n",
       " 'Is School a Place for Self-Expression?']"
      ]
     },
     "execution_count": 9,
     "metadata": {},
     "output_type": "execute_result"
    }
   ],
   "source": [
    "headline[:5]"
   ]
  },
  {
   "cell_type": "code",
   "execution_count": 12,
   "metadata": {},
   "outputs": [
    {
     "data": {
      "text/plain": [
       "['former nfl cheerleaders settlement offer 1 and a meeting with goodell',\n",
       " 'epa to unveil a new rule its effect less science in policymaking',\n",
       " 'the new noma explained',\n",
       " 'how a bag of texas dirt  became a times tradition',\n",
       " 'is school a place for selfexpression']"
      ]
     },
     "execution_count": 12,
     "metadata": {},
     "output_type": "execute_result"
    }
   ],
   "source": [
    "# 구두점 제거와 단어의 소문자화\n",
    "def repreprocessing(s):\n",
    "    s = s.encode('utf8').decode('ascii', 'ignore')\n",
    "    # 구두점 제거와 동시에 소문자화\n",
    "    return ''.join(c for c in s if c not in punctuation).lower()\n",
    "\n",
    "text = [repreprocessing(x) for x in headline]\n",
    "text[:5]"
   ]
  },
  {
   "cell_type": "code",
   "execution_count": 13,
   "metadata": {},
   "outputs": [
    {
     "name": "stdout",
     "output_type": "stream",
     "text": [
      "단어 집합의 크기 : 3494\n"
     ]
    }
   ],
   "source": [
    "# 단어 집합(vocabulary)을 만들고 크기를 확인\n",
    "t = Tokenizer()\n",
    "t.fit_on_texts(text)\n",
    "vocab_size = len(t.word_index) + 1\n",
    "print('단어 집합의 크기 : %d' % vocab_size)"
   ]
  },
  {
   "cell_type": "code",
   "execution_count": 14,
   "metadata": {},
   "outputs": [
    {
     "data": {
      "text/plain": [
       "[[99, 269],\n",
       " [99, 269, 371],\n",
       " [99, 269, 371, 1115],\n",
       " [99, 269, 371, 1115, 582],\n",
       " [99, 269, 371, 1115, 582, 52],\n",
       " [99, 269, 371, 1115, 582, 52, 7],\n",
       " [99, 269, 371, 1115, 582, 52, 7, 2],\n",
       " [99, 269, 371, 1115, 582, 52, 7, 2, 372],\n",
       " [99, 269, 371, 1115, 582, 52, 7, 2, 372, 10],\n",
       " [99, 269, 371, 1115, 582, 52, 7, 2, 372, 10, 1116],\n",
       " [100, 3]]"
      ]
     },
     "execution_count": 14,
     "metadata": {},
     "output_type": "execute_result"
    }
   ],
   "source": [
    "# 정수 인코딩과 동시에 하나의 문장을 여러 줄로 분해하여 훈련 데이터 구성\n",
    "sequences = list()\n",
    "\n",
    "for line in text:\n",
    "    encoded = t.texts_to_sequences([line])[0] # 정수 인코딩\n",
    "    for i in range(1, len(encoded)):\n",
    "        sequence = encoded[:i+1]\n",
    "        sequences.append(sequence)\n",
    "sequences[:11]"
   ]
  },
  {
   "cell_type": "code",
   "execution_count": 15,
   "metadata": {},
   "outputs": [
    {
     "name": "stdout",
     "output_type": "stream",
     "text": [
      "빈도수 상위 582번 단어 : offer\n"
     ]
    }
   ],
   "source": [
    "# 인덱스로부터 단어를 찾는 방법\n",
    "index_to_word = {}\n",
    "for key, value in t.word_index.items():\n",
    "    index_to_word[value] = key\n",
    "    \n",
    "print('빈도수 상위 582번 단어 : {}'.format(index_to_word[582]))"
   ]
  },
  {
   "cell_type": "code",
   "execution_count": 16,
   "metadata": {},
   "outputs": [
    {
     "name": "stdout",
     "output_type": "stream",
     "text": [
      "샘플의 최대 길이: 24\n",
      "[[   0    0    0    0    0    0    0    0    0    0    0    0    0    0\n",
      "     0    0    0    0    0    0    0    0   99  269]\n",
      " [   0    0    0    0    0    0    0    0    0    0    0    0    0    0\n",
      "     0    0    0    0    0    0    0   99  269  371]\n",
      " [   0    0    0    0    0    0    0    0    0    0    0    0    0    0\n",
      "     0    0    0    0    0    0   99  269  371 1115]]\n"
     ]
    }
   ],
   "source": [
    "# 전체 샘플의 길이 맞추기\n",
    "max_len = max(len(l) for l in sequences)\n",
    "print('샘플의 최대 길이: {}'.format(max_len))\n",
    "\n",
    "sequences = pad_sequences(sequences, maxlen=max_len, padding='pre')\n",
    "print(sequences[:3])"
   ]
  },
  {
   "cell_type": "code",
   "execution_count": 17,
   "metadata": {},
   "outputs": [
    {
     "name": "stdout",
     "output_type": "stream",
     "text": [
      "[[  0   0   0   0   0   0   0   0   0   0   0   0   0   0   0   0   0   0\n",
      "    0   0   0   0  99]\n",
      " [  0   0   0   0   0   0   0   0   0   0   0   0   0   0   0   0   0   0\n",
      "    0   0   0  99 269]\n",
      " [  0   0   0   0   0   0   0   0   0   0   0   0   0   0   0   0   0   0\n",
      "    0   0  99 269 371]]\n",
      "\n",
      "[ 269  371 1115]\n"
     ]
    }
   ],
   "source": [
    "# 맨 우측 단어를 레이블로 분리\n",
    "sequences = np.array(sequences)\n",
    "X = sequences[:,:-1]\n",
    "y = sequences[:,-1]\n",
    "print(X[:3])\n",
    "print()\n",
    "print(y[:3])"
   ]
  },
  {
   "cell_type": "code",
   "execution_count": 18,
   "metadata": {},
   "outputs": [],
   "source": [
    "# 레이블 데이터 y에 대해 원핫 인코딩 수행\n",
    "y = to_categorical(y, num_classes=vocab_size)"
   ]
  },
  {
   "cell_type": "markdown",
   "metadata": {},
   "source": [
    "## 모델 설계하기"
   ]
  },
  {
   "cell_type": "code",
   "execution_count": 19,
   "metadata": {},
   "outputs": [],
   "source": [
    "from tensorflow.keras.models import Sequential\n",
    "from tensorflow.keras.layers import Embedding, Dense, LSTM"
   ]
  },
  {
   "cell_type": "code",
   "execution_count": 20,
   "metadata": {},
   "outputs": [
    {
     "name": "stdout",
     "output_type": "stream",
     "text": [
      "Epoch 1/200\n",
      "244/244 - 6s - loss: 7.6427 - accuracy: 0.0286\n",
      "Epoch 2/200\n",
      "244/244 - 4s - loss: 7.1274 - accuracy: 0.0313\n",
      "Epoch 3/200\n",
      "244/244 - 4s - loss: 6.9927 - accuracy: 0.0299\n",
      "Epoch 4/200\n",
      "244/244 - 5s - loss: 6.8702 - accuracy: 0.0393\n",
      "Epoch 5/200\n",
      "244/244 - 4s - loss: 6.7226 - accuracy: 0.0431\n",
      "Epoch 6/200\n",
      "244/244 - 5s - loss: 6.5492 - accuracy: 0.0447\n",
      "Epoch 7/200\n",
      "244/244 - 5s - loss: 6.3516 - accuracy: 0.0513\n",
      "Epoch 8/200\n",
      "244/244 - 5s - loss: 6.1509 - accuracy: 0.0560\n",
      "Epoch 9/200\n",
      "244/244 - 5s - loss: 5.9591 - accuracy: 0.0588\n",
      "Epoch 10/200\n",
      "244/244 - 5s - loss: 5.7714 - accuracy: 0.0624\n",
      "Epoch 11/200\n",
      "244/244 - 5s - loss: 5.5927 - accuracy: 0.0722\n",
      "Epoch 12/200\n",
      "244/244 - 5s - loss: 5.4266 - accuracy: 0.0757\n",
      "Epoch 13/200\n",
      "244/244 - 5s - loss: 5.2646 - accuracy: 0.0780\n",
      "Epoch 14/200\n",
      "244/244 - 5s - loss: 5.1083 - accuracy: 0.0869\n",
      "Epoch 15/200\n",
      "244/244 - 5s - loss: 4.9587 - accuracy: 0.0959\n",
      "Epoch 16/200\n",
      "244/244 - 5s - loss: 4.8130 - accuracy: 0.1052\n",
      "Epoch 17/200\n",
      "244/244 - 5s - loss: 4.6676 - accuracy: 0.1207\n",
      "Epoch 18/200\n",
      "244/244 - 5s - loss: 4.5292 - accuracy: 0.1358\n",
      "Epoch 19/200\n",
      "244/244 - 5s - loss: 4.3914 - accuracy: 0.1544\n",
      "Epoch 20/200\n",
      "244/244 - 5s - loss: 4.2589 - accuracy: 0.1733\n",
      "Epoch 21/200\n",
      "244/244 - 5s - loss: 4.1278 - accuracy: 0.1931\n",
      "Epoch 22/200\n",
      "244/244 - 5s - loss: 4.0014 - accuracy: 0.2102\n",
      "Epoch 23/200\n",
      "244/244 - 5s - loss: 3.8752 - accuracy: 0.2381\n",
      "Epoch 24/200\n",
      "244/244 - 5s - loss: 3.7561 - accuracy: 0.2593\n",
      "Epoch 25/200\n",
      "244/244 - 5s - loss: 3.6337 - accuracy: 0.2832\n",
      "Epoch 26/200\n",
      "244/244 - 4s - loss: 3.5143 - accuracy: 0.3035\n",
      "Epoch 27/200\n",
      "244/244 - 4s - loss: 3.4048 - accuracy: 0.3260\n",
      "Epoch 28/200\n",
      "244/244 - 5s - loss: 3.2974 - accuracy: 0.3491\n",
      "Epoch 29/200\n",
      "244/244 - 5s - loss: 3.1919 - accuracy: 0.3722\n",
      "Epoch 30/200\n",
      "244/244 - 5s - loss: 3.0841 - accuracy: 0.3869\n",
      "Epoch 31/200\n",
      "244/244 - 5s - loss: 2.9860 - accuracy: 0.4061\n",
      "Epoch 32/200\n",
      "244/244 - 5s - loss: 2.8916 - accuracy: 0.4261\n",
      "Epoch 33/200\n",
      "244/244 - 5s - loss: 2.8018 - accuracy: 0.4412\n",
      "Epoch 34/200\n",
      "244/244 - 5s - loss: 2.7127 - accuracy: 0.4624\n",
      "Epoch 35/200\n",
      "244/244 - 5s - loss: 2.6274 - accuracy: 0.4748\n",
      "Epoch 36/200\n",
      "244/244 - 5s - loss: 2.5487 - accuracy: 0.4915\n",
      "Epoch 37/200\n",
      "244/244 - 5s - loss: 2.4723 - accuracy: 0.5079\n",
      "Epoch 38/200\n",
      "244/244 - 5s - loss: 2.3973 - accuracy: 0.5225\n",
      "Epoch 39/200\n",
      "244/244 - 5s - loss: 2.3272 - accuracy: 0.5333\n",
      "Epoch 40/200\n",
      "244/244 - 5s - loss: 2.2573 - accuracy: 0.5499\n",
      "Epoch 41/200\n",
      "244/244 - 7s - loss: 2.1906 - accuracy: 0.5648\n",
      "Epoch 42/200\n",
      "244/244 - 8s - loss: 2.1260 - accuracy: 0.5748\n",
      "Epoch 43/200\n",
      "244/244 - 6s - loss: 2.0659 - accuracy: 0.5863\n",
      "Epoch 44/200\n",
      "244/244 - 7s - loss: 2.0094 - accuracy: 0.6011\n",
      "Epoch 45/200\n",
      "244/244 - 7s - loss: 1.9493 - accuracy: 0.6125\n",
      "Epoch 46/200\n",
      "244/244 - 7s - loss: 1.8934 - accuracy: 0.6254\n",
      "Epoch 47/200\n",
      "244/244 - 7s - loss: 1.8418 - accuracy: 0.6368\n",
      "Epoch 48/200\n",
      "244/244 - 6s - loss: 1.7919 - accuracy: 0.6424\n",
      "Epoch 49/200\n",
      "244/244 - 7s - loss: 1.7404 - accuracy: 0.6546\n",
      "Epoch 50/200\n",
      "244/244 - 7s - loss: 1.6925 - accuracy: 0.6651\n",
      "Epoch 51/200\n",
      "244/244 - 7s - loss: 1.6485 - accuracy: 0.6736\n",
      "Epoch 52/200\n",
      "244/244 - 7s - loss: 1.6144 - accuracy: 0.6804\n",
      "Epoch 53/200\n",
      "244/244 - 7s - loss: 1.5627 - accuracy: 0.6888\n",
      "Epoch 54/200\n",
      "244/244 - 7s - loss: 1.5216 - accuracy: 0.6970\n",
      "Epoch 55/200\n",
      "244/244 - 6s - loss: 1.4808 - accuracy: 0.7083\n",
      "Epoch 56/200\n",
      "244/244 - 6s - loss: 1.4414 - accuracy: 0.7141\n",
      "Epoch 57/200\n",
      "244/244 - 7s - loss: 1.4019 - accuracy: 0.7246\n",
      "Epoch 58/200\n",
      "244/244 - 7s - loss: 1.3680 - accuracy: 0.7304\n",
      "Epoch 59/200\n",
      "244/244 - 8s - loss: 1.3296 - accuracy: 0.7414\n",
      "Epoch 60/200\n",
      "244/244 - 7s - loss: 1.2971 - accuracy: 0.7445\n",
      "Epoch 61/200\n",
      "244/244 - 6s - loss: 1.2622 - accuracy: 0.7509\n",
      "Epoch 62/200\n",
      "244/244 - 7s - loss: 1.2346 - accuracy: 0.7569\n",
      "Epoch 63/200\n",
      "244/244 - 7s - loss: 1.1987 - accuracy: 0.7664\n",
      "Epoch 64/200\n",
      "244/244 - 7s - loss: 1.1691 - accuracy: 0.7716\n",
      "Epoch 65/200\n",
      "244/244 - 7s - loss: 1.1403 - accuracy: 0.7721\n",
      "Epoch 66/200\n",
      "244/244 - 7s - loss: 1.1107 - accuracy: 0.7806\n",
      "Epoch 67/200\n",
      "244/244 - 7s - loss: 1.0830 - accuracy: 0.7851\n",
      "Epoch 68/200\n",
      "244/244 - 6s - loss: 1.0563 - accuracy: 0.7955\n",
      "Epoch 69/200\n",
      "244/244 - 7s - loss: 1.0319 - accuracy: 0.7958\n",
      "Epoch 70/200\n",
      "244/244 - 7s - loss: 1.0057 - accuracy: 0.8039\n",
      "Epoch 71/200\n",
      "244/244 - 6s - loss: 0.9830 - accuracy: 0.8047\n",
      "Epoch 72/200\n",
      "244/244 - 5s - loss: 0.9579 - accuracy: 0.8105\n",
      "Epoch 73/200\n",
      "244/244 - 6s - loss: 0.9349 - accuracy: 0.8171\n",
      "Epoch 74/200\n",
      "244/244 - 5s - loss: 0.9135 - accuracy: 0.8184\n",
      "Epoch 75/200\n",
      "244/244 - 6s - loss: 0.8931 - accuracy: 0.8256\n",
      "Epoch 76/200\n",
      "244/244 - 6s - loss: 0.8706 - accuracy: 0.8265\n",
      "Epoch 77/200\n",
      "244/244 - 6s - loss: 0.8474 - accuracy: 0.8330\n",
      "Epoch 78/200\n",
      "244/244 - 7s - loss: 0.8307 - accuracy: 0.8358\n",
      "Epoch 79/200\n",
      "244/244 - 7s - loss: 0.8137 - accuracy: 0.8399\n",
      "Epoch 80/200\n",
      "244/244 - 7s - loss: 0.7920 - accuracy: 0.8422\n",
      "Epoch 81/200\n",
      "244/244 - 6s - loss: 0.7753 - accuracy: 0.8465\n",
      "Epoch 82/200\n",
      "244/244 - 7s - loss: 0.7581 - accuracy: 0.8530\n",
      "Epoch 83/200\n",
      "244/244 - 7s - loss: 0.7412 - accuracy: 0.8534\n",
      "Epoch 84/200\n",
      "244/244 - 6s - loss: 0.7249 - accuracy: 0.8554\n",
      "Epoch 85/200\n",
      "244/244 - 7s - loss: 0.7080 - accuracy: 0.8597\n",
      "Epoch 86/200\n",
      "244/244 - 7s - loss: 0.6907 - accuracy: 0.8647\n",
      "Epoch 87/200\n",
      "244/244 - 7s - loss: 0.6791 - accuracy: 0.8662\n",
      "Epoch 88/200\n",
      "244/244 - 7s - loss: 0.6614 - accuracy: 0.8667\n",
      "Epoch 89/200\n",
      "244/244 - 7s - loss: 0.6495 - accuracy: 0.8692\n",
      "Epoch 90/200\n",
      "244/244 - 7s - loss: 0.6353 - accuracy: 0.8742\n",
      "Epoch 91/200\n",
      "244/244 - 6s - loss: 0.6224 - accuracy: 0.8740\n",
      "Epoch 92/200\n",
      "244/244 - 7s - loss: 0.6120 - accuracy: 0.8765\n",
      "Epoch 93/200\n",
      "244/244 - 6s - loss: 0.5962 - accuracy: 0.8802\n",
      "Epoch 94/200\n",
      "244/244 - 7s - loss: 0.5858 - accuracy: 0.8797\n",
      "Epoch 95/200\n",
      "244/244 - 7s - loss: 0.5703 - accuracy: 0.8870\n",
      "Epoch 96/200\n",
      "244/244 - 6s - loss: 0.5600 - accuracy: 0.8882\n",
      "Epoch 97/200\n",
      "244/244 - 7s - loss: 0.5504 - accuracy: 0.8867\n",
      "Epoch 98/200\n",
      "244/244 - 7s - loss: 0.5379 - accuracy: 0.8909\n",
      "Epoch 99/200\n",
      "244/244 - 7s - loss: 0.5274 - accuracy: 0.8935\n",
      "Epoch 100/200\n",
      "244/244 - 7s - loss: 0.5165 - accuracy: 0.8945\n",
      "Epoch 101/200\n",
      "244/244 - 7s - loss: 0.5076 - accuracy: 0.8961\n",
      "Epoch 102/200\n",
      "244/244 - 7s - loss: 0.5010 - accuracy: 0.8965\n",
      "Epoch 103/200\n",
      "244/244 - 7s - loss: 0.4894 - accuracy: 0.8965\n",
      "Epoch 104/200\n",
      "244/244 - 7s - loss: 0.4805 - accuracy: 0.9020\n",
      "Epoch 105/200\n",
      "244/244 - 7s - loss: 0.4751 - accuracy: 0.9003\n",
      "Epoch 106/200\n",
      "244/244 - 7s - loss: 0.4646 - accuracy: 0.9017\n",
      "Epoch 107/200\n",
      "244/244 - 7s - loss: 0.4552 - accuracy: 0.9036\n",
      "Epoch 108/200\n",
      "244/244 - 7s - loss: 0.4463 - accuracy: 0.9040\n",
      "Epoch 109/200\n",
      "244/244 - 7s - loss: 0.4385 - accuracy: 0.9057\n",
      "Epoch 110/200\n",
      "244/244 - 8s - loss: 0.4308 - accuracy: 0.9070\n",
      "Epoch 111/200\n",
      "244/244 - 7s - loss: 0.4256 - accuracy: 0.9077\n",
      "Epoch 112/200\n",
      "244/244 - 7s - loss: 0.4186 - accuracy: 0.9100\n",
      "Epoch 113/200\n",
      "244/244 - 7s - loss: 0.4118 - accuracy: 0.9084\n",
      "Epoch 114/200\n",
      "244/244 - 6s - loss: 0.4045 - accuracy: 0.9095\n",
      "Epoch 115/200\n",
      "244/244 - 7s - loss: 0.3998 - accuracy: 0.9095\n",
      "Epoch 116/200\n",
      "244/244 - 7s - loss: 0.3938 - accuracy: 0.9093\n",
      "Epoch 117/200\n",
      "244/244 - 6s - loss: 0.3869 - accuracy: 0.9107\n",
      "Epoch 118/200\n",
      "244/244 - 8s - loss: 0.3834 - accuracy: 0.9111\n",
      "Epoch 119/200\n",
      "244/244 - 7s - loss: 0.3776 - accuracy: 0.9121\n",
      "Epoch 120/200\n",
      "244/244 - 6s - loss: 0.3726 - accuracy: 0.9126\n",
      "Epoch 121/200\n",
      "244/244 - 7s - loss: 0.3694 - accuracy: 0.9136\n",
      "Epoch 122/200\n",
      "244/244 - 6s - loss: 0.3635 - accuracy: 0.9121\n",
      "Epoch 123/200\n",
      "244/244 - 6s - loss: 0.3581 - accuracy: 0.9144\n",
      "Epoch 124/200\n",
      "244/244 - 6s - loss: 0.3556 - accuracy: 0.9139\n",
      "Epoch 125/200\n",
      "244/244 - 7s - loss: 0.3487 - accuracy: 0.9129\n",
      "Epoch 126/200\n",
      "244/244 - 6s - loss: 0.3475 - accuracy: 0.9135\n",
      "Epoch 127/200\n",
      "244/244 - 6s - loss: 0.3411 - accuracy: 0.9143\n",
      "Epoch 128/200\n",
      "244/244 - 6s - loss: 0.3385 - accuracy: 0.9129\n",
      "Epoch 129/200\n",
      "244/244 - 7s - loss: 0.3344 - accuracy: 0.9146\n",
      "Epoch 130/200\n",
      "244/244 - 7s - loss: 0.3326 - accuracy: 0.9140\n",
      "Epoch 131/200\n",
      "244/244 - 8s - loss: 0.3275 - accuracy: 0.9152\n",
      "Epoch 132/200\n",
      "244/244 - 7s - loss: 0.3253 - accuracy: 0.9145\n",
      "Epoch 133/200\n",
      "244/244 - 6s - loss: 0.3240 - accuracy: 0.9155\n",
      "Epoch 134/200\n",
      "244/244 - 7s - loss: 0.3249 - accuracy: 0.9145\n",
      "Epoch 135/200\n",
      "244/244 - 7s - loss: 0.3186 - accuracy: 0.9144\n",
      "Epoch 136/200\n",
      "244/244 - 7s - loss: 0.3227 - accuracy: 0.9145\n",
      "Epoch 137/200\n"
     ]
    },
    {
     "name": "stdout",
     "output_type": "stream",
     "text": [
      "244/244 - 6s - loss: 0.3427 - accuracy: 0.9131\n",
      "Epoch 138/200\n",
      "244/244 - 5s - loss: 0.3178 - accuracy: 0.9146\n",
      "Epoch 139/200\n",
      "244/244 - 5s - loss: 0.3180 - accuracy: 0.9145\n",
      "Epoch 140/200\n",
      "244/244 - 6s - loss: 0.3085 - accuracy: 0.9152\n",
      "Epoch 141/200\n",
      "244/244 - 5s - loss: 0.3040 - accuracy: 0.9153\n",
      "Epoch 142/200\n",
      "244/244 - 5s - loss: 0.3011 - accuracy: 0.9153\n",
      "Epoch 143/200\n",
      "244/244 - 6s - loss: 0.2998 - accuracy: 0.9155\n",
      "Epoch 144/200\n",
      "244/244 - 6s - loss: 0.2983 - accuracy: 0.9161\n",
      "Epoch 145/200\n",
      "244/244 - 6s - loss: 0.2964 - accuracy: 0.9162\n",
      "Epoch 146/200\n",
      "244/244 - 6s - loss: 0.2962 - accuracy: 0.9155\n",
      "Epoch 147/200\n",
      "244/244 - 6s - loss: 0.2944 - accuracy: 0.9154\n",
      "Epoch 148/200\n",
      "244/244 - 6s - loss: 0.2979 - accuracy: 0.9163\n",
      "Epoch 149/200\n",
      "244/244 - 7s - loss: 0.2984 - accuracy: 0.9152\n",
      "Epoch 150/200\n",
      "244/244 - 7s - loss: 0.2928 - accuracy: 0.9175\n",
      "Epoch 151/200\n",
      "244/244 - 7s - loss: 0.2906 - accuracy: 0.9163\n",
      "Epoch 152/200\n",
      "244/244 - 7s - loss: 0.2870 - accuracy: 0.9158\n",
      "Epoch 153/200\n",
      "244/244 - 7s - loss: 0.2868 - accuracy: 0.9167\n",
      "Epoch 154/200\n",
      "244/244 - 7s - loss: 0.2851 - accuracy: 0.9173\n",
      "Epoch 155/200\n",
      "244/244 - 7s - loss: 0.2836 - accuracy: 0.9170\n",
      "Epoch 156/200\n",
      "244/244 - 7s - loss: 0.2831 - accuracy: 0.9163\n",
      "Epoch 157/200\n",
      "244/244 - 7s - loss: 0.2824 - accuracy: 0.9164\n",
      "Epoch 158/200\n",
      "244/244 - 6s - loss: 0.2820 - accuracy: 0.9162\n",
      "Epoch 159/200\n",
      "244/244 - 7s - loss: 0.2840 - accuracy: 0.9168\n",
      "Epoch 160/200\n",
      "244/244 - 6s - loss: 0.2865 - accuracy: 0.9146\n",
      "Epoch 161/200\n",
      "244/244 - 6s - loss: 0.2832 - accuracy: 0.9154\n",
      "Epoch 162/200\n",
      "244/244 - 7s - loss: 0.2827 - accuracy: 0.9161\n",
      "Epoch 163/200\n",
      "244/244 - 6s - loss: 0.2769 - accuracy: 0.9172\n",
      "Epoch 164/200\n",
      "244/244 - 6s - loss: 0.2749 - accuracy: 0.9167\n",
      "Epoch 165/200\n",
      "244/244 - 6s - loss: 0.2744 - accuracy: 0.9154\n",
      "Epoch 166/200\n",
      "244/244 - 6s - loss: 0.2747 - accuracy: 0.9162\n",
      "Epoch 167/200\n",
      "244/244 - 6s - loss: 0.2736 - accuracy: 0.9157\n",
      "Epoch 168/200\n",
      "244/244 - 7s - loss: 0.2728 - accuracy: 0.9167\n",
      "Epoch 169/200\n",
      "244/244 - 7s - loss: 0.2749 - accuracy: 0.9163\n",
      "Epoch 170/200\n",
      "244/244 - 7s - loss: 0.2752 - accuracy: 0.9150\n",
      "Epoch 171/200\n",
      "244/244 - 7s - loss: 0.2738 - accuracy: 0.9173\n",
      "Epoch 172/200\n",
      "244/244 - 7s - loss: 0.2701 - accuracy: 0.9175\n",
      "Epoch 173/200\n",
      "244/244 - 7s - loss: 0.2705 - accuracy: 0.9177\n",
      "Epoch 174/200\n",
      "244/244 - 7s - loss: 0.2711 - accuracy: 0.9162\n",
      "Epoch 175/200\n",
      "244/244 - 6s - loss: 0.2713 - accuracy: 0.9171\n",
      "Epoch 176/200\n",
      "244/244 - 6s - loss: 0.2708 - accuracy: 0.9161\n",
      "Epoch 177/200\n",
      "244/244 - 6s - loss: 0.2684 - accuracy: 0.9162\n",
      "Epoch 178/200\n",
      "244/244 - 7s - loss: 0.2682 - accuracy: 0.9161\n",
      "Epoch 179/200\n",
      "244/244 - 6s - loss: 0.2671 - accuracy: 0.9163\n",
      "Epoch 180/200\n",
      "244/244 - 6s - loss: 0.2666 - accuracy: 0.9155\n",
      "Epoch 181/200\n",
      "244/244 - 6s - loss: 0.2662 - accuracy: 0.9168\n",
      "Epoch 182/200\n",
      "244/244 - 7s - loss: 0.2670 - accuracy: 0.9157\n",
      "Epoch 183/200\n",
      "244/244 - 6s - loss: 0.2710 - accuracy: 0.9143\n",
      "Epoch 184/200\n",
      "244/244 - 6s - loss: 0.2976 - accuracy: 0.9093\n",
      "Epoch 185/200\n",
      "244/244 - 7s - loss: 0.2877 - accuracy: 0.9136\n",
      "Epoch 186/200\n",
      "244/244 - 6s - loss: 0.2702 - accuracy: 0.9149\n",
      "Epoch 187/200\n",
      "244/244 - 6s - loss: 0.2645 - accuracy: 0.9166\n",
      "Epoch 188/200\n",
      "244/244 - 6s - loss: 0.2642 - accuracy: 0.9158\n",
      "Epoch 189/200\n",
      "244/244 - 6s - loss: 0.2636 - accuracy: 0.9145\n",
      "Epoch 190/200\n",
      "244/244 - 6s - loss: 0.2630 - accuracy: 0.9162\n",
      "Epoch 191/200\n",
      "244/244 - 6s - loss: 0.2624 - accuracy: 0.9154\n",
      "Epoch 192/200\n",
      "244/244 - 6s - loss: 0.2624 - accuracy: 0.9157\n",
      "Epoch 193/200\n",
      "244/244 - 7s - loss: 0.2618 - accuracy: 0.9164\n",
      "Epoch 194/200\n",
      "244/244 - 6s - loss: 0.2619 - accuracy: 0.9163\n",
      "Epoch 195/200\n",
      "244/244 - 6s - loss: 0.2614 - accuracy: 0.9175\n",
      "Epoch 196/200\n",
      "244/244 - 6s - loss: 0.2635 - accuracy: 0.9166\n",
      "Epoch 197/200\n",
      "244/244 - 6s - loss: 0.2623 - accuracy: 0.9150\n",
      "Epoch 198/200\n",
      "244/244 - 6s - loss: 0.2615 - accuracy: 0.9170\n",
      "Epoch 199/200\n",
      "244/244 - 6s - loss: 0.2604 - accuracy: 0.9177\n",
      "Epoch 200/200\n",
      "244/244 - 6s - loss: 0.2617 - accuracy: 0.9155\n"
     ]
    },
    {
     "data": {
      "text/plain": [
       "<tensorflow.python.keras.callbacks.History at 0x250b137bf40>"
      ]
     },
     "execution_count": 20,
     "metadata": {},
     "output_type": "execute_result"
    }
   ],
   "source": [
    "model = Sequential()\n",
    "model.add(Embedding(vocab_size, 10, input_length=max_len-1))\n",
    "model.add(LSTM(128))\n",
    "model.add(Dense(vocab_size, activation='softmax'))\n",
    "model.compile(loss='categorical_crossentropy', optimizer='adam', metrics=['accuracy'])\n",
    "model.fit(X,y, epochs=200, verbose=2)"
   ]
  },
  {
   "cell_type": "code",
   "execution_count": 27,
   "metadata": {},
   "outputs": [],
   "source": [
    "def sentence_generation(model, t, current_word, n): # 모델, 토크나이저, 현재 단어, 반복할 횟수\n",
    "    init_word = current_word\n",
    "#     sentence = ''\n",
    "    for _ in range(n):\n",
    "        encoded = t.texts_to_sequences([current_word])[0]\n",
    "        encoded = pad_sequences([encoded], maxlen=23, padding='pre')\n",
    "        result = model.predict_classes(encoded, verbose=0)\n",
    "        \n",
    "        for word, index in t.word_index.items():\n",
    "            if index == result:\n",
    "                break\n",
    "#         print('word', word)\n",
    "        current_word = current_word + ' ' + word\n",
    "#         sentence = sentence + ' ' + word\n",
    "#     sentence = init_word + sentence\n",
    "    return current_word"
   ]
  },
  {
   "cell_type": "code",
   "execution_count": 28,
   "metadata": {},
   "outputs": [
    {
     "name": "stdout",
     "output_type": "stream",
     "text": [
      "i disapprove of school vouchers can i still apply for them\n"
     ]
    }
   ],
   "source": [
    "print(sentence_generation(model, t, 'i', 10))"
   ]
  },
  {
   "cell_type": "code",
   "execution_count": 29,
   "metadata": {},
   "outputs": [
    {
     "name": "stdout",
     "output_type": "stream",
     "text": [
      "how to prevent a racist hoodie is polished the key shows\n"
     ]
    }
   ],
   "source": [
    "print(sentence_generation(model, t, 'how', 10))"
   ]
  }
 ],
 "metadata": {
  "kernelspec": {
   "display_name": "Python 3",
   "language": "python",
   "name": "python3"
  },
  "language_info": {
   "codemirror_mode": {
    "name": "ipython",
    "version": 3
   },
   "file_extension": ".py",
   "mimetype": "text/x-python",
   "name": "python",
   "nbconvert_exporter": "python",
   "pygments_lexer": "ipython3",
   "version": "3.8.5"
  }
 },
 "nbformat": 4,
 "nbformat_minor": 4
}
