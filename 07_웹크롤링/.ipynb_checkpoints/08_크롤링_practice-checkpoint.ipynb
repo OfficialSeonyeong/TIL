{
 "cells": [
  {
   "cell_type": "code",
   "execution_count": 48,
   "metadata": {},
   "outputs": [
    {
     "data": {
      "text/plain": [
       "<selenium.webdriver.chrome.webdriver.WebDriver (session=\"c69e587f71d95b08487de11e4d02398f\")>"
      ]
     },
     "execution_count": 48,
     "metadata": {},
     "output_type": "execute_result"
    }
   ],
   "source": [
    "from selenium import webdriver\n",
    "import time\n",
    "\n",
    "path='./driver/chromedriver.exe'\n",
    "driver = webdriver.Chrome(path)\n",
    "driver"
   ]
  },
  {
   "cell_type": "markdown",
   "metadata": {},
   "source": [
    "- id : contents\n",
    "- class : prList\n",
    "- tag : a"
   ]
  },
  {
   "cell_type": "code",
   "execution_count": 33,
   "metadata": {},
   "outputs": [
    {
     "name": "stdout",
     "output_type": "stream",
     "text": [
      "https://www.ildong.com/kor/product/view.id?prdSeq=2742\n",
      "https://www.ildong.com/kor/product/view.id?prdSeq=2996\n",
      "https://www.ildong.com/kor/product/view.id?prdSeq=3084\n",
      "https://www.ildong.com/kor/product/view.id?prdSeq=3085\n",
      "https://www.ildong.com/kor/product/view.id?prdSeq=3092\n"
     ]
    }
   ],
   "source": [
    "# 단위 테스트 코드\n",
    "url = 'https://www.ildong.com/kor/product/list.id?page=9&halt=&prdDisease=&prdCategory=&searchVal=&searchOption=0'\n",
    "\n",
    "driver.get(url)\n",
    "\n",
    "elements = driver.find_elements_by_css_selector('div.content > div.productBox > div.prCnt > div.prList > ul >li')\n",
    "for element in elements:\n",
    "    link = element.find_element_by_tag_name('a').get_attribute('href')\n",
    "    print(link)\n"
   ]
  },
  {
   "cell_type": "code",
   "execution_count": 25,
   "metadata": {},
   "outputs": [
    {
     "name": "stdout",
     "output_type": "stream",
     "text": [
      "https://admin.ildong.com/upload/2017-09-18/150570291367120922.jpg\n",
      "퍼스트랩 프로바이오틱 크림\n"
     ]
    }
   ],
   "source": [
    "# 개인 연습\n",
    "content = driver.find_element_by_css_selector('div.content')\n",
    "print(content)\n",
    "\n",
    "prList = driver.find_element_by_css_selector('div.content > div.productBox > div.prCnt > div.prList')\n",
    "print(prList)\n",
    "\n",
    "a = driver.find_element_by_css_selector('div.content > div.productBox > div.prCnt > div.prList > ul >li > a')\n",
    "print(a)\n",
    "\n",
    "\n",
    "\n",
    "a = driver.find_element_by_css_selector('div.content > div.productBox > div.prCnt > div.prList > ul >li > a > span.img > img')\n",
    "print(a.get_attribute('src'))\n",
    "\n",
    "b = driver.find_element_by_css_selector('div.content > div.productBox > div.prCnt > div.prList > ul >li > a > dl > dt')\n",
    "print(b.text)"
   ]
  },
  {
   "cell_type": "code",
   "execution_count": 49,
   "metadata": {},
   "outputs": [
    {
     "name": "stdout",
     "output_type": "stream",
     "text": [
      "72\n"
     ]
    }
   ],
   "source": [
    "details_list = []\n",
    "\n",
    "for page in range(1,9):\n",
    "    url = 'https://www.ildong.com/kor/product/list.id?page='+str(page)+'&halt=&prdDisease=&prdCategory=&searchVal=&searchOption=0'\n",
    "    driver.get(url)\n",
    "    \n",
    "    prList = driver.find_element_by_class_name('prList')\n",
    "    a_tag = prList.find_elements_by_tag_name('a')\n",
    "    # print(a_tag)\n",
    "    for idx in range(0,9):\n",
    "        a_tag[idx].click()\n",
    "        detail = driver.find_element_by_class_name('detailCnt2')\n",
    "        # print(detail.text)\n",
    "        details_list.append(detail.text)\n",
    "        driver.back()\n",
    "        prList = driver.find_element_by_class_name('prList')\n",
    "        a_tag = prList.find_elements_by_tag_name('a')\n",
    "        time.sleep(5)\n",
    "            \n",
    "print(len(details_list))\n"
   ]
  },
  {
   "cell_type": "markdown",
   "metadata": {},
   "source": [
    "### 크롤링 개인 실습"
   ]
  },
  {
   "cell_type": "code",
   "execution_count": 50,
   "metadata": {},
   "outputs": [
    {
     "data": {
      "text/plain": [
       "<selenium.webdriver.chrome.webdriver.WebDriver (session=\"5b66103511e0fb07ef33cc4aa151d930\")>"
      ]
     },
     "execution_count": 50,
     "metadata": {},
     "output_type": "execute_result"
    }
   ],
   "source": [
    "from selenium import webdriver\n",
    "import time\n",
    "\n",
    "path='./driver/chromedriver.exe'\n",
    "driver = webdriver.Chrome(path)\n",
    "driver"
   ]
  },
  {
   "cell_type": "code",
   "execution_count": 63,
   "metadata": {},
   "outputs": [],
   "source": [
    "url = 'http://www.yes24.com/Main/default.aspx'\n",
    "driver.get(url)"
   ]
  },
  {
   "cell_type": "code",
   "execution_count": 64,
   "metadata": {},
   "outputs": [],
   "source": [
    "nowbook = driver.find_element_by_id('yWelMid')\n",
    "nbBtn = nowbook.find_element_by_css_selector('div.yWelNowBook > h2 > a')\n",
    "nbBtn.click()"
   ]
  },
  {
   "cell_type": "code",
   "execution_count": 80,
   "metadata": {
    "collapsed": true
   },
   "outputs": [
    {
     "name": "stdout",
     "output_type": "stream",
     "text": [
      "존리의 금융문맹 탈출\n",
      "14,400원(10% 할인)\n",
      "터틀 트레이딩\n",
      "14,400원(10% 할인)\n",
      "설민석의 한국사 대모험 15\n",
      "10,800원(10% 할인)\n",
      "흔한남매 6\n",
      "10,800원(10% 할인)\n",
      "폴리매스\n",
      "16,920원(10% 할인)\n",
      "극락왕생 1\n",
      "10,800원(10% 할인)\n",
      "코믹 인소의 법칙 2 한정판\n",
      "22,500원(10% 할인)\n",
      "대재앙 시대 생존 전략\n",
      "14,400원(10% 할인)\n",
      "2020 김승옥문학상 수상작품집\n",
      "9,000원(10% 할인)\n",
      "노자가 옳았다\n",
      "24,300원(10% 할인)\n",
      "\n",
      "\n",
      "\n",
      "\n",
      "\n",
      "\n",
      "\n",
      "\n",
      "\n",
      "\n",
      "\n",
      "\n",
      "\n",
      "\n",
      "\n",
      "\n",
      "\n",
      "\n",
      "\n",
      "\n",
      "\n",
      "\n",
      "\n",
      "\n",
      "\n",
      "\n",
      "\n",
      "\n",
      "\n",
      "\n",
      "\n",
      "\n",
      "\n",
      "\n",
      "\n",
      "\n",
      "\n",
      "\n",
      "\n",
      "\n",
      "\n",
      "\n",
      "\n",
      "\n",
      "\n",
      "\n",
      "\n",
      "\n",
      "\n",
      "\n",
      "\n",
      "\n",
      "\n",
      "\n",
      "\n",
      "\n",
      "\n",
      "\n",
      "\n",
      "\n",
      "\n",
      "\n",
      "\n",
      "\n",
      "바흐: 크리스마스 오라토리오 - 하이라이트 (Bach: Christmas Oratorio - Highlight) - Philippe Herreweghe\n",
      "20,400원\n",
      "훈스네스: 카바티나 1 - 7번 & 피아노 소나타 1번 (Hundsnes: Hundsnes: Clavinatas Nos.1 - 7 & Piano Sonatas No.1)(CD) - Laura Mikkola\n",
      "28,500원\n",
      "Teresa Teng (등려군) - 중국어 명곡 3집 [LP]\n",
      "143,000원(19% 할인)\n",
      "Lothar And The Hand People - Come Along: The Exodus 1966 (White Vinyl LP)\n",
      "56,800원\n",
      "Mojo Buford - Mojo Workin' (LP)\n",
      "56,800원\n",
      "Ozric Tentacles - Curious Corn (Remastered)(180G)(Purple Vinyl)(LP)\n",
      "49,900원\n",
      "Tony Joe White (토니 조 화이트) - 베스트 앨범 Collected [2LP]\n",
      "49,200원(19% 할인)\n",
      "Lynyrd Skynyrd (레너드 스키너드) - Collected [2LP]\n",
      "46,500원(19% 할인)\n",
      "Swervedriver (스워브드라이버) - Ejector Seat Reservation [실버 & 블랙 믹스 컬러 2LP]\n",
      "42,600원(19% 할인)\n",
      "German Hornsound 호른 사중주 작품집 - 헨델 / 페르골레지 / 드보르작 / 브루크너 / 피아졸라 외 (#hornlikes - Horn Quartets)\n",
      "22,600원(19% 할인)\n",
      "\n",
      "\n",
      "\n",
      "\n",
      "\n",
      "\n",
      "\n",
      "\n",
      "\n",
      "\n",
      "\n",
      "\n",
      "\n",
      "\n",
      "\n",
      "\n",
      "\n",
      "\n",
      "\n",
      "\n"
     ]
    },
    {
     "ename": "NoSuchElementException",
     "evalue": "Message: no such element: Unable to locate element: {\"method\":\"css selector\",\"selector\":\"div.goods_info > p.goods_name > a\"}\n  (Session info: chrome=86.0.4240.75)\n",
     "output_type": "error",
     "traceback": [
      "\u001b[1;31m---------------------------------------------------------------------------\u001b[0m",
      "\u001b[1;31mNoSuchElementException\u001b[0m                    Traceback (most recent call last)",
      "\u001b[1;32m<ipython-input-80-90a6926c286a>\u001b[0m in \u001b[0;36m<module>\u001b[1;34m\u001b[0m\n\u001b[0;32m      2\u001b[0m \u001b[1;33m\u001b[0m\u001b[0m\n\u001b[0;32m      3\u001b[0m \u001b[1;32mfor\u001b[0m \u001b[0mbook\u001b[0m \u001b[1;32min\u001b[0m \u001b[0mbooks\u001b[0m\u001b[1;33m:\u001b[0m\u001b[1;33m\u001b[0m\u001b[1;33m\u001b[0m\u001b[0m\n\u001b[1;32m----> 4\u001b[1;33m     \u001b[0ma\u001b[0m \u001b[1;33m=\u001b[0m \u001b[0mbook\u001b[0m\u001b[1;33m.\u001b[0m\u001b[0mfind_element_by_css_selector\u001b[0m\u001b[1;33m(\u001b[0m\u001b[1;34m'div.goods_info > p.goods_name > a'\u001b[0m\u001b[1;33m)\u001b[0m\u001b[1;33m\u001b[0m\u001b[1;33m\u001b[0m\u001b[0m\n\u001b[0m\u001b[0;32m      5\u001b[0m     \u001b[0mtitle\u001b[0m \u001b[1;33m=\u001b[0m \u001b[0ma\u001b[0m\u001b[1;33m.\u001b[0m\u001b[0mtext\u001b[0m\u001b[1;33m\u001b[0m\u001b[1;33m\u001b[0m\u001b[0m\n\u001b[0;32m      6\u001b[0m     \u001b[0mprint\u001b[0m\u001b[1;33m(\u001b[0m\u001b[0mtitle\u001b[0m\u001b[1;33m)\u001b[0m\u001b[1;33m\u001b[0m\u001b[1;33m\u001b[0m\u001b[0m\n",
      "\u001b[1;32m~\\anaconda3\\lib\\site-packages\\selenium\\webdriver\\remote\\webelement.py\u001b[0m in \u001b[0;36mfind_element_by_css_selector\u001b[1;34m(self, css_selector)\u001b[0m\n\u001b[0;32m    428\u001b[0m             \u001b[0melement\u001b[0m \u001b[1;33m=\u001b[0m \u001b[0melement\u001b[0m\u001b[1;33m.\u001b[0m\u001b[0mfind_element_by_css_selector\u001b[0m\u001b[1;33m(\u001b[0m\u001b[1;34m'#foo'\u001b[0m\u001b[1;33m)\u001b[0m\u001b[1;33m\u001b[0m\u001b[1;33m\u001b[0m\u001b[0m\n\u001b[0;32m    429\u001b[0m         \"\"\"\n\u001b[1;32m--> 430\u001b[1;33m         \u001b[1;32mreturn\u001b[0m \u001b[0mself\u001b[0m\u001b[1;33m.\u001b[0m\u001b[0mfind_element\u001b[0m\u001b[1;33m(\u001b[0m\u001b[0mby\u001b[0m\u001b[1;33m=\u001b[0m\u001b[0mBy\u001b[0m\u001b[1;33m.\u001b[0m\u001b[0mCSS_SELECTOR\u001b[0m\u001b[1;33m,\u001b[0m \u001b[0mvalue\u001b[0m\u001b[1;33m=\u001b[0m\u001b[0mcss_selector\u001b[0m\u001b[1;33m)\u001b[0m\u001b[1;33m\u001b[0m\u001b[1;33m\u001b[0m\u001b[0m\n\u001b[0m\u001b[0;32m    431\u001b[0m \u001b[1;33m\u001b[0m\u001b[0m\n\u001b[0;32m    432\u001b[0m     \u001b[1;32mdef\u001b[0m \u001b[0mfind_elements_by_css_selector\u001b[0m\u001b[1;33m(\u001b[0m\u001b[0mself\u001b[0m\u001b[1;33m,\u001b[0m \u001b[0mcss_selector\u001b[0m\u001b[1;33m)\u001b[0m\u001b[1;33m:\u001b[0m\u001b[1;33m\u001b[0m\u001b[1;33m\u001b[0m\u001b[0m\n",
      "\u001b[1;32m~\\anaconda3\\lib\\site-packages\\selenium\\webdriver\\remote\\webelement.py\u001b[0m in \u001b[0;36mfind_element\u001b[1;34m(self, by, value)\u001b[0m\n\u001b[0;32m    657\u001b[0m \u001b[1;33m\u001b[0m\u001b[0m\n\u001b[0;32m    658\u001b[0m         return self._execute(Command.FIND_CHILD_ELEMENT,\n\u001b[1;32m--> 659\u001b[1;33m                              {\"using\": by, \"value\": value})['value']\n\u001b[0m\u001b[0;32m    660\u001b[0m \u001b[1;33m\u001b[0m\u001b[0m\n\u001b[0;32m    661\u001b[0m     \u001b[1;32mdef\u001b[0m \u001b[0mfind_elements\u001b[0m\u001b[1;33m(\u001b[0m\u001b[0mself\u001b[0m\u001b[1;33m,\u001b[0m \u001b[0mby\u001b[0m\u001b[1;33m=\u001b[0m\u001b[0mBy\u001b[0m\u001b[1;33m.\u001b[0m\u001b[0mID\u001b[0m\u001b[1;33m,\u001b[0m \u001b[0mvalue\u001b[0m\u001b[1;33m=\u001b[0m\u001b[1;32mNone\u001b[0m\u001b[1;33m)\u001b[0m\u001b[1;33m:\u001b[0m\u001b[1;33m\u001b[0m\u001b[1;33m\u001b[0m\u001b[0m\n",
      "\u001b[1;32m~\\anaconda3\\lib\\site-packages\\selenium\\webdriver\\remote\\webelement.py\u001b[0m in \u001b[0;36m_execute\u001b[1;34m(self, command, params)\u001b[0m\n\u001b[0;32m    631\u001b[0m             \u001b[0mparams\u001b[0m \u001b[1;33m=\u001b[0m \u001b[1;33m{\u001b[0m\u001b[1;33m}\u001b[0m\u001b[1;33m\u001b[0m\u001b[1;33m\u001b[0m\u001b[0m\n\u001b[0;32m    632\u001b[0m         \u001b[0mparams\u001b[0m\u001b[1;33m[\u001b[0m\u001b[1;34m'id'\u001b[0m\u001b[1;33m]\u001b[0m \u001b[1;33m=\u001b[0m \u001b[0mself\u001b[0m\u001b[1;33m.\u001b[0m\u001b[0m_id\u001b[0m\u001b[1;33m\u001b[0m\u001b[1;33m\u001b[0m\u001b[0m\n\u001b[1;32m--> 633\u001b[1;33m         \u001b[1;32mreturn\u001b[0m \u001b[0mself\u001b[0m\u001b[1;33m.\u001b[0m\u001b[0m_parent\u001b[0m\u001b[1;33m.\u001b[0m\u001b[0mexecute\u001b[0m\u001b[1;33m(\u001b[0m\u001b[0mcommand\u001b[0m\u001b[1;33m,\u001b[0m \u001b[0mparams\u001b[0m\u001b[1;33m)\u001b[0m\u001b[1;33m\u001b[0m\u001b[1;33m\u001b[0m\u001b[0m\n\u001b[0m\u001b[0;32m    634\u001b[0m \u001b[1;33m\u001b[0m\u001b[0m\n\u001b[0;32m    635\u001b[0m     \u001b[1;32mdef\u001b[0m \u001b[0mfind_element\u001b[0m\u001b[1;33m(\u001b[0m\u001b[0mself\u001b[0m\u001b[1;33m,\u001b[0m \u001b[0mby\u001b[0m\u001b[1;33m=\u001b[0m\u001b[0mBy\u001b[0m\u001b[1;33m.\u001b[0m\u001b[0mID\u001b[0m\u001b[1;33m,\u001b[0m \u001b[0mvalue\u001b[0m\u001b[1;33m=\u001b[0m\u001b[1;32mNone\u001b[0m\u001b[1;33m)\u001b[0m\u001b[1;33m:\u001b[0m\u001b[1;33m\u001b[0m\u001b[1;33m\u001b[0m\u001b[0m\n",
      "\u001b[1;32m~\\anaconda3\\lib\\site-packages\\selenium\\webdriver\\remote\\webdriver.py\u001b[0m in \u001b[0;36mexecute\u001b[1;34m(self, driver_command, params)\u001b[0m\n\u001b[0;32m    319\u001b[0m         \u001b[0mresponse\u001b[0m \u001b[1;33m=\u001b[0m \u001b[0mself\u001b[0m\u001b[1;33m.\u001b[0m\u001b[0mcommand_executor\u001b[0m\u001b[1;33m.\u001b[0m\u001b[0mexecute\u001b[0m\u001b[1;33m(\u001b[0m\u001b[0mdriver_command\u001b[0m\u001b[1;33m,\u001b[0m \u001b[0mparams\u001b[0m\u001b[1;33m)\u001b[0m\u001b[1;33m\u001b[0m\u001b[1;33m\u001b[0m\u001b[0m\n\u001b[0;32m    320\u001b[0m         \u001b[1;32mif\u001b[0m \u001b[0mresponse\u001b[0m\u001b[1;33m:\u001b[0m\u001b[1;33m\u001b[0m\u001b[1;33m\u001b[0m\u001b[0m\n\u001b[1;32m--> 321\u001b[1;33m             \u001b[0mself\u001b[0m\u001b[1;33m.\u001b[0m\u001b[0merror_handler\u001b[0m\u001b[1;33m.\u001b[0m\u001b[0mcheck_response\u001b[0m\u001b[1;33m(\u001b[0m\u001b[0mresponse\u001b[0m\u001b[1;33m)\u001b[0m\u001b[1;33m\u001b[0m\u001b[1;33m\u001b[0m\u001b[0m\n\u001b[0m\u001b[0;32m    322\u001b[0m             response['value'] = self._unwrap_value(\n\u001b[0;32m    323\u001b[0m                 response.get('value', None))\n",
      "\u001b[1;32m~\\anaconda3\\lib\\site-packages\\selenium\\webdriver\\remote\\errorhandler.py\u001b[0m in \u001b[0;36mcheck_response\u001b[1;34m(self, response)\u001b[0m\n\u001b[0;32m    240\u001b[0m                 \u001b[0malert_text\u001b[0m \u001b[1;33m=\u001b[0m \u001b[0mvalue\u001b[0m\u001b[1;33m[\u001b[0m\u001b[1;34m'alert'\u001b[0m\u001b[1;33m]\u001b[0m\u001b[1;33m.\u001b[0m\u001b[0mget\u001b[0m\u001b[1;33m(\u001b[0m\u001b[1;34m'text'\u001b[0m\u001b[1;33m)\u001b[0m\u001b[1;33m\u001b[0m\u001b[1;33m\u001b[0m\u001b[0m\n\u001b[0;32m    241\u001b[0m             \u001b[1;32mraise\u001b[0m \u001b[0mexception_class\u001b[0m\u001b[1;33m(\u001b[0m\u001b[0mmessage\u001b[0m\u001b[1;33m,\u001b[0m \u001b[0mscreen\u001b[0m\u001b[1;33m,\u001b[0m \u001b[0mstacktrace\u001b[0m\u001b[1;33m,\u001b[0m \u001b[0malert_text\u001b[0m\u001b[1;33m)\u001b[0m\u001b[1;33m\u001b[0m\u001b[1;33m\u001b[0m\u001b[0m\n\u001b[1;32m--> 242\u001b[1;33m         \u001b[1;32mraise\u001b[0m \u001b[0mexception_class\u001b[0m\u001b[1;33m(\u001b[0m\u001b[0mmessage\u001b[0m\u001b[1;33m,\u001b[0m \u001b[0mscreen\u001b[0m\u001b[1;33m,\u001b[0m \u001b[0mstacktrace\u001b[0m\u001b[1;33m)\u001b[0m\u001b[1;33m\u001b[0m\u001b[1;33m\u001b[0m\u001b[0m\n\u001b[0m\u001b[0;32m    243\u001b[0m \u001b[1;33m\u001b[0m\u001b[0m\n\u001b[0;32m    244\u001b[0m     \u001b[1;32mdef\u001b[0m \u001b[0m_value_or_default\u001b[0m\u001b[1;33m(\u001b[0m\u001b[0mself\u001b[0m\u001b[1;33m,\u001b[0m \u001b[0mobj\u001b[0m\u001b[1;33m,\u001b[0m \u001b[0mkey\u001b[0m\u001b[1;33m,\u001b[0m \u001b[0mdefault\u001b[0m\u001b[1;33m)\u001b[0m\u001b[1;33m:\u001b[0m\u001b[1;33m\u001b[0m\u001b[1;33m\u001b[0m\u001b[0m\n",
      "\u001b[1;31mNoSuchElementException\u001b[0m: Message: no such element: Unable to locate element: {\"method\":\"css selector\",\"selector\":\"div.goods_info > p.goods_name > a\"}\n  (Session info: chrome=86.0.4240.75)\n"
     ]
    }
   ],
   "source": [
    "books = driver.find_elements_by_css_selector('div.newGoodsListArea > ul.clearfix > li')\n",
    "\n",
    "for book in books:\n",
    "    a = book.find_element_by_css_selector('div.goods_info > p.goods_name > a')\n",
    "    title = a.text\n",
    "    print(title)\n",
    "    b = book.find_element_by_css_selector('div.goods_info > p.goods_price')\n",
    "    price = b.text\n",
    "    print(price)"
   ]
  },
  {
   "cell_type": "code",
   "execution_count": 110,
   "metadata": {
    "scrolled": true
   },
   "outputs": [],
   "source": [
    "books = driver.find_element_by_css_selector('div.newGoodsListArea')\n",
    "books = books.find_element_by_id('topBooksUl_001')\n",
    "books = books.find_elements_by_tag_name('li')\n",
    "\n",
    "title_list = []\n",
    "price_list = []\n",
    "\n",
    "for book in books:\n",
    "    a = book.find_element_by_css_selector('div.goods_info > p.goods_name > a')\n",
    "    title = a.text  \n",
    "    b = book.find_element_by_css_selector('div.goods_info > p.goods_price')\n",
    "    price = b.text\n",
    "    \n",
    "    if title and price !='':\n",
    "        title_list.append(title)\n",
    "        price_list.append(price)"
   ]
  },
  {
   "cell_type": "code",
   "execution_count": 111,
   "metadata": {},
   "outputs": [],
   "source": [
    "nextBtn = driver.find_element_by_id('tabTotalBookNewCon001')\n",
    "Btn = nextBtn.find_elements_by_css_selector('div.subTitArea > div.subPagen > div.btn_pagen > a')\n",
    "driver.execute_script(Btn[1].get_attribute('href'))"
   ]
  },
  {
   "cell_type": "code",
   "execution_count": 112,
   "metadata": {},
   "outputs": [],
   "source": [
    "books = driver.find_element_by_css_selector('div.newGoodsListArea')\n",
    "books = books.find_element_by_id('topBooksUl_001')\n",
    "books = books.find_elements_by_tag_name('li')\n",
    "\n",
    "for book in books:\n",
    "    a = book.find_element_by_css_selector('div.goods_info > p.goods_name > a')\n",
    "    title = a.text  \n",
    "    b = book.find_element_by_css_selector('div.goods_info > p.goods_price')\n",
    "    price = b.text\n",
    "    \n",
    "    if title and price !='':\n",
    "        title_list.append(title)\n",
    "        price_list.append(price)"
   ]
  },
  {
   "cell_type": "code",
   "execution_count": 113,
   "metadata": {},
   "outputs": [
    {
     "name": "stdout",
     "output_type": "stream",
     "text": [
      "['파이아키아, 이야기가 남았다', '돈의 비밀', '어떻게 말해줘야 할까', '도서정가제가 없어지면 우리가 읽고 싶은 책이 사라집니다', '이네의 교실', '부와 투자의 비밀', '가만히 부르는 이름', '주식투자가 뭐예요?', '데스마치에서 시작되는 이세계 광상곡 20', '친구 여동생이 나한테만 짜증나게 군다 2', '존리의 금융문맹 탈출', '터틀 트레이딩', '설민석의 한국사 대모험 15', '흔한남매 6', '폴리매스', '극락왕생 1', '코믹 인소의 법칙 2 한정판', '대재앙 시대 생존 전략', '2020 김승옥문학상 수상작품집', '노자가 옳았다']\n",
      "['38,700원(10% 할인)', '15,300원(10% 할인)', '15,750원(10% 할인)', '2,000원', '10,800원(10% 할인)', '14,400원(10% 할인)', '12,600원(10% 할인)', '17,100원(10% 할인)', '8,100원(10% 할인)', '7,020원(10% 할인)', '14,400원(10% 할인)', '14,400원(10% 할인)', '10,800원(10% 할인)', '10,800원(10% 할인)', '16,920원(10% 할인)', '10,800원(10% 할인)', '22,500원(10% 할인)', '14,400원(10% 할인)', '9,000원(10% 할인)', '24,300원(10% 할인)']\n"
     ]
    }
   ],
   "source": [
    "print(title_list)\n",
    "print(price_list)"
   ]
  },
  {
   "cell_type": "code",
   "execution_count": 114,
   "metadata": {},
   "outputs": [
    {
     "data": {
      "text/html": [
       "<div>\n",
       "<style scoped>\n",
       "    .dataframe tbody tr th:only-of-type {\n",
       "        vertical-align: middle;\n",
       "    }\n",
       "\n",
       "    .dataframe tbody tr th {\n",
       "        vertical-align: top;\n",
       "    }\n",
       "\n",
       "    .dataframe thead th {\n",
       "        text-align: right;\n",
       "    }\n",
       "</style>\n",
       "<table border=\"1\" class=\"dataframe\">\n",
       "  <thead>\n",
       "    <tr style=\"text-align: right;\">\n",
       "      <th></th>\n",
       "      <th>title</th>\n",
       "      <th>price</th>\n",
       "    </tr>\n",
       "  </thead>\n",
       "  <tbody>\n",
       "    <tr>\n",
       "      <th>0</th>\n",
       "      <td>파이아키아, 이야기가 남았다</td>\n",
       "      <td>38,700원(10% 할인)</td>\n",
       "    </tr>\n",
       "    <tr>\n",
       "      <th>1</th>\n",
       "      <td>돈의 비밀</td>\n",
       "      <td>15,300원(10% 할인)</td>\n",
       "    </tr>\n",
       "    <tr>\n",
       "      <th>2</th>\n",
       "      <td>어떻게 말해줘야 할까</td>\n",
       "      <td>15,750원(10% 할인)</td>\n",
       "    </tr>\n",
       "    <tr>\n",
       "      <th>3</th>\n",
       "      <td>도서정가제가 없어지면 우리가 읽고 싶은 책이 사라집니다</td>\n",
       "      <td>2,000원</td>\n",
       "    </tr>\n",
       "    <tr>\n",
       "      <th>4</th>\n",
       "      <td>이네의 교실</td>\n",
       "      <td>10,800원(10% 할인)</td>\n",
       "    </tr>\n",
       "    <tr>\n",
       "      <th>5</th>\n",
       "      <td>부와 투자의 비밀</td>\n",
       "      <td>14,400원(10% 할인)</td>\n",
       "    </tr>\n",
       "    <tr>\n",
       "      <th>6</th>\n",
       "      <td>가만히 부르는 이름</td>\n",
       "      <td>12,600원(10% 할인)</td>\n",
       "    </tr>\n",
       "    <tr>\n",
       "      <th>7</th>\n",
       "      <td>주식투자가 뭐예요?</td>\n",
       "      <td>17,100원(10% 할인)</td>\n",
       "    </tr>\n",
       "    <tr>\n",
       "      <th>8</th>\n",
       "      <td>데스마치에서 시작되는 이세계 광상곡 20</td>\n",
       "      <td>8,100원(10% 할인)</td>\n",
       "    </tr>\n",
       "    <tr>\n",
       "      <th>9</th>\n",
       "      <td>친구 여동생이 나한테만 짜증나게 군다 2</td>\n",
       "      <td>7,020원(10% 할인)</td>\n",
       "    </tr>\n",
       "    <tr>\n",
       "      <th>10</th>\n",
       "      <td>존리의 금융문맹 탈출</td>\n",
       "      <td>14,400원(10% 할인)</td>\n",
       "    </tr>\n",
       "    <tr>\n",
       "      <th>11</th>\n",
       "      <td>터틀 트레이딩</td>\n",
       "      <td>14,400원(10% 할인)</td>\n",
       "    </tr>\n",
       "    <tr>\n",
       "      <th>12</th>\n",
       "      <td>설민석의 한국사 대모험 15</td>\n",
       "      <td>10,800원(10% 할인)</td>\n",
       "    </tr>\n",
       "    <tr>\n",
       "      <th>13</th>\n",
       "      <td>흔한남매 6</td>\n",
       "      <td>10,800원(10% 할인)</td>\n",
       "    </tr>\n",
       "    <tr>\n",
       "      <th>14</th>\n",
       "      <td>폴리매스</td>\n",
       "      <td>16,920원(10% 할인)</td>\n",
       "    </tr>\n",
       "    <tr>\n",
       "      <th>15</th>\n",
       "      <td>극락왕생 1</td>\n",
       "      <td>10,800원(10% 할인)</td>\n",
       "    </tr>\n",
       "    <tr>\n",
       "      <th>16</th>\n",
       "      <td>코믹 인소의 법칙 2 한정판</td>\n",
       "      <td>22,500원(10% 할인)</td>\n",
       "    </tr>\n",
       "    <tr>\n",
       "      <th>17</th>\n",
       "      <td>대재앙 시대 생존 전략</td>\n",
       "      <td>14,400원(10% 할인)</td>\n",
       "    </tr>\n",
       "    <tr>\n",
       "      <th>18</th>\n",
       "      <td>2020 김승옥문학상 수상작품집</td>\n",
       "      <td>9,000원(10% 할인)</td>\n",
       "    </tr>\n",
       "    <tr>\n",
       "      <th>19</th>\n",
       "      <td>노자가 옳았다</td>\n",
       "      <td>24,300원(10% 할인)</td>\n",
       "    </tr>\n",
       "  </tbody>\n",
       "</table>\n",
       "</div>"
      ],
      "text/plain": [
       "                             title            price\n",
       "0                  파이아키아, 이야기가 남았다  38,700원(10% 할인)\n",
       "1                            돈의 비밀  15,300원(10% 할인)\n",
       "2                      어떻게 말해줘야 할까  15,750원(10% 할인)\n",
       "3   도서정가제가 없어지면 우리가 읽고 싶은 책이 사라집니다           2,000원\n",
       "4                           이네의 교실  10,800원(10% 할인)\n",
       "5                        부와 투자의 비밀  14,400원(10% 할인)\n",
       "6                       가만히 부르는 이름  12,600원(10% 할인)\n",
       "7                       주식투자가 뭐예요?  17,100원(10% 할인)\n",
       "8           데스마치에서 시작되는 이세계 광상곡 20   8,100원(10% 할인)\n",
       "9           친구 여동생이 나한테만 짜증나게 군다 2   7,020원(10% 할인)\n",
       "10                     존리의 금융문맹 탈출  14,400원(10% 할인)\n",
       "11                         터틀 트레이딩  14,400원(10% 할인)\n",
       "12                 설민석의 한국사 대모험 15  10,800원(10% 할인)\n",
       "13                          흔한남매 6  10,800원(10% 할인)\n",
       "14                            폴리매스  16,920원(10% 할인)\n",
       "15                          극락왕생 1  10,800원(10% 할인)\n",
       "16                 코믹 인소의 법칙 2 한정판  22,500원(10% 할인)\n",
       "17                    대재앙 시대 생존 전략  14,400원(10% 할인)\n",
       "18               2020 김승옥문학상 수상작품집   9,000원(10% 할인)\n",
       "19                         노자가 옳았다  24,300원(10% 할인)"
      ]
     },
     "execution_count": 114,
     "metadata": {},
     "output_type": "execute_result"
    }
   ],
   "source": [
    "import pandas as pd\n",
    "\n",
    "df = pd.DataFrame({'title': title_list, 'price' : price_list })\n",
    "df\n",
    "df.to_csv()"
   ]
  },
  {
   "cell_type": "code",
   "execution_count": 115,
   "metadata": {},
   "outputs": [],
   "source": [
    "driver.close()"
   ]
  }
 ],
 "metadata": {
  "kernelspec": {
   "display_name": "Python 3",
   "language": "python",
   "name": "python3"
  },
  "language_info": {
   "codemirror_mode": {
    "name": "ipython",
    "version": 3
   },
   "file_extension": ".py",
   "mimetype": "text/x-python",
   "name": "python",
   "nbconvert_exporter": "python",
   "pygments_lexer": "ipython3",
   "version": "3.7.6"
  }
 },
 "nbformat": 4,
 "nbformat_minor": 4
}
