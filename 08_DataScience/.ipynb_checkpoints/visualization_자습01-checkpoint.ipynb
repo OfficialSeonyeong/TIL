{
 "cells": [
  {
   "cell_type": "markdown",
   "metadata": {},
   "source": [
    "### 6장 19대 대선 결과 분석"
   ]
  },
  {
   "cell_type": "code",
   "execution_count": 5,
   "metadata": {},
   "outputs": [],
   "source": [
    "import pandas as pd\n",
    "import numpy as np\n",
    "import matplotlib as mpl\n",
    "import matplotlib.pyplot as plt\n",
    "%matplotlib inline"
   ]
  },
  {
   "cell_type": "code",
   "execution_count": 2,
   "metadata": {},
   "outputs": [],
   "source": [
    "# 한글 폰트 문제 해결\n",
    "import platform\n",
    "\n",
    "from matplotlib import font_manager, rc\n",
    "# plt.rcParams['axes.unicode_minus'] = False\n",
    "\n",
    "if platform.system() == 'Darwin':\n",
    "    rc('font', family='AppleGothic')\n",
    "elif platform.system() == 'Windows':\n",
    "    path = \"c:/Windows/Fonts/malgun.ttf\"\n",
    "    font_name = font_manager.FontProperties(fname=path).get_name()\n",
    "    rc('font', family=font_name)\n",
    "else:\n",
    "    print('Unknown system... sorry~~~~') "
   ]
  },
  {
   "cell_type": "code",
   "execution_count": 3,
   "metadata": {},
   "outputs": [],
   "source": [
    "# 그래프에 마이너스 표시 나오게\n",
    "import matplotlib\n",
    "matplotlib.rcParams['axes.unicode_minus']=False"
   ]
  },
  {
   "cell_type": "code",
   "execution_count": 4,
   "metadata": {},
   "outputs": [],
   "source": [
    "# 경고 표시 생략\n",
    "import warnings\n",
    "warnings.filterwarnings(action='ignore') "
   ]
  },
  {
   "cell_type": "code",
   "execution_count": 6,
   "metadata": {},
   "outputs": [],
   "source": [
    "from selenium import webdriver\n",
    "import time"
   ]
  },
  {
   "cell_type": "code",
   "execution_count": 9,
   "metadata": {},
   "outputs": [],
   "source": [
    "path='C:/Users/A/TIL/07_웹크롤링/driver/chromedriver.exe'\n",
    "driver = webdriver.Chrome(path)\n",
    "driver.get('http://info.nec.go.kr/')"
   ]
  },
  {
   "cell_type": "code",
   "execution_count": 10,
   "metadata": {},
   "outputs": [],
   "source": [
    "driver.switch_to_default_content()\n",
    "driver.switch_to_frame('main')"
   ]
  },
  {
   "cell_type": "code",
   "execution_count": 12,
   "metadata": {},
   "outputs": [],
   "source": [
    "driver.find_element_by_xpath(\"\"\"//*[@id='topmenu']/ul/li[3]/a/span\"\"\").click()"
   ]
  },
  {
   "cell_type": "code",
   "execution_count": 13,
   "metadata": {},
   "outputs": [],
   "source": [
    "make_xpath = \"\"\"//*[contains(text(), '개표단위별 개표결과')]\"\"\"\n",
    "driver.find_elements_by_xpath(make_xpath)[1].click()"
   ]
  },
  {
   "cell_type": "code",
   "execution_count": 14,
   "metadata": {},
   "outputs": [],
   "source": [
    "driver.find_element_by_xpath(\"\"\"//*[@id='electionId2']\"\"\").click()"
   ]
  },
  {
   "cell_type": "code",
   "execution_count": 20,
   "metadata": {},
   "outputs": [
    {
     "data": {
      "text/plain": [
       "['서울특별시',\n",
       " '부산광역시',\n",
       " '대구광역시',\n",
       " '인천광역시',\n",
       " '광주광역시',\n",
       " '대전광역시',\n",
       " '울산광역시',\n",
       " '세종특별자치시',\n",
       " '경기도',\n",
       " '강원도',\n",
       " '충청북도',\n",
       " '충청남도',\n",
       " '전라북도',\n",
       " '전라남도',\n",
       " '경상북도',\n",
       " '경상남도',\n",
       " '제주특별자치도']"
      ]
     },
     "execution_count": 20,
     "metadata": {},
     "output_type": "execute_result"
    }
   ],
   "source": [
    "sido_list_raw = driver.find_element_by_xpath(\"\"\"//*[@id='cityCode']\"\"\")\n",
    "sido_list = sido_list_raw.find_elements_by_tag_name(\"option\")\n",
    "sido_names_values = [option.text for option in sido_list]\n",
    "sido_names_values = sido_names_values[1:]\n",
    "sido_names_values"
   ]
  },
  {
   "cell_type": "code",
   "execution_count": 21,
   "metadata": {},
   "outputs": [],
   "source": [
    "element = driver.find_element_by_id('cityCode')\n",
    "element.send_keys(sido_names_values[0])"
   ]
  },
  {
   "cell_type": "code",
   "execution_count": 23,
   "metadata": {},
   "outputs": [
    {
     "data": {
      "text/plain": [
       "['종로구',\n",
       " '중구성동구갑',\n",
       " '중구성동구을',\n",
       " '용산구',\n",
       " '광진구갑',\n",
       " '광진구을',\n",
       " '동대문구갑',\n",
       " '동대문구을',\n",
       " '중랑구갑',\n",
       " '중랑구을',\n",
       " '성북구갑',\n",
       " '성북구을',\n",
       " '강북구갑',\n",
       " '강북구을',\n",
       " '도봉구갑',\n",
       " '도봉구을',\n",
       " '노원구갑',\n",
       " '노원구을',\n",
       " '노원구병',\n",
       " '은평구갑',\n",
       " '은평구을',\n",
       " '서대문구갑',\n",
       " '서대문구을',\n",
       " '마포구갑',\n",
       " '마포구을',\n",
       " '양천구갑',\n",
       " '양천구을',\n",
       " '강서구갑',\n",
       " '강서구을',\n",
       " '강서구병',\n",
       " '구로구갑',\n",
       " '구로구을',\n",
       " '금천구',\n",
       " '영등포구갑',\n",
       " '영등포구을',\n",
       " '동작구갑',\n",
       " '동작구을',\n",
       " '관악구갑',\n",
       " '관악구을',\n",
       " '서초구갑',\n",
       " '서초구을',\n",
       " '강남구갑',\n",
       " '강남구을',\n",
       " '강남구병',\n",
       " '송파구갑',\n",
       " '송파구을',\n",
       " '송파구병',\n",
       " '강동구갑',\n",
       " '강동구을']"
      ]
     },
     "execution_count": 23,
     "metadata": {},
     "output_type": "execute_result"
    }
   ],
   "source": [
    "sigun_list_raw = driver.find_element_by_xpath(\"\"\"//*[@id='sggCityCode']\"\"\")\n",
    "sigun_list = sigun_list_raw.find_elements_by_tag_name(\"option\")\n",
    "sigun_names_values = [option.text for option in sigun_list]\n",
    "sigun_names_values = sigun_names_values[1:]\n",
    "sigun_names_values"
   ]
  },
  {
   "cell_type": "code",
   "execution_count": 24,
   "metadata": {},
   "outputs": [],
   "source": [
    "element = driver.find_element_by_id('sggCityCode')\n",
    "element.send_keys(sigun_names_values[0])"
   ]
  },
  {
   "cell_type": "code",
   "execution_count": 25,
   "metadata": {},
   "outputs": [
    {
     "data": {
      "text/plain": [
       "['종로구']"
      ]
     },
     "execution_count": 25,
     "metadata": {},
     "output_type": "execute_result"
    }
   ],
   "source": [
    "town_list_raw = driver.find_element_by_xpath(\"\"\"//*[@id='townCodeFromSgg']\"\"\")\n",
    "town_list = town_list_raw.find_elements_by_tag_name(\"option\")\n",
    "town_names_values = [option.text for option in town_list]\n",
    "town_names_values = town_names_values[1:]\n",
    "town_names_values"
   ]
  },
  {
   "cell_type": "code",
   "execution_count": 27,
   "metadata": {},
   "outputs": [],
   "source": [
    "element = driver.find_element_by_id('townCodeFromSgg')\n",
    "element.send_keys(town_names_values[0])"
   ]
  },
  {
   "cell_type": "code",
   "execution_count": 28,
   "metadata": {},
   "outputs": [],
   "source": [
    "driver.find_element_by_xpath(\"\"\"//*[@id='spanSubmit']/input\"\"\").click()"
   ]
  },
  {
   "cell_type": "code",
   "execution_count": 29,
   "metadata": {},
   "outputs": [],
   "source": [
    "from bs4 import BeautifulSoup\n",
    "\n",
    "html = driver.page_source\n",
    "soup = BeautifulSoup(html, 'html.parser')"
   ]
  },
  {
   "cell_type": "code",
   "execution_count": 30,
   "metadata": {},
   "outputs": [
    {
     "data": {
      "text/plain": [
       "[<td class=\"alignR\">95,239</td>,\n",
       " <td class=\"alignR\">54,902</td>,\n",
       " <td class=\"alignR\">37,594</td>,\n",
       " <td class=\"alignR\">417</td>]"
      ]
     },
     "execution_count": 30,
     "metadata": {},
     "output_type": "execute_result"
    }
   ],
   "source": [
    "tmp = soup.find_all('td','alignR')\n",
    "tmp[1:5]"
   ]
  },
  {
   "cell_type": "code",
   "execution_count": 35,
   "metadata": {},
   "outputs": [
    {
     "data": {
      "application/vnd.jupyter.widget-view+json": {
       "model_id": "218b2a910cd44bd7a681b5b30442f646",
       "version_major": 2,
       "version_minor": 0
      },
      "text/plain": [
       "HBox(children=(FloatProgress(value=0.0, max=17.0), HTML(value='')))"
      ]
     },
     "metadata": {},
     "output_type": "display_data"
    },
    {
     "name": "stdout",
     "output_type": "stream",
     "text": [
      "\n",
      "['서울특별시', '서울특별시', '서울특별시', '서울특별시', '서울특별시', '서울특별시', '서울특별시', '서울특별시', '서울특별시', '서울특별시', '서울특별시', '서울특별시', '서울특별시', '서울특별시', '서울특별시', '서울특별시', '서울특별시', '서울특별시', '서울특별시', '서울특별시', '서울특별시', '서울특별시', '서울특별시', '서울특별시', '서울특별시', '서울특별시', '서울특별시', '서울특별시', '서울특별시', '서울특별시', '서울특별시', '서울특별시', '서울특별시', '서울특별시', '서울특별시', '서울특별시', '서울특별시', '서울특별시', '서울특별시', '서울특별시', '서울특별시', '서울특별시', '서울특별시', '서울특별시', '서울특별시', '서울특별시', '서울특별시', '서울특별시', '서울특별시', '충청북도', '충청북도', '충청북도', '충청북도', '충청북도', '충청북도', '충청북도', '충청북도', '충청북도', '충청북도', '충청북도', '충청북도', '충청북도', '충청북도', '충청북도', '충청북도', '충청북도', '충청북도']\n",
      "['종로구', '중구성동구갑', '중구성동구을', '용산구', '광진구갑', '광진구을', '동대문구갑', '동대문구을', '중랑구갑', '중랑구을', '성북구갑', '성북구을', '강북구갑', '강북구을', '도봉구갑', '도봉구을', '노원구갑', '노원구을', '노원구병', '은평구갑', '은평구을', '서대문구갑', '서대문구을', '마포구갑', '마포구을', '양천구갑', '양천구을', '강서구갑', '강서구을', '강서구병', '구로구갑', '구로구을', '금천구', '영등포구갑', '영등포구을', '동작구갑', '동작구을', '관악구갑', '관악구을', '서초구갑', '서초구을', '강남구갑', '강남구을', '강남구병', '송파구갑', '송파구을', '송파구병', '강동구갑', '강동구을', '해운대구갑', '해운대구갑', '해운대구을', '해운대구을', '사하구갑', '사하구갑', '사하구을', '사하구을', '금정구', '금정구', '연제구', '연제구', '수영구', '수영구', '사상구', '사상구', '기장군', '기장군']\n",
      "['종로구', '종로구', '종로구', '종로구', '종로구', '종로구', '종로구', '종로구', '종로구', '종로구', '종로구', '종로구', '종로구', '종로구', '종로구', '종로구', '종로구', '종로구', '종로구', '종로구', '종로구', '종로구', '종로구', '종로구', '종로구', '종로구', '종로구', '종로구', '종로구', '종로구', '종로구', '종로구', '종로구', '종로구', '종로구', '종로구', '종로구', '종로구', '종로구', '종로구', '종로구', '종로구', '종로구', '종로구', '종로구', '종로구', '종로구', '종로구', '종로구', '중구', '영도구', '중구', '영도구', '중구', '영도구', '중구', '영도구', '중구', '영도구', '중구', '영도구', '중구', '영도구', '중구', '영도구', '중구', '영도구']\n"
     ]
    }
   ],
   "source": [
    "from tqdm import tqdm_notebook\n",
    "\n",
    "sido_name_list =[]\n",
    "sigun_name_list =[]\n",
    "town_name_list =[]\n",
    "\n",
    "for sido_value in tqdm_notebook(sido_names_values):\n",
    "    element = driver.find_element_by_id('cityCode')\n",
    "    element.send_keys(sido_value)\n",
    "    \n",
    "    sigun_list_raw = driver.find_element_by_xpath(\"\"\"//*[@id='sggCityCode']\"\"\")\n",
    "    sigun_list = sigun_list_raw.find_elements_by_tag_name(\"option\")\n",
    "    sigun_names_values = [option.text for option in sigun_list]\n",
    "    sigun_names_values = sigun_names_values[1:]\n",
    "\n",
    "    \n",
    "    \n",
    "    for sigun_value in sigun_names_values:\n",
    "        element2 = driver.find_element_by_id('sggCityCode')\n",
    "        element2.send_keys(sigun_value)\n",
    "        \n",
    "        town_list_raw = driver.find_element_by_xpath(\"\"\"//*[@id='townCodeFromSgg']\"\"\")\n",
    "        town_list = town_list_raw.find_elements_by_tag_name(\"option\")\n",
    "        town_names_values = [option.text for option in town_list]\n",
    "        town_names_values = town_names_values[1:]\n",
    "        \n",
    "        for town_value in town_names_values:\n",
    "            sido_name_list.append(sido_value)\n",
    "            sigun_name_list.append(sigun_value)\n",
    "            town_name_list.append(town_value)\n",
    "            \n",
    "print(sido_name_list)\n",
    "print(sigun_name_list)\n",
    "print(town_name_list)"
   ]
  },
  {
   "cell_type": "code",
   "execution_count": 38,
   "metadata": {},
   "outputs": [
    {
     "data": {
      "text/plain": [
       "{'강남구갑',\n",
       " '강남구병',\n",
       " '강남구을',\n",
       " '강동구갑',\n",
       " '강동구을',\n",
       " '강북구갑',\n",
       " '강북구을',\n",
       " '강서구갑',\n",
       " '강서구병',\n",
       " '강서구을',\n",
       " '관악구갑',\n",
       " '관악구을',\n",
       " '광진구갑',\n",
       " '광진구을',\n",
       " '구로구갑',\n",
       " '구로구을',\n",
       " '금정구',\n",
       " '금천구',\n",
       " '기장군',\n",
       " '노원구갑',\n",
       " '노원구병',\n",
       " '노원구을',\n",
       " '도봉구갑',\n",
       " '도봉구을',\n",
       " '동대문구갑',\n",
       " '동대문구을',\n",
       " '동작구갑',\n",
       " '동작구을',\n",
       " '마포구갑',\n",
       " '마포구을',\n",
       " '사상구',\n",
       " '사하구갑',\n",
       " '사하구을',\n",
       " '서대문구갑',\n",
       " '서대문구을',\n",
       " '서초구갑',\n",
       " '서초구을',\n",
       " '성북구갑',\n",
       " '성북구을',\n",
       " '송파구갑',\n",
       " '송파구병',\n",
       " '송파구을',\n",
       " '수영구',\n",
       " '양천구갑',\n",
       " '양천구을',\n",
       " '연제구',\n",
       " '영등포구갑',\n",
       " '영등포구을',\n",
       " '용산구',\n",
       " '은평구갑',\n",
       " '은평구을',\n",
       " '종로구',\n",
       " '중구성동구갑',\n",
       " '중구성동구을',\n",
       " '중랑구갑',\n",
       " '중랑구을',\n",
       " '해운대구갑',\n",
       " '해운대구을'}"
      ]
     },
     "execution_count": 38,
     "metadata": {},
     "output_type": "execute_result"
    }
   ],
   "source": [
    "set(sigun_name_list)"
   ]
  }
 ],
 "metadata": {
  "kernelspec": {
   "display_name": "Python 3",
   "language": "python",
   "name": "python3"
  },
  "language_info": {
   "codemirror_mode": {
    "name": "ipython",
    "version": 3
   },
   "file_extension": ".py",
   "mimetype": "text/x-python",
   "name": "python",
   "nbconvert_exporter": "python",
   "pygments_lexer": "ipython3",
   "version": "3.7.6"
  }
 },
 "nbformat": 4,
 "nbformat_minor": 4
}
