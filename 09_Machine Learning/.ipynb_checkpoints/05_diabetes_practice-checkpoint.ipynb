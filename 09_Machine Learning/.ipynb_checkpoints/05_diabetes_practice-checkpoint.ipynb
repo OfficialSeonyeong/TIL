{
 "cells": [
  {
   "cell_type": "markdown",
   "metadata": {},
   "source": [
    "#### 학습 목표\n",
    "- 머신 러닝의 분류 모델을 이용해, 여러 가지 평가 지표를 적용\n",
    "- 의학(당뇨병 여부 판단) 관련 데이터이므로, 재현율이 중요"
   ]
  },
  {
   "cell_type": "code",
   "execution_count": 9,
   "metadata": {},
   "outputs": [],
   "source": [
    "from sklearn.tree import DecisionTreeClassifier\n",
    "from sklearn.linear_model import LogisticRegression\n",
    "from sklearn.ensemble import RandomForestClassifier\n",
    "\n",
    "from sklearn.preprocessing import LabelEncoder, OneHotEncoder, StandardScaler, MinMaxScaler, Binarizer\n",
    "from sklearn.model_selection import train_test_split, GridSearchCV\n",
    "\n",
    "from sklearn.metrics import accuracy_score, precision_score, recall_score, f1_score, roc_auc_score\n",
    "from sklearn.metrics import confusion_matrix, precision_recall_curve, roc_curve\n",
    "\n",
    "import pandas as pd\n",
    "import numpy as np\n",
    "import matplotlib.pyplot as plt\n",
    "import seaborn as sns\n",
    "%matplotlib inline\n",
    "\n",
    "import missingno as ns\n",
    "\n",
    "import warnings\n",
    "warnings.filterwarnings('ignore')"
   ]
  },
  {
   "cell_type": "code",
   "execution_count": 12,
   "metadata": {},
   "outputs": [
    {
     "data": {
      "text/html": [
       "<div>\n",
       "<style scoped>\n",
       "    .dataframe tbody tr th:only-of-type {\n",
       "        vertical-align: middle;\n",
       "    }\n",
       "\n",
       "    .dataframe tbody tr th {\n",
       "        vertical-align: top;\n",
       "    }\n",
       "\n",
       "    .dataframe thead th {\n",
       "        text-align: right;\n",
       "    }\n",
       "</style>\n",
       "<table border=\"1\" class=\"dataframe\">\n",
       "  <thead>\n",
       "    <tr style=\"text-align: right;\">\n",
       "      <th></th>\n",
       "      <th>Pregnancies</th>\n",
       "      <th>Glucose</th>\n",
       "      <th>BloodPressure</th>\n",
       "      <th>SkinThickness</th>\n",
       "      <th>Insulin</th>\n",
       "      <th>BMI</th>\n",
       "      <th>DiabetesPedigreeFunction</th>\n",
       "      <th>Age</th>\n",
       "      <th>Outcome</th>\n",
       "    </tr>\n",
       "  </thead>\n",
       "  <tbody>\n",
       "    <tr>\n",
       "      <th>0</th>\n",
       "      <td>6</td>\n",
       "      <td>148</td>\n",
       "      <td>72</td>\n",
       "      <td>35</td>\n",
       "      <td>0</td>\n",
       "      <td>33.6</td>\n",
       "      <td>0.627</td>\n",
       "      <td>50</td>\n",
       "      <td>1</td>\n",
       "    </tr>\n",
       "    <tr>\n",
       "      <th>1</th>\n",
       "      <td>1</td>\n",
       "      <td>85</td>\n",
       "      <td>66</td>\n",
       "      <td>29</td>\n",
       "      <td>0</td>\n",
       "      <td>26.6</td>\n",
       "      <td>0.351</td>\n",
       "      <td>31</td>\n",
       "      <td>0</td>\n",
       "    </tr>\n",
       "    <tr>\n",
       "      <th>2</th>\n",
       "      <td>8</td>\n",
       "      <td>183</td>\n",
       "      <td>64</td>\n",
       "      <td>0</td>\n",
       "      <td>0</td>\n",
       "      <td>23.3</td>\n",
       "      <td>0.672</td>\n",
       "      <td>32</td>\n",
       "      <td>1</td>\n",
       "    </tr>\n",
       "    <tr>\n",
       "      <th>3</th>\n",
       "      <td>1</td>\n",
       "      <td>89</td>\n",
       "      <td>66</td>\n",
       "      <td>23</td>\n",
       "      <td>94</td>\n",
       "      <td>28.1</td>\n",
       "      <td>0.167</td>\n",
       "      <td>21</td>\n",
       "      <td>0</td>\n",
       "    </tr>\n",
       "    <tr>\n",
       "      <th>4</th>\n",
       "      <td>0</td>\n",
       "      <td>137</td>\n",
       "      <td>40</td>\n",
       "      <td>35</td>\n",
       "      <td>168</td>\n",
       "      <td>43.1</td>\n",
       "      <td>2.288</td>\n",
       "      <td>33</td>\n",
       "      <td>1</td>\n",
       "    </tr>\n",
       "  </tbody>\n",
       "</table>\n",
       "</div>"
      ],
      "text/plain": [
       "   Pregnancies  Glucose  BloodPressure  SkinThickness  Insulin   BMI  \\\n",
       "0            6      148             72             35        0  33.6   \n",
       "1            1       85             66             29        0  26.6   \n",
       "2            8      183             64              0        0  23.3   \n",
       "3            1       89             66             23       94  28.1   \n",
       "4            0      137             40             35      168  43.1   \n",
       "\n",
       "   DiabetesPedigreeFunction  Age  Outcome  \n",
       "0                     0.627   50        1  \n",
       "1                     0.351   31        0  \n",
       "2                     0.672   32        1  \n",
       "3                     0.167   21        0  \n",
       "4                     2.288   33        1  "
      ]
     },
     "execution_count": 12,
     "metadata": {},
     "output_type": "execute_result"
    }
   ],
   "source": [
    "diabetes_df = pd.read_csv('./data/diabetes.csv')\n",
    "diabetes_df.head()"
   ]
  },
  {
   "cell_type": "code",
   "execution_count": 13,
   "metadata": {},
   "outputs": [
    {
     "name": "stdout",
     "output_type": "stream",
     "text": [
      "<class 'pandas.core.frame.DataFrame'>\n",
      "RangeIndex: 768 entries, 0 to 767\n",
      "Data columns (total 9 columns):\n",
      " #   Column                    Non-Null Count  Dtype  \n",
      "---  ------                    --------------  -----  \n",
      " 0   Pregnancies               768 non-null    int64  \n",
      " 1   Glucose                   768 non-null    int64  \n",
      " 2   BloodPressure             768 non-null    int64  \n",
      " 3   SkinThickness             768 non-null    int64  \n",
      " 4   Insulin                   768 non-null    int64  \n",
      " 5   BMI                       768 non-null    float64\n",
      " 6   DiabetesPedigreeFunction  768 non-null    float64\n",
      " 7   Age                       768 non-null    int64  \n",
      " 8   Outcome                   768 non-null    int64  \n",
      "dtypes: float64(2), int64(7)\n",
      "memory usage: 54.1 KB\n"
     ]
    }
   ],
   "source": [
    "diabetes_df.info()"
   ]
  },
  {
   "cell_type": "code",
   "execution_count": 14,
   "metadata": {},
   "outputs": [
    {
     "data": {
      "text/plain": [
       "0    500\n",
       "1    268\n",
       "Name: Outcome, dtype: int64"
      ]
     },
     "execution_count": 14,
     "metadata": {},
     "output_type": "execute_result"
    }
   ],
   "source": [
    "# target 분포 확인\n",
    "diabetes_df['Outcome'].value_counts()"
   ]
  },
  {
   "cell_type": "code",
   "execution_count": 24,
   "metadata": {},
   "outputs": [
    {
     "name": "stdout",
     "output_type": "stream",
     "text": [
      "\n",
      "[[80 15]\n",
      " [26 33]]\n",
      "정확도 : 0.7337662337662337, 정밀도 : 0.6875, 재현율 : 0.559322033898305\n",
      "\n",
      "[[88  7]\n",
      " [29 30]]\n",
      "정확도 : 0.7662337662337663, 정밀도 : 0.8108108108108109, 재현율 : 0.5084745762711864\n",
      "\n",
      "[[85 10]\n",
      " [31 28]]\n",
      "정확도 : 0.7337662337662337, 정밀도 : 0.7368421052631579, 재현율 : 0.4745762711864407\n"
     ]
    }
   ],
   "source": [
    "# 분류를 위한 예측모델 생성\n",
    "dtc = DecisionTreeClassifier()\n",
    "lr = LogisticRegression()\n",
    "rfc = RandomForestClassifier()\n",
    "\n",
    "features = diabetes_df.iloc[:, 0:-1]\n",
    "labels = diabetes_df.iloc[:, -1]\n",
    "\n",
    "# 모델 selection - 학습과 예측 및 평가\n",
    "def evaluation(model, features, labels):\n",
    "    X_train, X_test, y_train, y_test = train_test_split(features, labels, test_size=.2, random_state=10)\n",
    "    model.fit(X_train, y_train)\n",
    "    \n",
    "    pred = model.predict(X_test)\n",
    "    \n",
    "    confusion = confusion_matrix(y_test, pred)\n",
    "    accuracy = accuracy_score(y_test, pred)\n",
    "    precision = precision_score(y_test, pred)\n",
    "    recall = recall_score(y_test, pred)\n",
    "    \n",
    "    print(confusion)\n",
    "    print('정확도 : {}, 정밀도 : {}, 재현율 : {}'.format(accuracy, precision,  recall))\n",
    "\n",
    "    \n",
    "evaluation(dtc, features, labels)\n",
    "evaluation(lr, features, labels)\n",
    "evaluation(rfc, features, labels)"
   ]
  },
  {
   "cell_type": "code",
   "execution_count": 29,
   "metadata": {},
   "outputs": [
    {
     "name": "stdout",
     "output_type": "stream",
     "text": [
      "KFold\n",
      "\n",
      "DeicisionTreeClassifier: \n",
      "accuracy 0.709952766531714\n",
      "precision 0.5850508508519344\n",
      "recall 0.6006771006771007\n",
      "f1 0.5833966505979551\n",
      "\n",
      "linear Regression: \n",
      "accuracy 0.7761470985155194\n",
      "precision 0.7245171495171495\n",
      "recall 0.5607698551448551\n",
      "f1 0.6244347486596362\n",
      "\n",
      "RandomForestClassifier: \n",
      "accuracy 0.7798582995951417\n",
      "precision 0.7174908016819781\n",
      "recall 0.5979177766677767\n",
      "f1 0.6455860798555807\n",
      "********************\n",
      "StratifiedKFold\n",
      "\n",
      "DeicisionTreeClassifier: \n",
      "accuracy 0.716464237516869\n",
      "precision 0.5976063152533742\n",
      "recall 0.593131868131868\n",
      "f1 0.5909353021335841\n",
      "\n",
      "linear Regression: \n",
      "accuracy 0.7657557354925777\n",
      "precision 0.720669191919192\n",
      "recall 0.5631868131868132\n",
      "f1 0.625414924073095\n",
      "\n",
      "RandomForestClassifier: \n",
      "accuracy 0.7595479082321187\n",
      "precision 0.690187288201994\n",
      "recall 0.5898351648351648\n",
      "f1 0.6295924430486142\n"
     ]
    }
   ],
   "source": [
    "# 교차 검증, 학습, 예측\n",
    "from sklearn.model_selection import cross_validate, KFold, StratifiedKFold\n",
    "from sklearn.metrics import make_scorer\n",
    "\n",
    "kfold = KFold(n_splits=20, random_state=1, shuffle=True)\n",
    "sfold = StratifiedKFold(n_splits=20, random_state=1)\n",
    "\n",
    "def eval(model, feature, label, fold):\n",
    "    scoring = {\n",
    "    'accuracy': make_scorer(accuracy_score),'precision' :make_scorer(precision_score), \n",
    "    'recall' : make_scorer(recall_score), 'f1_score': make_scorer(f1_score)}\n",
    "    \n",
    "    result = cross_validate(model, feature, label, cv=fold, scoring=scoring)\n",
    "    \n",
    "    print('accuracy', result['test_accuracy'].mean())\n",
    "    print('precision', result['test_precision'].mean())\n",
    "    print('recall', result['test_recall'].mean())\n",
    "    print('f1', result['test_f1_score'].mean())\n",
    "\n",
    "print(\"KFold\")\n",
    "print('\\nDeicisionTreeClassifier: ')\n",
    "eval(dtc, features, labels, kfold)\n",
    "print('\\nlinear Regression: ')\n",
    "eval(lr, features, labels, kfold)\n",
    "print('\\nRandomForestClassifier: ')\n",
    "eval(rfc, features, labels, kfold)\n",
    "\n",
    "print('*'*20)\n",
    "print(\"StratifiedKFold\")\n",
    "print('\\nDeicisionTreeClassifier: ')\n",
    "eval(dtc, features, labels, sfold)\n",
    "print('\\nlinear Regression: ')\n",
    "eval(lr, features, labels, sfold)\n",
    "print('\\nRandomForestClassifier: ')\n",
    "eval(rfc, features, labels, sfold)"
   ]
  },
  {
   "cell_type": "code",
   "execution_count": null,
   "metadata": {},
   "outputs": [],
   "source": [
    "# 임계값별 정밀도/ 재현율 확인 및 시각화\n",
    "def threshold_differ(model, ):\n",
    "    pred_pro_result = model.predict_proba(X_test)\n",
    "    \n",
    "    user_threshold = 0.5\n",
    "    positive_pred_proba = pred_pro_result[:,1].reshape(-1,1)\n",
    "    user_predict = Binarizer(threshold=user_threshold).fit(positive_pred_proba).transform(positive_pred_proba)\n",
    "    \n",
    "    confusion = confusion_matrix(y_test, y_pred)\n",
    "    accuracy = accuracy_score(y_test, y_pred)\n",
    "    precision = precision_score(y_test, y_pred)\n",
    "    recall = recall_score(y_test, y_pred)\n",
    "    print('accuracy' , accuracy)\n",
    "    print('precision' , precision)\n",
    "    print('recall' , recall)"
   ]
  },
  {
   "cell_type": "code",
   "execution_count": null,
   "metadata": {},
   "outputs": [],
   "source": [
    "# 임계값별 정밀도/ 재현율 확인 및 시각화\n",
    "\n",
    "\n",
    "# 당수치, 혈압, 피하지방, 인슐린, 체질량 지수의 분포를 히스토그램으로 확인\n",
    "\n",
    "\n",
    "# 표준화, 정규화"
   ]
  }
 ],
 "metadata": {
  "kernelspec": {
   "display_name": "Python 3",
   "language": "python",
   "name": "python3"
  },
  "language_info": {
   "codemirror_mode": {
    "name": "ipython",
    "version": 3
   },
   "file_extension": ".py",
   "mimetype": "text/x-python",
   "name": "python",
   "nbconvert_exporter": "python",
   "pygments_lexer": "ipython3",
   "version": "3.7.6"
  }
 },
 "nbformat": 4,
 "nbformat_minor": 4
}
