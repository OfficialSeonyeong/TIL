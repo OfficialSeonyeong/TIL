{
 "cells": [
  {
   "cell_type": "markdown",
   "metadata": {},
   "source": [
    "### 분류 성능평가 지표\n",
    "* metrics 서브 패키지\n",
    "    - confusion_matrix(answer, prediction)\n",
    "    - accuracy_score()\n",
    "    - precision_score()\n",
    "    - recall_score()\n",
    "    - f1_score()\n",
    "    - classification_report()\n",
    "    - roc_curve()\n",
    "    - auc()"
   ]
  },
  {
   "cell_type": "code",
   "execution_count": 1,
   "metadata": {},
   "outputs": [],
   "source": [
    "y_test = [1, 0, 0, 1, 1, 1, 0, 1, 1, 1]\n",
    "y_pred = [0, 1, 1, 1, 1, 0, 1, 0, 1, 0]\n",
    "\n",
    "for i in range(len(y_test)):\n",
    "    tp = tn = fp = fn =0\n",
    "    # TP\n",
    "    if y_test[i] == 1 and y_pred[i]==1:\n",
    "        tp += 1\n",
    "    # TN\n",
    "    if y_test[i] == 0 and y_pred[i]==0:\n",
    "        tn += 1\n",
    "    # FP\n",
    "    if y_test[i] == 0 and y_pred[i]==1:\n",
    "        fp += 1\n",
    "    # FN\n",
    "    if y_test[i] == 1 and y_pred[i]==0:\n",
    "        fn += 1"
   ]
  },
  {
   "cell_type": "code",
   "execution_count": 2,
   "metadata": {},
   "outputs": [],
   "source": [
    "from sklearn.metrics import confusion_matrix\n",
    "\n",
    "y_true = [2,0,2,2,0,1]\n",
    "y_pred = [0,0,2,2,0,2]"
   ]
  },
  {
   "cell_type": "code",
   "execution_count": 3,
   "metadata": {},
   "outputs": [
    {
     "data": {
      "text/plain": [
       "array([[2, 0, 0],\n",
       "       [0, 0, 1],\n",
       "       [1, 0, 2]], dtype=int64)"
      ]
     },
     "execution_count": 3,
     "metadata": {},
     "output_type": "execute_result"
    }
   ],
   "source": [
    "# 분류결과표\n",
    "confusion_matrix(y_true, y_pred)"
   ]
  },
  {
   "cell_type": "markdown",
   "metadata": {},
   "source": [
    "### 이진 분류표\n",
    "- 제품을 생산하는 제조공장에 품질 테스트를 실시하여 불량품을 찾아내고, 불량품을 공장으로 돌려보낸다(recall)\n",
    "- 품질 테스트의 결과가 양성 positive -> 불량품, 음성 negative -> 정상 제품\n",
    "\n",
    "- TP : 불량품을 불량품으로 예측\n",
    "- TN : 정상을 정상으로 예측\n",
    "- FP : 정상을 불량으로 예측, 1종 오류\n",
    "- FN : 불량을 정상으로 예측, 2종 오류"
   ]
  },
  {
   "cell_type": "code",
   "execution_count": 4,
   "metadata": {},
   "outputs": [
    {
     "data": {
      "text/plain": [
       "array([[2, 0],\n",
       "       [1, 3]], dtype=int64)"
      ]
     },
     "execution_count": 4,
     "metadata": {},
     "output_type": "execute_result"
    }
   ],
   "source": [
    "y_true = [1,0,1,1,0,1]\n",
    "y_pred = [0,0,1,1,0,1]\n",
    "\n",
    "confusion_matrix(y_true, y_pred)"
   ]
  },
  {
   "cell_type": "code",
   "execution_count": 5,
   "metadata": {},
   "outputs": [],
   "source": [
    "from sklearn.preprocessing import LabelEncoder\n",
    "from sklearn.model_selection import train_test_split\n",
    "from sklearn.metrics import accuracy_score\n",
    "import pandas as pd\n",
    "import numpy as np\n",
    "import warnings\n",
    "warnings.filterwarnings('ignore')"
   ]
  },
  {
   "cell_type": "code",
   "execution_count": 6,
   "metadata": {},
   "outputs": [],
   "source": [
    "### fit() 메서드는 아무 것도 수행하지 않고, predict()는 Sex 피처가 1이면 0, 그렇지 않으면 1로 예측하는 단순한 분류기 생성\n",
    "from sklearn.base import BaseEstimator\n",
    "\n",
    "class MyDummyClassifier(BaseEstimator):\n",
    "    # fit 메서드는 아무것도 학습하지 않음\n",
    "    def fit(self, X, y=None):\n",
    "        pass\n",
    "    # predict 메서드는 단순히 Sex 피처가 1이면 0, 아니면 1로 예측\n",
    "    def predict(self, X):\n",
    "        pred = np.zeros( (X.shape[0],1) )\n",
    "        for i in range(X.shape[0]):\n",
    "            if X['Sex'].iloc[i] == 1:\n",
    "                pred[i] = 0\n",
    "            else :\n",
    "                pred[i] = 1 \n",
    "        return pred"
   ]
  },
  {
   "cell_type": "code",
   "execution_count": 28,
   "metadata": {},
   "outputs": [
    {
     "data": {
      "text/html": [
       "<div>\n",
       "<style scoped>\n",
       "    .dataframe tbody tr th:only-of-type {\n",
       "        vertical-align: middle;\n",
       "    }\n",
       "\n",
       "    .dataframe tbody tr th {\n",
       "        vertical-align: top;\n",
       "    }\n",
       "\n",
       "    .dataframe thead th {\n",
       "        text-align: right;\n",
       "    }\n",
       "</style>\n",
       "<table border=\"1\" class=\"dataframe\">\n",
       "  <thead>\n",
       "    <tr style=\"text-align: right;\">\n",
       "      <th></th>\n",
       "      <th>PassengerId</th>\n",
       "      <th>Survived</th>\n",
       "      <th>Pclass</th>\n",
       "      <th>Name</th>\n",
       "      <th>Sex</th>\n",
       "      <th>Age</th>\n",
       "      <th>SibSp</th>\n",
       "      <th>Parch</th>\n",
       "      <th>Ticket</th>\n",
       "      <th>Fare</th>\n",
       "      <th>Cabin</th>\n",
       "      <th>Embarked</th>\n",
       "    </tr>\n",
       "  </thead>\n",
       "  <tbody>\n",
       "    <tr>\n",
       "      <th>0</th>\n",
       "      <td>1</td>\n",
       "      <td>0</td>\n",
       "      <td>3</td>\n",
       "      <td>Braund, Mr. Owen Harris</td>\n",
       "      <td>male</td>\n",
       "      <td>22.0</td>\n",
       "      <td>1</td>\n",
       "      <td>0</td>\n",
       "      <td>A/5 21171</td>\n",
       "      <td>7.2500</td>\n",
       "      <td>NaN</td>\n",
       "      <td>S</td>\n",
       "    </tr>\n",
       "    <tr>\n",
       "      <th>1</th>\n",
       "      <td>2</td>\n",
       "      <td>1</td>\n",
       "      <td>1</td>\n",
       "      <td>Cumings, Mrs. John Bradley (Florence Briggs Th...</td>\n",
       "      <td>female</td>\n",
       "      <td>38.0</td>\n",
       "      <td>1</td>\n",
       "      <td>0</td>\n",
       "      <td>PC 17599</td>\n",
       "      <td>71.2833</td>\n",
       "      <td>C85</td>\n",
       "      <td>C</td>\n",
       "    </tr>\n",
       "    <tr>\n",
       "      <th>2</th>\n",
       "      <td>3</td>\n",
       "      <td>1</td>\n",
       "      <td>3</td>\n",
       "      <td>Heikkinen, Miss. Laina</td>\n",
       "      <td>female</td>\n",
       "      <td>26.0</td>\n",
       "      <td>0</td>\n",
       "      <td>0</td>\n",
       "      <td>STON/O2. 3101282</td>\n",
       "      <td>7.9250</td>\n",
       "      <td>NaN</td>\n",
       "      <td>S</td>\n",
       "    </tr>\n",
       "    <tr>\n",
       "      <th>3</th>\n",
       "      <td>4</td>\n",
       "      <td>1</td>\n",
       "      <td>1</td>\n",
       "      <td>Futrelle, Mrs. Jacques Heath (Lily May Peel)</td>\n",
       "      <td>female</td>\n",
       "      <td>35.0</td>\n",
       "      <td>1</td>\n",
       "      <td>0</td>\n",
       "      <td>113803</td>\n",
       "      <td>53.1000</td>\n",
       "      <td>C123</td>\n",
       "      <td>S</td>\n",
       "    </tr>\n",
       "    <tr>\n",
       "      <th>4</th>\n",
       "      <td>5</td>\n",
       "      <td>0</td>\n",
       "      <td>3</td>\n",
       "      <td>Allen, Mr. William Henry</td>\n",
       "      <td>male</td>\n",
       "      <td>35.0</td>\n",
       "      <td>0</td>\n",
       "      <td>0</td>\n",
       "      <td>373450</td>\n",
       "      <td>8.0500</td>\n",
       "      <td>NaN</td>\n",
       "      <td>S</td>\n",
       "    </tr>\n",
       "  </tbody>\n",
       "</table>\n",
       "</div>"
      ],
      "text/plain": [
       "   PassengerId  Survived  Pclass  \\\n",
       "0            1         0       3   \n",
       "1            2         1       1   \n",
       "2            3         1       3   \n",
       "3            4         1       1   \n",
       "4            5         0       3   \n",
       "\n",
       "                                                Name     Sex   Age  SibSp  \\\n",
       "0                            Braund, Mr. Owen Harris    male  22.0      1   \n",
       "1  Cumings, Mrs. John Bradley (Florence Briggs Th...  female  38.0      1   \n",
       "2                             Heikkinen, Miss. Laina  female  26.0      0   \n",
       "3       Futrelle, Mrs. Jacques Heath (Lily May Peel)  female  35.0      1   \n",
       "4                           Allen, Mr. William Henry    male  35.0      0   \n",
       "\n",
       "   Parch            Ticket     Fare Cabin Embarked  \n",
       "0      0         A/5 21171   7.2500   NaN        S  \n",
       "1      0          PC 17599  71.2833   C85        C  \n",
       "2      0  STON/O2. 3101282   7.9250   NaN        S  \n",
       "3      0            113803  53.1000  C123        S  \n",
       "4      0            373450   8.0500   NaN        S  "
      ]
     },
     "execution_count": 28,
     "metadata": {},
     "output_type": "execute_result"
    }
   ],
   "source": [
    "titanic = pd.read_csv('./data/titanic_train.csv')\n",
    "titanic.head()"
   ]
  },
  {
   "cell_type": "code",
   "execution_count": 8,
   "metadata": {},
   "outputs": [
    {
     "name": "stdout",
     "output_type": "stream",
     "text": [
      "<class 'pandas.core.frame.DataFrame'>\n",
      "RangeIndex: 891 entries, 0 to 890\n",
      "Data columns (total 12 columns):\n",
      " #   Column       Non-Null Count  Dtype  \n",
      "---  ------       --------------  -----  \n",
      " 0   PassengerId  891 non-null    int64  \n",
      " 1   Survived     891 non-null    int64  \n",
      " 2   Pclass       891 non-null    int64  \n",
      " 3   Name         891 non-null    object \n",
      " 4   Sex          891 non-null    object \n",
      " 5   Age          714 non-null    float64\n",
      " 6   SibSp        891 non-null    int64  \n",
      " 7   Parch        891 non-null    int64  \n",
      " 8   Ticket       891 non-null    object \n",
      " 9   Fare         891 non-null    float64\n",
      " 10  Cabin        204 non-null    object \n",
      " 11  Embarked     889 non-null    object \n",
      "dtypes: float64(2), int64(5), object(5)\n",
      "memory usage: 83.7+ KB\n"
     ]
    }
   ],
   "source": [
    "titanic.info()"
   ]
  },
  {
   "cell_type": "code",
   "execution_count": 29,
   "metadata": {},
   "outputs": [
    {
     "name": "stdout",
     "output_type": "stream",
     "text": [
      "     PassengerId  Pclass                                               Name  \\\n",
      "0              1       3                            Braund, Mr. Owen Harris   \n",
      "1              2       1  Cumings, Mrs. John Bradley (Florence Briggs Th...   \n",
      "2              3       3                             Heikkinen, Miss. Laina   \n",
      "3              4       1       Futrelle, Mrs. Jacques Heath (Lily May Peel)   \n",
      "4              5       3                           Allen, Mr. William Henry   \n",
      "..           ...     ...                                                ...   \n",
      "886          887       2                              Montvila, Rev. Juozas   \n",
      "887          888       1                       Graham, Miss. Margaret Edith   \n",
      "888          889       3           Johnston, Miss. Catherine Helen \"Carrie\"   \n",
      "889          890       1                              Behr, Mr. Karl Howell   \n",
      "890          891       3                                Dooley, Mr. Patrick   \n",
      "\n",
      "        Sex   Age  SibSp  Parch            Ticket     Fare Cabin Embarked  \n",
      "0      male  22.0      1      0         A/5 21171   7.2500   NaN        S  \n",
      "1    female  38.0      1      0          PC 17599  71.2833   C85        C  \n",
      "2    female  26.0      0      0  STON/O2. 3101282   7.9250   NaN        S  \n",
      "3    female  35.0      1      0            113803  53.1000  C123        S  \n",
      "4      male  35.0      0      0            373450   8.0500   NaN        S  \n",
      "..      ...   ...    ...    ...               ...      ...   ...      ...  \n",
      "886    male  27.0      0      0            211536  13.0000   NaN        S  \n",
      "887  female  19.0      0      0            112053  30.0000   B42        S  \n",
      "888  female   NaN      1      2        W./C. 6607  23.4500   NaN        S  \n",
      "889    male  26.0      0      0            111369  30.0000  C148        C  \n",
      "890    male  32.0      0      0            370376   7.7500   NaN        Q  \n",
      "\n",
      "[891 rows x 11 columns]\n",
      "0      0\n",
      "1      1\n",
      "2      1\n",
      "3      1\n",
      "4      0\n",
      "      ..\n",
      "886    0\n",
      "887    1\n",
      "888    0\n",
      "889    1\n",
      "890    0\n",
      "Name: Survived, Length: 891, dtype: int64\n"
     ]
    }
   ],
   "source": [
    "titanic_label_df = titanic['Survived']\n",
    "titanic_feature_df = titanic.drop(['Survived'], axis=1)\n",
    "print(titanic_feature_df)\n",
    "print(titanic_label_df)"
   ]
  },
  {
   "cell_type": "code",
   "execution_count": 30,
   "metadata": {},
   "outputs": [],
   "source": [
    "## Null 처리 함수\n",
    "def fillna(df):\n",
    "    df['Age'].fillna(df['Age'].mean(), inplace=True)\n",
    "    df['Cabin'].fillna('N', inplace=True)\n",
    "    df['Embarked'].fillna('N', inplace=True)\n",
    "    df['Fare'].fillna(0, inplace=True)\n",
    "    return df\n",
    "\n",
    "## 머신러닝에 불필요한 피처 제거\n",
    "def drop_features(df):\n",
    "    df.drop(['PassengerId', 'Name', 'Ticket'], axis=1, inplace=True)\n",
    "    return df\n",
    "\n",
    "## Label Encoding 수행\n",
    "def format_features(df):\n",
    "    df['Cabin'] = df['Cabin'].str[:1]\n",
    "    features = ['Cabin', 'Sex', 'Embarked']\n",
    "    for feature in features:\n",
    "        le = LabelEncoder()\n",
    "        le.fit(df[feature])\n",
    "        df[feature] = le.transform(df[feature])\n",
    "    return df\n",
    "\n",
    "## 앞에서 실행한 Data Preprocessing 함수 호출\n",
    "def transform_features(df):\n",
    "    df = fillna(df)\n",
    "    df = drop_features(df)\n",
    "    df = format_features(df)\n",
    "    return df"
   ]
  },
  {
   "cell_type": "code",
   "execution_count": 31,
   "metadata": {},
   "outputs": [],
   "source": [
    "titanic_feature_df = transform_features(titanic_feature_df)"
   ]
  },
  {
   "cell_type": "code",
   "execution_count": 32,
   "metadata": {},
   "outputs": [],
   "source": [
    "X_train, X_test, y_train, y_test = train_test_split(titanic_feature_df, titanic_label_df, test_size=.2, random_state=10)"
   ]
  },
  {
   "cell_type": "code",
   "execution_count": 13,
   "metadata": {},
   "outputs": [],
   "source": [
    "dummy_model = MyDummyClassifier()\n",
    "dummy_model.fit(X_train, y_train)"
   ]
  },
  {
   "cell_type": "code",
   "execution_count": 14,
   "metadata": {},
   "outputs": [
    {
     "name": "stdout",
     "output_type": "stream",
     "text": [
      "정확도:  0.8212290502793296\n"
     ]
    }
   ],
   "source": [
    "y_pred = dummy_model.predict(X_test)\n",
    "print('정확도: ',accuracy_score(y_pred, y_test))"
   ]
  },
  {
   "cell_type": "markdown",
   "metadata": {},
   "source": [
    "#### 업무 특성에 따라서 특정 지표를 활용해야 한다.\n",
    "- Recall : 암, 사기판정\n",
    "    - recall_score()\n",
    "- Precision : 스펨메일 분류\n",
    "    - precision_score()"
   ]
  },
  {
   "cell_type": "code",
   "execution_count": 15,
   "metadata": {},
   "outputs": [],
   "source": [
    "from sklearn.metrics import recall_score, precision_score,f1_score"
   ]
  },
  {
   "cell_type": "code",
   "execution_count": 16,
   "metadata": {},
   "outputs": [],
   "source": [
    "def display_eval(y_test, y_pred):\n",
    "    confusion = confusion_matrix(y_test, y_pred)\n",
    "    accuracy = accuracy_score(y_test, y_pred)\n",
    "    precision = precision_score(y_test, y_pred)\n",
    "    recall = recall_score(y_test, y_pred)\n",
    "    print()\n",
    "    print(confusion)\n",
    "    print('정확도 : {}, 정밀도 : {}, 재현율 : {}'.format(accuracy, precision,  recall))"
   ]
  },
  {
   "cell_type": "code",
   "execution_count": 33,
   "metadata": {},
   "outputs": [
    {
     "name": "stdout",
     "output_type": "stream",
     "text": [
      "accuracy 0.8268156424581006\n",
      "precision 0.746031746031746\n",
      "recall 0.7580645161290323\n"
     ]
    }
   ],
   "source": [
    "from sklearn.linear_model import LogisticRegression\n",
    "# 로지스틱 회귀\n",
    "lr_model = LogisticRegression()\n",
    "lr_model.fit(X_train, y_train)\n",
    "prediction = lr_model.predict(X_test)\n",
    "display_eval(y_test, prediction)"
   ]
  },
  {
   "cell_type": "code",
   "execution_count": 18,
   "metadata": {},
   "outputs": [
    {
     "name": "stdout",
     "output_type": "stream",
     "text": [
      "0.8268156424581006\n",
      "0.746031746031746\n",
      "0.7580645161290323\n"
     ]
    }
   ],
   "source": [
    "#      False True\n",
    "# False  TN   FP\n",
    "# True   FN   TP\n",
    "\n",
    "정확도 = (101+47)/(101+16+15+47)\n",
    "print(정확도)\n",
    "\n",
    "정밀도 = 47/(47+16)\n",
    "print(정밀도)\n",
    "\n",
    "리콜 = 47/(47+15)\n",
    "print(리콜)"
   ]
  },
  {
   "cell_type": "code",
   "execution_count": 19,
   "metadata": {},
   "outputs": [],
   "source": [
    "# [실습] - 유방암 관련 데이터, 재현율이 중요\n",
    "# 재현율은 실제 양성을 양성으로 예측한 비율이므로 높을수록 좋은 모형이라 판단한다\n",
    "\n",
    "from sklearn.datasets import load_breast_cancer\n",
    "from sklearn.ensemble import RandomForestClassifier"
   ]
  },
  {
   "cell_type": "code",
   "execution_count": 20,
   "metadata": {},
   "outputs": [
    {
     "name": "stdout",
     "output_type": "stream",
     "text": [
      "<class 'sklearn.utils.Bunch'>\n"
     ]
    }
   ],
   "source": [
    "cancer = load_breast_cancer()\n",
    "print(type(cancer))"
   ]
  },
  {
   "cell_type": "code",
   "execution_count": 21,
   "metadata": {},
   "outputs": [
    {
     "data": {
      "text/plain": [
       "dict_keys(['data', 'target', 'target_names', 'DESCR', 'feature_names', 'filename'])"
      ]
     },
     "execution_count": 21,
     "metadata": {},
     "output_type": "execute_result"
    }
   ],
   "source": [
    "cancer.keys()"
   ]
  },
  {
   "cell_type": "code",
   "execution_count": 22,
   "metadata": {},
   "outputs": [
    {
     "data": {
      "text/html": [
       "<div>\n",
       "<style scoped>\n",
       "    .dataframe tbody tr th:only-of-type {\n",
       "        vertical-align: middle;\n",
       "    }\n",
       "\n",
       "    .dataframe tbody tr th {\n",
       "        vertical-align: top;\n",
       "    }\n",
       "\n",
       "    .dataframe thead th {\n",
       "        text-align: right;\n",
       "    }\n",
       "</style>\n",
       "<table border=\"1\" class=\"dataframe\">\n",
       "  <thead>\n",
       "    <tr style=\"text-align: right;\">\n",
       "      <th></th>\n",
       "      <th>mean radius</th>\n",
       "      <th>mean texture</th>\n",
       "      <th>mean perimeter</th>\n",
       "      <th>mean area</th>\n",
       "      <th>mean smoothness</th>\n",
       "      <th>mean compactness</th>\n",
       "      <th>mean concavity</th>\n",
       "      <th>mean concave points</th>\n",
       "      <th>mean symmetry</th>\n",
       "      <th>mean fractal dimension</th>\n",
       "      <th>...</th>\n",
       "      <th>worst texture</th>\n",
       "      <th>worst perimeter</th>\n",
       "      <th>worst area</th>\n",
       "      <th>worst smoothness</th>\n",
       "      <th>worst compactness</th>\n",
       "      <th>worst concavity</th>\n",
       "      <th>worst concave points</th>\n",
       "      <th>worst symmetry</th>\n",
       "      <th>worst fractal dimension</th>\n",
       "      <th>target</th>\n",
       "    </tr>\n",
       "  </thead>\n",
       "  <tbody>\n",
       "    <tr>\n",
       "      <th>0</th>\n",
       "      <td>17.99</td>\n",
       "      <td>10.38</td>\n",
       "      <td>122.80</td>\n",
       "      <td>1001.0</td>\n",
       "      <td>0.11840</td>\n",
       "      <td>0.27760</td>\n",
       "      <td>0.30010</td>\n",
       "      <td>0.14710</td>\n",
       "      <td>0.2419</td>\n",
       "      <td>0.07871</td>\n",
       "      <td>...</td>\n",
       "      <td>17.33</td>\n",
       "      <td>184.60</td>\n",
       "      <td>2019.0</td>\n",
       "      <td>0.16220</td>\n",
       "      <td>0.66560</td>\n",
       "      <td>0.7119</td>\n",
       "      <td>0.2654</td>\n",
       "      <td>0.4601</td>\n",
       "      <td>0.11890</td>\n",
       "      <td>0</td>\n",
       "    </tr>\n",
       "    <tr>\n",
       "      <th>1</th>\n",
       "      <td>20.57</td>\n",
       "      <td>17.77</td>\n",
       "      <td>132.90</td>\n",
       "      <td>1326.0</td>\n",
       "      <td>0.08474</td>\n",
       "      <td>0.07864</td>\n",
       "      <td>0.08690</td>\n",
       "      <td>0.07017</td>\n",
       "      <td>0.1812</td>\n",
       "      <td>0.05667</td>\n",
       "      <td>...</td>\n",
       "      <td>23.41</td>\n",
       "      <td>158.80</td>\n",
       "      <td>1956.0</td>\n",
       "      <td>0.12380</td>\n",
       "      <td>0.18660</td>\n",
       "      <td>0.2416</td>\n",
       "      <td>0.1860</td>\n",
       "      <td>0.2750</td>\n",
       "      <td>0.08902</td>\n",
       "      <td>0</td>\n",
       "    </tr>\n",
       "    <tr>\n",
       "      <th>2</th>\n",
       "      <td>19.69</td>\n",
       "      <td>21.25</td>\n",
       "      <td>130.00</td>\n",
       "      <td>1203.0</td>\n",
       "      <td>0.10960</td>\n",
       "      <td>0.15990</td>\n",
       "      <td>0.19740</td>\n",
       "      <td>0.12790</td>\n",
       "      <td>0.2069</td>\n",
       "      <td>0.05999</td>\n",
       "      <td>...</td>\n",
       "      <td>25.53</td>\n",
       "      <td>152.50</td>\n",
       "      <td>1709.0</td>\n",
       "      <td>0.14440</td>\n",
       "      <td>0.42450</td>\n",
       "      <td>0.4504</td>\n",
       "      <td>0.2430</td>\n",
       "      <td>0.3613</td>\n",
       "      <td>0.08758</td>\n",
       "      <td>0</td>\n",
       "    </tr>\n",
       "    <tr>\n",
       "      <th>3</th>\n",
       "      <td>11.42</td>\n",
       "      <td>20.38</td>\n",
       "      <td>77.58</td>\n",
       "      <td>386.1</td>\n",
       "      <td>0.14250</td>\n",
       "      <td>0.28390</td>\n",
       "      <td>0.24140</td>\n",
       "      <td>0.10520</td>\n",
       "      <td>0.2597</td>\n",
       "      <td>0.09744</td>\n",
       "      <td>...</td>\n",
       "      <td>26.50</td>\n",
       "      <td>98.87</td>\n",
       "      <td>567.7</td>\n",
       "      <td>0.20980</td>\n",
       "      <td>0.86630</td>\n",
       "      <td>0.6869</td>\n",
       "      <td>0.2575</td>\n",
       "      <td>0.6638</td>\n",
       "      <td>0.17300</td>\n",
       "      <td>0</td>\n",
       "    </tr>\n",
       "    <tr>\n",
       "      <th>4</th>\n",
       "      <td>20.29</td>\n",
       "      <td>14.34</td>\n",
       "      <td>135.10</td>\n",
       "      <td>1297.0</td>\n",
       "      <td>0.10030</td>\n",
       "      <td>0.13280</td>\n",
       "      <td>0.19800</td>\n",
       "      <td>0.10430</td>\n",
       "      <td>0.1809</td>\n",
       "      <td>0.05883</td>\n",
       "      <td>...</td>\n",
       "      <td>16.67</td>\n",
       "      <td>152.20</td>\n",
       "      <td>1575.0</td>\n",
       "      <td>0.13740</td>\n",
       "      <td>0.20500</td>\n",
       "      <td>0.4000</td>\n",
       "      <td>0.1625</td>\n",
       "      <td>0.2364</td>\n",
       "      <td>0.07678</td>\n",
       "      <td>0</td>\n",
       "    </tr>\n",
       "    <tr>\n",
       "      <th>...</th>\n",
       "      <td>...</td>\n",
       "      <td>...</td>\n",
       "      <td>...</td>\n",
       "      <td>...</td>\n",
       "      <td>...</td>\n",
       "      <td>...</td>\n",
       "      <td>...</td>\n",
       "      <td>...</td>\n",
       "      <td>...</td>\n",
       "      <td>...</td>\n",
       "      <td>...</td>\n",
       "      <td>...</td>\n",
       "      <td>...</td>\n",
       "      <td>...</td>\n",
       "      <td>...</td>\n",
       "      <td>...</td>\n",
       "      <td>...</td>\n",
       "      <td>...</td>\n",
       "      <td>...</td>\n",
       "      <td>...</td>\n",
       "      <td>...</td>\n",
       "    </tr>\n",
       "    <tr>\n",
       "      <th>564</th>\n",
       "      <td>21.56</td>\n",
       "      <td>22.39</td>\n",
       "      <td>142.00</td>\n",
       "      <td>1479.0</td>\n",
       "      <td>0.11100</td>\n",
       "      <td>0.11590</td>\n",
       "      <td>0.24390</td>\n",
       "      <td>0.13890</td>\n",
       "      <td>0.1726</td>\n",
       "      <td>0.05623</td>\n",
       "      <td>...</td>\n",
       "      <td>26.40</td>\n",
       "      <td>166.10</td>\n",
       "      <td>2027.0</td>\n",
       "      <td>0.14100</td>\n",
       "      <td>0.21130</td>\n",
       "      <td>0.4107</td>\n",
       "      <td>0.2216</td>\n",
       "      <td>0.2060</td>\n",
       "      <td>0.07115</td>\n",
       "      <td>0</td>\n",
       "    </tr>\n",
       "    <tr>\n",
       "      <th>565</th>\n",
       "      <td>20.13</td>\n",
       "      <td>28.25</td>\n",
       "      <td>131.20</td>\n",
       "      <td>1261.0</td>\n",
       "      <td>0.09780</td>\n",
       "      <td>0.10340</td>\n",
       "      <td>0.14400</td>\n",
       "      <td>0.09791</td>\n",
       "      <td>0.1752</td>\n",
       "      <td>0.05533</td>\n",
       "      <td>...</td>\n",
       "      <td>38.25</td>\n",
       "      <td>155.00</td>\n",
       "      <td>1731.0</td>\n",
       "      <td>0.11660</td>\n",
       "      <td>0.19220</td>\n",
       "      <td>0.3215</td>\n",
       "      <td>0.1628</td>\n",
       "      <td>0.2572</td>\n",
       "      <td>0.06637</td>\n",
       "      <td>0</td>\n",
       "    </tr>\n",
       "    <tr>\n",
       "      <th>566</th>\n",
       "      <td>16.60</td>\n",
       "      <td>28.08</td>\n",
       "      <td>108.30</td>\n",
       "      <td>858.1</td>\n",
       "      <td>0.08455</td>\n",
       "      <td>0.10230</td>\n",
       "      <td>0.09251</td>\n",
       "      <td>0.05302</td>\n",
       "      <td>0.1590</td>\n",
       "      <td>0.05648</td>\n",
       "      <td>...</td>\n",
       "      <td>34.12</td>\n",
       "      <td>126.70</td>\n",
       "      <td>1124.0</td>\n",
       "      <td>0.11390</td>\n",
       "      <td>0.30940</td>\n",
       "      <td>0.3403</td>\n",
       "      <td>0.1418</td>\n",
       "      <td>0.2218</td>\n",
       "      <td>0.07820</td>\n",
       "      <td>0</td>\n",
       "    </tr>\n",
       "    <tr>\n",
       "      <th>567</th>\n",
       "      <td>20.60</td>\n",
       "      <td>29.33</td>\n",
       "      <td>140.10</td>\n",
       "      <td>1265.0</td>\n",
       "      <td>0.11780</td>\n",
       "      <td>0.27700</td>\n",
       "      <td>0.35140</td>\n",
       "      <td>0.15200</td>\n",
       "      <td>0.2397</td>\n",
       "      <td>0.07016</td>\n",
       "      <td>...</td>\n",
       "      <td>39.42</td>\n",
       "      <td>184.60</td>\n",
       "      <td>1821.0</td>\n",
       "      <td>0.16500</td>\n",
       "      <td>0.86810</td>\n",
       "      <td>0.9387</td>\n",
       "      <td>0.2650</td>\n",
       "      <td>0.4087</td>\n",
       "      <td>0.12400</td>\n",
       "      <td>0</td>\n",
       "    </tr>\n",
       "    <tr>\n",
       "      <th>568</th>\n",
       "      <td>7.76</td>\n",
       "      <td>24.54</td>\n",
       "      <td>47.92</td>\n",
       "      <td>181.0</td>\n",
       "      <td>0.05263</td>\n",
       "      <td>0.04362</td>\n",
       "      <td>0.00000</td>\n",
       "      <td>0.00000</td>\n",
       "      <td>0.1587</td>\n",
       "      <td>0.05884</td>\n",
       "      <td>...</td>\n",
       "      <td>30.37</td>\n",
       "      <td>59.16</td>\n",
       "      <td>268.6</td>\n",
       "      <td>0.08996</td>\n",
       "      <td>0.06444</td>\n",
       "      <td>0.0000</td>\n",
       "      <td>0.0000</td>\n",
       "      <td>0.2871</td>\n",
       "      <td>0.07039</td>\n",
       "      <td>1</td>\n",
       "    </tr>\n",
       "  </tbody>\n",
       "</table>\n",
       "<p>569 rows × 31 columns</p>\n",
       "</div>"
      ],
      "text/plain": [
       "     mean radius  mean texture  mean perimeter  mean area  mean smoothness  \\\n",
       "0          17.99         10.38          122.80     1001.0          0.11840   \n",
       "1          20.57         17.77          132.90     1326.0          0.08474   \n",
       "2          19.69         21.25          130.00     1203.0          0.10960   \n",
       "3          11.42         20.38           77.58      386.1          0.14250   \n",
       "4          20.29         14.34          135.10     1297.0          0.10030   \n",
       "..           ...           ...             ...        ...              ...   \n",
       "564        21.56         22.39          142.00     1479.0          0.11100   \n",
       "565        20.13         28.25          131.20     1261.0          0.09780   \n",
       "566        16.60         28.08          108.30      858.1          0.08455   \n",
       "567        20.60         29.33          140.10     1265.0          0.11780   \n",
       "568         7.76         24.54           47.92      181.0          0.05263   \n",
       "\n",
       "     mean compactness  mean concavity  mean concave points  mean symmetry  \\\n",
       "0             0.27760         0.30010              0.14710         0.2419   \n",
       "1             0.07864         0.08690              0.07017         0.1812   \n",
       "2             0.15990         0.19740              0.12790         0.2069   \n",
       "3             0.28390         0.24140              0.10520         0.2597   \n",
       "4             0.13280         0.19800              0.10430         0.1809   \n",
       "..                ...             ...                  ...            ...   \n",
       "564           0.11590         0.24390              0.13890         0.1726   \n",
       "565           0.10340         0.14400              0.09791         0.1752   \n",
       "566           0.10230         0.09251              0.05302         0.1590   \n",
       "567           0.27700         0.35140              0.15200         0.2397   \n",
       "568           0.04362         0.00000              0.00000         0.1587   \n",
       "\n",
       "     mean fractal dimension  ...  worst texture  worst perimeter  worst area  \\\n",
       "0                   0.07871  ...          17.33           184.60      2019.0   \n",
       "1                   0.05667  ...          23.41           158.80      1956.0   \n",
       "2                   0.05999  ...          25.53           152.50      1709.0   \n",
       "3                   0.09744  ...          26.50            98.87       567.7   \n",
       "4                   0.05883  ...          16.67           152.20      1575.0   \n",
       "..                      ...  ...            ...              ...         ...   \n",
       "564                 0.05623  ...          26.40           166.10      2027.0   \n",
       "565                 0.05533  ...          38.25           155.00      1731.0   \n",
       "566                 0.05648  ...          34.12           126.70      1124.0   \n",
       "567                 0.07016  ...          39.42           184.60      1821.0   \n",
       "568                 0.05884  ...          30.37            59.16       268.6   \n",
       "\n",
       "     worst smoothness  worst compactness  worst concavity  \\\n",
       "0             0.16220            0.66560           0.7119   \n",
       "1             0.12380            0.18660           0.2416   \n",
       "2             0.14440            0.42450           0.4504   \n",
       "3             0.20980            0.86630           0.6869   \n",
       "4             0.13740            0.20500           0.4000   \n",
       "..                ...                ...              ...   \n",
       "564           0.14100            0.21130           0.4107   \n",
       "565           0.11660            0.19220           0.3215   \n",
       "566           0.11390            0.30940           0.3403   \n",
       "567           0.16500            0.86810           0.9387   \n",
       "568           0.08996            0.06444           0.0000   \n",
       "\n",
       "     worst concave points  worst symmetry  worst fractal dimension  target  \n",
       "0                  0.2654          0.4601                  0.11890       0  \n",
       "1                  0.1860          0.2750                  0.08902       0  \n",
       "2                  0.2430          0.3613                  0.08758       0  \n",
       "3                  0.2575          0.6638                  0.17300       0  \n",
       "4                  0.1625          0.2364                  0.07678       0  \n",
       "..                    ...             ...                      ...     ...  \n",
       "564                0.2216          0.2060                  0.07115       0  \n",
       "565                0.1628          0.2572                  0.06637       0  \n",
       "566                0.1418          0.2218                  0.07820       0  \n",
       "567                0.2650          0.4087                  0.12400       0  \n",
       "568                0.0000          0.2871                  0.07039       1  \n",
       "\n",
       "[569 rows x 31 columns]"
      ]
     },
     "execution_count": 22,
     "metadata": {},
     "output_type": "execute_result"
    }
   ],
   "source": [
    "# 데이터 프레임으로 구조를 변경해서 확인해보자\n",
    "cancer_df = pd.DataFrame(data = cancer.data, columns=cancer.feature_names)\n",
    "cancer_df['target']=cancer.target\n",
    "cancer_df"
   ]
  },
  {
   "cell_type": "code",
   "execution_count": 23,
   "metadata": {},
   "outputs": [
    {
     "name": "stdout",
     "output_type": "stream",
     "text": [
      "평균 정확도 : 0.9578297595841455, 평균 정밀도 : 0.9566966161727333, 평균 재현율 : 0.9775910364145658\n"
     ]
    }
   ],
   "source": [
    "from sklearn.model_selection import StratifiedKFold\n",
    "\n",
    "feature = cancer_df.iloc[:, :-1]\n",
    "label = cancer_df.iloc[:,-1]\n",
    "skfold = StratifiedKFold(n_splits=3)\n",
    "\n",
    "# 분류 학습기\n",
    "dtc = RandomForestClassifier()\n",
    "\n",
    "# 학습 & 평가 (교차 검증)\n",
    "accuracy_list = []\n",
    "precision_list = []\n",
    "recall_list = []\n",
    "\n",
    "for train_idx, test_idx in skfold.split(feature, label):\n",
    "    feature_train = feature.iloc[train_idx]\n",
    "    feature_test = feature.iloc[test_idx]\n",
    "    \n",
    "    label_train = label.iloc[train_idx]\n",
    "    label_test = label.iloc[test_idx]\n",
    "    \n",
    "    dtc.fit(feature_train, label_train)\n",
    "    \n",
    "    pred = dtc.predict(feature_test)\n",
    "    \n",
    "    accuracy = accuracy_score(label_test, pred)\n",
    "    accuracy_list.append(accuracy)\n",
    "    \n",
    "    precision = precision_score(label_test, pred)\n",
    "    precision_list.append(precision)\n",
    "    \n",
    "    recall = recall_score(label_test, pred)\n",
    "    recall_list.append(recall)\n",
    "    \n",
    "# 평가 지표에 대한 평균값(accuracy, precision, recall)\n",
    "print('평균 정확도 : {}, 평균 정밀도 : {}, 평균 재현율 : {}'.format(\n",
    "np.mean(accuracy_list), np.mean(precision_list), np.mean(recall_list)))"
   ]
  },
  {
   "cell_type": "code",
   "execution_count": 24,
   "metadata": {},
   "outputs": [
    {
     "name": "stdout",
     "output_type": "stream",
     "text": [
      "dict_keys(['fit_time', 'score_time', 'test_accuracy', 'test_precision', 'test_recall', 'test_f1_score'])\n"
     ]
    }
   ],
   "source": [
    "from sklearn.model_selection import cross_validate, KFold\n",
    "from sklearn.metrics import make_scorer\n",
    "\n",
    "dtc = RandomForestClassifier()\n",
    "\n",
    "fold = KFold(n_splits=20, random_state=1, shuffle=True)\n",
    "\n",
    "scoring = {\n",
    "    'accuracy': make_scorer(accuracy_score),'precision' :make_scorer(precision_score), \n",
    "    'recall' : make_scorer(recall_score), 'f1_score': make_scorer(f1_score)\n",
    "}\n",
    "result = cross_validate(dtc, feature, label, cv=fold, scoring=scoring)\n",
    "print(result.keys())"
   ]
  },
  {
   "cell_type": "code",
   "execution_count": 25,
   "metadata": {},
   "outputs": [
    {
     "name": "stdout",
     "output_type": "stream",
     "text": [
      "accuracy 0.9668103448275863\n",
      "precision 0.9714993632845967\n",
      "recall 0.9770594070961718\n",
      "f1 0.9732526365528151\n"
     ]
    }
   ],
   "source": [
    "print('accuracy', result['test_accuracy'].mean())\n",
    "print('precision', result['test_precision'].mean())\n",
    "print('recall', result['test_recall'].mean())\n",
    "print('f1', result['test_f1_score'].mean())\n"
   ]
  },
  {
   "cell_type": "code",
   "execution_count": 26,
   "metadata": {},
   "outputs": [
    {
     "name": "stdout",
     "output_type": "stream",
     "text": [
      "{'max_depth': 4, 'max_features': 10, 'n_estimators': 300}\n",
      "0.9758018327605956\n",
      "accuracy 0.956140350877193\n",
      "precision 0.9565217391304348\n",
      "recall 0.9705882352941176\n"
     ]
    }
   ],
   "source": [
    "X_train, X_test, y_train, y_test = train_test_split(cancer.data,\n",
    "                                                    cancer.target,\n",
    "                                                    test_size=0.2)\n",
    "\n",
    "\n",
    "\n",
    "from sklearn.model_selection import GridSearchCV\n",
    "\n",
    "random_forest = RandomForestClassifier(random_state=123)\n",
    "\n",
    "\n",
    "params = {\n",
    "    'n_estimators' : [200, 300],\n",
    "    'max_features' : [8, 10],\n",
    "    'max_depth'    : [4, 6]\n",
    "}\n",
    "\n",
    "\n",
    "Grid_rf = GridSearchCV(random_forest, \n",
    "                       param_grid = params,\n",
    "                       cv         = 3,\n",
    "                       scoring    = 'recall')\n",
    "\n",
    "Grid_rf.fit(X_train, y_train)\n",
    "print(Grid_rf.best_params_)\n",
    "print(Grid_rf.best_score_)\n",
    "\n",
    "# {'max_depth': 4, 'max_features': 8, 'n_estimators': 200}\n",
    "# 0.9669922669922671\n",
    "\n",
    "\n",
    "# test set 예측\n",
    "\n",
    "y_pred = Grid_rf.best_estimator_.predict(X_test)\n",
    "# 모델성능평가 함수\n",
    "def display_eval(y_test, y_pred):\n",
    "    confusion = confusion_matrix(y_test, y_pred)\n",
    "    accuracy = accuracy_score(y_test, y_pred)\n",
    "    precision = precision_score(y_test, y_pred)\n",
    "    recall = recall_score(y_test, y_pred)\n",
    "    print('accuracy' , accuracy)\n",
    "    print('precision' , precision)\n",
    "    print('recall' , recall)\n",
    "\n",
    "display_eval(y_test, y_pred)"
   ]
  },
  {
   "cell_type": "markdown",
   "metadata": {},
   "source": [
    "#### fallout : 실제 양성 클래스에 속하지 않는 표본 중에 양성 클래스에 속한다고 예측한 표본의 비율\n",
    "- 낮아야 좋은 모형으로 본다.\n",
    "- 실제 정상거래인데 사기 거래 예측한 거래의 비율(False Positive Rate)\n",
    "- FP/ FP+TN"
   ]
  },
  {
   "cell_type": "markdown",
   "metadata": {},
   "source": [
    "### precision & recall Trade off\n",
    "- predict_proba() : 예측된 레이블의 확률 반환"
   ]
  },
  {
   "cell_type": "code",
   "execution_count": 42,
   "metadata": {},
   "outputs": [
    {
     "name": "stdout",
     "output_type": "stream",
     "text": [
      "result: \n",
      " [[0.90629139 0.09370861]\n",
      " [0.85357524 0.14642476]\n",
      " [0.87703938 0.12296062]\n",
      " [0.07337861 0.92662139]\n",
      " [0.10654399 0.89345601]]\n",
      "shape:  (179, 2)\n",
      "[0 0 0 1 1 0 0 0 0 0 0 1 1 1 0 0 0 0 1 0 0 0 1 0 0 0 0 1 0 1 1 0 1 0 1 0 1\n",
      " 0 0 0 0 0 0 0 0 0 0 0 1 0 0 0 0 0 0 1 0 1 1 0 0 1 1 1 0 0 0 0 0 1 0 0 0 0\n",
      " 1 0 0 0 1 0 0 0 0 1 1 0 1 1 0 1 0 0 1 0 1 1 1 0 1 0 0 0 0 0 1 1 0 1 1 1 1\n",
      " 0 1 0 0 0 0 1 1 0 1 0 1 1 0 1 1 0 0 0 1 0 0 1 1 1 0 1 1 0 1 0 1 0 0 0 0 0\n",
      " 0 0 0 0 1 0 0 1 0 0 0 0 0 1 0 0 0 0 0 0 1 0 1 1 0 1 0 0 0 0 1]\n",
      "확률에 따른 예측 결과\n",
      " [[0.90629139 0.09370861 0.        ]\n",
      " [0.85357524 0.14642476 0.        ]\n",
      " [0.87703938 0.12296062 0.        ]\n",
      " [0.07337861 0.92662139 1.        ]\n",
      " [0.10654399 0.89345601 1.        ]]\n"
     ]
    }
   ],
   "source": [
    "# titanic Logistic Regression 모델을 이용합니다.\n",
    "\n",
    "pred_pro_result = lr_model.predict_proba(X_test)\n",
    "print('result: \\n',pred_pro_result[:5])\n",
    "print('shape: ',pred_pro_result.shape)\n",
    "\n",
    "y_pred = lr_model.predict(X_test)\n",
    "print(y_pred)\n",
    "\n",
    "result = np.concatenate([pred_pro_result, y_pred.reshape(-1,1)], axis=1)\n",
    "print('확률에 따른 예측 결과\\n', result[:5])"
   ]
  },
  {
   "cell_type": "markdown",
   "metadata": {},
   "source": [
    "- Binarizer 클래스 fit_transform()\n"
   ]
  },
  {
   "cell_type": "code",
   "execution_count": 46,
   "metadata": {},
   "outputs": [
    {
     "name": "stdout",
     "output_type": "stream",
     "text": [
      "accuracy 0.8268156424581006\n",
      "precision 0.746031746031746\n",
      "recall 0.7580645161290323\n"
     ]
    }
   ],
   "source": [
    "from sklearn.preprocessing import Binarizer\n",
    "\n",
    "user_threshold = 0.5\n",
    "positive_pred_proba = pred_pro_result[:,1].reshape(-1,1)\n",
    "user_predict = Binarizer(threshold=user_threshold).fit(positive_pred_proba).transform(positive_pred_proba)\n",
    "display_eval(y_test, user_predict)"
   ]
  },
  {
   "cell_type": "code",
   "execution_count": 48,
   "metadata": {},
   "outputs": [
    {
     "name": "stdout",
     "output_type": "stream",
     "text": [
      "accuracy 0.7262569832402235\n",
      "precision 0.5670103092783505\n",
      "recall 0.8870967741935484\n"
     ]
    }
   ],
   "source": [
    "user_threshold = 0.2\n",
    "positive_pred_proba = pred_pro_result[:,1].reshape(-1,1)\n",
    "user_predict = Binarizer(threshold=user_threshold).fit(positive_pred_proba).transform(positive_pred_proba)\n",
    "display_eval(y_test, user_predict)"
   ]
  },
  {
   "cell_type": "markdown",
   "metadata": {},
   "source": [
    "- threshold 를 낮추면 재현율은 올라가고, 정밀도는 내려간다.\n",
    "- precision_recall_curve(정답, 예측확률값) : 정밀도와 재현율 반환"
   ]
  },
  {
   "cell_type": "code",
   "execution_count": 49,
   "metadata": {},
   "outputs": [],
   "source": [
    "from sklearn.metrics import precision_recall_curve"
   ]
  },
  {
   "cell_type": "code",
   "execution_count": 53,
   "metadata": {
    "collapsed": true
   },
   "outputs": [
    {
     "name": "stdout",
     "output_type": "stream",
     "text": [
      "precisions: \n",
      " [0.35632184 0.35260116 0.35465116 0.35672515 0.35882353 0.36094675\n",
      " 0.36309524 0.36526946 0.36746988 0.36969697 0.37195122 0.37423313\n",
      " 0.37654321 0.37888199 0.38125    0.3836478  0.38607595 0.38853503\n",
      " 0.39102564 0.39354839 0.3961039  0.39869281 0.40131579 0.40397351\n",
      " 0.40666667 0.40939597 0.40540541 0.40136054 0.39726027 0.4\n",
      " 0.40559441 0.4084507  0.41428571 0.42335766 0.42647059 0.42962963\n",
      " 0.43283582 0.43939394 0.44274809 0.43846154 0.43410853 0.4375\n",
      " 0.44094488 0.4516129  0.45528455 0.45901639 0.46280992 0.46666667\n",
      " 0.47058824 0.47457627 0.47863248 0.48275862 0.47826087 0.48245614\n",
      " 0.48672566 0.49107143 0.4954955  0.5        0.50458716 0.50925926\n",
      " 0.51401869 0.51886792 0.52380952 0.52884615 0.53398058 0.53921569\n",
      " 0.54455446 0.55       0.55555556 0.56701031 0.57291667 0.57894737\n",
      " 0.58510638 0.6043956  0.61111111 0.61797753 0.625      0.63218391\n",
      " 0.62790698 0.62352941 0.63095238 0.63855422 0.64634146 0.65432099\n",
      " 0.65       0.65822785 0.65384615 0.66233766 0.65789474 0.66666667\n",
      " 0.67567568 0.67123288 0.68055556 0.69014085 0.7        0.69565217\n",
      " 0.70588235 0.71641791 0.71212121 0.72307692 0.734375   0.74603175\n",
      " 0.74193548 0.75409836 0.75       0.74576271 0.74137931 0.75438596\n",
      " 0.76785714 0.78181818 0.7962963  0.81132075 0.80769231 0.80392157\n",
      " 0.8        0.81632653 0.83333333 0.82978723 0.82608696 0.82222222\n",
      " 0.81818182 0.8372093  0.85714286 0.87804878 0.89473684 0.89189189\n",
      " 0.88888889 0.91428571 0.91176471 0.93939394 0.9375     0.93548387\n",
      " 0.93333333 0.93103448 0.92857143 0.92592593 0.92307692 0.96\n",
      " 0.95833333 0.95652174 0.95454545 0.95238095 0.95       0.94736842\n",
      " 0.94444444 0.94117647 0.9375     0.93333333 1.         1.\n",
      " 1.         1.         1.         1.         1.         1.\n",
      " 1.         1.         1.         1.         1.         1.\n",
      " 1.        ] \n",
      " recalls :\n",
      " [1.         0.98387097 0.98387097 0.98387097 0.98387097 0.98387097\n",
      " 0.98387097 0.98387097 0.98387097 0.98387097 0.98387097 0.98387097\n",
      " 0.98387097 0.98387097 0.98387097 0.98387097 0.98387097 0.98387097\n",
      " 0.98387097 0.98387097 0.98387097 0.98387097 0.98387097 0.98387097\n",
      " 0.98387097 0.98387097 0.96774194 0.9516129  0.93548387 0.93548387\n",
      " 0.93548387 0.93548387 0.93548387 0.93548387 0.93548387 0.93548387\n",
      " 0.93548387 0.93548387 0.93548387 0.91935484 0.90322581 0.90322581\n",
      " 0.90322581 0.90322581 0.90322581 0.90322581 0.90322581 0.90322581\n",
      " 0.90322581 0.90322581 0.90322581 0.90322581 0.88709677 0.88709677\n",
      " 0.88709677 0.88709677 0.88709677 0.88709677 0.88709677 0.88709677\n",
      " 0.88709677 0.88709677 0.88709677 0.88709677 0.88709677 0.88709677\n",
      " 0.88709677 0.88709677 0.88709677 0.88709677 0.88709677 0.88709677\n",
      " 0.88709677 0.88709677 0.88709677 0.88709677 0.88709677 0.88709677\n",
      " 0.87096774 0.85483871 0.85483871 0.85483871 0.85483871 0.85483871\n",
      " 0.83870968 0.83870968 0.82258065 0.82258065 0.80645161 0.80645161\n",
      " 0.80645161 0.79032258 0.79032258 0.79032258 0.79032258 0.77419355\n",
      " 0.77419355 0.77419355 0.75806452 0.75806452 0.75806452 0.75806452\n",
      " 0.74193548 0.74193548 0.72580645 0.70967742 0.69354839 0.69354839\n",
      " 0.69354839 0.69354839 0.69354839 0.69354839 0.67741935 0.66129032\n",
      " 0.64516129 0.64516129 0.64516129 0.62903226 0.61290323 0.59677419\n",
      " 0.58064516 0.58064516 0.58064516 0.58064516 0.5483871  0.53225806\n",
      " 0.51612903 0.51612903 0.5        0.5        0.48387097 0.46774194\n",
      " 0.4516129  0.43548387 0.41935484 0.40322581 0.38709677 0.38709677\n",
      " 0.37096774 0.35483871 0.33870968 0.32258065 0.30645161 0.29032258\n",
      " 0.27419355 0.25806452 0.24193548 0.22580645 0.22580645 0.20967742\n",
      " 0.19354839 0.17741935 0.16129032 0.14516129 0.12903226 0.11290323\n",
      " 0.09677419 0.08064516 0.06451613 0.0483871  0.03225806 0.01612903\n",
      " 0.        ] \n",
      " thresholds : \n",
      " [0.04149258 0.04397493 0.04423795 0.05253605 0.05514175 0.05682341\n",
      " 0.0581324  0.05850464 0.05876652 0.05910011 0.0605015  0.06293767\n",
      " 0.06451838 0.07095386 0.07500528 0.07524693 0.07550355 0.07906627\n",
      " 0.0861874  0.09035288 0.09139882 0.09370861 0.09570002 0.0966875\n",
      " 0.09965379 0.10273009 0.10273596 0.10683355 0.1075088  0.11005983\n",
      " 0.11010609 0.11011673 0.11013032 0.11070016 0.11459827 0.12201507\n",
      " 0.12296062 0.12300935 0.12509561 0.12586387 0.1304281  0.13223043\n",
      " 0.13223215 0.13430005 0.13827759 0.13843351 0.14182748 0.14233572\n",
      " 0.14235219 0.14243319 0.14256899 0.14283986 0.14391729 0.14642476\n",
      " 0.14652316 0.14673934 0.14988432 0.15079148 0.15135652 0.15151644\n",
      " 0.15515075 0.15521265 0.16198509 0.16410918 0.16438518 0.17145744\n",
      " 0.17929635 0.18668693 0.18767226 0.20471103 0.20591822 0.21479843\n",
      " 0.22729911 0.22756913 0.23315474 0.25849175 0.25858878 0.27040892\n",
      " 0.27258283 0.2728507  0.2826201  0.28385223 0.28860385 0.2969601\n",
      " 0.2992672  0.30090044 0.30499388 0.30789418 0.30850514 0.32347803\n",
      " 0.33020264 0.35775015 0.3766647  0.40152553 0.44080235 0.44765722\n",
      " 0.47076896 0.47932086 0.48307561 0.4938874  0.49900873 0.51172271\n",
      " 0.51273398 0.53392471 0.53745805 0.53765558 0.54757516 0.56306513\n",
      " 0.5695493  0.57426654 0.57687669 0.58334621 0.60938375 0.61833224\n",
      " 0.63439513 0.63449943 0.65648777 0.66109853 0.6617552  0.66290212\n",
      " 0.67537133 0.6780137  0.67966118 0.68126993 0.68954596 0.70185785\n",
      " 0.71719062 0.72030339 0.72682315 0.74013778 0.74422263 0.7641875\n",
      " 0.77142307 0.77834113 0.77856341 0.79435545 0.81014653 0.82800098\n",
      " 0.84917737 0.85438844 0.86040922 0.89345601 0.90014553 0.90874724\n",
      " 0.92518053 0.92662139 0.92818747 0.93251452 0.93334569 0.93857461\n",
      " 0.94106534 0.9413923  0.94182254 0.94792645 0.94957256 0.95526074\n",
      " 0.96001383 0.96063449 0.96092201 0.96713511 0.96805856 0.97697207]\n"
     ]
    }
   ],
   "source": [
    "# 레이블 값이 1일 때의 예측 확률 추출\n",
    "pre_positive_label = lr_model.predict_proba(X_test)[:,1]\n",
    "# print(pre_positive_label)\n",
    "precisions, recalls, thresholds = precision_recall_curve(y_test, pre_positive_label)\n",
    "print('precisions: \\n',precisions, '\\n recalls :\\n',recalls, '\\n thresholds : \\n', thresholds)"
   ]
  },
  {
   "cell_type": "code",
   "execution_count": 54,
   "metadata": {},
   "outputs": [
    {
     "name": "stdout",
     "output_type": "stream",
     "text": [
      "(162,)\n"
     ]
    }
   ],
   "source": [
    "print(thresholds.shape)"
   ]
  },
  {
   "cell_type": "markdown",
   "metadata": {},
   "source": [
    "- 시각화(임계값 변화에 따른 정밀도, 재현율 시각화)"
   ]
  },
  {
   "cell_type": "code",
   "execution_count": 55,
   "metadata": {},
   "outputs": [],
   "source": [
    "import matplotlib.pyplot as plt\n",
    "%matplotlib inline"
   ]
  },
  {
   "cell_type": "code",
   "execution_count": 63,
   "metadata": {},
   "outputs": [
    {
     "name": "stderr",
     "output_type": "stream",
     "text": [
      "No handles with labels found to put in legend.\n"
     ]
    },
    {
     "data": {
      "image/png": "[encoded data removed]",
      "text/plain": [
       "<Figure size 1080x360 with 1 Axes>"
      ]
     },
     "metadata": {
      "needs_background": "light"
     },
     "output_type": "display_data"
    }
   ],
   "source": [
    "plt.figure(figsize=(15,5))\n",
    "plt.xlabel('threshold ratio')\n",
    "plt.ylabel('precision and recall value')\n",
    "\n",
    "plt.plot(thresholds, precisions[0:thresholds.shape[0]], linestyle='--', label='precision')\n",
    "plt.plot(thresholds, recalls[0:thresholds.shape[0]], label='recall')\n",
    "\n",
    "plt.grid()\n",
    "plt.show()"
   ]
  },
  {
   "cell_type": "markdown",
   "metadata": {},
   "source": [
    "- 타이타닉을 이용한 생존자 예측 FPR, TPR, 임계값 \n",
    "    - roc_curve(실제값, 예측확률 값)\n",
    "    "
   ]
  },
  {
   "cell_type": "code",
   "execution_count": 69,
   "metadata": {},
   "outputs": [
    {
     "name": "stdout",
     "output_type": "stream",
     "text": [
      "샘플 추출: \n",
      "\n",
      "thr idx :  [ 1  6 11 16 21 26 31 36 41 46 51]\n",
      "thr treshold value:  [0.97697207 0.74013778 0.68126993 0.54757516 0.47932086 0.30850514\n",
      " 0.2969601  0.20471103 0.13223215 0.11070016 0.1075088 ]\n",
      "fprs value:  [0.         0.01709402 0.04273504 0.12820513 0.16239316 0.22222222\n",
      " 0.23931624 0.35897436 0.60683761 0.67521368 0.75213675]\n",
      "tprs value:  [0.01612903 0.5        0.58064516 0.69354839 0.77419355 0.80645161\n",
      " 0.85483871 0.88709677 0.90322581 0.93548387 0.93548387]\n"
     ]
    }
   ],
   "source": [
    "from sklearn.metrics import roc_curve\n",
    "\n",
    "# 레이블 값이 1일 때의 예측 확률 추출\n",
    "pre_positive_label = lr_model.predict_proba(X_test)[:,1]\n",
    "\n",
    "fprs, tprs, thresholds = roc_curve(y_test, pre_positive_label)\n",
    "# print(fprs.shape[0])\n",
    "# print(tprs.shape[0])\n",
    "# print(thresholds.shape[0])\n",
    "\n",
    "print('샘플 추출: ')\n",
    "print()\n",
    "thr_idx = np.arange(1, thresholds.shape[0], 5)\n",
    "print('thr idx : ',thr_idx)\n",
    "print('thr treshold value: ',thresholds[thr_idx])\n",
    "print('fprs value: ',fprs[thr_idx])\n",
    "print('tprs value: ',tprs[thr_idx])\n",
    "\n",
    "# 출력 결과를 보면 임계값이 1에 가까워질수록 FPR이 커지면서 TPR도 증가"
   ]
  },
  {
   "cell_type": "code",
   "execution_count": 71,
   "metadata": {},
   "outputs": [
    {
     "name": "stderr",
     "output_type": "stream",
     "text": [
      "No handles with labels found to put in legend.\n"
     ]
    },
    {
     "data": {
      "image/png": "[encoded data removed]",
      "text/plain": [
       "<Figure size 1080x360 with 1 Axes>"
      ]
     },
     "metadata": {
      "needs_background": "light"
     },
     "output_type": "display_data"
    }
   ],
   "source": [
    "# 레이블 값이 1일 때의 예측 확률 추출\n",
    "pre_positive_label = lr_model.predict_proba(X_test)[:,1]\n",
    "\n",
    "fprs, tprs, thresholds = roc_curve(y_test, pre_positive_label)\n",
    "\n",
    "plt.figure(figsize=(15,5))\n",
    "plt.xlabel('FPR')\n",
    "plt.ylabel('TPR')\n",
    "plt.legend()\n",
    "\n",
    "# 대각선 \n",
    "plt.plot([0,1], [0,1])\n",
    "\n",
    "# 곡선 ROC\n",
    "plt.plot(fprs, tprs, label='ROC')\n",
    "\n",
    "plt.grid()\n",
    "plt.show()"
   ]
  },
  {
   "cell_type": "code",
   "execution_count": 74,
   "metadata": {},
   "outputs": [
    {
     "name": "stdout",
     "output_type": "stream",
     "text": [
      "roc auc value 0.8106561896884479\n"
     ]
    }
   ],
   "source": [
    "from sklearn.metrics import roc_auc_score\n",
    "\n",
    "# 로지스틱 회귀\n",
    "lr_model = LogisticRegression()\n",
    "lr_model.fit(X_train, y_train)\n",
    "prediction = lr_model.predict(X_test)\n",
    "\n",
    "print('roc auc value', roc_auc_score(y_test, prediction))"
   ]
  }
 ],
 "metadata": {
  "kernelspec": {
   "display_name": "Python 3",
   "language": "python",
   "name": "python3"
  },
  "language_info": {
   "codemirror_mode": {
    "name": "ipython",
    "version": 3
   },
   "file_extension": ".py",
   "mimetype": "text/x-python",
   "name": "python",
   "nbconvert_exporter": "python",
   "pygments_lexer": "ipython3",
   "version": "3.7.6"
  }
 },
 "nbformat": 4,
 "nbformat_minor": 4
}
