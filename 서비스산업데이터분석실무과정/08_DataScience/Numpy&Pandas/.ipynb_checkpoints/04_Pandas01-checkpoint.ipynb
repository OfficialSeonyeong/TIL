{
 "cells": [
  {
   "cell_type": "markdown",
   "metadata": {},
   "source": [
    "# Pandas"
   ]
  },
  {
   "cell_type": "markdown",
   "metadata": {},
   "source": [
    "- 분석하려면 데이터는 대부분 시계열 데이터이거나 표(테이블 형태로) 정의해야\n",
    "- Series 클래스와 DataFrame 클래스를 제공"
   ]
  },
  {
   "cell_type": "code",
   "execution_count": 2,
   "metadata": {},
   "outputs": [],
   "source": [
    "import pandas as pd\n",
    "import numpy as np\n",
    "import matplotlib.pyplot as plt"
   ]
  },
  {
   "cell_type": "markdown",
   "metadata": {},
   "source": [
    "### Serise 클래스\n",
    "- 넘파이의 1차원배열과 비슷하지만, 각 데이터의 의미를 표시하는 인덱스를 붙일 수 있다.\n",
    "- series = index + value"
   ]
  },
  {
   "cell_type": "code",
   "execution_count": 5,
   "metadata": {},
   "outputs": [
    {
     "name": "stdout",
     "output_type": "stream",
     "text": [
      "[1 2 3 4 'jslim']\n",
      "object\n"
     ]
    }
   ],
   "source": [
    "# Series 와 numpy array 비교\n",
    "arr = np.array([1,2,3,4, 'jslim'], dtype=np.object)\n",
    "print(arr)\n",
    "print(arr.dtype)"
   ]
  },
  {
   "cell_type": "code",
   "execution_count": 10,
   "metadata": {},
   "outputs": [
    {
     "name": "stdout",
     "output_type": "stream",
     "text": [
      "0    1.0\n",
      "1    2.0\n",
      "2    3.0\n",
      "3    4.0\n",
      "dtype: float64\n",
      "[1. 2. 3. 4.]\n",
      "<class 'numpy.ndarray'>\n",
      "RangeIndex(start=0, stop=4, step=1)\n",
      "<class 'pandas.core.indexes.range.RangeIndex'>\n"
     ]
    }
   ],
   "source": [
    "s = pd.Series([1,2,3,4], dtype=np.float64)\n",
    "print(s)\n",
    "print(s.values)\n",
    "print(type(s.values))\n",
    "print(s.index)\n",
    "print(type(s.index))"
   ]
  },
  {
   "cell_type": "code",
   "execution_count": 11,
   "metadata": {},
   "outputs": [],
   "source": [
    "def seriesInfo(s):\n",
    "    print('value: ', s.values)\n",
    "    print('value type: ',type(s.values))\n",
    "    print('index: ',s.index)\n",
    "    print('index type: ',type(s.index))\n",
    "    print(s)"
   ]
  },
  {
   "cell_type": "code",
   "execution_count": 22,
   "metadata": {},
   "outputs": [
    {
     "name": "stdout",
     "output_type": "stream",
     "text": [
      "value:  [333432 344543 322343 345432]\n",
      "value type:  <class 'numpy.ndarray'>\n",
      "index:  Index(['서울', '부산', '대전', '광주'], dtype='object')\n",
      "index type:  <class 'pandas.core.indexes.base.Index'>\n",
      "서울    333432\n",
      "부산    344543\n",
      "대전    322343\n",
      "광주    345432\n",
      "dtype: int64\n"
     ]
    }
   ],
   "source": [
    "# 인덱스의 라벨은 문자열뿐만 아니라 날짜, 시간, 정수 등 가능\n",
    "\n",
    "s = pd.Series([333432,344543,322343,345432],dtype=np.int64,\n",
    "                      index = ['서울','부산','대전','광주'])\n",
    "seriesInfo(s)"
   ]
  },
  {
   "cell_type": "code",
   "execution_count": 23,
   "metadata": {},
   "outputs": [
    {
     "name": "stdout",
     "output_type": "stream",
     "text": [
      "지역별\n",
      "서울    333432\n",
      "부산    344543\n",
      "대전    322343\n",
      "광주    345432\n",
      "dtype: int64\n"
     ]
    }
   ],
   "source": [
    "s.index.name='지역별'\n",
    "print(s)"
   ]
  },
  {
   "cell_type": "code",
   "execution_count": 25,
   "metadata": {},
   "outputs": [
    {
     "data": {
      "text/plain": [
       "지역별\n",
       "서울    3.33432\n",
       "부산    3.44543\n",
       "대전    3.22343\n",
       "광주    3.45432\n",
       "dtype: float64"
      ]
     },
     "execution_count": 25,
     "metadata": {},
     "output_type": "execute_result"
    }
   ],
   "source": [
    "s/100000"
   ]
  },
  {
   "cell_type": "markdown",
   "metadata": {},
   "source": [
    "### series indexing"
   ]
  },
  {
   "cell_type": "code",
   "execution_count": 26,
   "metadata": {},
   "outputs": [
    {
     "data": {
      "text/plain": [
       "333432"
      ]
     },
     "execution_count": 26,
     "metadata": {},
     "output_type": "execute_result"
    }
   ],
   "source": [
    "s['서울']"
   ]
  },
  {
   "cell_type": "code",
   "execution_count": 29,
   "metadata": {},
   "outputs": [
    {
     "data": {
      "text/plain": [
       "지역별\n",
       "서울    333432\n",
       "부산    344543\n",
       "dtype: int64"
      ]
     },
     "execution_count": 29,
     "metadata": {},
     "output_type": "execute_result"
    }
   ],
   "source": [
    "s[0:2]"
   ]
  },
  {
   "cell_type": "code",
   "execution_count": 30,
   "metadata": {},
   "outputs": [
    {
     "data": {
      "text/plain": [
       "지역별\n",
       "서울    333432\n",
       "부산    344543\n",
       "dtype: int64"
      ]
     },
     "execution_count": 30,
     "metadata": {},
     "output_type": "execute_result"
    }
   ],
   "source": [
    "s['서울':'부산']"
   ]
  },
  {
   "cell_type": "code",
   "execution_count": 31,
   "metadata": {},
   "outputs": [
    {
     "data": {
      "text/plain": [
       "지역별\n",
       "서울    333432\n",
       "대전    322343\n",
       "dtype: int64"
      ]
     },
     "execution_count": 31,
     "metadata": {},
     "output_type": "execute_result"
    }
   ],
   "source": [
    "s[['서울','대전']]"
   ]
  },
  {
   "cell_type": "code",
   "execution_count": 33,
   "metadata": {},
   "outputs": [
    {
     "data": {
      "text/plain": [
       "False"
      ]
     },
     "execution_count": 33,
     "metadata": {},
     "output_type": "execute_result"
    }
   ],
   "source": [
    "'강원' in s"
   ]
  },
  {
   "cell_type": "code",
   "execution_count": 35,
   "metadata": {},
   "outputs": [
    {
     "name": "stdout",
     "output_type": "stream",
     "text": [
      "key : 서울, value : 333432\n",
      "key : 부산, value : 344543\n",
      "key : 대전, value : 322343\n",
      "key : 광주, value : 345432\n"
     ]
    }
   ],
   "source": [
    "for key, value in s.items():\n",
    "    print('key : {}, value : {}'.format(key,value))"
   ]
  },
  {
   "cell_type": "code",
   "execution_count": 45,
   "metadata": {},
   "outputs": [
    {
     "name": "stdout",
     "output_type": "stream",
     "text": [
      "value:  [ 1.  5. -8. 10.]\n",
      "value type:  <class 'numpy.ndarray'>\n",
      "index:  Index(['c', 'b', 'd', 'a'], dtype='object')\n",
      "index type:  <class 'pandas.core.indexes.base.Index'>\n",
      "c     1.0\n",
      "b     5.0\n",
      "d    -8.0\n",
      "a    10.0\n",
      "dtype: float64\n"
     ]
    }
   ],
   "source": [
    "s2 = pd.Series({'c':1, 'b':'5', 'd':-8, 'a':10 },dtype=np.float64)\n",
    "seriesInfo(s2)"
   ]
  },
  {
   "cell_type": "code",
   "execution_count": 46,
   "metadata": {},
   "outputs": [
    {
     "name": "stdout",
     "output_type": "stream",
     "text": [
      "fancy [0,2] indexing: c    1.0\n",
      "d   -8.0\n",
      "dtype: float64\n",
      "boolean indexing : d    -8.0\n",
      "a    10.0\n",
      "dtype: float64\n"
     ]
    }
   ],
   "source": [
    "# Fancy Indexing & Boolean Indexing\n",
    "print('fancy [0,2] indexing: {}'.format(s2[[0,2]]) )\n",
    "\n",
    "# boolean Indexing 2로 나누어서 2의 배수 찾기\n",
    "print('boolean indexing : {}'.format( s2[s2 % 2 == 0] ))"
   ]
  },
  {
   "cell_type": "code",
   "execution_count": 49,
   "metadata": {},
   "outputs": [
    {
     "name": "stdout",
     "output_type": "stream",
     "text": [
      "value:  [    nan 345438. 344543. 333432.]\n",
      "value type:  <class 'numpy.ndarray'>\n",
      "index:  Index(['광주', '대전', '부산', '서울'], dtype='object')\n",
      "index type:  <class 'pandas.core.indexes.base.Index'>\n",
      "광주         NaN\n",
      "대전    345438.0\n",
      "부산    344543.0\n",
      "서울    333432.0\n",
      "dtype: float64\n"
     ]
    }
   ],
   "source": [
    "# 인덱스의 라벨은 문자열뿐만 아니라 날짜, 시간, 정수 등 가능\n",
    "\n",
    "s3 = pd.Series({'서울':333432,'부산':344543,'인천':322343,'대전':345438},dtype=np.int32,\n",
    "                      index = ['광주','대전','부산','서울'])\n",
    "seriesInfo(s3)"
   ]
  },
  {
   "cell_type": "code",
   "execution_count": 50,
   "metadata": {},
   "outputs": [
    {
     "name": "stdout",
     "output_type": "stream",
     "text": [
      "a    NaN\n",
      "b    NaN\n",
      "c    NaN\n",
      "d    NaN\n",
      "광주   NaN\n",
      "대전   NaN\n",
      "부산   NaN\n",
      "서울   NaN\n",
      "dtype: float64\n"
     ]
    }
   ],
   "source": [
    "diff_s = s -s2\n",
    "print(diff_s)"
   ]
  },
  {
   "cell_type": "code",
   "execution_count": null,
   "metadata": {},
   "outputs": [],
   "source": [
    "# A 공장의 2019-01-01부터 10일간 생산량을 Series 저장\n",
    "# 생산량은 평균이 50이고 편차가 5인 정규분포 생성(정수)\n",
    "\n",
    "# B 공장의 2019-01-01부터 10일간 생산량을 Series 저장\n",
    "# 생산량은 평균이 10이고 편차가 8인 정규분포 생성(정수)\n",
    "\n",
    "#날짜별로 모든 공장의 생산량 합계를 구한다면 "
   ]
  },
  {
   "cell_type": "code",
   "execution_count": 1,
   "metadata": {},
   "outputs": [],
   "source": [
    "import numpy as np\n",
    "import pandas as pd\n",
    "from datetime import date, datetime, timedelta\n",
    "from dateutil.parser import parse"
   ]
  },
  {
   "cell_type": "code",
   "execution_count": 2,
   "metadata": {},
   "outputs": [
    {
     "name": "stdout",
     "output_type": "stream",
     "text": [
      "2019-01-01 00:00:00\n",
      "2019-01-01    52\n",
      "2019-01-02    52\n",
      "2019-01-03    55\n",
      "2019-01-04    53\n",
      "2019-01-05    43\n",
      "2019-01-06    44\n",
      "2019-01-07    43\n",
      "2019-01-08    51\n",
      "2019-01-09    45\n",
      "2019-01-10    47\n",
      "dtype: int64\n",
      "2019-01-01     4\n",
      "2019-01-02    14\n",
      "2019-01-03    12\n",
      "2019-01-04     8\n",
      "2019-01-05     7\n",
      "2019-01-06     0\n",
      "2019-01-07    17\n",
      "2019-01-08    13\n",
      "2019-01-09     0\n",
      "2019-01-10    15\n",
      "dtype: int64\n"
     ]
    }
   ],
   "source": [
    "start_day=datetime(2019, 1, 1)\n",
    "print(start_day)\n",
    "\n",
    "facA=pd.Series([int(x) for x in np.random.normal(50, 5, (10))],\n",
    "              index=[start_day + timedelta(days=x) for x in range (10)])\n",
    "print(facA)\n",
    "\n",
    "facB=pd.Series([int(x) for x in np.random.normal(10, 8, (10))],\n",
    "              index=[start_day + timedelta(days=x) for x in range (10)])\n",
    "print(facB)"
   ]
  },
  {
   "cell_type": "code",
   "execution_count": 64,
   "metadata": {},
   "outputs": [
    {
     "data": {
      "text/plain": [
       "datetime.timedelta(days=1)"
      ]
     },
     "execution_count": 64,
     "metadata": {},
     "output_type": "execute_result"
    }
   ],
   "source": [
    "# 단위 테스트를 위한 셀\n",
    "type(np.random.normal(50, 5, (10)))\n",
    "timedelta(days=1)"
   ]
  },
  {
   "cell_type": "code",
   "execution_count": 68,
   "metadata": {},
   "outputs": [
    {
     "name": "stdout",
     "output_type": "stream",
     "text": [
      "DatetimeIndex(['2019-01-01', '2019-01-02', '2019-01-03', '2019-01-04',\n",
      "               '2019-01-05', '2019-01-06', '2019-01-07', '2019-01-08',\n",
      "               '2019-01-09', '2019-01-10'],\n",
      "              dtype='datetime64[ns]', freq=None)\n",
      "DatetimeIndex(['2019-01-01', '2019-01-02', '2019-01-03', '2019-01-04',\n",
      "               '2019-01-05', '2019-01-06', '2019-01-07', '2019-01-08',\n",
      "               '2019-01-09', '2019-01-10'],\n",
      "              dtype='datetime64[ns]', freq=None)\n"
     ]
    }
   ],
   "source": [
    "print(facA.index)\n",
    "print(facB.index)"
   ]
  },
  {
   "cell_type": "code",
   "execution_count": 69,
   "metadata": {},
   "outputs": [
    {
     "name": "stdout",
     "output_type": "stream",
     "text": [
      "2019-01-01     96\n",
      "2019-01-02     99\n",
      "2019-01-03    103\n",
      "2019-01-04     99\n",
      "2019-01-05     88\n",
      "2019-01-06     94\n",
      "2019-01-07     96\n",
      "2019-01-08    106\n",
      "2019-01-09    120\n",
      "2019-01-10    104\n",
      "dtype: int64\n"
     ]
    }
   ],
   "source": [
    "print(facA+facB)"
   ]
  }
 ],
 "metadata": {
  "kernelspec": {
   "display_name": "Python 3",
   "language": "python",
   "name": "python3"
  },
  "language_info": {
   "codemirror_mode": {
    "name": "ipython",
    "version": 3
   },
   "file_extension": ".py",
   "mimetype": "text/x-python",
   "name": "python",
   "nbconvert_exporter": "python",
   "pygments_lexer": "ipython3",
   "version": "3.7.6"
  }
 },
 "nbformat": 4,
 "nbformat_minor": 4
}
